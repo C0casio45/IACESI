{
 "cells": [
  {
   "cell_type": "code",
   "execution_count": 772,
   "metadata": {
    "tags": []
   },
   "outputs": [],
   "source": [
    "import sklearn\n",
    "import warnings\n",
    "import statistics\n",
    "import numpy as np\n",
    "import pandas as pd\n",
    "import seaborn as sns\n",
    "import matplotlib.pyplot as plt\n",
    "\n",
    "from sklearn.svm import SVC\n",
    "from statistics import median, mean\n",
    "from sklearn.pipeline import Pipeline\n",
    "from sklearn.tree import DecisionTreeClassifier\n",
    "from sklearn.neighbors import KNeighborsClassifier\n",
    "from sklearn.linear_model import LogisticRegression, Perceptron\n",
    "from sklearn.base import BaseEstimator, TransformerMixin\n",
    "from sklearn.preprocessing import OrdinalEncoder, OneHotEncoder\n",
    "from sklearn.linear_model import LinearRegression, SGDRegressor\n",
    "from sklearn.metrics import accuracy_score, confusion_matrix, classification_report, ConfusionMatrixDisplay\n",
    "from sklearn.model_selection import train_test_split,cross_val_score, cross_validate, GridSearchCV\n",
    "from sklearn.feature_selection import SelectKBest, chi2\n",
    "from sklearn.ensemble import RandomForestClassifier, GradientBoostingClassifier, HistGradientBoostingClassifier,RandomForestRegressor, GradientBoostingRegressor, HistGradientBoostingRegressor\n",
    "from sklearn.metrics import f1_score, make_scorer\n",
    "from sklearn.metrics import RocCurveDisplay\n",
    "from sklearn.impute import KNNImputer\n",
    "from sklearn.metrics import accuracy_score, precision_score, recall_score, f1_score, roc_auc_score\n"
   ]
  },
  {
   "cell_type": "code",
   "execution_count": 773,
   "metadata": {
    "tags": []
   },
   "outputs": [],
   "source": [
    "dir = \"data/\"\n",
    "\n",
    "employee_survey = pd.read_csv(dir + \"employee_survey_data.csv\")\n",
    "general = pd.read_csv(dir + \"general_data.csv\")\n",
    "manager_survey = pd.read_csv(dir + \"manager_survey_data.csv\")\n",
    "in_time = pd.read_csv(dir + \"in_time.csv\")\n",
    "out_time = pd.read_csv(dir + \"out_time.csv\")"
   ]
  },
  {
   "cell_type": "markdown",
   "metadata": {},
   "source": [
    "# Sommaire\n",
    "\n",
    "<ul>\n",
    "    <li><a href=\"#es\">Employe survey</a></li>\n",
    "    <li><a href=\"#ge\">General</a></li>\n",
    "    <li><a href=\"#ms\">Manager survey</a></li>\n",
    "    <li><a href=\"#it\">In Time</a></li>\n",
    "    <li><a href=\"#ot\">Out Time</a></li>\n",
    "    <li><a href=\"#ld\">Lien entre les dataset</a></li>\n",
    "    <li><a href=\"#cc\">Conclusion</a></li>\n",
    "</ul>"
   ]
  },
  {
   "cell_type": "markdown",
   "metadata": {},
   "source": [
    "# Définition des variables globales"
   ]
  },
  {
   "cell_type": "code",
   "execution_count": 774,
   "metadata": {},
   "outputs": [
    {
     "name": "stdout",
     "output_type": "stream",
     "text": [
      "Il y a 4410 employés dans le dataset\n"
     ]
    }
   ],
   "source": [
    "nbEmploye = employee_survey[\"EmployeeID\"].max()\n",
    "print(\"Il y a\", nbEmploye, \"employés dans le dataset\")"
   ]
  },
  {
   "attachments": {},
   "cell_type": "markdown",
   "metadata": {},
   "source": [
    "# Pré-analyse des données\n",
    "<div id=\"es\"></div>"
   ]
  },
  {
   "attachments": {},
   "cell_type": "markdown",
   "metadata": {},
   "source": [
    "## Employee_survey.csv"
   ]
  },
  {
   "attachments": {},
   "cell_type": "markdown",
   "metadata": {},
   "source": [
    "### Données contenues dans le set"
   ]
  },
  {
   "cell_type": "code",
   "execution_count": 775,
   "metadata": {},
   "outputs": [
    {
     "data": {
      "text/html": [
       "<div>\n",
       "<style scoped>\n",
       "    .dataframe tbody tr th:only-of-type {\n",
       "        vertical-align: middle;\n",
       "    }\n",
       "\n",
       "    .dataframe tbody tr th {\n",
       "        vertical-align: top;\n",
       "    }\n",
       "\n",
       "    .dataframe thead th {\n",
       "        text-align: right;\n",
       "    }\n",
       "</style>\n",
       "<table border=\"1\" class=\"dataframe\">\n",
       "  <thead>\n",
       "    <tr style=\"text-align: right;\">\n",
       "      <th></th>\n",
       "      <th>EmployeeID</th>\n",
       "      <th>EnvironmentSatisfaction</th>\n",
       "      <th>JobSatisfaction</th>\n",
       "      <th>WorkLifeBalance</th>\n",
       "    </tr>\n",
       "  </thead>\n",
       "  <tbody>\n",
       "    <tr>\n",
       "      <th>0</th>\n",
       "      <td>1</td>\n",
       "      <td>3.0</td>\n",
       "      <td>4.0</td>\n",
       "      <td>2.0</td>\n",
       "    </tr>\n",
       "    <tr>\n",
       "      <th>1</th>\n",
       "      <td>2</td>\n",
       "      <td>3.0</td>\n",
       "      <td>2.0</td>\n",
       "      <td>4.0</td>\n",
       "    </tr>\n",
       "    <tr>\n",
       "      <th>2</th>\n",
       "      <td>3</td>\n",
       "      <td>2.0</td>\n",
       "      <td>2.0</td>\n",
       "      <td>1.0</td>\n",
       "    </tr>\n",
       "    <tr>\n",
       "      <th>3</th>\n",
       "      <td>4</td>\n",
       "      <td>4.0</td>\n",
       "      <td>4.0</td>\n",
       "      <td>3.0</td>\n",
       "    </tr>\n",
       "    <tr>\n",
       "      <th>4</th>\n",
       "      <td>5</td>\n",
       "      <td>4.0</td>\n",
       "      <td>1.0</td>\n",
       "      <td>3.0</td>\n",
       "    </tr>\n",
       "  </tbody>\n",
       "</table>\n",
       "</div>"
      ],
      "text/plain": [
       "   EmployeeID  EnvironmentSatisfaction  JobSatisfaction  WorkLifeBalance\n",
       "0           1                      3.0              4.0              2.0\n",
       "1           2                      3.0              2.0              4.0\n",
       "2           3                      2.0              2.0              1.0\n",
       "3           4                      4.0              4.0              3.0\n",
       "4           5                      4.0              1.0              3.0"
      ]
     },
     "execution_count": 775,
     "metadata": {},
     "output_type": "execute_result"
    }
   ],
   "source": [
    "employee_survey.head()"
   ]
  },
  {
   "cell_type": "code",
   "execution_count": 776,
   "metadata": {},
   "outputs": [
    {
     "name": "stdout",
     "output_type": "stream",
     "text": [
      "<class 'pandas.core.frame.DataFrame'>\n",
      "RangeIndex: 4410 entries, 0 to 4409\n",
      "Data columns (total 4 columns):\n",
      " #   Column                   Non-Null Count  Dtype  \n",
      "---  ------                   --------------  -----  \n",
      " 0   EmployeeID               4410 non-null   int64  \n",
      " 1   EnvironmentSatisfaction  4385 non-null   float64\n",
      " 2   JobSatisfaction          4390 non-null   float64\n",
      " 3   WorkLifeBalance          4372 non-null   float64\n",
      "dtypes: float64(3), int64(1)\n",
      "memory usage: 137.9 KB\n"
     ]
    }
   ],
   "source": [
    "employee_survey.info()"
   ]
  },
  {
   "attachments": {},
   "cell_type": "markdown",
   "metadata": {},
   "source": [
    "### Anaylse des données vides"
   ]
  },
  {
   "cell_type": "code",
   "execution_count": 777,
   "metadata": {},
   "outputs": [
    {
     "data": {
      "text/plain": [
       "EmployeeID                  0\n",
       "EnvironmentSatisfaction    25\n",
       "JobSatisfaction            20\n",
       "WorkLifeBalance            38\n",
       "dtype: int64"
      ]
     },
     "execution_count": 777,
     "metadata": {},
     "output_type": "execute_result"
    }
   ],
   "source": [
    "employee_survey.isnull().sum()"
   ]
  },
  {
   "attachments": {},
   "cell_type": "markdown",
   "metadata": {},
   "source": [
    "### Répartition des notes"
   ]
  },
  {
   "cell_type": "code",
   "execution_count": 778,
   "metadata": {},
   "outputs": [
    {
     "data": {
      "text/plain": [
       "<AxesSubplot:>"
      ]
     },
     "execution_count": 778,
     "metadata": {},
     "output_type": "execute_result"
    },
    {
     "data": {
      "image/png": "[encoded data removed]",
      "text/plain": [
       "<Figure size 432x288 with 1 Axes>"
      ]
     },
     "metadata": {
      "needs_background": "light"
     },
     "output_type": "display_data"
    }
   ],
   "source": [
    "employee_survey_anonyme = employee_survey.drop([\"EmployeeID\"], axis=1, inplace=False)\n",
    "sns.boxplot(data=employee_survey_anonyme)\n"
   ]
  },
  {
   "cell_type": "code",
   "execution_count": 779,
   "metadata": {},
   "outputs": [
    {
     "data": {
      "text/plain": [
       "<AxesSubplot:ylabel='Count'>"
      ]
     },
     "execution_count": 779,
     "metadata": {},
     "output_type": "execute_result"
    },
    {
     "data": {
      "image/png": "[encoded data removed]",
      "text/plain": [
       "<Figure size 432x288 with 1 Axes>"
      ]
     },
     "metadata": {
      "needs_background": "light"
     },
     "output_type": "display_data"
    }
   ],
   "source": [
    "sns.histplot(data=employee_survey_anonyme, kde=True)"
   ]
  },
  {
   "attachments": {},
   "cell_type": "markdown",
   "metadata": {},
   "source": [
    "### Tendance des mauvais résultats"
   ]
  },
  {
   "cell_type": "markdown",
   "metadata": {},
   "source": [
    "On regarde tout d'abord le nombre de gens qui sont insatisfait le l'environnement de travail et on remarque qu'ils représentent 38,5% des employés"
   ]
  },
  {
   "cell_type": "code",
   "execution_count": 780,
   "metadata": {},
   "outputs": [
    {
     "name": "stdout",
     "output_type": "stream",
     "text": [
      "38.57142857142858\n"
     ]
    },
    {
     "data": {
      "text/plain": [
       "EmployeeID                 1701\n",
       "EnvironmentSatisfaction    1701\n",
       "JobSatisfaction            1694\n",
       "WorkLifeBalance            1685\n",
       "dtype: int64"
      ]
     },
     "execution_count": 780,
     "metadata": {},
     "output_type": "execute_result"
    }
   ],
   "source": [
    "BadEnvironmentSatisfaction = employee_survey[employee_survey['EnvironmentSatisfaction']<2.1].count()\n",
    "print(BadEnvironmentSatisfaction['EnvironmentSatisfaction'] / nbEmploye * 100)\n",
    "BadEnvironmentSatisfaction\n"
   ]
  },
  {
   "cell_type": "markdown",
   "metadata": {},
   "source": [
    "On fait la même chose pour la satisfaction sur leurs travail et on obtient des résultats similaires, ce qui confirme les boîtes a moustache"
   ]
  },
  {
   "cell_type": "code",
   "execution_count": 781,
   "metadata": {},
   "outputs": [
    {
     "name": "stdout",
     "output_type": "stream",
     "text": [
      "38.54875283446712\n"
     ]
    },
    {
     "data": {
      "text/plain": [
       "EmployeeID                 1700\n",
       "EnvironmentSatisfaction    1694\n",
       "JobSatisfaction            1700\n",
       "WorkLifeBalance            1687\n",
       "dtype: int64"
      ]
     },
     "execution_count": 781,
     "metadata": {},
     "output_type": "execute_result"
    }
   ],
   "source": [
    "BadJobSatisfaction = employee_survey[employee_survey['JobSatisfaction']<2.1].count()\n",
    "print(BadJobSatisfaction['JobSatisfaction'] / nbEmploye * 100)\n",
    "BadJobSatisfaction"
   ]
  },
  {
   "cell_type": "markdown",
   "metadata": {},
   "source": [
    "Enfin on regarde l'équilibre entre la vie privée et professionelle, dans ce cas on obtient 28.5% des employés"
   ]
  },
  {
   "cell_type": "code",
   "execution_count": 782,
   "metadata": {},
   "outputs": [
    {
     "name": "stdout",
     "output_type": "stream",
     "text": [
      "28.52607709750567\n"
     ]
    },
    {
     "data": {
      "text/plain": [
       "EmployeeID                 1258\n",
       "EnvironmentSatisfaction    1250\n",
       "JobSatisfaction            1254\n",
       "WorkLifeBalance            1258\n",
       "dtype: int64"
      ]
     },
     "execution_count": 782,
     "metadata": {},
     "output_type": "execute_result"
    }
   ],
   "source": [
    "BadWorkLifeBalance = employee_survey[employee_survey['WorkLifeBalance']<2.1].count()\n",
    "print(BadWorkLifeBalance['WorkLifeBalance'] / nbEmploye * 100)\n",
    "BadWorkLifeBalance"
   ]
  },
  {
   "attachments": {},
   "cell_type": "markdown",
   "metadata": {},
   "source": [
    "Si on essaie de regarder les employés qui une balance mauvaise, et une satisfaction de leur travail et de leur environnement de travail faible on obtient 178 personne avec une très mauvaise expérience"
   ]
  },
  {
   "cell_type": "code",
   "execution_count": 783,
   "metadata": {},
   "outputs": [
    {
     "data": {
      "text/plain": [
       "178"
      ]
     },
     "execution_count": 783,
     "metadata": {},
     "output_type": "execute_result"
    }
   ],
   "source": [
    "BadEnvironmentSatisfaction = employee_survey[employee_survey['EnvironmentSatisfaction']<2.1]\n",
    "BadSatisfaction = BadEnvironmentSatisfaction[BadEnvironmentSatisfaction['JobSatisfaction']<2.1]\n",
    "BadAll = BadSatisfaction[BadSatisfaction['WorkLifeBalance']<2.1]\n",
    "BadAll[\"EmployeeID\"].count()"
   ]
  },
  {
   "attachments": {},
   "cell_type": "markdown",
   "metadata": {},
   "source": [
    "## General.csv\n",
    "<div id=\"ge\"></div>"
   ]
  },
  {
   "attachments": {},
   "cell_type": "markdown",
   "metadata": {},
   "source": [
    "### Données contenue dans le set"
   ]
  },
  {
   "cell_type": "code",
   "execution_count": 784,
   "metadata": {},
   "outputs": [
    {
     "data": {
      "text/html": [
       "<div>\n",
       "<style scoped>\n",
       "    .dataframe tbody tr th:only-of-type {\n",
       "        vertical-align: middle;\n",
       "    }\n",
       "\n",
       "    .dataframe tbody tr th {\n",
       "        vertical-align: top;\n",
       "    }\n",
       "\n",
       "    .dataframe thead th {\n",
       "        text-align: right;\n",
       "    }\n",
       "</style>\n",
       "<table border=\"1\" class=\"dataframe\">\n",
       "  <thead>\n",
       "    <tr style=\"text-align: right;\">\n",
       "      <th></th>\n",
       "      <th>Age</th>\n",
       "      <th>Attrition</th>\n",
       "      <th>BusinessTravel</th>\n",
       "      <th>Department</th>\n",
       "      <th>DistanceFromHome</th>\n",
       "      <th>Education</th>\n",
       "      <th>EducationField</th>\n",
       "      <th>EmployeeCount</th>\n",
       "      <th>EmployeeID</th>\n",
       "      <th>Gender</th>\n",
       "      <th>...</th>\n",
       "      <th>NumCompaniesWorked</th>\n",
       "      <th>Over18</th>\n",
       "      <th>PercentSalaryHike</th>\n",
       "      <th>StandardHours</th>\n",
       "      <th>StockOptionLevel</th>\n",
       "      <th>TotalWorkingYears</th>\n",
       "      <th>TrainingTimesLastYear</th>\n",
       "      <th>YearsAtCompany</th>\n",
       "      <th>YearsSinceLastPromotion</th>\n",
       "      <th>YearsWithCurrManager</th>\n",
       "    </tr>\n",
       "  </thead>\n",
       "  <tbody>\n",
       "    <tr>\n",
       "      <th>0</th>\n",
       "      <td>51</td>\n",
       "      <td>No</td>\n",
       "      <td>Travel_Rarely</td>\n",
       "      <td>Sales</td>\n",
       "      <td>6</td>\n",
       "      <td>2</td>\n",
       "      <td>Life Sciences</td>\n",
       "      <td>1</td>\n",
       "      <td>1</td>\n",
       "      <td>Female</td>\n",
       "      <td>...</td>\n",
       "      <td>1.0</td>\n",
       "      <td>Y</td>\n",
       "      <td>11</td>\n",
       "      <td>8</td>\n",
       "      <td>0</td>\n",
       "      <td>1.0</td>\n",
       "      <td>6</td>\n",
       "      <td>1</td>\n",
       "      <td>0</td>\n",
       "      <td>0</td>\n",
       "    </tr>\n",
       "    <tr>\n",
       "      <th>1</th>\n",
       "      <td>31</td>\n",
       "      <td>Yes</td>\n",
       "      <td>Travel_Frequently</td>\n",
       "      <td>Research &amp; Development</td>\n",
       "      <td>10</td>\n",
       "      <td>1</td>\n",
       "      <td>Life Sciences</td>\n",
       "      <td>1</td>\n",
       "      <td>2</td>\n",
       "      <td>Female</td>\n",
       "      <td>...</td>\n",
       "      <td>0.0</td>\n",
       "      <td>Y</td>\n",
       "      <td>23</td>\n",
       "      <td>8</td>\n",
       "      <td>1</td>\n",
       "      <td>6.0</td>\n",
       "      <td>3</td>\n",
       "      <td>5</td>\n",
       "      <td>1</td>\n",
       "      <td>4</td>\n",
       "    </tr>\n",
       "    <tr>\n",
       "      <th>2</th>\n",
       "      <td>32</td>\n",
       "      <td>No</td>\n",
       "      <td>Travel_Frequently</td>\n",
       "      <td>Research &amp; Development</td>\n",
       "      <td>17</td>\n",
       "      <td>4</td>\n",
       "      <td>Other</td>\n",
       "      <td>1</td>\n",
       "      <td>3</td>\n",
       "      <td>Male</td>\n",
       "      <td>...</td>\n",
       "      <td>1.0</td>\n",
       "      <td>Y</td>\n",
       "      <td>15</td>\n",
       "      <td>8</td>\n",
       "      <td>3</td>\n",
       "      <td>5.0</td>\n",
       "      <td>2</td>\n",
       "      <td>5</td>\n",
       "      <td>0</td>\n",
       "      <td>3</td>\n",
       "    </tr>\n",
       "    <tr>\n",
       "      <th>3</th>\n",
       "      <td>38</td>\n",
       "      <td>No</td>\n",
       "      <td>Non-Travel</td>\n",
       "      <td>Research &amp; Development</td>\n",
       "      <td>2</td>\n",
       "      <td>5</td>\n",
       "      <td>Life Sciences</td>\n",
       "      <td>1</td>\n",
       "      <td>4</td>\n",
       "      <td>Male</td>\n",
       "      <td>...</td>\n",
       "      <td>3.0</td>\n",
       "      <td>Y</td>\n",
       "      <td>11</td>\n",
       "      <td>8</td>\n",
       "      <td>3</td>\n",
       "      <td>13.0</td>\n",
       "      <td>5</td>\n",
       "      <td>8</td>\n",
       "      <td>7</td>\n",
       "      <td>5</td>\n",
       "    </tr>\n",
       "    <tr>\n",
       "      <th>4</th>\n",
       "      <td>32</td>\n",
       "      <td>No</td>\n",
       "      <td>Travel_Rarely</td>\n",
       "      <td>Research &amp; Development</td>\n",
       "      <td>10</td>\n",
       "      <td>1</td>\n",
       "      <td>Medical</td>\n",
       "      <td>1</td>\n",
       "      <td>5</td>\n",
       "      <td>Male</td>\n",
       "      <td>...</td>\n",
       "      <td>4.0</td>\n",
       "      <td>Y</td>\n",
       "      <td>12</td>\n",
       "      <td>8</td>\n",
       "      <td>2</td>\n",
       "      <td>9.0</td>\n",
       "      <td>2</td>\n",
       "      <td>6</td>\n",
       "      <td>0</td>\n",
       "      <td>4</td>\n",
       "    </tr>\n",
       "  </tbody>\n",
       "</table>\n",
       "<p>5 rows × 24 columns</p>\n",
       "</div>"
      ],
      "text/plain": [
       "   Age Attrition     BusinessTravel              Department  DistanceFromHome  \\\n",
       "0   51        No      Travel_Rarely                   Sales                 6   \n",
       "1   31       Yes  Travel_Frequently  Research & Development                10   \n",
       "2   32        No  Travel_Frequently  Research & Development                17   \n",
       "3   38        No         Non-Travel  Research & Development                 2   \n",
       "4   32        No      Travel_Rarely  Research & Development                10   \n",
       "\n",
       "   Education EducationField  EmployeeCount  EmployeeID  Gender  ...  \\\n",
       "0          2  Life Sciences              1           1  Female  ...   \n",
       "1          1  Life Sciences              1           2  Female  ...   \n",
       "2          4          Other              1           3    Male  ...   \n",
       "3          5  Life Sciences              1           4    Male  ...   \n",
       "4          1        Medical              1           5    Male  ...   \n",
       "\n",
       "   NumCompaniesWorked Over18 PercentSalaryHike  StandardHours  \\\n",
       "0                 1.0      Y                11              8   \n",
       "1                 0.0      Y                23              8   \n",
       "2                 1.0      Y                15              8   \n",
       "3                 3.0      Y                11              8   \n",
       "4                 4.0      Y                12              8   \n",
       "\n",
       "   StockOptionLevel TotalWorkingYears  TrainingTimesLastYear  YearsAtCompany  \\\n",
       "0                 0               1.0                      6               1   \n",
       "1                 1               6.0                      3               5   \n",
       "2                 3               5.0                      2               5   \n",
       "3                 3              13.0                      5               8   \n",
       "4                 2               9.0                      2               6   \n",
       "\n",
       "   YearsSinceLastPromotion  YearsWithCurrManager  \n",
       "0                        0                     0  \n",
       "1                        1                     4  \n",
       "2                        0                     3  \n",
       "3                        7                     5  \n",
       "4                        0                     4  \n",
       "\n",
       "[5 rows x 24 columns]"
      ]
     },
     "execution_count": 784,
     "metadata": {},
     "output_type": "execute_result"
    }
   ],
   "source": [
    "general.head()"
   ]
  },
  {
   "cell_type": "code",
   "execution_count": 785,
   "metadata": {},
   "outputs": [
    {
     "name": "stdout",
     "output_type": "stream",
     "text": [
      "<class 'pandas.core.frame.DataFrame'>\n",
      "RangeIndex: 4410 entries, 0 to 4409\n",
      "Data columns (total 24 columns):\n",
      " #   Column                   Non-Null Count  Dtype  \n",
      "---  ------                   --------------  -----  \n",
      " 0   Age                      4410 non-null   int64  \n",
      " 1   Attrition                4410 non-null   object \n",
      " 2   BusinessTravel           4410 non-null   object \n",
      " 3   Department               4410 non-null   object \n",
      " 4   DistanceFromHome         4410 non-null   int64  \n",
      " 5   Education                4410 non-null   int64  \n",
      " 6   EducationField           4410 non-null   object \n",
      " 7   EmployeeCount            4410 non-null   int64  \n",
      " 8   EmployeeID               4410 non-null   int64  \n",
      " 9   Gender                   4410 non-null   object \n",
      " 10  JobLevel                 4410 non-null   int64  \n",
      " 11  JobRole                  4410 non-null   object \n",
      " 12  MaritalStatus            4410 non-null   object \n",
      " 13  MonthlyIncome            4410 non-null   int64  \n",
      " 14  NumCompaniesWorked       4391 non-null   float64\n",
      " 15  Over18                   4410 non-null   object \n",
      " 16  PercentSalaryHike        4410 non-null   int64  \n",
      " 17  StandardHours            4410 non-null   int64  \n",
      " 18  StockOptionLevel         4410 non-null   int64  \n",
      " 19  TotalWorkingYears        4401 non-null   float64\n",
      " 20  TrainingTimesLastYear    4410 non-null   int64  \n",
      " 21  YearsAtCompany           4410 non-null   int64  \n",
      " 22  YearsSinceLastPromotion  4410 non-null   int64  \n",
      " 23  YearsWithCurrManager     4410 non-null   int64  \n",
      "dtypes: float64(2), int64(14), object(8)\n",
      "memory usage: 827.0+ KB\n"
     ]
    }
   ],
   "source": [
    "general.info()"
   ]
  },
  {
   "attachments": {},
   "cell_type": "markdown",
   "metadata": {},
   "source": [
    "### Analyse des données vides"
   ]
  },
  {
   "cell_type": "code",
   "execution_count": 786,
   "metadata": {},
   "outputs": [
    {
     "data": {
      "text/plain": [
       "Age                         0\n",
       "Attrition                   0\n",
       "BusinessTravel              0\n",
       "Department                  0\n",
       "DistanceFromHome            0\n",
       "Education                   0\n",
       "EducationField              0\n",
       "EmployeeCount               0\n",
       "EmployeeID                  0\n",
       "Gender                      0\n",
       "JobLevel                    0\n",
       "JobRole                     0\n",
       "MaritalStatus               0\n",
       "MonthlyIncome               0\n",
       "NumCompaniesWorked         19\n",
       "Over18                      0\n",
       "PercentSalaryHike           0\n",
       "StandardHours               0\n",
       "StockOptionLevel            0\n",
       "TotalWorkingYears           9\n",
       "TrainingTimesLastYear       0\n",
       "YearsAtCompany              0\n",
       "YearsSinceLastPromotion     0\n",
       "YearsWithCurrManager        0\n",
       "dtype: int64"
      ]
     },
     "execution_count": 786,
     "metadata": {},
     "output_type": "execute_result"
    }
   ],
   "source": [
    "general.isnull().sum()"
   ]
  },
  {
   "attachments": {},
   "cell_type": "markdown",
   "metadata": {},
   "source": [
    "### Analyse générales"
   ]
  },
  {
   "attachments": {},
   "cell_type": "markdown",
   "metadata": {},
   "source": [
    "#### Nombres de personnes qui ont quitté l'entreprise en 2016"
   ]
  },
  {
   "cell_type": "code",
   "execution_count": 787,
   "metadata": {},
   "outputs": [
    {
     "name": "stdout",
     "output_type": "stream",
     "text": [
      "Number of people who left the company: 0 out of 4410 employees\n",
      "Approx 0.0 % of the employees left the company\n"
     ]
    }
   ],
   "source": [
    "peopleLeft = general[general[\"Attrition\"] == 1]\n",
    "print(\"Number of people who left the company:\", peopleLeft.shape[0], \"out of\", general.shape[0], \"employees\")\n",
    "print(\"Approx\", round(peopleLeft.shape[0] / general.shape[0] * 100, 2), \"% of the employees left the company\")"
   ]
  },
  {
   "cell_type": "markdown",
   "metadata": {},
   "source": [
    "### Histogrammes"
   ]
  },
  {
   "cell_type": "code",
   "execution_count": 788,
   "metadata": {},
   "outputs": [
    {
     "data": {
      "text/plain": [
       "array([[<AxesSubplot:title={'center':'Age'}>,\n",
       "        <AxesSubplot:title={'center':'DistanceFromHome'}>,\n",
       "        <AxesSubplot:title={'center':'Education'}>],\n",
       "       [<AxesSubplot:title={'center':'JobLevel'}>,\n",
       "        <AxesSubplot:title={'center':'MonthlyIncome'}>,\n",
       "        <AxesSubplot:title={'center':'NumCompaniesWorked'}>],\n",
       "       [<AxesSubplot:title={'center':'PercentSalaryHike'}>,\n",
       "        <AxesSubplot:title={'center':'TotalWorkingYears'}>,\n",
       "        <AxesSubplot:title={'center':'TrainingTimesLastYear'}>],\n",
       "       [<AxesSubplot:title={'center':'YearsAtCompany'}>,\n",
       "        <AxesSubplot:title={'center':'YearsSinceLastPromotion'}>,\n",
       "        <AxesSubplot:title={'center':'YearsWithCurrManager'}>]],\n",
       "      dtype=object)"
      ]
     },
     "execution_count": 788,
     "metadata": {},
     "output_type": "execute_result"
    },
    {
     "data": {
      "image/png": "[encoded data removed]",
      "text/plain": [
       "<Figure size 1440x1440 with 12 Axes>"
      ]
     },
     "metadata": {
      "needs_background": "light"
     },
     "output_type": "display_data"
    }
   ],
   "source": [
    "general.filter(items= [\"Age\",\"DistanceFromHome\",\"Education\",\"JobLevel\", \"MonthlyIncome\", \"NumCompaniesWorked\", \"PercentSalaryHike\", \"TotalWorkingYears\", \"TrainingTimesLastYear\", \"YearsAtCompany\", \"YearsSinceLastPromotion\", \"YearsWithCurrManager\"]).hist(figsize=(20,20))"
   ]
  },
  {
   "attachments": {},
   "cell_type": "markdown",
   "metadata": {},
   "source": [
    "## Manager survey.csv\n",
    "<div id=\"ms\"></div>"
   ]
  },
  {
   "attachments": {},
   "cell_type": "markdown",
   "metadata": {},
   "source": [
    "### Données contenue dans le set"
   ]
  },
  {
   "cell_type": "code",
   "execution_count": 789,
   "metadata": {},
   "outputs": [
    {
     "data": {
      "text/html": [
       "<div>\n",
       "<style scoped>\n",
       "    .dataframe tbody tr th:only-of-type {\n",
       "        vertical-align: middle;\n",
       "    }\n",
       "\n",
       "    .dataframe tbody tr th {\n",
       "        vertical-align: top;\n",
       "    }\n",
       "\n",
       "    .dataframe thead th {\n",
       "        text-align: right;\n",
       "    }\n",
       "</style>\n",
       "<table border=\"1\" class=\"dataframe\">\n",
       "  <thead>\n",
       "    <tr style=\"text-align: right;\">\n",
       "      <th></th>\n",
       "      <th>EmployeeID</th>\n",
       "      <th>JobInvolvement</th>\n",
       "      <th>PerformanceRating</th>\n",
       "    </tr>\n",
       "  </thead>\n",
       "  <tbody>\n",
       "    <tr>\n",
       "      <th>0</th>\n",
       "      <td>1</td>\n",
       "      <td>3</td>\n",
       "      <td>3</td>\n",
       "    </tr>\n",
       "    <tr>\n",
       "      <th>1</th>\n",
       "      <td>2</td>\n",
       "      <td>2</td>\n",
       "      <td>4</td>\n",
       "    </tr>\n",
       "    <tr>\n",
       "      <th>2</th>\n",
       "      <td>3</td>\n",
       "      <td>3</td>\n",
       "      <td>3</td>\n",
       "    </tr>\n",
       "    <tr>\n",
       "      <th>3</th>\n",
       "      <td>4</td>\n",
       "      <td>2</td>\n",
       "      <td>3</td>\n",
       "    </tr>\n",
       "    <tr>\n",
       "      <th>4</th>\n",
       "      <td>5</td>\n",
       "      <td>3</td>\n",
       "      <td>3</td>\n",
       "    </tr>\n",
       "  </tbody>\n",
       "</table>\n",
       "</div>"
      ],
      "text/plain": [
       "   EmployeeID  JobInvolvement  PerformanceRating\n",
       "0           1               3                  3\n",
       "1           2               2                  4\n",
       "2           3               3                  3\n",
       "3           4               2                  3\n",
       "4           5               3                  3"
      ]
     },
     "execution_count": 789,
     "metadata": {},
     "output_type": "execute_result"
    }
   ],
   "source": [
    "manager_survey.head()"
   ]
  },
  {
   "cell_type": "code",
   "execution_count": 790,
   "metadata": {},
   "outputs": [
    {
     "name": "stdout",
     "output_type": "stream",
     "text": [
      "<class 'pandas.core.frame.DataFrame'>\n",
      "RangeIndex: 4410 entries, 0 to 4409\n",
      "Data columns (total 3 columns):\n",
      " #   Column             Non-Null Count  Dtype\n",
      "---  ------             --------------  -----\n",
      " 0   EmployeeID         4410 non-null   int64\n",
      " 1   JobInvolvement     4410 non-null   int64\n",
      " 2   PerformanceRating  4410 non-null   int64\n",
      "dtypes: int64(3)\n",
      "memory usage: 103.5 KB\n"
     ]
    }
   ],
   "source": [
    "manager_survey.info()"
   ]
  },
  {
   "attachments": {},
   "cell_type": "markdown",
   "metadata": {},
   "source": [
    "### Analyse des données vides"
   ]
  },
  {
   "cell_type": "code",
   "execution_count": 791,
   "metadata": {},
   "outputs": [
    {
     "data": {
      "text/plain": [
       "EmployeeID           0\n",
       "JobInvolvement       0\n",
       "PerformanceRating    0\n",
       "dtype: int64"
      ]
     },
     "execution_count": 791,
     "metadata": {},
     "output_type": "execute_result"
    }
   ],
   "source": [
    "manager_survey.isnull().sum()"
   ]
  },
  {
   "attachments": {},
   "cell_type": "markdown",
   "metadata": {},
   "source": [
    "### Analyse générale"
   ]
  },
  {
   "cell_type": "code",
   "execution_count": 792,
   "metadata": {},
   "outputs": [
    {
     "data": {
      "text/plain": [
       "<AxesSubplot:>"
      ]
     },
     "execution_count": 792,
     "metadata": {},
     "output_type": "execute_result"
    },
    {
     "data": {
      "image/png": "[encoded data removed]",
      "text/plain": [
       "<Figure size 432x288 with 1 Axes>"
      ]
     },
     "metadata": {
      "needs_background": "light"
     },
     "output_type": "display_data"
    }
   ],
   "source": [
    "manager_survey_anonyme = manager_survey.drop([\"EmployeeID\"], axis=1, inplace=False)\n",
    "sns.boxplot(data=manager_survey_anonyme)"
   ]
  },
  {
   "attachments": {},
   "cell_type": "markdown",
   "metadata": {},
   "source": [
    "## In Time.csv\n",
    "<div id=\"it\"></div>"
   ]
  },
  {
   "attachments": {},
   "cell_type": "markdown",
   "metadata": {},
   "source": [
    "### Données contenues dans le dataset"
   ]
  },
  {
   "cell_type": "code",
   "execution_count": 793,
   "metadata": {},
   "outputs": [
    {
     "data": {
      "text/html": [
       "<div>\n",
       "<style scoped>\n",
       "    .dataframe tbody tr th:only-of-type {\n",
       "        vertical-align: middle;\n",
       "    }\n",
       "\n",
       "    .dataframe tbody tr th {\n",
       "        vertical-align: top;\n",
       "    }\n",
       "\n",
       "    .dataframe thead th {\n",
       "        text-align: right;\n",
       "    }\n",
       "</style>\n",
       "<table border=\"1\" class=\"dataframe\">\n",
       "  <thead>\n",
       "    <tr style=\"text-align: right;\">\n",
       "      <th></th>\n",
       "      <th>Unnamed: 0</th>\n",
       "      <th>2015-01-01</th>\n",
       "      <th>2015-01-02</th>\n",
       "      <th>2015-01-05</th>\n",
       "      <th>2015-01-06</th>\n",
       "      <th>2015-01-07</th>\n",
       "      <th>2015-01-08</th>\n",
       "      <th>2015-01-09</th>\n",
       "      <th>2015-01-12</th>\n",
       "      <th>2015-01-13</th>\n",
       "      <th>...</th>\n",
       "      <th>2015-12-18</th>\n",
       "      <th>2015-12-21</th>\n",
       "      <th>2015-12-22</th>\n",
       "      <th>2015-12-23</th>\n",
       "      <th>2015-12-24</th>\n",
       "      <th>2015-12-25</th>\n",
       "      <th>2015-12-28</th>\n",
       "      <th>2015-12-29</th>\n",
       "      <th>2015-12-30</th>\n",
       "      <th>2015-12-31</th>\n",
       "    </tr>\n",
       "  </thead>\n",
       "  <tbody>\n",
       "    <tr>\n",
       "      <th>0</th>\n",
       "      <td>1</td>\n",
       "      <td>NaN</td>\n",
       "      <td>2015-01-02 09:43:45</td>\n",
       "      <td>2015-01-05 10:08:48</td>\n",
       "      <td>2015-01-06 09:54:26</td>\n",
       "      <td>2015-01-07 09:34:31</td>\n",
       "      <td>2015-01-08 09:51:09</td>\n",
       "      <td>2015-01-09 10:09:25</td>\n",
       "      <td>2015-01-12 09:42:53</td>\n",
       "      <td>2015-01-13 10:13:06</td>\n",
       "      <td>...</td>\n",
       "      <td>NaN</td>\n",
       "      <td>2015-12-21 09:55:29</td>\n",
       "      <td>2015-12-22 10:04:06</td>\n",
       "      <td>2015-12-23 10:14:27</td>\n",
       "      <td>2015-12-24 10:11:35</td>\n",
       "      <td>NaN</td>\n",
       "      <td>2015-12-28 10:13:41</td>\n",
       "      <td>2015-12-29 10:03:36</td>\n",
       "      <td>2015-12-30 09:54:12</td>\n",
       "      <td>2015-12-31 10:12:44</td>\n",
       "    </tr>\n",
       "    <tr>\n",
       "      <th>1</th>\n",
       "      <td>2</td>\n",
       "      <td>NaN</td>\n",
       "      <td>2015-01-02 10:15:44</td>\n",
       "      <td>2015-01-05 10:21:05</td>\n",
       "      <td>NaN</td>\n",
       "      <td>2015-01-07 09:45:17</td>\n",
       "      <td>2015-01-08 10:09:04</td>\n",
       "      <td>2015-01-09 09:43:26</td>\n",
       "      <td>2015-01-12 10:00:07</td>\n",
       "      <td>2015-01-13 10:43:29</td>\n",
       "      <td>...</td>\n",
       "      <td>2015-12-18 10:37:17</td>\n",
       "      <td>2015-12-21 09:49:02</td>\n",
       "      <td>2015-12-22 10:33:51</td>\n",
       "      <td>2015-12-23 10:12:10</td>\n",
       "      <td>NaN</td>\n",
       "      <td>NaN</td>\n",
       "      <td>2015-12-28 09:31:45</td>\n",
       "      <td>2015-12-29 09:55:49</td>\n",
       "      <td>2015-12-30 10:32:25</td>\n",
       "      <td>2015-12-31 09:27:20</td>\n",
       "    </tr>\n",
       "    <tr>\n",
       "      <th>2</th>\n",
       "      <td>3</td>\n",
       "      <td>NaN</td>\n",
       "      <td>2015-01-02 10:17:41</td>\n",
       "      <td>2015-01-05 09:50:50</td>\n",
       "      <td>2015-01-06 10:14:13</td>\n",
       "      <td>2015-01-07 09:47:27</td>\n",
       "      <td>2015-01-08 10:03:40</td>\n",
       "      <td>2015-01-09 10:05:49</td>\n",
       "      <td>2015-01-12 10:03:47</td>\n",
       "      <td>2015-01-13 10:21:26</td>\n",
       "      <td>...</td>\n",
       "      <td>2015-12-18 10:15:14</td>\n",
       "      <td>2015-12-21 10:10:28</td>\n",
       "      <td>2015-12-22 09:44:44</td>\n",
       "      <td>2015-12-23 10:15:54</td>\n",
       "      <td>2015-12-24 10:07:26</td>\n",
       "      <td>NaN</td>\n",
       "      <td>2015-12-28 09:42:05</td>\n",
       "      <td>2015-12-29 09:43:36</td>\n",
       "      <td>2015-12-30 09:34:05</td>\n",
       "      <td>2015-12-31 10:28:39</td>\n",
       "    </tr>\n",
       "    <tr>\n",
       "      <th>3</th>\n",
       "      <td>4</td>\n",
       "      <td>NaN</td>\n",
       "      <td>2015-01-02 10:05:06</td>\n",
       "      <td>2015-01-05 09:56:32</td>\n",
       "      <td>2015-01-06 10:11:07</td>\n",
       "      <td>2015-01-07 09:37:30</td>\n",
       "      <td>2015-01-08 10:02:08</td>\n",
       "      <td>2015-01-09 10:08:12</td>\n",
       "      <td>2015-01-12 10:13:42</td>\n",
       "      <td>2015-01-13 09:53:22</td>\n",
       "      <td>...</td>\n",
       "      <td>2015-12-18 10:17:38</td>\n",
       "      <td>2015-12-21 09:58:21</td>\n",
       "      <td>2015-12-22 10:04:25</td>\n",
       "      <td>2015-12-23 10:11:46</td>\n",
       "      <td>2015-12-24 09:43:15</td>\n",
       "      <td>NaN</td>\n",
       "      <td>2015-12-28 09:52:44</td>\n",
       "      <td>2015-12-29 09:33:16</td>\n",
       "      <td>2015-12-30 10:18:12</td>\n",
       "      <td>2015-12-31 10:01:15</td>\n",
       "    </tr>\n",
       "    <tr>\n",
       "      <th>4</th>\n",
       "      <td>5</td>\n",
       "      <td>NaN</td>\n",
       "      <td>2015-01-02 10:28:17</td>\n",
       "      <td>2015-01-05 09:49:58</td>\n",
       "      <td>2015-01-06 09:45:28</td>\n",
       "      <td>2015-01-07 09:49:37</td>\n",
       "      <td>2015-01-08 10:19:44</td>\n",
       "      <td>2015-01-09 10:00:50</td>\n",
       "      <td>2015-01-12 10:29:27</td>\n",
       "      <td>2015-01-13 09:59:32</td>\n",
       "      <td>...</td>\n",
       "      <td>2015-12-18 09:58:35</td>\n",
       "      <td>2015-12-21 10:03:41</td>\n",
       "      <td>2015-12-22 10:10:30</td>\n",
       "      <td>2015-12-23 10:13:36</td>\n",
       "      <td>2015-12-24 09:44:24</td>\n",
       "      <td>NaN</td>\n",
       "      <td>2015-12-28 10:05:15</td>\n",
       "      <td>2015-12-29 10:30:53</td>\n",
       "      <td>2015-12-30 09:18:21</td>\n",
       "      <td>2015-12-31 09:41:09</td>\n",
       "    </tr>\n",
       "  </tbody>\n",
       "</table>\n",
       "<p>5 rows × 262 columns</p>\n",
       "</div>"
      ],
      "text/plain": [
       "   Unnamed: 0  2015-01-01           2015-01-02           2015-01-05  \\\n",
       "0           1         NaN  2015-01-02 09:43:45  2015-01-05 10:08:48   \n",
       "1           2         NaN  2015-01-02 10:15:44  2015-01-05 10:21:05   \n",
       "2           3         NaN  2015-01-02 10:17:41  2015-01-05 09:50:50   \n",
       "3           4         NaN  2015-01-02 10:05:06  2015-01-05 09:56:32   \n",
       "4           5         NaN  2015-01-02 10:28:17  2015-01-05 09:49:58   \n",
       "\n",
       "            2015-01-06           2015-01-07           2015-01-08  \\\n",
       "0  2015-01-06 09:54:26  2015-01-07 09:34:31  2015-01-08 09:51:09   \n",
       "1                  NaN  2015-01-07 09:45:17  2015-01-08 10:09:04   \n",
       "2  2015-01-06 10:14:13  2015-01-07 09:47:27  2015-01-08 10:03:40   \n",
       "3  2015-01-06 10:11:07  2015-01-07 09:37:30  2015-01-08 10:02:08   \n",
       "4  2015-01-06 09:45:28  2015-01-07 09:49:37  2015-01-08 10:19:44   \n",
       "\n",
       "            2015-01-09           2015-01-12           2015-01-13  ...  \\\n",
       "0  2015-01-09 10:09:25  2015-01-12 09:42:53  2015-01-13 10:13:06  ...   \n",
       "1  2015-01-09 09:43:26  2015-01-12 10:00:07  2015-01-13 10:43:29  ...   \n",
       "2  2015-01-09 10:05:49  2015-01-12 10:03:47  2015-01-13 10:21:26  ...   \n",
       "3  2015-01-09 10:08:12  2015-01-12 10:13:42  2015-01-13 09:53:22  ...   \n",
       "4  2015-01-09 10:00:50  2015-01-12 10:29:27  2015-01-13 09:59:32  ...   \n",
       "\n",
       "            2015-12-18           2015-12-21           2015-12-22  \\\n",
       "0                  NaN  2015-12-21 09:55:29  2015-12-22 10:04:06   \n",
       "1  2015-12-18 10:37:17  2015-12-21 09:49:02  2015-12-22 10:33:51   \n",
       "2  2015-12-18 10:15:14  2015-12-21 10:10:28  2015-12-22 09:44:44   \n",
       "3  2015-12-18 10:17:38  2015-12-21 09:58:21  2015-12-22 10:04:25   \n",
       "4  2015-12-18 09:58:35  2015-12-21 10:03:41  2015-12-22 10:10:30   \n",
       "\n",
       "            2015-12-23           2015-12-24 2015-12-25           2015-12-28  \\\n",
       "0  2015-12-23 10:14:27  2015-12-24 10:11:35        NaN  2015-12-28 10:13:41   \n",
       "1  2015-12-23 10:12:10                  NaN        NaN  2015-12-28 09:31:45   \n",
       "2  2015-12-23 10:15:54  2015-12-24 10:07:26        NaN  2015-12-28 09:42:05   \n",
       "3  2015-12-23 10:11:46  2015-12-24 09:43:15        NaN  2015-12-28 09:52:44   \n",
       "4  2015-12-23 10:13:36  2015-12-24 09:44:24        NaN  2015-12-28 10:05:15   \n",
       "\n",
       "            2015-12-29           2015-12-30           2015-12-31  \n",
       "0  2015-12-29 10:03:36  2015-12-30 09:54:12  2015-12-31 10:12:44  \n",
       "1  2015-12-29 09:55:49  2015-12-30 10:32:25  2015-12-31 09:27:20  \n",
       "2  2015-12-29 09:43:36  2015-12-30 09:34:05  2015-12-31 10:28:39  \n",
       "3  2015-12-29 09:33:16  2015-12-30 10:18:12  2015-12-31 10:01:15  \n",
       "4  2015-12-29 10:30:53  2015-12-30 09:18:21  2015-12-31 09:41:09  \n",
       "\n",
       "[5 rows x 262 columns]"
      ]
     },
     "execution_count": 793,
     "metadata": {},
     "output_type": "execute_result"
    }
   ],
   "source": [
    "in_time.head()"
   ]
  },
  {
   "attachments": {},
   "cell_type": "markdown",
   "metadata": {},
   "source": [
    "### Analyse des données vides"
   ]
  },
  {
   "cell_type": "code",
   "execution_count": 794,
   "metadata": {},
   "outputs": [
    {
     "name": "stdout",
     "output_type": "stream",
     "text": [
      "Par date\n",
      "Unnamed: 0       0\n",
      "2015-01-01    4410\n",
      "2015-01-02     209\n",
      "2015-01-05     206\n",
      "2015-01-06     228\n",
      "              ... \n",
      "2015-12-25    4410\n",
      "2015-12-28     234\n",
      "2015-12-29     230\n",
      "2015-12-30     265\n",
      "2015-12-31     213\n",
      "Length: 262, dtype: int64\n",
      "Par employé\n",
      "0       29\n",
      "1       25\n",
      "2       19\n",
      "3       26\n",
      "4       16\n",
      "        ..\n",
      "4405    18\n",
      "4406    20\n",
      "4407    30\n",
      "4408    20\n",
      "4409    29\n",
      "Length: 4410, dtype: int64\n"
     ]
    }
   ],
   "source": [
    "print(\"Par date\")\n",
    "print(in_time.isnull().sum())\n",
    "print(\"Par employé\")\n",
    "print(in_time.isnull().sum(axis=1))"
   ]
  },
  {
   "attachments": {},
   "cell_type": "markdown",
   "metadata": {},
   "source": [
    "### Répartition des données"
   ]
  },
  {
   "cell_type": "code",
   "execution_count": 795,
   "metadata": {},
   "outputs": [
    {
     "data": {
      "text/plain": [
       "<AxesSubplot:>"
      ]
     },
     "execution_count": 795,
     "metadata": {},
     "output_type": "execute_result"
    },
    {
     "data": {
      "image/png": "[encoded data removed]",
      "text/plain": [
       "<Figure size 432x288 with 1 Axes>"
      ]
     },
     "metadata": {
      "needs_background": "light"
     },
     "output_type": "display_data"
    }
   ],
   "source": [
    "\n",
    "sns.boxplot(in_time.isnull().sum(axis=1))"
   ]
  },
  {
   "attachments": {},
   "cell_type": "markdown",
   "metadata": {},
   "source": [
    "## Out Time.csv\n",
    "<div id=\"ot\"></div>"
   ]
  },
  {
   "attachments": {},
   "cell_type": "markdown",
   "metadata": {},
   "source": [
    "### Données contenues dans le set"
   ]
  },
  {
   "cell_type": "code",
   "execution_count": 796,
   "metadata": {},
   "outputs": [
    {
     "data": {
      "text/html": [
       "<div>\n",
       "<style scoped>\n",
       "    .dataframe tbody tr th:only-of-type {\n",
       "        vertical-align: middle;\n",
       "    }\n",
       "\n",
       "    .dataframe tbody tr th {\n",
       "        vertical-align: top;\n",
       "    }\n",
       "\n",
       "    .dataframe thead th {\n",
       "        text-align: right;\n",
       "    }\n",
       "</style>\n",
       "<table border=\"1\" class=\"dataframe\">\n",
       "  <thead>\n",
       "    <tr style=\"text-align: right;\">\n",
       "      <th></th>\n",
       "      <th>Unnamed: 0</th>\n",
       "      <th>2015-01-01</th>\n",
       "      <th>2015-01-02</th>\n",
       "      <th>2015-01-05</th>\n",
       "      <th>2015-01-06</th>\n",
       "      <th>2015-01-07</th>\n",
       "      <th>2015-01-08</th>\n",
       "      <th>2015-01-09</th>\n",
       "      <th>2015-01-12</th>\n",
       "      <th>2015-01-13</th>\n",
       "      <th>...</th>\n",
       "      <th>2015-12-18</th>\n",
       "      <th>2015-12-21</th>\n",
       "      <th>2015-12-22</th>\n",
       "      <th>2015-12-23</th>\n",
       "      <th>2015-12-24</th>\n",
       "      <th>2015-12-25</th>\n",
       "      <th>2015-12-28</th>\n",
       "      <th>2015-12-29</th>\n",
       "      <th>2015-12-30</th>\n",
       "      <th>2015-12-31</th>\n",
       "    </tr>\n",
       "  </thead>\n",
       "  <tbody>\n",
       "    <tr>\n",
       "      <th>0</th>\n",
       "      <td>1</td>\n",
       "      <td>NaN</td>\n",
       "      <td>2015-01-02 16:56:15</td>\n",
       "      <td>2015-01-05 17:20:11</td>\n",
       "      <td>2015-01-06 17:19:05</td>\n",
       "      <td>2015-01-07 16:34:55</td>\n",
       "      <td>2015-01-08 17:08:32</td>\n",
       "      <td>2015-01-09 17:38:29</td>\n",
       "      <td>2015-01-12 16:58:39</td>\n",
       "      <td>2015-01-13 18:02:58</td>\n",
       "      <td>...</td>\n",
       "      <td>NaN</td>\n",
       "      <td>2015-12-21 17:15:50</td>\n",
       "      <td>2015-12-22 17:27:51</td>\n",
       "      <td>2015-12-23 16:44:44</td>\n",
       "      <td>2015-12-24 17:47:22</td>\n",
       "      <td>NaN</td>\n",
       "      <td>2015-12-28 18:00:07</td>\n",
       "      <td>2015-12-29 17:22:30</td>\n",
       "      <td>2015-12-30 17:40:56</td>\n",
       "      <td>2015-12-31 17:17:33</td>\n",
       "    </tr>\n",
       "    <tr>\n",
       "      <th>1</th>\n",
       "      <td>2</td>\n",
       "      <td>NaN</td>\n",
       "      <td>2015-01-02 18:22:17</td>\n",
       "      <td>2015-01-05 17:48:22</td>\n",
       "      <td>NaN</td>\n",
       "      <td>2015-01-07 17:09:06</td>\n",
       "      <td>2015-01-08 17:34:04</td>\n",
       "      <td>2015-01-09 16:52:29</td>\n",
       "      <td>2015-01-12 17:36:48</td>\n",
       "      <td>2015-01-13 18:00:13</td>\n",
       "      <td>...</td>\n",
       "      <td>2015-12-18 18:31:28</td>\n",
       "      <td>2015-12-21 17:34:16</td>\n",
       "      <td>2015-12-22 18:16:35</td>\n",
       "      <td>2015-12-23 17:38:18</td>\n",
       "      <td>NaN</td>\n",
       "      <td>NaN</td>\n",
       "      <td>2015-12-28 17:08:38</td>\n",
       "      <td>2015-12-29 17:54:46</td>\n",
       "      <td>2015-12-30 18:31:35</td>\n",
       "      <td>2015-12-31 17:40:58</td>\n",
       "    </tr>\n",
       "    <tr>\n",
       "      <th>2</th>\n",
       "      <td>3</td>\n",
       "      <td>NaN</td>\n",
       "      <td>2015-01-02 16:59:14</td>\n",
       "      <td>2015-01-05 17:06:46</td>\n",
       "      <td>2015-01-06 16:38:32</td>\n",
       "      <td>2015-01-07 16:33:21</td>\n",
       "      <td>2015-01-08 17:24:22</td>\n",
       "      <td>2015-01-09 16:57:30</td>\n",
       "      <td>2015-01-12 17:28:54</td>\n",
       "      <td>2015-01-13 17:21:25</td>\n",
       "      <td>...</td>\n",
       "      <td>2015-12-18 17:02:23</td>\n",
       "      <td>2015-12-21 17:20:17</td>\n",
       "      <td>2015-12-22 16:32:50</td>\n",
       "      <td>2015-12-23 16:59:43</td>\n",
       "      <td>2015-12-24 16:58:25</td>\n",
       "      <td>NaN</td>\n",
       "      <td>2015-12-28 16:43:31</td>\n",
       "      <td>2015-12-29 17:09:56</td>\n",
       "      <td>2015-12-30 17:06:25</td>\n",
       "      <td>2015-12-31 17:15:50</td>\n",
       "    </tr>\n",
       "    <tr>\n",
       "      <th>3</th>\n",
       "      <td>4</td>\n",
       "      <td>NaN</td>\n",
       "      <td>2015-01-02 17:25:24</td>\n",
       "      <td>2015-01-05 17:14:03</td>\n",
       "      <td>2015-01-06 17:07:42</td>\n",
       "      <td>2015-01-07 16:32:40</td>\n",
       "      <td>2015-01-08 16:53:11</td>\n",
       "      <td>2015-01-09 17:19:47</td>\n",
       "      <td>2015-01-12 17:13:37</td>\n",
       "      <td>2015-01-13 17:11:45</td>\n",
       "      <td>...</td>\n",
       "      <td>2015-12-18 17:55:23</td>\n",
       "      <td>2015-12-21 16:49:09</td>\n",
       "      <td>2015-12-22 17:24:00</td>\n",
       "      <td>2015-12-23 17:36:35</td>\n",
       "      <td>2015-12-24 16:48:21</td>\n",
       "      <td>NaN</td>\n",
       "      <td>2015-12-28 17:19:34</td>\n",
       "      <td>2015-12-29 16:58:16</td>\n",
       "      <td>2015-12-30 17:40:11</td>\n",
       "      <td>2015-12-31 17:09:14</td>\n",
       "    </tr>\n",
       "    <tr>\n",
       "      <th>4</th>\n",
       "      <td>5</td>\n",
       "      <td>NaN</td>\n",
       "      <td>2015-01-02 18:31:37</td>\n",
       "      <td>2015-01-05 17:49:15</td>\n",
       "      <td>2015-01-06 17:26:25</td>\n",
       "      <td>2015-01-07 17:37:59</td>\n",
       "      <td>2015-01-08 17:59:28</td>\n",
       "      <td>2015-01-09 17:44:08</td>\n",
       "      <td>2015-01-12 18:51:21</td>\n",
       "      <td>2015-01-13 18:14:58</td>\n",
       "      <td>...</td>\n",
       "      <td>2015-12-18 17:52:48</td>\n",
       "      <td>2015-12-21 17:43:35</td>\n",
       "      <td>2015-12-22 18:07:57</td>\n",
       "      <td>2015-12-23 18:00:49</td>\n",
       "      <td>2015-12-24 17:59:22</td>\n",
       "      <td>NaN</td>\n",
       "      <td>2015-12-28 17:44:59</td>\n",
       "      <td>2015-12-29 18:47:00</td>\n",
       "      <td>2015-12-30 17:15:33</td>\n",
       "      <td>2015-12-31 17:42:14</td>\n",
       "    </tr>\n",
       "  </tbody>\n",
       "</table>\n",
       "<p>5 rows × 262 columns</p>\n",
       "</div>"
      ],
      "text/plain": [
       "   Unnamed: 0  2015-01-01           2015-01-02           2015-01-05  \\\n",
       "0           1         NaN  2015-01-02 16:56:15  2015-01-05 17:20:11   \n",
       "1           2         NaN  2015-01-02 18:22:17  2015-01-05 17:48:22   \n",
       "2           3         NaN  2015-01-02 16:59:14  2015-01-05 17:06:46   \n",
       "3           4         NaN  2015-01-02 17:25:24  2015-01-05 17:14:03   \n",
       "4           5         NaN  2015-01-02 18:31:37  2015-01-05 17:49:15   \n",
       "\n",
       "            2015-01-06           2015-01-07           2015-01-08  \\\n",
       "0  2015-01-06 17:19:05  2015-01-07 16:34:55  2015-01-08 17:08:32   \n",
       "1                  NaN  2015-01-07 17:09:06  2015-01-08 17:34:04   \n",
       "2  2015-01-06 16:38:32  2015-01-07 16:33:21  2015-01-08 17:24:22   \n",
       "3  2015-01-06 17:07:42  2015-01-07 16:32:40  2015-01-08 16:53:11   \n",
       "4  2015-01-06 17:26:25  2015-01-07 17:37:59  2015-01-08 17:59:28   \n",
       "\n",
       "            2015-01-09           2015-01-12           2015-01-13  ...  \\\n",
       "0  2015-01-09 17:38:29  2015-01-12 16:58:39  2015-01-13 18:02:58  ...   \n",
       "1  2015-01-09 16:52:29  2015-01-12 17:36:48  2015-01-13 18:00:13  ...   \n",
       "2  2015-01-09 16:57:30  2015-01-12 17:28:54  2015-01-13 17:21:25  ...   \n",
       "3  2015-01-09 17:19:47  2015-01-12 17:13:37  2015-01-13 17:11:45  ...   \n",
       "4  2015-01-09 17:44:08  2015-01-12 18:51:21  2015-01-13 18:14:58  ...   \n",
       "\n",
       "            2015-12-18           2015-12-21           2015-12-22  \\\n",
       "0                  NaN  2015-12-21 17:15:50  2015-12-22 17:27:51   \n",
       "1  2015-12-18 18:31:28  2015-12-21 17:34:16  2015-12-22 18:16:35   \n",
       "2  2015-12-18 17:02:23  2015-12-21 17:20:17  2015-12-22 16:32:50   \n",
       "3  2015-12-18 17:55:23  2015-12-21 16:49:09  2015-12-22 17:24:00   \n",
       "4  2015-12-18 17:52:48  2015-12-21 17:43:35  2015-12-22 18:07:57   \n",
       "\n",
       "            2015-12-23           2015-12-24 2015-12-25           2015-12-28  \\\n",
       "0  2015-12-23 16:44:44  2015-12-24 17:47:22        NaN  2015-12-28 18:00:07   \n",
       "1  2015-12-23 17:38:18                  NaN        NaN  2015-12-28 17:08:38   \n",
       "2  2015-12-23 16:59:43  2015-12-24 16:58:25        NaN  2015-12-28 16:43:31   \n",
       "3  2015-12-23 17:36:35  2015-12-24 16:48:21        NaN  2015-12-28 17:19:34   \n",
       "4  2015-12-23 18:00:49  2015-12-24 17:59:22        NaN  2015-12-28 17:44:59   \n",
       "\n",
       "            2015-12-29           2015-12-30           2015-12-31  \n",
       "0  2015-12-29 17:22:30  2015-12-30 17:40:56  2015-12-31 17:17:33  \n",
       "1  2015-12-29 17:54:46  2015-12-30 18:31:35  2015-12-31 17:40:58  \n",
       "2  2015-12-29 17:09:56  2015-12-30 17:06:25  2015-12-31 17:15:50  \n",
       "3  2015-12-29 16:58:16  2015-12-30 17:40:11  2015-12-31 17:09:14  \n",
       "4  2015-12-29 18:47:00  2015-12-30 17:15:33  2015-12-31 17:42:14  \n",
       "\n",
       "[5 rows x 262 columns]"
      ]
     },
     "execution_count": 796,
     "metadata": {},
     "output_type": "execute_result"
    }
   ],
   "source": [
    "out_time.head()"
   ]
  },
  {
   "attachments": {},
   "cell_type": "markdown",
   "metadata": {},
   "source": [
    "### Analyse des données vides"
   ]
  },
  {
   "cell_type": "code",
   "execution_count": 797,
   "metadata": {},
   "outputs": [
    {
     "name": "stdout",
     "output_type": "stream",
     "text": [
      "Par date\n",
      "Unnamed: 0       0\n",
      "2015-01-01    4410\n",
      "2015-01-02     209\n",
      "2015-01-05     206\n",
      "2015-01-06     228\n",
      "              ... \n",
      "2015-12-25    4410\n",
      "2015-12-28     234\n",
      "2015-12-29     230\n",
      "2015-12-30     265\n",
      "2015-12-31     213\n",
      "Length: 262, dtype: int64\n",
      "Par employé\n",
      "0       29\n",
      "1       25\n",
      "2       19\n",
      "3       26\n",
      "4       16\n",
      "        ..\n",
      "4405    18\n",
      "4406    20\n",
      "4407    30\n",
      "4408    20\n",
      "4409    29\n",
      "Length: 4410, dtype: int64\n"
     ]
    }
   ],
   "source": [
    "print(\"Par date\")\n",
    "print(out_time.isnull().sum())\n",
    "print(\"Par employé\")\n",
    "print(out_time.isnull().sum(axis=1))\n"
   ]
  },
  {
   "attachments": {},
   "cell_type": "markdown",
   "metadata": {},
   "source": [
    "### Répartition des données"
   ]
  },
  {
   "cell_type": "code",
   "execution_count": 798,
   "metadata": {},
   "outputs": [
    {
     "data": {
      "text/plain": [
       "<AxesSubplot:>"
      ]
     },
     "execution_count": 798,
     "metadata": {},
     "output_type": "execute_result"
    },
    {
     "data": {
      "image/png": "[encoded data removed]",
      "text/plain": [
       "<Figure size 432x288 with 1 Axes>"
      ]
     },
     "metadata": {
      "needs_background": "light"
     },
     "output_type": "display_data"
    }
   ],
   "source": [
    "\n",
    "sns.boxplot(in_time.isnull().sum(axis=1))"
   ]
  },
  {
   "attachments": {},
   "cell_type": "markdown",
   "metadata": {},
   "source": [
    "# Préparation des données"
   ]
  },
  {
   "attachments": {},
   "cell_type": "markdown",
   "metadata": {},
   "source": [
    "## Numérisation"
   ]
  },
  {
   "attachments": {},
   "cell_type": "markdown",
   "metadata": {},
   "source": [
    "#### Variables discrètes hierarchiques\n",
    "\n",
    "Ensuite, on remplace les valeurs dans \"BusinessTravel\" avec l'\"OrdinalEncoder\" car il y a un ordre hiérarchique entre les données"
   ]
  },
  {
   "cell_type": "code",
   "execution_count": 799,
   "metadata": {},
   "outputs": [],
   "source": [
    "ord_enc = OrdinalEncoder(categories=[['Non-Travel','Travel_Rarely','Travel_Frequently']])\n",
    "encoded = ord_enc.fit_transform(general[[\"BusinessTravel\"]])\n",
    "general.drop('BusinessTravel', axis=1)\n",
    "general = general.assign(BusinessTravel = encoded) "
   ]
  },
  {
   "cell_type": "code",
   "execution_count": 800,
   "metadata": {},
   "outputs": [],
   "source": [
    "ord_enc = OrdinalEncoder(categories=[['No','Yes']])\n",
    "encoded = ord_enc.fit_transform(general[[\"Attrition\"]])\n",
    "general.drop('Attrition', axis=1)\n",
    "general = general.assign(Attrition = encoded) "
   ]
  },
  {
   "cell_type": "code",
   "execution_count": 801,
   "metadata": {},
   "outputs": [],
   "source": [
    "ord_enc = OrdinalEncoder(categories=[['N','Y']])\n",
    "encoded = ord_enc.fit_transform(general[[\"Over18\"]])\n",
    "general.drop('Over18', axis=1)\n",
    "general = general.assign(Over18 = encoded) "
   ]
  },
  {
   "attachments": {},
   "cell_type": "markdown",
   "metadata": {},
   "source": [
    "#### Variables discrètes indépendantes\n",
    "Ensuite on remplace les valeurs dans \"Department\" avec le \"OneHotEncoder\" car il n'y a pas de hiérarchie entre les valeurs"
   ]
  },
  {
   "cell_type": "code",
   "execution_count": 802,
   "metadata": {},
   "outputs": [],
   "source": [
    "one_enc = OneHotEncoder()\n",
    "encoded = one_enc.fit_transform(general[['Department']])\n",
    "dpt_enc = pd.DataFrame(encoded.toarray())\n",
    "dpt_enc = dpt_enc.rename(columns={0:'Department_HR', 1:'Department_Research & Development', 2:'Department_Sales'})\n",
    "general.drop('Department', axis=1, inplace=True)\n",
    "general = pd.concat([general, dpt_enc], axis=1)"
   ]
  },
  {
   "cell_type": "code",
   "execution_count": 803,
   "metadata": {},
   "outputs": [],
   "source": [
    "one_enc = OneHotEncoder()\n",
    "encoded = one_enc.fit_transform(general[['EducationField']])\n",
    "edu_enc = pd.DataFrame(encoded.toarray())\n",
    "edu_enc = edu_enc.rename(columns={\n",
    "    0:'Education_Human Resources', \n",
    "    1:'Education_Life Sciences', \n",
    "    2:'Education_Marketing', \n",
    "    3:'Education_Medical', \n",
    "    4:'Education_Other', \n",
    "    5:'Education_Technical Degreee'})\n",
    "general.drop('EducationField', axis=1, inplace=True)\n",
    "general = pd.concat([general, edu_enc], axis=1)"
   ]
  },
  {
   "cell_type": "code",
   "execution_count": 804,
   "metadata": {},
   "outputs": [],
   "source": [
    "one_enc = OneHotEncoder()\n",
    "encoded = one_enc.fit_transform(general[['Gender']])\n",
    "gen_enc = pd.DataFrame(encoded.toarray())\n",
    "gen_enc = gen_enc.rename(columns={0:'Female', 1:'Male'})\n",
    "general.drop('Gender', axis=1, inplace=True)\n",
    "general = pd.concat([general, gen_enc], axis=1)"
   ]
  },
  {
   "cell_type": "code",
   "execution_count": 805,
   "metadata": {},
   "outputs": [],
   "source": [
    "one_enc = OneHotEncoder()\n",
    "encoded = one_enc.fit_transform(general[['JobRole']])\n",
    "job_enc = pd.DataFrame(encoded.toarray())\n",
    "job_enc = job_enc.rename(columns={\n",
    "    0:'Job_Healthcare Representative', \n",
    "    1:'Job_Human Resources', \n",
    "    2:'Job_Laboratory Technician', \n",
    "    3:'Job_Manager', \n",
    "    4:'Job_Manufacturing Director',\n",
    "    5:'Job_Research Director',\n",
    "    6:'Job_Research Scientist',\n",
    "    7:'Job_Sales Executive',\n",
    "    8:'Job_Sales Representative'})\n",
    "general.drop('JobRole', axis=1, inplace=True)\n",
    "general = pd.concat([general, job_enc], axis=1)"
   ]
  },
  {
   "cell_type": "code",
   "execution_count": 806,
   "metadata": {},
   "outputs": [],
   "source": [
    "one_enc = OneHotEncoder()\n",
    "encoded = one_enc.fit_transform(general[['MaritalStatus']])\n",
    "mar_enc = pd.DataFrame(encoded.toarray())\n",
    "mar_enc = mar_enc.rename(columns={0:'Divorced', 1:'Married', 2:'Single'})\n",
    "general.drop('MaritalStatus', axis=1, inplace=True)\n",
    "general = pd.concat([general, mar_enc], axis=1)"
   ]
  },
  {
   "cell_type": "code",
   "execution_count": 807,
   "metadata": {},
   "outputs": [
    {
     "data": {
      "text/html": [
       "<div>\n",
       "<style scoped>\n",
       "    .dataframe tbody tr th:only-of-type {\n",
       "        vertical-align: middle;\n",
       "    }\n",
       "\n",
       "    .dataframe tbody tr th {\n",
       "        vertical-align: top;\n",
       "    }\n",
       "\n",
       "    .dataframe thead th {\n",
       "        text-align: right;\n",
       "    }\n",
       "</style>\n",
       "<table border=\"1\" class=\"dataframe\">\n",
       "  <thead>\n",
       "    <tr style=\"text-align: right;\">\n",
       "      <th></th>\n",
       "      <th>Age</th>\n",
       "      <th>Attrition</th>\n",
       "      <th>BusinessTravel</th>\n",
       "      <th>DistanceFromHome</th>\n",
       "      <th>Education</th>\n",
       "      <th>EmployeeCount</th>\n",
       "      <th>EmployeeID</th>\n",
       "      <th>JobLevel</th>\n",
       "      <th>MonthlyIncome</th>\n",
       "      <th>NumCompaniesWorked</th>\n",
       "      <th>...</th>\n",
       "      <th>Job_Laboratory Technician</th>\n",
       "      <th>Job_Manager</th>\n",
       "      <th>Job_Manufacturing Director</th>\n",
       "      <th>Job_Research Director</th>\n",
       "      <th>Job_Research Scientist</th>\n",
       "      <th>Job_Sales Executive</th>\n",
       "      <th>Job_Sales Representative</th>\n",
       "      <th>Divorced</th>\n",
       "      <th>Married</th>\n",
       "      <th>Single</th>\n",
       "    </tr>\n",
       "  </thead>\n",
       "  <tbody>\n",
       "    <tr>\n",
       "      <th>0</th>\n",
       "      <td>51</td>\n",
       "      <td>0.0</td>\n",
       "      <td>1.0</td>\n",
       "      <td>6</td>\n",
       "      <td>2</td>\n",
       "      <td>1</td>\n",
       "      <td>1</td>\n",
       "      <td>1</td>\n",
       "      <td>131160</td>\n",
       "      <td>1.0</td>\n",
       "      <td>...</td>\n",
       "      <td>0.0</td>\n",
       "      <td>0.0</td>\n",
       "      <td>0.0</td>\n",
       "      <td>0.0</td>\n",
       "      <td>0.0</td>\n",
       "      <td>0.0</td>\n",
       "      <td>0.0</td>\n",
       "      <td>0.0</td>\n",
       "      <td>1.0</td>\n",
       "      <td>0.0</td>\n",
       "    </tr>\n",
       "    <tr>\n",
       "      <th>1</th>\n",
       "      <td>31</td>\n",
       "      <td>1.0</td>\n",
       "      <td>2.0</td>\n",
       "      <td>10</td>\n",
       "      <td>1</td>\n",
       "      <td>1</td>\n",
       "      <td>2</td>\n",
       "      <td>1</td>\n",
       "      <td>41890</td>\n",
       "      <td>0.0</td>\n",
       "      <td>...</td>\n",
       "      <td>0.0</td>\n",
       "      <td>0.0</td>\n",
       "      <td>0.0</td>\n",
       "      <td>0.0</td>\n",
       "      <td>1.0</td>\n",
       "      <td>0.0</td>\n",
       "      <td>0.0</td>\n",
       "      <td>0.0</td>\n",
       "      <td>0.0</td>\n",
       "      <td>1.0</td>\n",
       "    </tr>\n",
       "    <tr>\n",
       "      <th>2</th>\n",
       "      <td>32</td>\n",
       "      <td>0.0</td>\n",
       "      <td>2.0</td>\n",
       "      <td>17</td>\n",
       "      <td>4</td>\n",
       "      <td>1</td>\n",
       "      <td>3</td>\n",
       "      <td>4</td>\n",
       "      <td>193280</td>\n",
       "      <td>1.0</td>\n",
       "      <td>...</td>\n",
       "      <td>0.0</td>\n",
       "      <td>0.0</td>\n",
       "      <td>0.0</td>\n",
       "      <td>0.0</td>\n",
       "      <td>0.0</td>\n",
       "      <td>1.0</td>\n",
       "      <td>0.0</td>\n",
       "      <td>0.0</td>\n",
       "      <td>1.0</td>\n",
       "      <td>0.0</td>\n",
       "    </tr>\n",
       "    <tr>\n",
       "      <th>3</th>\n",
       "      <td>38</td>\n",
       "      <td>0.0</td>\n",
       "      <td>0.0</td>\n",
       "      <td>2</td>\n",
       "      <td>5</td>\n",
       "      <td>1</td>\n",
       "      <td>4</td>\n",
       "      <td>3</td>\n",
       "      <td>83210</td>\n",
       "      <td>3.0</td>\n",
       "      <td>...</td>\n",
       "      <td>0.0</td>\n",
       "      <td>0.0</td>\n",
       "      <td>0.0</td>\n",
       "      <td>0.0</td>\n",
       "      <td>0.0</td>\n",
       "      <td>0.0</td>\n",
       "      <td>0.0</td>\n",
       "      <td>0.0</td>\n",
       "      <td>1.0</td>\n",
       "      <td>0.0</td>\n",
       "    </tr>\n",
       "    <tr>\n",
       "      <th>4</th>\n",
       "      <td>32</td>\n",
       "      <td>0.0</td>\n",
       "      <td>1.0</td>\n",
       "      <td>10</td>\n",
       "      <td>1</td>\n",
       "      <td>1</td>\n",
       "      <td>5</td>\n",
       "      <td>1</td>\n",
       "      <td>23420</td>\n",
       "      <td>4.0</td>\n",
       "      <td>...</td>\n",
       "      <td>0.0</td>\n",
       "      <td>0.0</td>\n",
       "      <td>0.0</td>\n",
       "      <td>0.0</td>\n",
       "      <td>0.0</td>\n",
       "      <td>1.0</td>\n",
       "      <td>0.0</td>\n",
       "      <td>0.0</td>\n",
       "      <td>0.0</td>\n",
       "      <td>1.0</td>\n",
       "    </tr>\n",
       "    <tr>\n",
       "      <th>...</th>\n",
       "      <td>...</td>\n",
       "      <td>...</td>\n",
       "      <td>...</td>\n",
       "      <td>...</td>\n",
       "      <td>...</td>\n",
       "      <td>...</td>\n",
       "      <td>...</td>\n",
       "      <td>...</td>\n",
       "      <td>...</td>\n",
       "      <td>...</td>\n",
       "      <td>...</td>\n",
       "      <td>...</td>\n",
       "      <td>...</td>\n",
       "      <td>...</td>\n",
       "      <td>...</td>\n",
       "      <td>...</td>\n",
       "      <td>...</td>\n",
       "      <td>...</td>\n",
       "      <td>...</td>\n",
       "      <td>...</td>\n",
       "      <td>...</td>\n",
       "    </tr>\n",
       "    <tr>\n",
       "      <th>4405</th>\n",
       "      <td>42</td>\n",
       "      <td>0.0</td>\n",
       "      <td>1.0</td>\n",
       "      <td>5</td>\n",
       "      <td>4</td>\n",
       "      <td>1</td>\n",
       "      <td>4406</td>\n",
       "      <td>1</td>\n",
       "      <td>60290</td>\n",
       "      <td>3.0</td>\n",
       "      <td>...</td>\n",
       "      <td>0.0</td>\n",
       "      <td>0.0</td>\n",
       "      <td>0.0</td>\n",
       "      <td>0.0</td>\n",
       "      <td>1.0</td>\n",
       "      <td>0.0</td>\n",
       "      <td>0.0</td>\n",
       "      <td>0.0</td>\n",
       "      <td>0.0</td>\n",
       "      <td>1.0</td>\n",
       "    </tr>\n",
       "    <tr>\n",
       "      <th>4406</th>\n",
       "      <td>29</td>\n",
       "      <td>0.0</td>\n",
       "      <td>1.0</td>\n",
       "      <td>2</td>\n",
       "      <td>4</td>\n",
       "      <td>1</td>\n",
       "      <td>4407</td>\n",
       "      <td>1</td>\n",
       "      <td>26790</td>\n",
       "      <td>2.0</td>\n",
       "      <td>...</td>\n",
       "      <td>1.0</td>\n",
       "      <td>0.0</td>\n",
       "      <td>0.0</td>\n",
       "      <td>0.0</td>\n",
       "      <td>0.0</td>\n",
       "      <td>0.0</td>\n",
       "      <td>0.0</td>\n",
       "      <td>1.0</td>\n",
       "      <td>0.0</td>\n",
       "      <td>0.0</td>\n",
       "    </tr>\n",
       "    <tr>\n",
       "      <th>4407</th>\n",
       "      <td>25</td>\n",
       "      <td>0.0</td>\n",
       "      <td>1.0</td>\n",
       "      <td>25</td>\n",
       "      <td>2</td>\n",
       "      <td>1</td>\n",
       "      <td>4408</td>\n",
       "      <td>2</td>\n",
       "      <td>37020</td>\n",
       "      <td>0.0</td>\n",
       "      <td>...</td>\n",
       "      <td>0.0</td>\n",
       "      <td>0.0</td>\n",
       "      <td>0.0</td>\n",
       "      <td>0.0</td>\n",
       "      <td>0.0</td>\n",
       "      <td>1.0</td>\n",
       "      <td>0.0</td>\n",
       "      <td>0.0</td>\n",
       "      <td>1.0</td>\n",
       "      <td>0.0</td>\n",
       "    </tr>\n",
       "    <tr>\n",
       "      <th>4408</th>\n",
       "      <td>42</td>\n",
       "      <td>0.0</td>\n",
       "      <td>1.0</td>\n",
       "      <td>18</td>\n",
       "      <td>2</td>\n",
       "      <td>1</td>\n",
       "      <td>4409</td>\n",
       "      <td>1</td>\n",
       "      <td>23980</td>\n",
       "      <td>0.0</td>\n",
       "      <td>...</td>\n",
       "      <td>1.0</td>\n",
       "      <td>0.0</td>\n",
       "      <td>0.0</td>\n",
       "      <td>0.0</td>\n",
       "      <td>0.0</td>\n",
       "      <td>0.0</td>\n",
       "      <td>0.0</td>\n",
       "      <td>1.0</td>\n",
       "      <td>0.0</td>\n",
       "      <td>0.0</td>\n",
       "    </tr>\n",
       "    <tr>\n",
       "      <th>4409</th>\n",
       "      <td>40</td>\n",
       "      <td>0.0</td>\n",
       "      <td>1.0</td>\n",
       "      <td>28</td>\n",
       "      <td>3</td>\n",
       "      <td>1</td>\n",
       "      <td>4410</td>\n",
       "      <td>2</td>\n",
       "      <td>54680</td>\n",
       "      <td>0.0</td>\n",
       "      <td>...</td>\n",
       "      <td>1.0</td>\n",
       "      <td>0.0</td>\n",
       "      <td>0.0</td>\n",
       "      <td>0.0</td>\n",
       "      <td>0.0</td>\n",
       "      <td>0.0</td>\n",
       "      <td>0.0</td>\n",
       "      <td>1.0</td>\n",
       "      <td>0.0</td>\n",
       "      <td>0.0</td>\n",
       "    </tr>\n",
       "  </tbody>\n",
       "</table>\n",
       "<p>4410 rows × 42 columns</p>\n",
       "</div>"
      ],
      "text/plain": [
       "      Age  Attrition  BusinessTravel  DistanceFromHome  Education  \\\n",
       "0      51        0.0             1.0                 6          2   \n",
       "1      31        1.0             2.0                10          1   \n",
       "2      32        0.0             2.0                17          4   \n",
       "3      38        0.0             0.0                 2          5   \n",
       "4      32        0.0             1.0                10          1   \n",
       "...   ...        ...             ...               ...        ...   \n",
       "4405   42        0.0             1.0                 5          4   \n",
       "4406   29        0.0             1.0                 2          4   \n",
       "4407   25        0.0             1.0                25          2   \n",
       "4408   42        0.0             1.0                18          2   \n",
       "4409   40        0.0             1.0                28          3   \n",
       "\n",
       "      EmployeeCount  EmployeeID  JobLevel  MonthlyIncome  NumCompaniesWorked  \\\n",
       "0                 1           1         1         131160                 1.0   \n",
       "1                 1           2         1          41890                 0.0   \n",
       "2                 1           3         4         193280                 1.0   \n",
       "3                 1           4         3          83210                 3.0   \n",
       "4                 1           5         1          23420                 4.0   \n",
       "...             ...         ...       ...            ...                 ...   \n",
       "4405              1        4406         1          60290                 3.0   \n",
       "4406              1        4407         1          26790                 2.0   \n",
       "4407              1        4408         2          37020                 0.0   \n",
       "4408              1        4409         1          23980                 0.0   \n",
       "4409              1        4410         2          54680                 0.0   \n",
       "\n",
       "      ...  Job_Laboratory Technician  Job_Manager  Job_Manufacturing Director  \\\n",
       "0     ...                        0.0          0.0                         0.0   \n",
       "1     ...                        0.0          0.0                         0.0   \n",
       "2     ...                        0.0          0.0                         0.0   \n",
       "3     ...                        0.0          0.0                         0.0   \n",
       "4     ...                        0.0          0.0                         0.0   \n",
       "...   ...                        ...          ...                         ...   \n",
       "4405  ...                        0.0          0.0                         0.0   \n",
       "4406  ...                        1.0          0.0                         0.0   \n",
       "4407  ...                        0.0          0.0                         0.0   \n",
       "4408  ...                        1.0          0.0                         0.0   \n",
       "4409  ...                        1.0          0.0                         0.0   \n",
       "\n",
       "      Job_Research Director  Job_Research Scientist  Job_Sales Executive  \\\n",
       "0                       0.0                     0.0                  0.0   \n",
       "1                       0.0                     1.0                  0.0   \n",
       "2                       0.0                     0.0                  1.0   \n",
       "3                       0.0                     0.0                  0.0   \n",
       "4                       0.0                     0.0                  1.0   \n",
       "...                     ...                     ...                  ...   \n",
       "4405                    0.0                     1.0                  0.0   \n",
       "4406                    0.0                     0.0                  0.0   \n",
       "4407                    0.0                     0.0                  1.0   \n",
       "4408                    0.0                     0.0                  0.0   \n",
       "4409                    0.0                     0.0                  0.0   \n",
       "\n",
       "      Job_Sales Representative  Divorced  Married  Single  \n",
       "0                          0.0       0.0      1.0     0.0  \n",
       "1                          0.0       0.0      0.0     1.0  \n",
       "2                          0.0       0.0      1.0     0.0  \n",
       "3                          0.0       0.0      1.0     0.0  \n",
       "4                          0.0       0.0      0.0     1.0  \n",
       "...                        ...       ...      ...     ...  \n",
       "4405                       0.0       0.0      0.0     1.0  \n",
       "4406                       0.0       1.0      0.0     0.0  \n",
       "4407                       0.0       0.0      1.0     0.0  \n",
       "4408                       0.0       1.0      0.0     0.0  \n",
       "4409                       0.0       1.0      0.0     0.0  \n",
       "\n",
       "[4410 rows x 42 columns]"
      ]
     },
     "execution_count": 807,
     "metadata": {},
     "output_type": "execute_result"
    }
   ],
   "source": [
    "general"
   ]
  },
  {
   "cell_type": "code",
   "execution_count": 808,
   "metadata": {},
   "outputs": [
    {
     "name": "stdout",
     "output_type": "stream",
     "text": [
      "<class 'pandas.core.frame.DataFrame'>\n",
      "RangeIndex: 4410 entries, 0 to 4409\n",
      "Data columns (total 42 columns):\n",
      " #   Column                             Non-Null Count  Dtype  \n",
      "---  ------                             --------------  -----  \n",
      " 0   Age                                4410 non-null   int64  \n",
      " 1   Attrition                          4410 non-null   float64\n",
      " 2   BusinessTravel                     4410 non-null   float64\n",
      " 3   DistanceFromHome                   4410 non-null   int64  \n",
      " 4   Education                          4410 non-null   int64  \n",
      " 5   EmployeeCount                      4410 non-null   int64  \n",
      " 6   EmployeeID                         4410 non-null   int64  \n",
      " 7   JobLevel                           4410 non-null   int64  \n",
      " 8   MonthlyIncome                      4410 non-null   int64  \n",
      " 9   NumCompaniesWorked                 4391 non-null   float64\n",
      " 10  Over18                             4410 non-null   float64\n",
      " 11  PercentSalaryHike                  4410 non-null   int64  \n",
      " 12  StandardHours                      4410 non-null   int64  \n",
      " 13  StockOptionLevel                   4410 non-null   int64  \n",
      " 14  TotalWorkingYears                  4401 non-null   float64\n",
      " 15  TrainingTimesLastYear              4410 non-null   int64  \n",
      " 16  YearsAtCompany                     4410 non-null   int64  \n",
      " 17  YearsSinceLastPromotion            4410 non-null   int64  \n",
      " 18  YearsWithCurrManager               4410 non-null   int64  \n",
      " 19  Department_HR                      4410 non-null   float64\n",
      " 20  Department_Research & Development  4410 non-null   float64\n",
      " 21  Department_Sales                   4410 non-null   float64\n",
      " 22  Education_Human Resources          4410 non-null   float64\n",
      " 23  Education_Life Sciences            4410 non-null   float64\n",
      " 24  Education_Marketing                4410 non-null   float64\n",
      " 25  Education_Medical                  4410 non-null   float64\n",
      " 26  Education_Other                    4410 non-null   float64\n",
      " 27  Education_Technical Degreee        4410 non-null   float64\n",
      " 28  Female                             4410 non-null   float64\n",
      " 29  Male                               4410 non-null   float64\n",
      " 30  Job_Healthcare Representative      4410 non-null   float64\n",
      " 31  Job_Human Resources                4410 non-null   float64\n",
      " 32  Job_Laboratory Technician          4410 non-null   float64\n",
      " 33  Job_Manager                        4410 non-null   float64\n",
      " 34  Job_Manufacturing Director         4410 non-null   float64\n",
      " 35  Job_Research Director              4410 non-null   float64\n",
      " 36  Job_Research Scientist             4410 non-null   float64\n",
      " 37  Job_Sales Executive                4410 non-null   float64\n",
      " 38  Job_Sales Representative           4410 non-null   float64\n",
      " 39  Divorced                           4410 non-null   float64\n",
      " 40  Married                            4410 non-null   float64\n",
      " 41  Single                             4410 non-null   float64\n",
      "dtypes: float64(28), int64(14)\n",
      "memory usage: 1.4 MB\n"
     ]
    }
   ],
   "source": [
    "general.info()"
   ]
  },
  {
   "attachments": {},
   "cell_type": "markdown",
   "metadata": {},
   "source": [
    "## Création d'attributs"
   ]
  },
  {
   "attachments": {},
   "cell_type": "markdown",
   "metadata": {},
   "source": [
    "### Temps de travail moyen"
   ]
  },
  {
   "cell_type": "code",
   "execution_count": 809,
   "metadata": {},
   "outputs": [
    {
     "data": {
      "text/plain": [
       "<AxesSubplot:>"
      ]
     },
     "execution_count": 809,
     "metadata": {},
     "output_type": "execute_result"
    },
    {
     "data": {
      "image/png": "[encoded data removed]",
      "text/plain": [
       "<Figure size 432x288 with 1 Axes>"
      ]
     },
     "metadata": {
      "needs_background": "light"
     },
     "output_type": "display_data"
    }
   ],
   "source": [
    "# average of the number of hours worked per day\n",
    "in_time = in_time.dropna(axis=1, how='all')\n",
    "out_time = out_time.dropna(axis=1, how='all')\n",
    "in_time = in_time.dropna(axis=0, how='all')\n",
    "out_time = out_time.dropna(axis=0, how='all')\n",
    "in_time = in_time.apply(pd.to_datetime)\n",
    "out_time = out_time.apply(pd.to_datetime)\n",
    "hours_worked = out_time - in_time\n",
    "hours_worked = hours_worked.applymap(lambda x: x.total_seconds() / 3600)\n",
    "hours_worked = hours_worked.mean(axis=1)\n",
    "hours_worked = hours_worked.dropna()\n",
    "hours_worked = hours_worked.reset_index(drop=True)\n",
    "sns.boxplot(hours_worked)\n",
    "\n"
   ]
  },
  {
   "cell_type": "code",
   "execution_count": 810,
   "metadata": {},
   "outputs": [
    {
     "data": {
      "text/html": [
       "<div>\n",
       "<style scoped>\n",
       "    .dataframe tbody tr th:only-of-type {\n",
       "        vertical-align: middle;\n",
       "    }\n",
       "\n",
       "    .dataframe tbody tr th {\n",
       "        vertical-align: top;\n",
       "    }\n",
       "\n",
       "    .dataframe thead th {\n",
       "        text-align: right;\n",
       "    }\n",
       "</style>\n",
       "<table border=\"1\" class=\"dataframe\">\n",
       "  <thead>\n",
       "    <tr style=\"text-align: right;\">\n",
       "      <th></th>\n",
       "      <th>EmployeeID</th>\n",
       "      <th>avg_hours_worked</th>\n",
       "    </tr>\n",
       "  </thead>\n",
       "  <tbody>\n",
       "    <tr>\n",
       "      <th>0</th>\n",
       "      <td>1</td>\n",
       "      <td>7.342004</td>\n",
       "    </tr>\n",
       "    <tr>\n",
       "      <th>1</th>\n",
       "      <td>2</td>\n",
       "      <td>7.686399</td>\n",
       "    </tr>\n",
       "    <tr>\n",
       "      <th>2</th>\n",
       "      <td>3</td>\n",
       "      <td>6.984379</td>\n",
       "    </tr>\n",
       "    <tr>\n",
       "      <th>3</th>\n",
       "      <td>4</td>\n",
       "      <td>7.163197</td>\n",
       "    </tr>\n",
       "    <tr>\n",
       "      <th>4</th>\n",
       "      <td>5</td>\n",
       "      <td>7.973629</td>\n",
       "    </tr>\n",
       "    <tr>\n",
       "      <th>...</th>\n",
       "      <td>...</td>\n",
       "      <td>...</td>\n",
       "    </tr>\n",
       "    <tr>\n",
       "      <th>4405</th>\n",
       "      <td>4406</td>\n",
       "      <td>8.487350</td>\n",
       "    </tr>\n",
       "    <tr>\n",
       "      <th>4406</th>\n",
       "      <td>4407</td>\n",
       "      <td>6.067777</td>\n",
       "    </tr>\n",
       "    <tr>\n",
       "      <th>4407</th>\n",
       "      <td>4408</td>\n",
       "      <td>7.673414</td>\n",
       "    </tr>\n",
       "    <tr>\n",
       "      <th>4408</th>\n",
       "      <td>4409</td>\n",
       "      <td>9.453369</td>\n",
       "    </tr>\n",
       "    <tr>\n",
       "      <th>4409</th>\n",
       "      <td>4410</td>\n",
       "      <td>6.958952</td>\n",
       "    </tr>\n",
       "  </tbody>\n",
       "</table>\n",
       "<p>4410 rows × 2 columns</p>\n",
       "</div>"
      ],
      "text/plain": [
       "      EmployeeID  avg_hours_worked\n",
       "0              1          7.342004\n",
       "1              2          7.686399\n",
       "2              3          6.984379\n",
       "3              4          7.163197\n",
       "4              5          7.973629\n",
       "...          ...               ...\n",
       "4405        4406          8.487350\n",
       "4406        4407          6.067777\n",
       "4407        4408          7.673414\n",
       "4408        4409          9.453369\n",
       "4409        4410          6.958952\n",
       "\n",
       "[4410 rows x 2 columns]"
      ]
     },
     "execution_count": 810,
     "metadata": {},
     "output_type": "execute_result"
    }
   ],
   "source": [
    "hours_worked_df = pd.DataFrame({\n",
    "    \"EmployeeID\": general[\"EmployeeID\"],\n",
    "    \"avg_hours_worked\": hours_worked })\n",
    "hours_worked_df"
   ]
  },
  {
   "cell_type": "markdown",
   "metadata": {},
   "source": [
    "On remarque un taux plus élevé de démissions chez les gens qui travaillent le plus"
   ]
  },
  {
   "cell_type": "code",
   "execution_count": 811,
   "metadata": {},
   "outputs": [
    {
     "data": {
      "text/plain": [
       "<AxesSubplot:xlabel='avg_hours_worked', ylabel='Count'>"
      ]
     },
     "execution_count": 811,
     "metadata": {},
     "output_type": "execute_result"
    },
    {
     "data": {
      "image/png": "[encoded data removed]",
      "text/plain": [
       "<Figure size 432x288 with 1 Axes>"
      ]
     },
     "metadata": {
      "needs_background": "light"
     },
     "output_type": "display_data"
    }
   ],
   "source": [
    "general_time = general.merge(hours_worked_df, on=\"EmployeeID\")\n",
    "\n",
    "sns.histplot(data=general_time, x=\"avg_hours_worked\", hue=\"Attrition\", multiple=\"stack\", bins=20, kde=True)"
   ]
  },
  {
   "cell_type": "code",
   "execution_count": 812,
   "metadata": {},
   "outputs": [
    {
     "data": {
      "text/plain": [
       "133"
      ]
     },
     "execution_count": 812,
     "metadata": {},
     "output_type": "execute_result"
    }
   ],
   "source": [
    "general_badAll = general_time.merge(BadAll, on=\"EmployeeID\", copy=True)\n",
    "\n",
    "(general_badAll[\"Attrition\"] == 0).sum()"
   ]
  },
  {
   "attachments": {},
   "cell_type": "markdown",
   "metadata": {},
   "source": [
    "### Heure moyenne de départ"
   ]
  },
  {
   "cell_type": "code",
   "execution_count": 813,
   "metadata": {},
   "outputs": [],
   "source": [
    "out_timeAverage = out_time[out_time.columns[1:]].apply(pd.to_datetime)\n",
    "out_timeAverage = out_timeAverage.apply(lambda x: (x - x.dt.normalize()).dt.total_seconds() / 3600)\n",
    "out_timeAverage  = out_timeAverage.mean(axis=1)\n",
    "out_timeAverage = out_timeAverage.to_frame()\n",
    "out_timeAverage = out_timeAverage.assign(EmployeeID=range(1, len(out_timeAverage)+1))\n",
    "out_timeAverage = out_timeAverage.rename(columns={0: 'avg_out_time'})"
   ]
  },
  {
   "attachments": {},
   "cell_type": "markdown",
   "metadata": {},
   "source": [
    "### Heure moyenne d'arrivé"
   ]
  },
  {
   "cell_type": "code",
   "execution_count": 814,
   "metadata": {},
   "outputs": [],
   "source": [
    "in_timeAverage = in_time[in_time.columns[1:]].apply(pd.to_datetime)\n",
    "in_timeAverage = in_timeAverage.apply(lambda x: (x - x.dt.normalize()).dt.total_seconds() / 3600)\n",
    "in_timeAverage = in_timeAverage.mean(axis=1)\n",
    "in_timeAverage = in_timeAverage.to_frame()\n",
    "in_timeAverage = in_timeAverage.assign(EmployeeID=range(1, len(in_timeAverage)+1))\n",
    "in_timeAverage = in_timeAverage.rename(columns={0:'AverageStartTime'})"
   ]
  },
  {
   "attachments": {},
   "cell_type": "markdown",
   "metadata": {},
   "source": [
    "## Fusion des differents dataframes"
   ]
  },
  {
   "cell_type": "code",
   "execution_count": 815,
   "metadata": {},
   "outputs": [],
   "source": [
    "all_data = general.merge(manager_survey, on=\"EmployeeID\", copy=True)\n",
    "all_data = all_data.merge(employee_survey, on=\"EmployeeID\", copy=True)\n",
    "all_data = all_data.merge(hours_worked_df, on=\"EmployeeID\", copy=True)\n",
    "all_data = all_data.merge(out_timeAverage, on=\"EmployeeID\", copy=True)\n",
    "all_data = all_data.merge(in_timeAverage, on=\"EmployeeID\", copy=True)"
   ]
  },
  {
   "attachments": {},
   "cell_type": "markdown",
   "metadata": {},
   "source": [
    "## Data cleaning"
   ]
  },
  {
   "attachments": {},
   "cell_type": "markdown",
   "metadata": {},
   "source": [
    "On regarde si certaines données peuvent être supprimées "
   ]
  },
  {
   "cell_type": "code",
   "execution_count": 816,
   "metadata": {},
   "outputs": [
    {
     "name": "stdout",
     "output_type": "stream",
     "text": [
      "[   1    2    3 ... 4408 4409 4410]\n",
      "[1.]\n",
      "[8]\n"
     ]
    }
   ],
   "source": [
    "print(all_data[\"EmployeeID\"].unique())\n",
    "print(all_data[\"Over18\"].unique())\n",
    "print(all_data[\"StandardHours\"].unique())"
   ]
  },
  {
   "cell_type": "code",
   "execution_count": 817,
   "metadata": {},
   "outputs": [],
   "source": [
    "def dataCleaning(all_data, type):\n",
    "    if type == 1:\n",
    "        # drop useless columns\n",
    "        all_data.drop(\"EmployeeID\", axis=1, inplace=True)\n",
    "        all_data.drop(\"Over18\", axis=1, inplace=True)\n",
    "        all_data.drop(\"EmployeeCount\", axis=1, inplace=True)\n",
    "        all_data.drop(\"StandardHours\", axis=1, inplace=True)\n",
    "\n",
    "    if type == 2:\n",
    "        # drop unethical columns\n",
    "        all_data.drop(\"Male\", axis=1, inplace=True)\n",
    "        all_data.drop(\"Female\", axis=1, inplace=True)\n",
    "        all_data.drop(\"Single\", axis=1, inplace=True)\n",
    "        all_data.drop(\"Married\", axis=1, inplace=True)\n",
    "        all_data.drop(\"Divorced\", axis=1, inplace=True)\n",
    "        all_data.drop(\"Age\", axis=1, inplace=True)\n",
    "\n",
    "    return all_data\n",
    "\n",
    "all_data = dataCleaning(all_data,1)"
   ]
  },
  {
   "cell_type": "markdown",
   "metadata": {},
   "source": [
    "Lien entre age et temps travaillé"
   ]
  },
  {
   "cell_type": "code",
   "execution_count": 818,
   "metadata": {},
   "outputs": [],
   "source": [
    "all_data = dataCleaning(all_data,2)"
   ]
  },
  {
   "attachments": {},
   "cell_type": "markdown",
   "metadata": {},
   "source": [
    "## Gestion des valeurs manquantes"
   ]
  },
  {
   "cell_type": "code",
   "execution_count": 819,
   "metadata": {},
   "outputs": [],
   "source": [
    "def nullToMedian(all_data):\n",
    "    all_data[\"NumCompaniesWorked\"] = all_data[\"NumCompaniesWorked\"].replace(np.nan,median(all_data[\"NumCompaniesWorked\"]))\n",
    "    all_data[\"TotalWorkingYears\"] = all_data[\"TotalWorkingYears\"].replace(np.nan,median(all_data[\"TotalWorkingYears\"]))\n",
    "\n",
    "    all_data[\"EnvironmentSatisfaction\"] = all_data[\"EnvironmentSatisfaction\"].replace(np.nan,median(all_data[\"EnvironmentSatisfaction\"]))\n",
    "    all_data[\"JobSatisfaction\"] = all_data[\"JobSatisfaction\"].replace(np.nan,median(all_data[\"JobSatisfaction\"]))\n",
    "    all_data[\"WorkLifeBalance\"] = all_data[\"WorkLifeBalance\"].replace(np.nan,median(all_data[\"WorkLifeBalance\"]))\n",
    "    return all_data\n",
    "\n",
    "def nullToKnnImputer(all_data):\n",
    "    imputer = KNNImputer(n_neighbors=5)\n",
    "    all_data_imputed = pd.DataFrame(imputer.fit_transform(all_data), columns=all_data.columns)\n",
    "    return all_data_imputed\n",
    "\n",
    "all_data = nullToKnnImputer(all_data)"
   ]
  },
  {
   "attachments": {},
   "cell_type": "markdown",
   "metadata": {},
   "source": [
    "## Normalisation des données"
   ]
  },
  {
   "cell_type": "code",
   "execution_count": 820,
   "metadata": {},
   "outputs": [
    {
     "data": {
      "text/html": [
       "<div>\n",
       "<style scoped>\n",
       "    .dataframe tbody tr th:only-of-type {\n",
       "        vertical-align: middle;\n",
       "    }\n",
       "\n",
       "    .dataframe tbody tr th {\n",
       "        vertical-align: top;\n",
       "    }\n",
       "\n",
       "    .dataframe thead th {\n",
       "        text-align: right;\n",
       "    }\n",
       "</style>\n",
       "<table border=\"1\" class=\"dataframe\">\n",
       "  <thead>\n",
       "    <tr style=\"text-align: right;\">\n",
       "      <th></th>\n",
       "      <th>Attrition</th>\n",
       "      <th>BusinessTravel</th>\n",
       "      <th>DistanceFromHome</th>\n",
       "      <th>Education</th>\n",
       "      <th>JobLevel</th>\n",
       "      <th>MonthlyIncome</th>\n",
       "      <th>NumCompaniesWorked</th>\n",
       "      <th>PercentSalaryHike</th>\n",
       "      <th>StockOptionLevel</th>\n",
       "      <th>TotalWorkingYears</th>\n",
       "      <th>...</th>\n",
       "      <th>Job_Sales Executive</th>\n",
       "      <th>Job_Sales Representative</th>\n",
       "      <th>JobInvolvement</th>\n",
       "      <th>PerformanceRating</th>\n",
       "      <th>EnvironmentSatisfaction</th>\n",
       "      <th>JobSatisfaction</th>\n",
       "      <th>WorkLifeBalance</th>\n",
       "      <th>avg_hours_worked</th>\n",
       "      <th>avg_out_time</th>\n",
       "      <th>AverageStartTime</th>\n",
       "    </tr>\n",
       "  </thead>\n",
       "  <tbody>\n",
       "    <tr>\n",
       "      <th>0</th>\n",
       "      <td>0.0</td>\n",
       "      <td>0.5</td>\n",
       "      <td>0.178571</td>\n",
       "      <td>0.25</td>\n",
       "      <td>0.00</td>\n",
       "      <td>0.637546</td>\n",
       "      <td>0.111111</td>\n",
       "      <td>0.000000</td>\n",
       "      <td>0.000000</td>\n",
       "      <td>0.025</td>\n",
       "      <td>...</td>\n",
       "      <td>0.0</td>\n",
       "      <td>0.0</td>\n",
       "      <td>0.666667</td>\n",
       "      <td>0.0</td>\n",
       "      <td>0.666667</td>\n",
       "      <td>1.000000</td>\n",
       "      <td>0.333333</td>\n",
       "      <td>0.280179</td>\n",
       "      <td>0.278397</td>\n",
       "      <td>0.455440</td>\n",
       "    </tr>\n",
       "    <tr>\n",
       "      <th>1</th>\n",
       "      <td>1.0</td>\n",
       "      <td>1.0</td>\n",
       "      <td>0.321429</td>\n",
       "      <td>0.00</td>\n",
       "      <td>0.00</td>\n",
       "      <td>0.167457</td>\n",
       "      <td>0.000000</td>\n",
       "      <td>0.857143</td>\n",
       "      <td>0.333333</td>\n",
       "      <td>0.150</td>\n",
       "      <td>...</td>\n",
       "      <td>0.0</td>\n",
       "      <td>0.0</td>\n",
       "      <td>0.333333</td>\n",
       "      <td>1.0</td>\n",
       "      <td>0.666667</td>\n",
       "      <td>0.333333</td>\n",
       "      <td>1.000000</td>\n",
       "      <td>0.348247</td>\n",
       "      <td>0.343277</td>\n",
       "      <td>0.360231</td>\n",
       "    </tr>\n",
       "    <tr>\n",
       "      <th>2</th>\n",
       "      <td>0.0</td>\n",
       "      <td>1.0</td>\n",
       "      <td>0.571429</td>\n",
       "      <td>0.75</td>\n",
       "      <td>0.75</td>\n",
       "      <td>0.964666</td>\n",
       "      <td>0.111111</td>\n",
       "      <td>0.285714</td>\n",
       "      <td>1.000000</td>\n",
       "      <td>0.125</td>\n",
       "      <td>...</td>\n",
       "      <td>1.0</td>\n",
       "      <td>0.0</td>\n",
       "      <td>0.666667</td>\n",
       "      <td>0.0</td>\n",
       "      <td>0.333333</td>\n",
       "      <td>0.333333</td>\n",
       "      <td>0.000000</td>\n",
       "      <td>0.209497</td>\n",
       "      <td>0.212578</td>\n",
       "      <td>0.624032</td>\n",
       "    </tr>\n",
       "    <tr>\n",
       "      <th>3</th>\n",
       "      <td>0.0</td>\n",
       "      <td>0.0</td>\n",
       "      <td>0.035714</td>\n",
       "      <td>1.00</td>\n",
       "      <td>0.50</td>\n",
       "      <td>0.385045</td>\n",
       "      <td>0.333333</td>\n",
       "      <td>0.000000</td>\n",
       "      <td>1.000000</td>\n",
       "      <td>0.325</td>\n",
       "      <td>...</td>\n",
       "      <td>0.0</td>\n",
       "      <td>0.0</td>\n",
       "      <td>0.333333</td>\n",
       "      <td>0.0</td>\n",
       "      <td>1.000000</td>\n",
       "      <td>1.000000</td>\n",
       "      <td>0.666667</td>\n",
       "      <td>0.244839</td>\n",
       "      <td>0.239394</td>\n",
       "      <td>0.315702</td>\n",
       "    </tr>\n",
       "    <tr>\n",
       "      <th>4</th>\n",
       "      <td>0.0</td>\n",
       "      <td>0.5</td>\n",
       "      <td>0.321429</td>\n",
       "      <td>0.00</td>\n",
       "      <td>0.00</td>\n",
       "      <td>0.070195</td>\n",
       "      <td>0.444444</td>\n",
       "      <td>0.071429</td>\n",
       "      <td>0.666667</td>\n",
       "      <td>0.225</td>\n",
       "      <td>...</td>\n",
       "      <td>1.0</td>\n",
       "      <td>0.0</td>\n",
       "      <td>0.666667</td>\n",
       "      <td>0.0</td>\n",
       "      <td>1.000000</td>\n",
       "      <td>0.000000</td>\n",
       "      <td>0.666667</td>\n",
       "      <td>0.405016</td>\n",
       "      <td>0.401445</td>\n",
       "      <td>0.434548</td>\n",
       "    </tr>\n",
       "    <tr>\n",
       "      <th>...</th>\n",
       "      <td>...</td>\n",
       "      <td>...</td>\n",
       "      <td>...</td>\n",
       "      <td>...</td>\n",
       "      <td>...</td>\n",
       "      <td>...</td>\n",
       "      <td>...</td>\n",
       "      <td>...</td>\n",
       "      <td>...</td>\n",
       "      <td>...</td>\n",
       "      <td>...</td>\n",
       "      <td>...</td>\n",
       "      <td>...</td>\n",
       "      <td>...</td>\n",
       "      <td>...</td>\n",
       "      <td>...</td>\n",
       "      <td>...</td>\n",
       "      <td>...</td>\n",
       "      <td>...</td>\n",
       "      <td>...</td>\n",
       "      <td>...</td>\n",
       "    </tr>\n",
       "    <tr>\n",
       "      <th>4405</th>\n",
       "      <td>0.0</td>\n",
       "      <td>0.5</td>\n",
       "      <td>0.142857</td>\n",
       "      <td>0.75</td>\n",
       "      <td>0.00</td>\n",
       "      <td>0.264350</td>\n",
       "      <td>0.333333</td>\n",
       "      <td>0.428571</td>\n",
       "      <td>0.333333</td>\n",
       "      <td>0.250</td>\n",
       "      <td>...</td>\n",
       "      <td>0.0</td>\n",
       "      <td>0.0</td>\n",
       "      <td>0.666667</td>\n",
       "      <td>0.0</td>\n",
       "      <td>1.000000</td>\n",
       "      <td>0.000000</td>\n",
       "      <td>0.666667</td>\n",
       "      <td>0.506549</td>\n",
       "      <td>0.506475</td>\n",
       "      <td>0.586438</td>\n",
       "    </tr>\n",
       "    <tr>\n",
       "      <th>4406</th>\n",
       "      <td>0.0</td>\n",
       "      <td>0.5</td>\n",
       "      <td>0.035714</td>\n",
       "      <td>0.75</td>\n",
       "      <td>0.00</td>\n",
       "      <td>0.087941</td>\n",
       "      <td>0.222222</td>\n",
       "      <td>0.285714</td>\n",
       "      <td>0.000000</td>\n",
       "      <td>0.250</td>\n",
       "      <td>...</td>\n",
       "      <td>0.0</td>\n",
       "      <td>0.0</td>\n",
       "      <td>0.333333</td>\n",
       "      <td>0.0</td>\n",
       "      <td>1.000000</td>\n",
       "      <td>1.000000</td>\n",
       "      <td>0.666667</td>\n",
       "      <td>0.028336</td>\n",
       "      <td>0.028650</td>\n",
       "      <td>0.475596</td>\n",
       "    </tr>\n",
       "    <tr>\n",
       "      <th>4407</th>\n",
       "      <td>0.0</td>\n",
       "      <td>0.5</td>\n",
       "      <td>0.857143</td>\n",
       "      <td>0.25</td>\n",
       "      <td>0.25</td>\n",
       "      <td>0.141811</td>\n",
       "      <td>0.000000</td>\n",
       "      <td>0.642857</td>\n",
       "      <td>0.000000</td>\n",
       "      <td>0.125</td>\n",
       "      <td>...</td>\n",
       "      <td>1.0</td>\n",
       "      <td>0.0</td>\n",
       "      <td>0.666667</td>\n",
       "      <td>1.0</td>\n",
       "      <td>0.000000</td>\n",
       "      <td>0.666667</td>\n",
       "      <td>0.666667</td>\n",
       "      <td>0.345680</td>\n",
       "      <td>0.339283</td>\n",
       "      <td>0.302463</td>\n",
       "    </tr>\n",
       "    <tr>\n",
       "      <th>4408</th>\n",
       "      <td>0.0</td>\n",
       "      <td>0.5</td>\n",
       "      <td>0.607143</td>\n",
       "      <td>0.25</td>\n",
       "      <td>0.00</td>\n",
       "      <td>0.073144</td>\n",
       "      <td>0.000000</td>\n",
       "      <td>0.214286</td>\n",
       "      <td>0.333333</td>\n",
       "      <td>0.250</td>\n",
       "      <td>...</td>\n",
       "      <td>0.0</td>\n",
       "      <td>0.0</td>\n",
       "      <td>0.333333</td>\n",
       "      <td>0.0</td>\n",
       "      <td>1.000000</td>\n",
       "      <td>0.000000</td>\n",
       "      <td>0.666667</td>\n",
       "      <td>0.697477</td>\n",
       "      <td>0.695871</td>\n",
       "      <td>0.577572</td>\n",
       "    </tr>\n",
       "    <tr>\n",
       "      <th>4409</th>\n",
       "      <td>0.0</td>\n",
       "      <td>0.5</td>\n",
       "      <td>0.964286</td>\n",
       "      <td>0.50</td>\n",
       "      <td>0.25</td>\n",
       "      <td>0.234808</td>\n",
       "      <td>0.000000</td>\n",
       "      <td>0.071429</td>\n",
       "      <td>0.000000</td>\n",
       "      <td>0.415</td>\n",
       "      <td>...</td>\n",
       "      <td>0.0</td>\n",
       "      <td>0.0</td>\n",
       "      <td>1.000000</td>\n",
       "      <td>0.0</td>\n",
       "      <td>0.000000</td>\n",
       "      <td>0.666667</td>\n",
       "      <td>0.466667</td>\n",
       "      <td>0.204471</td>\n",
       "      <td>0.206401</td>\n",
       "      <td>0.571875</td>\n",
       "    </tr>\n",
       "  </tbody>\n",
       "</table>\n",
       "<p>4410 rows × 40 columns</p>\n",
       "</div>"
      ],
      "text/plain": [
       "      Attrition  BusinessTravel  DistanceFromHome  Education  JobLevel  \\\n",
       "0           0.0             0.5          0.178571       0.25      0.00   \n",
       "1           1.0             1.0          0.321429       0.00      0.00   \n",
       "2           0.0             1.0          0.571429       0.75      0.75   \n",
       "3           0.0             0.0          0.035714       1.00      0.50   \n",
       "4           0.0             0.5          0.321429       0.00      0.00   \n",
       "...         ...             ...               ...        ...       ...   \n",
       "4405        0.0             0.5          0.142857       0.75      0.00   \n",
       "4406        0.0             0.5          0.035714       0.75      0.00   \n",
       "4407        0.0             0.5          0.857143       0.25      0.25   \n",
       "4408        0.0             0.5          0.607143       0.25      0.00   \n",
       "4409        0.0             0.5          0.964286       0.50      0.25   \n",
       "\n",
       "      MonthlyIncome  NumCompaniesWorked  PercentSalaryHike  StockOptionLevel  \\\n",
       "0          0.637546            0.111111           0.000000          0.000000   \n",
       "1          0.167457            0.000000           0.857143          0.333333   \n",
       "2          0.964666            0.111111           0.285714          1.000000   \n",
       "3          0.385045            0.333333           0.000000          1.000000   \n",
       "4          0.070195            0.444444           0.071429          0.666667   \n",
       "...             ...                 ...                ...               ...   \n",
       "4405       0.264350            0.333333           0.428571          0.333333   \n",
       "4406       0.087941            0.222222           0.285714          0.000000   \n",
       "4407       0.141811            0.000000           0.642857          0.000000   \n",
       "4408       0.073144            0.000000           0.214286          0.333333   \n",
       "4409       0.234808            0.000000           0.071429          0.000000   \n",
       "\n",
       "      TotalWorkingYears  ...  Job_Sales Executive  Job_Sales Representative  \\\n",
       "0                 0.025  ...                  0.0                       0.0   \n",
       "1                 0.150  ...                  0.0                       0.0   \n",
       "2                 0.125  ...                  1.0                       0.0   \n",
       "3                 0.325  ...                  0.0                       0.0   \n",
       "4                 0.225  ...                  1.0                       0.0   \n",
       "...                 ...  ...                  ...                       ...   \n",
       "4405              0.250  ...                  0.0                       0.0   \n",
       "4406              0.250  ...                  0.0                       0.0   \n",
       "4407              0.125  ...                  1.0                       0.0   \n",
       "4408              0.250  ...                  0.0                       0.0   \n",
       "4409              0.415  ...                  0.0                       0.0   \n",
       "\n",
       "      JobInvolvement  PerformanceRating  EnvironmentSatisfaction  \\\n",
       "0           0.666667                0.0                 0.666667   \n",
       "1           0.333333                1.0                 0.666667   \n",
       "2           0.666667                0.0                 0.333333   \n",
       "3           0.333333                0.0                 1.000000   \n",
       "4           0.666667                0.0                 1.000000   \n",
       "...              ...                ...                      ...   \n",
       "4405        0.666667                0.0                 1.000000   \n",
       "4406        0.333333                0.0                 1.000000   \n",
       "4407        0.666667                1.0                 0.000000   \n",
       "4408        0.333333                0.0                 1.000000   \n",
       "4409        1.000000                0.0                 0.000000   \n",
       "\n",
       "      JobSatisfaction  WorkLifeBalance  avg_hours_worked  avg_out_time  \\\n",
       "0            1.000000         0.333333          0.280179      0.278397   \n",
       "1            0.333333         1.000000          0.348247      0.343277   \n",
       "2            0.333333         0.000000          0.209497      0.212578   \n",
       "3            1.000000         0.666667          0.244839      0.239394   \n",
       "4            0.000000         0.666667          0.405016      0.401445   \n",
       "...               ...              ...               ...           ...   \n",
       "4405         0.000000         0.666667          0.506549      0.506475   \n",
       "4406         1.000000         0.666667          0.028336      0.028650   \n",
       "4407         0.666667         0.666667          0.345680      0.339283   \n",
       "4408         0.000000         0.666667          0.697477      0.695871   \n",
       "4409         0.666667         0.466667          0.204471      0.206401   \n",
       "\n",
       "      AverageStartTime  \n",
       "0             0.455440  \n",
       "1             0.360231  \n",
       "2             0.624032  \n",
       "3             0.315702  \n",
       "4             0.434548  \n",
       "...                ...  \n",
       "4405          0.586438  \n",
       "4406          0.475596  \n",
       "4407          0.302463  \n",
       "4408          0.577572  \n",
       "4409          0.571875  \n",
       "\n",
       "[4410 rows x 40 columns]"
      ]
     },
     "execution_count": 820,
     "metadata": {},
     "output_type": "execute_result"
    }
   ],
   "source": [
    "min_max_scaler = lambda x: (x-x.min()) / (x.max()-x.min())\n",
    "all_data = all_data.apply(min_max_scaler)\n",
    "all_data"
   ]
  },
  {
   "attachments": {},
   "cell_type": "markdown",
   "metadata": {},
   "source": [
    "## Selection des caractéristiques et split de nos données"
   ]
  },
  {
   "attachments": {},
   "cell_type": "markdown",
   "metadata": {},
   "source": [
    "Le test du khi2 permet d'identifier les caractéristiques les plus pertinentes pour un modèle en évaluant leur indépendance par rapport à la variable cible."
   ]
  },
  {
   "cell_type": "code",
   "execution_count": 821,
   "metadata": {},
   "outputs": [],
   "source": [
    "# Préparer les données\n",
    "y = all_data[\"Attrition\"]\n",
    "X = all_data.drop(columns=[\"Attrition\"])\n",
    "\n",
    "# Diviser les données en ensembles d'entraînement et de test\n",
    "x_train, x_test, y_train, y_test = train_test_split(X, y, test_size=0.15, random_state=42, stratify=y)"
   ]
  },
  {
   "cell_type": "code",
   "execution_count": 822,
   "metadata": {},
   "outputs": [],
   "source": [
    "# Sélection des caractéristiques avec le test du khi2\n",
    "k_best = SelectKBest(chi2, k=\"all\")  # Utilisez un nombre approprié pour 'k' en fonction de vos données\n",
    "X_train_kbest = k_best.fit_transform(x_train, y_train)\n",
    "X_test_kbest = k_best.transform(x_test)"
   ]
  },
  {
   "cell_type": "code",
   "execution_count": 823,
   "metadata": {},
   "outputs": [],
   "source": [
    "# Choisir un modèle (ici, nous utilisons la régression logistique)\n",
    "model = LogisticRegression()\n",
    "\n",
    "# Liste pour stocker les scores de validation croisée\n",
    "cv_scores = []"
   ]
  },
  {
   "cell_type": "code",
   "execution_count": 824,
   "metadata": {},
   "outputs": [
    {
     "name": "stdout",
     "output_type": "stream",
     "text": [
      "La meilleure valeur de k est 37\n"
     ]
    }
   ],
   "source": [
    "max_features = x_train.shape[1]\n",
    "\n",
    "# Boucle sur différentes valeurs de k\n",
    "for k in range(1, max_features + 1):\n",
    "    # Sélection des k meilleures caractéristiques\n",
    "    k_best = SelectKBest(chi2, k=k)\n",
    "    X_train_kbest = k_best.fit_transform(x_train, y_train)\n",
    "    \n",
    "    # Évaluation du modèle avec validation croisée k-fold (k = 5)\n",
    "    scores = cross_val_score(model, X_train_kbest, y_train, cv=5)\n",
    "    mean_score = np.mean(scores)\n",
    "    cv_scores.append(mean_score)\n",
    "\n",
    "# Trouver la valeur de k avec la meilleure performance\n",
    "best_k = np.argmax(cv_scores) + 1\n",
    "print(f\"La meilleure valeur de k est {best_k}\")"
   ]
  },
  {
   "attachments": {},
   "cell_type": "markdown",
   "metadata": {},
   "source": [
    "Nous avons donc déterminé que la valeur optimale de k est 21, nous garderons donc les 21 caractéristiques les plus importantes. Déterminons maintenant nos données finales à utiliser dans nos modèles."
   ]
  },
  {
   "cell_type": "code",
   "execution_count": 825,
   "metadata": {},
   "outputs": [],
   "source": [
    "# Sélection des caractéristiques avec le test du khi2\n",
    "k_best = SelectKBest(chi2, k=best_k)\n",
    "X_train_kbest = k_best.fit_transform(x_train, y_train)\n",
    "X_test_kbest = k_best.transform(x_test)\n",
    "\n",
    "# Récupérer les noms de colonnes sélectionnés\n",
    "selected_features = x_train.columns[k_best.get_support()]"
   ]
  },
  {
   "cell_type": "code",
   "execution_count": 826,
   "metadata": {},
   "outputs": [],
   "source": [
    "# Convertir les tableaux NumPy en DataFrames pandas avec les noms de colonnes appropriés\n",
    "x_train = pd.DataFrame(X_train_kbest, columns=selected_features)\n",
    "x_test = pd.DataFrame(X_test_kbest, columns=selected_features)"
   ]
  },
  {
   "attachments": {},
   "cell_type": "markdown",
   "metadata": {},
   "source": [
    "# Analyse et relation entre nos données"
   ]
  },
  {
   "cell_type": "code",
   "execution_count": 827,
   "metadata": {},
   "outputs": [
    {
     "data": {
      "text/plain": [
       "<AxesSubplot:>"
      ]
     },
     "execution_count": 827,
     "metadata": {},
     "output_type": "execute_result"
    },
    {
     "data": {
      "image/png": "[encoded data removed]",
      "text/plain": [
       "<Figure size 1080x720 with 2 Axes>"
      ]
     },
     "metadata": {
      "needs_background": "light"
     },
     "output_type": "display_data"
    }
   ],
   "source": [
    "plt.figure(figsize=(15, 10))\n",
    "sns.heatmap(all_data.corr())"
   ]
  },
  {
   "cell_type": "code",
   "execution_count": 828,
   "metadata": {},
   "outputs": [
    {
     "data": {
      "text/plain": [
       "<AxesSubplot:>"
      ]
     },
     "execution_count": 828,
     "metadata": {},
     "output_type": "execute_result"
    },
    {
     "data": {
      "image/png": "[encoded data removed]",
      "text/plain": [
       "<Figure size 216x720 with 2 Axes>"
      ]
     },
     "metadata": {
      "needs_background": "light"
     },
     "output_type": "display_data"
    }
   ],
   "source": [
    "plt.figure(figsize=(3, 10))\n",
    "all_data_corr = all_data.corr()\n",
    "sns.heatmap(all_data_corr[['Attrition']].sort_values(by=['Attrition'],ascending=False), vmin=-1, vmax=1, annot=True)"
   ]
  },
  {
   "attachments": {},
   "cell_type": "markdown",
   "metadata": {},
   "source": [
    "# Test des différents modèles"
   ]
  },
  {
   "cell_type": "code",
   "execution_count": 829,
   "metadata": {},
   "outputs": [],
   "source": [
    "def score(y_test, y_pred):\n",
    "    print(\"Accuracy:\", accuracy_score(y_test, y_pred))\n",
    "    print(\"F1 score:\", f1_score(y_test, y_pred))\n",
    "    print(\"Precision:\", precision_score(y_test, y_pred))\n",
    "    print(\"Recall:\", recall_score(y_test, y_pred))\n",
    "    print(\"ROC AUC score:\", roc_auc_score(y_test, y_pred))\n",
    "\n",
    "    fpr, tpr, _ = roc_curve(y_test, y_pred)\n",
    "    roc_display = RocCurveDisplay(fpr=fpr, tpr=tpr, roc_auc=roc_auc_score(y_test, y_pred))\n",
    "    roc_display.plot()\n",
    "    plt.show()"
   ]
  },
  {
   "cell_type": "markdown",
   "metadata": {},
   "source": [
    "## Choix des hyperparamètres"
   ]
  },
  {
   "cell_type": "markdown",
   "metadata": {
    "tags": []
   },
   "source": [
    "### DecisionTreeClassifier"
   ]
  },
  {
   "cell_type": "markdown",
   "metadata": {},
   "source": [
    "Pour le DecisionTreeClassifier nous allons utiliser GridSearch afin de trouver les meilleurs hyperparamètres"
   ]
  },
  {
   "cell_type": "code",
   "execution_count": 830,
   "metadata": {},
   "outputs": [],
   "source": [
    "pipeline_dtc = Pipeline(steps=[\n",
    "    ('classifier', DecisionTreeClassifier())\n",
    "])"
   ]
  },
  {
   "cell_type": "code",
   "execution_count": 831,
   "metadata": {},
   "outputs": [],
   "source": [
    "criterion = ['gini', 'entropy']\n",
    "max_depth = [16,18,20,21,22,23,24,30]\n",
    "splitter = ['best','random']\n",
    "\n",
    "\n",
    "parameters_dtc = dict(classifier__criterion=criterion,\n",
    "                  classifier__max_depth=max_depth,\n",
    "                  classifier__splitter=splitter)\n"
   ]
  },
  {
   "cell_type": "code",
   "execution_count": 832,
   "metadata": {},
   "outputs": [
    {
     "data": {
      "text/plain": [
       "{'classifier__criterion': 'gini',\n",
       " 'classifier__max_depth': 30,\n",
       " 'classifier__splitter': 'random'}"
      ]
     },
     "execution_count": 832,
     "metadata": {},
     "output_type": "execute_result"
    }
   ],
   "source": [
    "dtc_GS = GridSearchCV(pipeline_dtc, parameters_dtc, cv=7)\n",
    "dtc_GS.fit(x_train, y_train)\n",
    "\n",
    "dtc_GS.best_params_"
   ]
  },
  {
   "cell_type": "code",
   "execution_count": 833,
   "metadata": {},
   "outputs": [
    {
     "data": {
      "text/html": [
       "<div>\n",
       "<style scoped>\n",
       "    .dataframe tbody tr th:only-of-type {\n",
       "        vertical-align: middle;\n",
       "    }\n",
       "\n",
       "    .dataframe tbody tr th {\n",
       "        vertical-align: top;\n",
       "    }\n",
       "\n",
       "    .dataframe thead th {\n",
       "        text-align: right;\n",
       "    }\n",
       "</style>\n",
       "<table border=\"1\" class=\"dataframe\">\n",
       "  <thead>\n",
       "    <tr style=\"text-align: right;\">\n",
       "      <th></th>\n",
       "      <th>mean_fit_time</th>\n",
       "      <th>std_fit_time</th>\n",
       "      <th>mean_score_time</th>\n",
       "      <th>std_score_time</th>\n",
       "      <th>param_classifier__criterion</th>\n",
       "      <th>param_classifier__max_depth</th>\n",
       "      <th>param_classifier__splitter</th>\n",
       "      <th>params</th>\n",
       "      <th>split0_test_score</th>\n",
       "      <th>split1_test_score</th>\n",
       "      <th>split2_test_score</th>\n",
       "      <th>split3_test_score</th>\n",
       "      <th>split4_test_score</th>\n",
       "      <th>split5_test_score</th>\n",
       "      <th>split6_test_score</th>\n",
       "      <th>mean_test_score</th>\n",
       "      <th>std_test_score</th>\n",
       "      <th>rank_test_score</th>\n",
       "    </tr>\n",
       "  </thead>\n",
       "  <tbody>\n",
       "    <tr>\n",
       "      <th>15</th>\n",
       "      <td>0.009478</td>\n",
       "      <td>0.000780</td>\n",
       "      <td>0.001569</td>\n",
       "      <td>0.000495</td>\n",
       "      <td>gini</td>\n",
       "      <td>30</td>\n",
       "      <td>random</td>\n",
       "      <td>{'classifier__criterion': 'gini', 'classifier_...</td>\n",
       "      <td>0.973881</td>\n",
       "      <td>0.983209</td>\n",
       "      <td>0.972015</td>\n",
       "      <td>0.977570</td>\n",
       "      <td>0.990654</td>\n",
       "      <td>0.985047</td>\n",
       "      <td>0.986916</td>\n",
       "      <td>0.981327</td>\n",
       "      <td>0.006457</td>\n",
       "      <td>1</td>\n",
       "    </tr>\n",
       "    <tr>\n",
       "      <th>5</th>\n",
       "      <td>0.009497</td>\n",
       "      <td>0.000418</td>\n",
       "      <td>0.001385</td>\n",
       "      <td>0.000460</td>\n",
       "      <td>gini</td>\n",
       "      <td>20</td>\n",
       "      <td>random</td>\n",
       "      <td>{'classifier__criterion': 'gini', 'classifier_...</td>\n",
       "      <td>0.975746</td>\n",
       "      <td>0.964552</td>\n",
       "      <td>0.988806</td>\n",
       "      <td>0.983178</td>\n",
       "      <td>0.983178</td>\n",
       "      <td>0.990654</td>\n",
       "      <td>0.979439</td>\n",
       "      <td>0.980793</td>\n",
       "      <td>0.008141</td>\n",
       "      <td>2</td>\n",
       "    </tr>\n",
       "    <tr>\n",
       "      <th>1</th>\n",
       "      <td>0.009265</td>\n",
       "      <td>0.000619</td>\n",
       "      <td>0.001423</td>\n",
       "      <td>0.000493</td>\n",
       "      <td>gini</td>\n",
       "      <td>16</td>\n",
       "      <td>random</td>\n",
       "      <td>{'classifier__criterion': 'gini', 'classifier_...</td>\n",
       "      <td>0.962687</td>\n",
       "      <td>0.979478</td>\n",
       "      <td>0.979478</td>\n",
       "      <td>0.966355</td>\n",
       "      <td>0.988785</td>\n",
       "      <td>0.983178</td>\n",
       "      <td>0.985047</td>\n",
       "      <td>0.977858</td>\n",
       "      <td>0.009001</td>\n",
       "      <td>3</td>\n",
       "    </tr>\n",
       "    <tr>\n",
       "      <th>23</th>\n",
       "      <td>0.009951</td>\n",
       "      <td>0.000768</td>\n",
       "      <td>0.001951</td>\n",
       "      <td>0.000112</td>\n",
       "      <td>entropy</td>\n",
       "      <td>21</td>\n",
       "      <td>random</td>\n",
       "      <td>{'classifier__criterion': 'entropy', 'classifi...</td>\n",
       "      <td>0.975746</td>\n",
       "      <td>0.972015</td>\n",
       "      <td>0.983209</td>\n",
       "      <td>0.966355</td>\n",
       "      <td>0.986916</td>\n",
       "      <td>0.977570</td>\n",
       "      <td>0.981308</td>\n",
       "      <td>0.977589</td>\n",
       "      <td>0.006471</td>\n",
       "      <td>4</td>\n",
       "    </tr>\n",
       "    <tr>\n",
       "      <th>29</th>\n",
       "      <td>0.009983</td>\n",
       "      <td>0.000535</td>\n",
       "      <td>0.001706</td>\n",
       "      <td>0.000458</td>\n",
       "      <td>entropy</td>\n",
       "      <td>24</td>\n",
       "      <td>random</td>\n",
       "      <td>{'classifier__criterion': 'entropy', 'classifi...</td>\n",
       "      <td>0.962687</td>\n",
       "      <td>0.981343</td>\n",
       "      <td>0.972015</td>\n",
       "      <td>0.964486</td>\n",
       "      <td>0.986916</td>\n",
       "      <td>0.979439</td>\n",
       "      <td>0.985047</td>\n",
       "      <td>0.975990</td>\n",
       "      <td>0.009001</td>\n",
       "      <td>5</td>\n",
       "    </tr>\n",
       "  </tbody>\n",
       "</table>\n",
       "</div>"
      ],
      "text/plain": [
       "    mean_fit_time  std_fit_time  mean_score_time  std_score_time  \\\n",
       "15       0.009478      0.000780         0.001569        0.000495   \n",
       "5        0.009497      0.000418         0.001385        0.000460   \n",
       "1        0.009265      0.000619         0.001423        0.000493   \n",
       "23       0.009951      0.000768         0.001951        0.000112   \n",
       "29       0.009983      0.000535         0.001706        0.000458   \n",
       "\n",
       "   param_classifier__criterion param_classifier__max_depth  \\\n",
       "15                        gini                          30   \n",
       "5                         gini                          20   \n",
       "1                         gini                          16   \n",
       "23                     entropy                          21   \n",
       "29                     entropy                          24   \n",
       "\n",
       "   param_classifier__splitter  \\\n",
       "15                     random   \n",
       "5                      random   \n",
       "1                      random   \n",
       "23                     random   \n",
       "29                     random   \n",
       "\n",
       "                                               params  split0_test_score  \\\n",
       "15  {'classifier__criterion': 'gini', 'classifier_...           0.973881   \n",
       "5   {'classifier__criterion': 'gini', 'classifier_...           0.975746   \n",
       "1   {'classifier__criterion': 'gini', 'classifier_...           0.962687   \n",
       "23  {'classifier__criterion': 'entropy', 'classifi...           0.975746   \n",
       "29  {'classifier__criterion': 'entropy', 'classifi...           0.962687   \n",
       "\n",
       "    split1_test_score  split2_test_score  split3_test_score  \\\n",
       "15           0.983209           0.972015           0.977570   \n",
       "5            0.964552           0.988806           0.983178   \n",
       "1            0.979478           0.979478           0.966355   \n",
       "23           0.972015           0.983209           0.966355   \n",
       "29           0.981343           0.972015           0.964486   \n",
       "\n",
       "    split4_test_score  split5_test_score  split6_test_score  mean_test_score  \\\n",
       "15           0.990654           0.985047           0.986916         0.981327   \n",
       "5            0.983178           0.990654           0.979439         0.980793   \n",
       "1            0.988785           0.983178           0.985047         0.977858   \n",
       "23           0.986916           0.977570           0.981308         0.977589   \n",
       "29           0.986916           0.979439           0.985047         0.975990   \n",
       "\n",
       "    std_test_score  rank_test_score  \n",
       "15        0.006457                1  \n",
       "5         0.008141                2  \n",
       "1         0.009001                3  \n",
       "23        0.006471                4  \n",
       "29        0.009001                5  "
      ]
     },
     "execution_count": 833,
     "metadata": {},
     "output_type": "execute_result"
    }
   ],
   "source": [
    "pd.DataFrame.from_dict(dtc_GS.cv_results_).sort_values(by=['rank_test_score']).head(5)"
   ]
  },
  {
   "cell_type": "code",
   "execution_count": 834,
   "metadata": {},
   "outputs": [
    {
     "name": "stdout",
     "output_type": "stream",
     "text": [
      "Accuracy: 0.9879154078549849\n",
      "F1 score: 0.9626168224299065\n",
      "Precision: 0.9626168224299065\n",
      "Recall: 0.9626168224299065\n",
      "ROC AUC score: 0.9777048076113496\n"
     ]
    },
    {
     "data": {
      "image/png": "[encoded data removed]",
      "text/plain": [
       "<Figure size 432x288 with 1 Axes>"
      ]
     },
     "metadata": {
      "needs_background": "light"
     },
     "output_type": "display_data"
    }
   ],
   "source": [
    "dtc = DecisionTreeClassifier(criterion = dtc_GS.best_params_['classifier__criterion'], max_depth = dtc_GS.best_params_['classifier__max_depth'], splitter = dtc_GS.best_params_['classifier__splitter'])\n",
    "\n",
    "dtc.fit(x_train, y_train)\n",
    "\n",
    "y_pred_dtc = dtc.predict(x_test)\n",
    "\n",
    "score(y_test, y_pred_dtc)"
   ]
  },
  {
   "cell_type": "markdown",
   "metadata": {},
   "source": [
    "Après plusieurs tests, on ressort qu'une max_depth de 22 et un criterion en entropy est le meilleur model que l'on peu avoir"
   ]
  },
  {
   "cell_type": "code",
   "execution_count": 835,
   "metadata": {},
   "outputs": [
    {
     "data": {
      "image/png": "[encoded data removed]",
      "text/plain": [
       "<Figure size 432x288 with 2 Axes>"
      ]
     },
     "metadata": {
      "needs_background": "light"
     },
     "output_type": "display_data"
    }
   ],
   "source": [
    "dtc_cm = confusion_matrix(y_test, y_pred_dtc)\n",
    "dtc_cmd = ConfusionMatrixDisplay(confusion_matrix=dtc_cm,\n",
    "                       display_labels=[0,1])\n",
    "\n",
    "dtc_cmd.plot()\n",
    "plt.show()\n"
   ]
  },
  {
   "cell_type": "markdown",
   "metadata": {},
   "source": [
    "### HistGradientBoostingClassifier"
   ]
  },
  {
   "cell_type": "code",
   "execution_count": 836,
   "metadata": {},
   "outputs": [],
   "source": [
    "pipeline_hgbc = Pipeline(steps=[\n",
    "    ('classifier', HistGradientBoostingClassifier())\n",
    "])"
   ]
  },
  {
   "cell_type": "code",
   "execution_count": 837,
   "metadata": {},
   "outputs": [],
   "source": [
    "learning_rate = [0.1,0.2,0.3]\n",
    "max_depth = [10,15,20,30]\n",
    "loss = ['log_loss']\n",
    "max_iter = [10,20,50,100,200]\n",
    "\n",
    "parameters_hgbc = dict(classifier__learning_rate=learning_rate,\n",
    "                  classifier__max_depth=max_depth,\n",
    "                  classifier__loss=loss,\n",
    "                  classifier__max_iter=max_iter\n",
    "                  )"
   ]
  },
  {
   "cell_type": "code",
   "execution_count": 838,
   "metadata": {},
   "outputs": [
    {
     "data": {
      "text/html": [
       "<style>#sk-container-id-9 {color: black;background-color: white;}#sk-container-id-9 pre{padding: 0;}#sk-container-id-9 div.sk-toggleable {background-color: white;}#sk-container-id-9 label.sk-toggleable__label {cursor: pointer;display: block;width: 100%;margin-bottom: 0;padding: 0.3em;box-sizing: border-box;text-align: center;}#sk-container-id-9 label.sk-toggleable__label-arrow:before {content: \"▸\";float: left;margin-right: 0.25em;color: #696969;}#sk-container-id-9 label.sk-toggleable__label-arrow:hover:before {color: black;}#sk-container-id-9 div.sk-estimator:hover label.sk-toggleable__label-arrow:before {color: black;}#sk-container-id-9 div.sk-toggleable__content {max-height: 0;max-width: 0;overflow: hidden;text-align: left;background-color: #f0f8ff;}#sk-container-id-9 div.sk-toggleable__content pre {margin: 0.2em;color: black;border-radius: 0.25em;background-color: #f0f8ff;}#sk-container-id-9 input.sk-toggleable__control:checked~div.sk-toggleable__content {max-height: 200px;max-width: 100%;overflow: auto;}#sk-container-id-9 input.sk-toggleable__control:checked~label.sk-toggleable__label-arrow:before {content: \"▾\";}#sk-container-id-9 div.sk-estimator input.sk-toggleable__control:checked~label.sk-toggleable__label {background-color: #d4ebff;}#sk-container-id-9 div.sk-label input.sk-toggleable__control:checked~label.sk-toggleable__label {background-color: #d4ebff;}#sk-container-id-9 input.sk-hidden--visually {border: 0;clip: rect(1px 1px 1px 1px);clip: rect(1px, 1px, 1px, 1px);height: 1px;margin: -1px;overflow: hidden;padding: 0;position: absolute;width: 1px;}#sk-container-id-9 div.sk-estimator {font-family: monospace;background-color: #f0f8ff;border: 1px dotted black;border-radius: 0.25em;box-sizing: border-box;margin-bottom: 0.5em;}#sk-container-id-9 div.sk-estimator:hover {background-color: #d4ebff;}#sk-container-id-9 div.sk-parallel-item::after {content: \"\";width: 100%;border-bottom: 1px solid gray;flex-grow: 1;}#sk-container-id-9 div.sk-label:hover label.sk-toggleable__label {background-color: #d4ebff;}#sk-container-id-9 div.sk-serial::before {content: \"\";position: absolute;border-left: 1px solid gray;box-sizing: border-box;top: 0;bottom: 0;left: 50%;z-index: 0;}#sk-container-id-9 div.sk-serial {display: flex;flex-direction: column;align-items: center;background-color: white;padding-right: 0.2em;padding-left: 0.2em;position: relative;}#sk-container-id-9 div.sk-item {position: relative;z-index: 1;}#sk-container-id-9 div.sk-parallel {display: flex;align-items: stretch;justify-content: center;background-color: white;position: relative;}#sk-container-id-9 div.sk-item::before, #sk-container-id-9 div.sk-parallel-item::before {content: \"\";position: absolute;border-left: 1px solid gray;box-sizing: border-box;top: 0;bottom: 0;left: 50%;z-index: -1;}#sk-container-id-9 div.sk-parallel-item {display: flex;flex-direction: column;z-index: 1;position: relative;background-color: white;}#sk-container-id-9 div.sk-parallel-item:first-child::after {align-self: flex-end;width: 50%;}#sk-container-id-9 div.sk-parallel-item:last-child::after {align-self: flex-start;width: 50%;}#sk-container-id-9 div.sk-parallel-item:only-child::after {width: 0;}#sk-container-id-9 div.sk-dashed-wrapped {border: 1px dashed gray;margin: 0 0.4em 0.5em 0.4em;box-sizing: border-box;padding-bottom: 0.4em;background-color: white;}#sk-container-id-9 div.sk-label label {font-family: monospace;font-weight: bold;display: inline-block;line-height: 1.2em;}#sk-container-id-9 div.sk-label-container {text-align: center;}#sk-container-id-9 div.sk-container {/* jupyter's `normalize.less` sets `[hidden] { display: none; }` but bootstrap.min.css set `[hidden] { display: none !important; }` so we also need the `!important` here to be able to override the default hidden behavior on the sphinx rendered scikit-learn.org. See: https://github.com/scikit-learn/scikit-learn/issues/21755 */display: inline-block !important;position: relative;}#sk-container-id-9 div.sk-text-repr-fallback {display: none;}</style><div id=\"sk-container-id-9\" class=\"sk-top-container\"><div class=\"sk-text-repr-fallback\"><pre>GridSearchCV(estimator=Pipeline(steps=[(&#x27;classifier&#x27;,\n",
       "                                        HistGradientBoostingClassifier())]),\n",
       "             param_grid={&#x27;classifier__learning_rate&#x27;: [0.1, 0.2, 0.3],\n",
       "                         &#x27;classifier__loss&#x27;: [&#x27;log_loss&#x27;],\n",
       "                         &#x27;classifier__max_depth&#x27;: [10, 15, 20, 30],\n",
       "                         &#x27;classifier__max_iter&#x27;: [10, 20, 50, 100, 200]})</pre><b>In a Jupyter environment, please rerun this cell to show the HTML representation or trust the notebook. <br />On GitHub, the HTML representation is unable to render, please try loading this page with nbviewer.org.</b></div><div class=\"sk-container\" hidden><div class=\"sk-item sk-dashed-wrapped\"><div class=\"sk-label-container\"><div class=\"sk-label sk-toggleable\"><input class=\"sk-toggleable__control sk-hidden--visually\" id=\"sk-estimator-id-25\" type=\"checkbox\" ><label for=\"sk-estimator-id-25\" class=\"sk-toggleable__label sk-toggleable__label-arrow\">GridSearchCV</label><div class=\"sk-toggleable__content\"><pre>GridSearchCV(estimator=Pipeline(steps=[(&#x27;classifier&#x27;,\n",
       "                                        HistGradientBoostingClassifier())]),\n",
       "             param_grid={&#x27;classifier__learning_rate&#x27;: [0.1, 0.2, 0.3],\n",
       "                         &#x27;classifier__loss&#x27;: [&#x27;log_loss&#x27;],\n",
       "                         &#x27;classifier__max_depth&#x27;: [10, 15, 20, 30],\n",
       "                         &#x27;classifier__max_iter&#x27;: [10, 20, 50, 100, 200]})</pre></div></div></div><div class=\"sk-parallel\"><div class=\"sk-parallel-item\"><div class=\"sk-item\"><div class=\"sk-label-container\"><div class=\"sk-label sk-toggleable\"><input class=\"sk-toggleable__control sk-hidden--visually\" id=\"sk-estimator-id-26\" type=\"checkbox\" ><label for=\"sk-estimator-id-26\" class=\"sk-toggleable__label sk-toggleable__label-arrow\">estimator: Pipeline</label><div class=\"sk-toggleable__content\"><pre>Pipeline(steps=[(&#x27;classifier&#x27;, HistGradientBoostingClassifier())])</pre></div></div></div><div class=\"sk-serial\"><div class=\"sk-item\"><div class=\"sk-serial\"><div class=\"sk-item\"><div class=\"sk-estimator sk-toggleable\"><input class=\"sk-toggleable__control sk-hidden--visually\" id=\"sk-estimator-id-27\" type=\"checkbox\" ><label for=\"sk-estimator-id-27\" class=\"sk-toggleable__label sk-toggleable__label-arrow\">HistGradientBoostingClassifier</label><div class=\"sk-toggleable__content\"><pre>HistGradientBoostingClassifier()</pre></div></div></div></div></div></div></div></div></div></div></div></div>"
      ],
      "text/plain": [
       "GridSearchCV(estimator=Pipeline(steps=[('classifier',\n",
       "                                        HistGradientBoostingClassifier())]),\n",
       "             param_grid={'classifier__learning_rate': [0.1, 0.2, 0.3],\n",
       "                         'classifier__loss': ['log_loss'],\n",
       "                         'classifier__max_depth': [10, 15, 20, 30],\n",
       "                         'classifier__max_iter': [10, 20, 50, 100, 200]})"
      ]
     },
     "execution_count": 838,
     "metadata": {},
     "output_type": "execute_result"
    }
   ],
   "source": [
    "hgbc_GS = GridSearchCV(pipeline_hgbc, parameters_hgbc)\n",
    "hgbc_GS.fit(x_train, y_train)"
   ]
  },
  {
   "cell_type": "code",
   "execution_count": 839,
   "metadata": {},
   "outputs": [
    {
     "data": {
      "text/html": [
       "<div>\n",
       "<style scoped>\n",
       "    .dataframe tbody tr th:only-of-type {\n",
       "        vertical-align: middle;\n",
       "    }\n",
       "\n",
       "    .dataframe tbody tr th {\n",
       "        vertical-align: top;\n",
       "    }\n",
       "\n",
       "    .dataframe thead th {\n",
       "        text-align: right;\n",
       "    }\n",
       "</style>\n",
       "<table border=\"1\" class=\"dataframe\">\n",
       "  <thead>\n",
       "    <tr style=\"text-align: right;\">\n",
       "      <th></th>\n",
       "      <th>mean_fit_time</th>\n",
       "      <th>std_fit_time</th>\n",
       "      <th>mean_score_time</th>\n",
       "      <th>std_score_time</th>\n",
       "      <th>param_classifier__learning_rate</th>\n",
       "      <th>param_classifier__loss</th>\n",
       "      <th>param_classifier__max_depth</th>\n",
       "      <th>param_classifier__max_iter</th>\n",
       "      <th>params</th>\n",
       "      <th>split0_test_score</th>\n",
       "      <th>split1_test_score</th>\n",
       "      <th>split2_test_score</th>\n",
       "      <th>split3_test_score</th>\n",
       "      <th>split4_test_score</th>\n",
       "      <th>mean_test_score</th>\n",
       "      <th>std_test_score</th>\n",
       "      <th>rank_test_score</th>\n",
       "    </tr>\n",
       "  </thead>\n",
       "  <tbody>\n",
       "    <tr>\n",
       "      <th>24</th>\n",
       "      <td>2.707409</td>\n",
       "      <td>0.049333</td>\n",
       "      <td>0.015210</td>\n",
       "      <td>0.000806</td>\n",
       "      <td>0.2</td>\n",
       "      <td>log_loss</td>\n",
       "      <td>10</td>\n",
       "      <td>200</td>\n",
       "      <td>{'classifier__learning_rate': 0.2, 'classifier...</td>\n",
       "      <td>0.981333</td>\n",
       "      <td>0.989333</td>\n",
       "      <td>0.985333</td>\n",
       "      <td>0.990654</td>\n",
       "      <td>0.983979</td>\n",
       "      <td>0.986127</td>\n",
       "      <td>0.003435</td>\n",
       "      <td>1</td>\n",
       "    </tr>\n",
       "    <tr>\n",
       "      <th>49</th>\n",
       "      <td>2.772701</td>\n",
       "      <td>0.050829</td>\n",
       "      <td>0.016727</td>\n",
       "      <td>0.001699</td>\n",
       "      <td>0.3</td>\n",
       "      <td>log_loss</td>\n",
       "      <td>15</td>\n",
       "      <td>200</td>\n",
       "      <td>{'classifier__learning_rate': 0.3, 'classifier...</td>\n",
       "      <td>0.978667</td>\n",
       "      <td>0.984000</td>\n",
       "      <td>0.986667</td>\n",
       "      <td>0.991989</td>\n",
       "      <td>0.987984</td>\n",
       "      <td>0.985861</td>\n",
       "      <td>0.004426</td>\n",
       "      <td>2</td>\n",
       "    </tr>\n",
       "    <tr>\n",
       "      <th>48</th>\n",
       "      <td>1.539347</td>\n",
       "      <td>0.040465</td>\n",
       "      <td>0.011569</td>\n",
       "      <td>0.001017</td>\n",
       "      <td>0.3</td>\n",
       "      <td>log_loss</td>\n",
       "      <td>15</td>\n",
       "      <td>100</td>\n",
       "      <td>{'classifier__learning_rate': 0.3, 'classifier...</td>\n",
       "      <td>0.978667</td>\n",
       "      <td>0.981333</td>\n",
       "      <td>0.989333</td>\n",
       "      <td>0.990654</td>\n",
       "      <td>0.989319</td>\n",
       "      <td>0.985861</td>\n",
       "      <td>0.004884</td>\n",
       "      <td>3</td>\n",
       "    </tr>\n",
       "    <tr>\n",
       "      <th>39</th>\n",
       "      <td>2.987501</td>\n",
       "      <td>0.054974</td>\n",
       "      <td>0.016453</td>\n",
       "      <td>0.000467</td>\n",
       "      <td>0.2</td>\n",
       "      <td>log_loss</td>\n",
       "      <td>30</td>\n",
       "      <td>200</td>\n",
       "      <td>{'classifier__learning_rate': 0.2, 'classifier...</td>\n",
       "      <td>0.978667</td>\n",
       "      <td>0.986667</td>\n",
       "      <td>0.986667</td>\n",
       "      <td>0.987984</td>\n",
       "      <td>0.989319</td>\n",
       "      <td>0.985861</td>\n",
       "      <td>0.003729</td>\n",
       "      <td>4</td>\n",
       "    </tr>\n",
       "    <tr>\n",
       "      <th>34</th>\n",
       "      <td>3.003228</td>\n",
       "      <td>0.064747</td>\n",
       "      <td>0.016685</td>\n",
       "      <td>0.001372</td>\n",
       "      <td>0.2</td>\n",
       "      <td>log_loss</td>\n",
       "      <td>20</td>\n",
       "      <td>200</td>\n",
       "      <td>{'classifier__learning_rate': 0.2, 'classifier...</td>\n",
       "      <td>0.978667</td>\n",
       "      <td>0.986667</td>\n",
       "      <td>0.986667</td>\n",
       "      <td>0.987984</td>\n",
       "      <td>0.989319</td>\n",
       "      <td>0.985861</td>\n",
       "      <td>0.003729</td>\n",
       "      <td>4</td>\n",
       "    </tr>\n",
       "  </tbody>\n",
       "</table>\n",
       "</div>"
      ],
      "text/plain": [
       "    mean_fit_time  std_fit_time  mean_score_time  std_score_time  \\\n",
       "24       2.707409      0.049333         0.015210        0.000806   \n",
       "49       2.772701      0.050829         0.016727        0.001699   \n",
       "48       1.539347      0.040465         0.011569        0.001017   \n",
       "39       2.987501      0.054974         0.016453        0.000467   \n",
       "34       3.003228      0.064747         0.016685        0.001372   \n",
       "\n",
       "   param_classifier__learning_rate param_classifier__loss  \\\n",
       "24                             0.2               log_loss   \n",
       "49                             0.3               log_loss   \n",
       "48                             0.3               log_loss   \n",
       "39                             0.2               log_loss   \n",
       "34                             0.2               log_loss   \n",
       "\n",
       "   param_classifier__max_depth param_classifier__max_iter  \\\n",
       "24                          10                        200   \n",
       "49                          15                        200   \n",
       "48                          15                        100   \n",
       "39                          30                        200   \n",
       "34                          20                        200   \n",
       "\n",
       "                                               params  split0_test_score  \\\n",
       "24  {'classifier__learning_rate': 0.2, 'classifier...           0.981333   \n",
       "49  {'classifier__learning_rate': 0.3, 'classifier...           0.978667   \n",
       "48  {'classifier__learning_rate': 0.3, 'classifier...           0.978667   \n",
       "39  {'classifier__learning_rate': 0.2, 'classifier...           0.978667   \n",
       "34  {'classifier__learning_rate': 0.2, 'classifier...           0.978667   \n",
       "\n",
       "    split1_test_score  split2_test_score  split3_test_score  \\\n",
       "24           0.989333           0.985333           0.990654   \n",
       "49           0.984000           0.986667           0.991989   \n",
       "48           0.981333           0.989333           0.990654   \n",
       "39           0.986667           0.986667           0.987984   \n",
       "34           0.986667           0.986667           0.987984   \n",
       "\n",
       "    split4_test_score  mean_test_score  std_test_score  rank_test_score  \n",
       "24           0.983979         0.986127        0.003435                1  \n",
       "49           0.987984         0.985861        0.004426                2  \n",
       "48           0.989319         0.985861        0.004884                3  \n",
       "39           0.989319         0.985861        0.003729                4  \n",
       "34           0.989319         0.985861        0.003729                4  "
      ]
     },
     "execution_count": 839,
     "metadata": {},
     "output_type": "execute_result"
    }
   ],
   "source": [
    "pd.DataFrame.from_dict(hgbc_GS.cv_results_).sort_values(by=['rank_test_score']).head(5)"
   ]
  },
  {
   "cell_type": "code",
   "execution_count": 840,
   "metadata": {},
   "outputs": [
    {
     "name": "stdout",
     "output_type": "stream",
     "text": [
      "Accuracy: 0.9939577039274925\n",
      "F1 score: 0.9809523809523809\n",
      "Precision: 1.0\n",
      "Recall: 0.9626168224299065\n",
      "ROC AUC score: 0.9813084112149533\n"
     ]
    },
    {
     "data": {
      "image/png": "[encoded data removed]",
      "text/plain": [
       "<Figure size 432x288 with 1 Axes>"
      ]
     },
     "metadata": {
      "needs_background": "light"
     },
     "output_type": "display_data"
    }
   ],
   "source": [
    "hgbc = HistGradientBoostingClassifier(learning_rate = hgbc_GS.best_params_['classifier__learning_rate'],max_depth= hgbc_GS.best_params_['classifier__max_depth'], max_iter=hgbc_GS.best_params_['classifier__max_iter'], loss=hgbc_GS.best_params_['classifier__loss'])\n",
    "\n",
    "hgbc.fit(x_train, y_train)\n",
    "y_pred_hgbc = hgbc.predict(x_test)\n",
    "\n",
    "score(y_test, y_pred_hgbc)"
   ]
  },
  {
   "cell_type": "code",
   "execution_count": 841,
   "metadata": {},
   "outputs": [
    {
     "data": {
      "image/png": "[encoded data removed]",
      "text/plain": [
       "<Figure size 432x288 with 2 Axes>"
      ]
     },
     "metadata": {
      "needs_background": "light"
     },
     "output_type": "display_data"
    }
   ],
   "source": [
    "cm_hgbc = confusion_matrix(y_test, y_pred_hgbc)\n",
    "cmd_hgbc = ConfusionMatrixDisplay(confusion_matrix=cm_hgbc,\n",
    "                       display_labels=[0,1])\n",
    "\n",
    "cmd_hgbc.plot()\n",
    "plt.show()"
   ]
  },
  {
   "cell_type": "markdown",
   "metadata": {},
   "source": [
    "### RandomForestClassifier"
   ]
  },
  {
   "cell_type": "code",
   "execution_count": 842,
   "metadata": {},
   "outputs": [],
   "source": [
    "pipeline_rfc = Pipeline(steps=[\n",
    "    ('classifier', RandomForestClassifier())\n",
    "])"
   ]
  },
  {
   "cell_type": "code",
   "execution_count": 843,
   "metadata": {},
   "outputs": [],
   "source": [
    "n_estimators = [1,2,3,5,10,50,100,200,300]\n",
    "criterion = ['gini', 'entropy']\n",
    "max_depth = [5,10,14,18,22,24,30,50,100]\n",
    "\n",
    "\n",
    "parameters_rfc = dict(classifier__n_estimators=n_estimators,\n",
    "                  classifier__criterion=criterion,\n",
    "                  classifier__max_depth=max_depth\n",
    "                  )"
   ]
  },
  {
   "cell_type": "code",
   "execution_count": 844,
   "metadata": {},
   "outputs": [
    {
     "data": {
      "text/html": [
       "<style>#sk-container-id-10 {color: black;background-color: white;}#sk-container-id-10 pre{padding: 0;}#sk-container-id-10 div.sk-toggleable {background-color: white;}#sk-container-id-10 label.sk-toggleable__label {cursor: pointer;display: block;width: 100%;margin-bottom: 0;padding: 0.3em;box-sizing: border-box;text-align: center;}#sk-container-id-10 label.sk-toggleable__label-arrow:before {content: \"▸\";float: left;margin-right: 0.25em;color: #696969;}#sk-container-id-10 label.sk-toggleable__label-arrow:hover:before {color: black;}#sk-container-id-10 div.sk-estimator:hover label.sk-toggleable__label-arrow:before {color: black;}#sk-container-id-10 div.sk-toggleable__content {max-height: 0;max-width: 0;overflow: hidden;text-align: left;background-color: #f0f8ff;}#sk-container-id-10 div.sk-toggleable__content pre {margin: 0.2em;color: black;border-radius: 0.25em;background-color: #f0f8ff;}#sk-container-id-10 input.sk-toggleable__control:checked~div.sk-toggleable__content {max-height: 200px;max-width: 100%;overflow: auto;}#sk-container-id-10 input.sk-toggleable__control:checked~label.sk-toggleable__label-arrow:before {content: \"▾\";}#sk-container-id-10 div.sk-estimator input.sk-toggleable__control:checked~label.sk-toggleable__label {background-color: #d4ebff;}#sk-container-id-10 div.sk-label input.sk-toggleable__control:checked~label.sk-toggleable__label {background-color: #d4ebff;}#sk-container-id-10 input.sk-hidden--visually {border: 0;clip: rect(1px 1px 1px 1px);clip: rect(1px, 1px, 1px, 1px);height: 1px;margin: -1px;overflow: hidden;padding: 0;position: absolute;width: 1px;}#sk-container-id-10 div.sk-estimator {font-family: monospace;background-color: #f0f8ff;border: 1px dotted black;border-radius: 0.25em;box-sizing: border-box;margin-bottom: 0.5em;}#sk-container-id-10 div.sk-estimator:hover {background-color: #d4ebff;}#sk-container-id-10 div.sk-parallel-item::after {content: \"\";width: 100%;border-bottom: 1px solid gray;flex-grow: 1;}#sk-container-id-10 div.sk-label:hover label.sk-toggleable__label {background-color: #d4ebff;}#sk-container-id-10 div.sk-serial::before {content: \"\";position: absolute;border-left: 1px solid gray;box-sizing: border-box;top: 0;bottom: 0;left: 50%;z-index: 0;}#sk-container-id-10 div.sk-serial {display: flex;flex-direction: column;align-items: center;background-color: white;padding-right: 0.2em;padding-left: 0.2em;position: relative;}#sk-container-id-10 div.sk-item {position: relative;z-index: 1;}#sk-container-id-10 div.sk-parallel {display: flex;align-items: stretch;justify-content: center;background-color: white;position: relative;}#sk-container-id-10 div.sk-item::before, #sk-container-id-10 div.sk-parallel-item::before {content: \"\";position: absolute;border-left: 1px solid gray;box-sizing: border-box;top: 0;bottom: 0;left: 50%;z-index: -1;}#sk-container-id-10 div.sk-parallel-item {display: flex;flex-direction: column;z-index: 1;position: relative;background-color: white;}#sk-container-id-10 div.sk-parallel-item:first-child::after {align-self: flex-end;width: 50%;}#sk-container-id-10 div.sk-parallel-item:last-child::after {align-self: flex-start;width: 50%;}#sk-container-id-10 div.sk-parallel-item:only-child::after {width: 0;}#sk-container-id-10 div.sk-dashed-wrapped {border: 1px dashed gray;margin: 0 0.4em 0.5em 0.4em;box-sizing: border-box;padding-bottom: 0.4em;background-color: white;}#sk-container-id-10 div.sk-label label {font-family: monospace;font-weight: bold;display: inline-block;line-height: 1.2em;}#sk-container-id-10 div.sk-label-container {text-align: center;}#sk-container-id-10 div.sk-container {/* jupyter's `normalize.less` sets `[hidden] { display: none; }` but bootstrap.min.css set `[hidden] { display: none !important; }` so we also need the `!important` here to be able to override the default hidden behavior on the sphinx rendered scikit-learn.org. See: https://github.com/scikit-learn/scikit-learn/issues/21755 */display: inline-block !important;position: relative;}#sk-container-id-10 div.sk-text-repr-fallback {display: none;}</style><div id=\"sk-container-id-10\" class=\"sk-top-container\"><div class=\"sk-text-repr-fallback\"><pre>GridSearchCV(estimator=Pipeline(steps=[(&#x27;classifier&#x27;,\n",
       "                                        RandomForestClassifier())]),\n",
       "             param_grid={&#x27;classifier__criterion&#x27;: [&#x27;gini&#x27;, &#x27;entropy&#x27;],\n",
       "                         &#x27;classifier__max_depth&#x27;: [5, 10, 14, 18, 22, 24, 30,\n",
       "                                                   50, 100],\n",
       "                         &#x27;classifier__n_estimators&#x27;: [1, 2, 3, 5, 10, 50, 100,\n",
       "                                                      200, 300]})</pre><b>In a Jupyter environment, please rerun this cell to show the HTML representation or trust the notebook. <br />On GitHub, the HTML representation is unable to render, please try loading this page with nbviewer.org.</b></div><div class=\"sk-container\" hidden><div class=\"sk-item sk-dashed-wrapped\"><div class=\"sk-label-container\"><div class=\"sk-label sk-toggleable\"><input class=\"sk-toggleable__control sk-hidden--visually\" id=\"sk-estimator-id-28\" type=\"checkbox\" ><label for=\"sk-estimator-id-28\" class=\"sk-toggleable__label sk-toggleable__label-arrow\">GridSearchCV</label><div class=\"sk-toggleable__content\"><pre>GridSearchCV(estimator=Pipeline(steps=[(&#x27;classifier&#x27;,\n",
       "                                        RandomForestClassifier())]),\n",
       "             param_grid={&#x27;classifier__criterion&#x27;: [&#x27;gini&#x27;, &#x27;entropy&#x27;],\n",
       "                         &#x27;classifier__max_depth&#x27;: [5, 10, 14, 18, 22, 24, 30,\n",
       "                                                   50, 100],\n",
       "                         &#x27;classifier__n_estimators&#x27;: [1, 2, 3, 5, 10, 50, 100,\n",
       "                                                      200, 300]})</pre></div></div></div><div class=\"sk-parallel\"><div class=\"sk-parallel-item\"><div class=\"sk-item\"><div class=\"sk-label-container\"><div class=\"sk-label sk-toggleable\"><input class=\"sk-toggleable__control sk-hidden--visually\" id=\"sk-estimator-id-29\" type=\"checkbox\" ><label for=\"sk-estimator-id-29\" class=\"sk-toggleable__label sk-toggleable__label-arrow\">estimator: Pipeline</label><div class=\"sk-toggleable__content\"><pre>Pipeline(steps=[(&#x27;classifier&#x27;, RandomForestClassifier())])</pre></div></div></div><div class=\"sk-serial\"><div class=\"sk-item\"><div class=\"sk-serial\"><div class=\"sk-item\"><div class=\"sk-estimator sk-toggleable\"><input class=\"sk-toggleable__control sk-hidden--visually\" id=\"sk-estimator-id-30\" type=\"checkbox\" ><label for=\"sk-estimator-id-30\" class=\"sk-toggleable__label sk-toggleable__label-arrow\">RandomForestClassifier</label><div class=\"sk-toggleable__content\"><pre>RandomForestClassifier()</pre></div></div></div></div></div></div></div></div></div></div></div></div>"
      ],
      "text/plain": [
       "GridSearchCV(estimator=Pipeline(steps=[('classifier',\n",
       "                                        RandomForestClassifier())]),\n",
       "             param_grid={'classifier__criterion': ['gini', 'entropy'],\n",
       "                         'classifier__max_depth': [5, 10, 14, 18, 22, 24, 30,\n",
       "                                                   50, 100],\n",
       "                         'classifier__n_estimators': [1, 2, 3, 5, 10, 50, 100,\n",
       "                                                      200, 300]})"
      ]
     },
     "execution_count": 844,
     "metadata": {},
     "output_type": "execute_result"
    }
   ],
   "source": [
    "rfc_GS = GridSearchCV(pipeline_rfc, parameters_rfc)\n",
    "rfc_GS.fit(x_train, y_train)"
   ]
  },
  {
   "cell_type": "code",
   "execution_count": 845,
   "metadata": {},
   "outputs": [
    {
     "data": {
      "text/html": [
       "<div>\n",
       "<style scoped>\n",
       "    .dataframe tbody tr th:only-of-type {\n",
       "        vertical-align: middle;\n",
       "    }\n",
       "\n",
       "    .dataframe tbody tr th {\n",
       "        vertical-align: top;\n",
       "    }\n",
       "\n",
       "    .dataframe thead th {\n",
       "        text-align: right;\n",
       "    }\n",
       "</style>\n",
       "<table border=\"1\" class=\"dataframe\">\n",
       "  <thead>\n",
       "    <tr style=\"text-align: right;\">\n",
       "      <th></th>\n",
       "      <th>mean_fit_time</th>\n",
       "      <th>std_fit_time</th>\n",
       "      <th>mean_score_time</th>\n",
       "      <th>std_score_time</th>\n",
       "      <th>param_classifier__criterion</th>\n",
       "      <th>param_classifier__max_depth</th>\n",
       "      <th>param_classifier__n_estimators</th>\n",
       "      <th>params</th>\n",
       "      <th>split0_test_score</th>\n",
       "      <th>split1_test_score</th>\n",
       "      <th>split2_test_score</th>\n",
       "      <th>split3_test_score</th>\n",
       "      <th>split4_test_score</th>\n",
       "      <th>mean_test_score</th>\n",
       "      <th>std_test_score</th>\n",
       "      <th>rank_test_score</th>\n",
       "    </tr>\n",
       "  </thead>\n",
       "  <tbody>\n",
       "    <tr>\n",
       "      <th>133</th>\n",
       "      <td>1.136291</td>\n",
       "      <td>0.008242</td>\n",
       "      <td>0.032713</td>\n",
       "      <td>3.989703e-04</td>\n",
       "      <td>entropy</td>\n",
       "      <td>24</td>\n",
       "      <td>200</td>\n",
       "      <td>{'classifier__criterion': 'entropy', 'classifi...</td>\n",
       "      <td>0.974667</td>\n",
       "      <td>0.976000</td>\n",
       "      <td>0.976000</td>\n",
       "      <td>0.986649</td>\n",
       "      <td>0.979973</td>\n",
       "      <td>0.978658</td>\n",
       "      <td>0.004374</td>\n",
       "      <td>1</td>\n",
       "    </tr>\n",
       "    <tr>\n",
       "      <th>152</th>\n",
       "      <td>1.748695</td>\n",
       "      <td>0.070386</td>\n",
       "      <td>0.052060</td>\n",
       "      <td>7.007745e-03</td>\n",
       "      <td>entropy</td>\n",
       "      <td>50</td>\n",
       "      <td>300</td>\n",
       "      <td>{'classifier__criterion': 'entropy', 'classifi...</td>\n",
       "      <td>0.973333</td>\n",
       "      <td>0.976000</td>\n",
       "      <td>0.976000</td>\n",
       "      <td>0.985314</td>\n",
       "      <td>0.977303</td>\n",
       "      <td>0.977590</td>\n",
       "      <td>0.004072</td>\n",
       "      <td>2</td>\n",
       "    </tr>\n",
       "    <tr>\n",
       "      <th>151</th>\n",
       "      <td>1.130542</td>\n",
       "      <td>0.015940</td>\n",
       "      <td>0.032101</td>\n",
       "      <td>4.059535e-04</td>\n",
       "      <td>entropy</td>\n",
       "      <td>50</td>\n",
       "      <td>200</td>\n",
       "      <td>{'classifier__criterion': 'entropy', 'classifi...</td>\n",
       "      <td>0.973333</td>\n",
       "      <td>0.974667</td>\n",
       "      <td>0.977333</td>\n",
       "      <td>0.985314</td>\n",
       "      <td>0.977303</td>\n",
       "      <td>0.977590</td>\n",
       "      <td>0.004159</td>\n",
       "      <td>2</td>\n",
       "    </tr>\n",
       "    <tr>\n",
       "      <th>43</th>\n",
       "      <td>1.004341</td>\n",
       "      <td>0.007555</td>\n",
       "      <td>0.032699</td>\n",
       "      <td>3.931227e-04</td>\n",
       "      <td>gini</td>\n",
       "      <td>22</td>\n",
       "      <td>200</td>\n",
       "      <td>{'classifier__criterion': 'gini', 'classifier_...</td>\n",
       "      <td>0.972000</td>\n",
       "      <td>0.976000</td>\n",
       "      <td>0.977333</td>\n",
       "      <td>0.983979</td>\n",
       "      <td>0.978638</td>\n",
       "      <td>0.977590</td>\n",
       "      <td>0.003892</td>\n",
       "      <td>4</td>\n",
       "    </tr>\n",
       "    <tr>\n",
       "      <th>61</th>\n",
       "      <td>1.001848</td>\n",
       "      <td>0.015989</td>\n",
       "      <td>0.032913</td>\n",
       "      <td>6.289914e-07</td>\n",
       "      <td>gini</td>\n",
       "      <td>30</td>\n",
       "      <td>200</td>\n",
       "      <td>{'classifier__criterion': 'gini', 'classifier_...</td>\n",
       "      <td>0.970667</td>\n",
       "      <td>0.972000</td>\n",
       "      <td>0.974667</td>\n",
       "      <td>0.987984</td>\n",
       "      <td>0.981308</td>\n",
       "      <td>0.977325</td>\n",
       "      <td>0.006469</td>\n",
       "      <td>5</td>\n",
       "    </tr>\n",
       "  </tbody>\n",
       "</table>\n",
       "</div>"
      ],
      "text/plain": [
       "     mean_fit_time  std_fit_time  mean_score_time  std_score_time  \\\n",
       "133       1.136291      0.008242         0.032713    3.989703e-04   \n",
       "152       1.748695      0.070386         0.052060    7.007745e-03   \n",
       "151       1.130542      0.015940         0.032101    4.059535e-04   \n",
       "43        1.004341      0.007555         0.032699    3.931227e-04   \n",
       "61        1.001848      0.015989         0.032913    6.289914e-07   \n",
       "\n",
       "    param_classifier__criterion param_classifier__max_depth  \\\n",
       "133                     entropy                          24   \n",
       "152                     entropy                          50   \n",
       "151                     entropy                          50   \n",
       "43                         gini                          22   \n",
       "61                         gini                          30   \n",
       "\n",
       "    param_classifier__n_estimators  \\\n",
       "133                            200   \n",
       "152                            300   \n",
       "151                            200   \n",
       "43                             200   \n",
       "61                             200   \n",
       "\n",
       "                                                params  split0_test_score  \\\n",
       "133  {'classifier__criterion': 'entropy', 'classifi...           0.974667   \n",
       "152  {'classifier__criterion': 'entropy', 'classifi...           0.973333   \n",
       "151  {'classifier__criterion': 'entropy', 'classifi...           0.973333   \n",
       "43   {'classifier__criterion': 'gini', 'classifier_...           0.972000   \n",
       "61   {'classifier__criterion': 'gini', 'classifier_...           0.970667   \n",
       "\n",
       "     split1_test_score  split2_test_score  split3_test_score  \\\n",
       "133           0.976000           0.976000           0.986649   \n",
       "152           0.976000           0.976000           0.985314   \n",
       "151           0.974667           0.977333           0.985314   \n",
       "43            0.976000           0.977333           0.983979   \n",
       "61            0.972000           0.974667           0.987984   \n",
       "\n",
       "     split4_test_score  mean_test_score  std_test_score  rank_test_score  \n",
       "133           0.979973         0.978658        0.004374                1  \n",
       "152           0.977303         0.977590        0.004072                2  \n",
       "151           0.977303         0.977590        0.004159                2  \n",
       "43            0.978638         0.977590        0.003892                4  \n",
       "61            0.981308         0.977325        0.006469                5  "
      ]
     },
     "execution_count": 845,
     "metadata": {},
     "output_type": "execute_result"
    }
   ],
   "source": [
    "pd.DataFrame.from_dict(rfc_GS.cv_results_).sort_values(by=['rank_test_score']).head(5)"
   ]
  },
  {
   "cell_type": "code",
   "execution_count": 846,
   "metadata": {},
   "outputs": [
    {
     "name": "stdout",
     "output_type": "stream",
     "text": [
      "Accuracy: 0.9909365558912386\n",
      "F1 score: 0.9711538461538461\n",
      "Precision: 1.0\n",
      "Recall: 0.9439252336448598\n",
      "ROC AUC score: 0.9719626168224299\n"
     ]
    },
    {
     "data": {
      "image/png": "[encoded data removed]",
      "text/plain": [
       "<Figure size 432x288 with 1 Axes>"
      ]
     },
     "metadata": {
      "needs_background": "light"
     },
     "output_type": "display_data"
    }
   ],
   "source": [
    "rfc = RandomForestClassifier(n_estimators=rfc_GS.best_params_['classifier__n_estimators'],criterion=rfc_GS.best_params_['classifier__criterion'],max_depth=rfc_GS.best_params_['classifier__max_depth'])\n",
    "\n",
    "rfc.fit(x_train, y_train)\n",
    "y_pred_rfc = rfc.predict(x_test)\n",
    "\n",
    "score(y_test, y_pred_rfc)"
   ]
  },
  {
   "cell_type": "code",
   "execution_count": 847,
   "metadata": {},
   "outputs": [
    {
     "data": {
      "image/png": "[encoded data removed]",
      "text/plain": [
       "<Figure size 432x288 with 2 Axes>"
      ]
     },
     "metadata": {
      "needs_background": "light"
     },
     "output_type": "display_data"
    }
   ],
   "source": [
    "cm_rfc = confusion_matrix(y_test, y_pred_rfc)\n",
    "cmd_rfc = ConfusionMatrixDisplay(confusion_matrix=cm_rfc,\n",
    "                       display_labels=[0,1])\n",
    "\n",
    "cmd_rfc.plot()\n",
    "plt.show()"
   ]
  },
  {
   "cell_type": "markdown",
   "metadata": {},
   "source": [
    "### Perceptron"
   ]
  },
  {
   "cell_type": "code",
   "execution_count": 848,
   "metadata": {},
   "outputs": [],
   "source": [
    "pipeline_pe = Pipeline(steps=[\n",
    "    ('classifier', Perceptron())\n",
    "])"
   ]
  },
  {
   "cell_type": "code",
   "execution_count": 849,
   "metadata": {},
   "outputs": [],
   "source": [
    "penalty = ['l2','l1','elasticnet']\n",
    "alpha = [0.0001,0.0002,0.0003,0.0005]\n",
    "\n",
    "\n",
    "parameters_pe = dict(classifier__penalty=penalty,\n",
    "                  classifier__alpha=alpha)\n"
   ]
  },
  {
   "cell_type": "code",
   "execution_count": 850,
   "metadata": {},
   "outputs": [
    {
     "data": {
      "text/html": [
       "<style>#sk-container-id-11 {color: black;background-color: white;}#sk-container-id-11 pre{padding: 0;}#sk-container-id-11 div.sk-toggleable {background-color: white;}#sk-container-id-11 label.sk-toggleable__label {cursor: pointer;display: block;width: 100%;margin-bottom: 0;padding: 0.3em;box-sizing: border-box;text-align: center;}#sk-container-id-11 label.sk-toggleable__label-arrow:before {content: \"▸\";float: left;margin-right: 0.25em;color: #696969;}#sk-container-id-11 label.sk-toggleable__label-arrow:hover:before {color: black;}#sk-container-id-11 div.sk-estimator:hover label.sk-toggleable__label-arrow:before {color: black;}#sk-container-id-11 div.sk-toggleable__content {max-height: 0;max-width: 0;overflow: hidden;text-align: left;background-color: #f0f8ff;}#sk-container-id-11 div.sk-toggleable__content pre {margin: 0.2em;color: black;border-radius: 0.25em;background-color: #f0f8ff;}#sk-container-id-11 input.sk-toggleable__control:checked~div.sk-toggleable__content {max-height: 200px;max-width: 100%;overflow: auto;}#sk-container-id-11 input.sk-toggleable__control:checked~label.sk-toggleable__label-arrow:before {content: \"▾\";}#sk-container-id-11 div.sk-estimator input.sk-toggleable__control:checked~label.sk-toggleable__label {background-color: #d4ebff;}#sk-container-id-11 div.sk-label input.sk-toggleable__control:checked~label.sk-toggleable__label {background-color: #d4ebff;}#sk-container-id-11 input.sk-hidden--visually {border: 0;clip: rect(1px 1px 1px 1px);clip: rect(1px, 1px, 1px, 1px);height: 1px;margin: -1px;overflow: hidden;padding: 0;position: absolute;width: 1px;}#sk-container-id-11 div.sk-estimator {font-family: monospace;background-color: #f0f8ff;border: 1px dotted black;border-radius: 0.25em;box-sizing: border-box;margin-bottom: 0.5em;}#sk-container-id-11 div.sk-estimator:hover {background-color: #d4ebff;}#sk-container-id-11 div.sk-parallel-item::after {content: \"\";width: 100%;border-bottom: 1px solid gray;flex-grow: 1;}#sk-container-id-11 div.sk-label:hover label.sk-toggleable__label {background-color: #d4ebff;}#sk-container-id-11 div.sk-serial::before {content: \"\";position: absolute;border-left: 1px solid gray;box-sizing: border-box;top: 0;bottom: 0;left: 50%;z-index: 0;}#sk-container-id-11 div.sk-serial {display: flex;flex-direction: column;align-items: center;background-color: white;padding-right: 0.2em;padding-left: 0.2em;position: relative;}#sk-container-id-11 div.sk-item {position: relative;z-index: 1;}#sk-container-id-11 div.sk-parallel {display: flex;align-items: stretch;justify-content: center;background-color: white;position: relative;}#sk-container-id-11 div.sk-item::before, #sk-container-id-11 div.sk-parallel-item::before {content: \"\";position: absolute;border-left: 1px solid gray;box-sizing: border-box;top: 0;bottom: 0;left: 50%;z-index: -1;}#sk-container-id-11 div.sk-parallel-item {display: flex;flex-direction: column;z-index: 1;position: relative;background-color: white;}#sk-container-id-11 div.sk-parallel-item:first-child::after {align-self: flex-end;width: 50%;}#sk-container-id-11 div.sk-parallel-item:last-child::after {align-self: flex-start;width: 50%;}#sk-container-id-11 div.sk-parallel-item:only-child::after {width: 0;}#sk-container-id-11 div.sk-dashed-wrapped {border: 1px dashed gray;margin: 0 0.4em 0.5em 0.4em;box-sizing: border-box;padding-bottom: 0.4em;background-color: white;}#sk-container-id-11 div.sk-label label {font-family: monospace;font-weight: bold;display: inline-block;line-height: 1.2em;}#sk-container-id-11 div.sk-label-container {text-align: center;}#sk-container-id-11 div.sk-container {/* jupyter's `normalize.less` sets `[hidden] { display: none; }` but bootstrap.min.css set `[hidden] { display: none !important; }` so we also need the `!important` here to be able to override the default hidden behavior on the sphinx rendered scikit-learn.org. See: https://github.com/scikit-learn/scikit-learn/issues/21755 */display: inline-block !important;position: relative;}#sk-container-id-11 div.sk-text-repr-fallback {display: none;}</style><div id=\"sk-container-id-11\" class=\"sk-top-container\"><div class=\"sk-text-repr-fallback\"><pre>GridSearchCV(estimator=Pipeline(steps=[(&#x27;classifier&#x27;, Perceptron())]),\n",
       "             param_grid={&#x27;classifier__alpha&#x27;: [0.0001, 0.0002, 0.0003, 0.0005],\n",
       "                         &#x27;classifier__penalty&#x27;: [&#x27;l2&#x27;, &#x27;l1&#x27;, &#x27;elasticnet&#x27;]})</pre><b>In a Jupyter environment, please rerun this cell to show the HTML representation or trust the notebook. <br />On GitHub, the HTML representation is unable to render, please try loading this page with nbviewer.org.</b></div><div class=\"sk-container\" hidden><div class=\"sk-item sk-dashed-wrapped\"><div class=\"sk-label-container\"><div class=\"sk-label sk-toggleable\"><input class=\"sk-toggleable__control sk-hidden--visually\" id=\"sk-estimator-id-31\" type=\"checkbox\" ><label for=\"sk-estimator-id-31\" class=\"sk-toggleable__label sk-toggleable__label-arrow\">GridSearchCV</label><div class=\"sk-toggleable__content\"><pre>GridSearchCV(estimator=Pipeline(steps=[(&#x27;classifier&#x27;, Perceptron())]),\n",
       "             param_grid={&#x27;classifier__alpha&#x27;: [0.0001, 0.0002, 0.0003, 0.0005],\n",
       "                         &#x27;classifier__penalty&#x27;: [&#x27;l2&#x27;, &#x27;l1&#x27;, &#x27;elasticnet&#x27;]})</pre></div></div></div><div class=\"sk-parallel\"><div class=\"sk-parallel-item\"><div class=\"sk-item\"><div class=\"sk-label-container\"><div class=\"sk-label sk-toggleable\"><input class=\"sk-toggleable__control sk-hidden--visually\" id=\"sk-estimator-id-32\" type=\"checkbox\" ><label for=\"sk-estimator-id-32\" class=\"sk-toggleable__label sk-toggleable__label-arrow\">estimator: Pipeline</label><div class=\"sk-toggleable__content\"><pre>Pipeline(steps=[(&#x27;classifier&#x27;, Perceptron())])</pre></div></div></div><div class=\"sk-serial\"><div class=\"sk-item\"><div class=\"sk-serial\"><div class=\"sk-item\"><div class=\"sk-estimator sk-toggleable\"><input class=\"sk-toggleable__control sk-hidden--visually\" id=\"sk-estimator-id-33\" type=\"checkbox\" ><label for=\"sk-estimator-id-33\" class=\"sk-toggleable__label sk-toggleable__label-arrow\">Perceptron</label><div class=\"sk-toggleable__content\"><pre>Perceptron()</pre></div></div></div></div></div></div></div></div></div></div></div></div>"
      ],
      "text/plain": [
       "GridSearchCV(estimator=Pipeline(steps=[('classifier', Perceptron())]),\n",
       "             param_grid={'classifier__alpha': [0.0001, 0.0002, 0.0003, 0.0005],\n",
       "                         'classifier__penalty': ['l2', 'l1', 'elasticnet']})"
      ]
     },
     "execution_count": 850,
     "metadata": {},
     "output_type": "execute_result"
    }
   ],
   "source": [
    "pe_GS = GridSearchCV(pipeline_pe, parameters_pe)\n",
    "pe_GS.fit(x_train, y_train)"
   ]
  },
  {
   "cell_type": "code",
   "execution_count": 851,
   "metadata": {},
   "outputs": [
    {
     "data": {
      "text/html": [
       "<div>\n",
       "<style scoped>\n",
       "    .dataframe tbody tr th:only-of-type {\n",
       "        vertical-align: middle;\n",
       "    }\n",
       "\n",
       "    .dataframe tbody tr th {\n",
       "        vertical-align: top;\n",
       "    }\n",
       "\n",
       "    .dataframe thead th {\n",
       "        text-align: right;\n",
       "    }\n",
       "</style>\n",
       "<table border=\"1\" class=\"dataframe\">\n",
       "  <thead>\n",
       "    <tr style=\"text-align: right;\">\n",
       "      <th></th>\n",
       "      <th>mean_fit_time</th>\n",
       "      <th>std_fit_time</th>\n",
       "      <th>mean_score_time</th>\n",
       "      <th>std_score_time</th>\n",
       "      <th>param_classifier__alpha</th>\n",
       "      <th>param_classifier__penalty</th>\n",
       "      <th>params</th>\n",
       "      <th>split0_test_score</th>\n",
       "      <th>split1_test_score</th>\n",
       "      <th>split2_test_score</th>\n",
       "      <th>split3_test_score</th>\n",
       "      <th>split4_test_score</th>\n",
       "      <th>mean_test_score</th>\n",
       "      <th>std_test_score</th>\n",
       "      <th>rank_test_score</th>\n",
       "    </tr>\n",
       "  </thead>\n",
       "  <tbody>\n",
       "    <tr>\n",
       "      <th>8</th>\n",
       "      <td>0.020799</td>\n",
       "      <td>0.004046</td>\n",
       "      <td>0.001675</td>\n",
       "      <td>0.000228</td>\n",
       "      <td>0.0003</td>\n",
       "      <td>elasticnet</td>\n",
       "      <td>{'classifier__alpha': 0.0003, 'classifier__pen...</td>\n",
       "      <td>0.844000</td>\n",
       "      <td>0.832000</td>\n",
       "      <td>0.832000</td>\n",
       "      <td>0.837116</td>\n",
       "      <td>0.842457</td>\n",
       "      <td>0.837515</td>\n",
       "      <td>0.005049</td>\n",
       "      <td>1</td>\n",
       "    </tr>\n",
       "    <tr>\n",
       "      <th>0</th>\n",
       "      <td>0.005578</td>\n",
       "      <td>0.001003</td>\n",
       "      <td>0.002200</td>\n",
       "      <td>0.000977</td>\n",
       "      <td>0.0001</td>\n",
       "      <td>l2</td>\n",
       "      <td>{'classifier__alpha': 0.0001, 'classifier__pen...</td>\n",
       "      <td>0.838667</td>\n",
       "      <td>0.829333</td>\n",
       "      <td>0.833333</td>\n",
       "      <td>0.847797</td>\n",
       "      <td>0.833111</td>\n",
       "      <td>0.836448</td>\n",
       "      <td>0.006406</td>\n",
       "      <td>2</td>\n",
       "    </tr>\n",
       "    <tr>\n",
       "      <th>9</th>\n",
       "      <td>0.005259</td>\n",
       "      <td>0.000939</td>\n",
       "      <td>0.001628</td>\n",
       "      <td>0.000544</td>\n",
       "      <td>0.0005</td>\n",
       "      <td>l2</td>\n",
       "      <td>{'classifier__alpha': 0.0005, 'classifier__pen...</td>\n",
       "      <td>0.838667</td>\n",
       "      <td>0.833333</td>\n",
       "      <td>0.837333</td>\n",
       "      <td>0.842457</td>\n",
       "      <td>0.823765</td>\n",
       "      <td>0.835111</td>\n",
       "      <td>0.006379</td>\n",
       "      <td>3</td>\n",
       "    </tr>\n",
       "    <tr>\n",
       "      <th>7</th>\n",
       "      <td>0.012861</td>\n",
       "      <td>0.004174</td>\n",
       "      <td>0.001818</td>\n",
       "      <td>0.000533</td>\n",
       "      <td>0.0003</td>\n",
       "      <td>l1</td>\n",
       "      <td>{'classifier__alpha': 0.0003, 'classifier__pen...</td>\n",
       "      <td>0.846667</td>\n",
       "      <td>0.820000</td>\n",
       "      <td>0.828000</td>\n",
       "      <td>0.823765</td>\n",
       "      <td>0.846462</td>\n",
       "      <td>0.832979</td>\n",
       "      <td>0.011378</td>\n",
       "      <td>4</td>\n",
       "    </tr>\n",
       "    <tr>\n",
       "      <th>5</th>\n",
       "      <td>0.020707</td>\n",
       "      <td>0.006249</td>\n",
       "      <td>0.002035</td>\n",
       "      <td>0.000075</td>\n",
       "      <td>0.0002</td>\n",
       "      <td>elasticnet</td>\n",
       "      <td>{'classifier__alpha': 0.0002, 'classifier__pen...</td>\n",
       "      <td>0.841333</td>\n",
       "      <td>0.856000</td>\n",
       "      <td>0.786667</td>\n",
       "      <td>0.803738</td>\n",
       "      <td>0.823765</td>\n",
       "      <td>0.822301</td>\n",
       "      <td>0.024957</td>\n",
       "      <td>5</td>\n",
       "    </tr>\n",
       "  </tbody>\n",
       "</table>\n",
       "</div>"
      ],
      "text/plain": [
       "   mean_fit_time  std_fit_time  mean_score_time  std_score_time  \\\n",
       "8       0.020799      0.004046         0.001675        0.000228   \n",
       "0       0.005578      0.001003         0.002200        0.000977   \n",
       "9       0.005259      0.000939         0.001628        0.000544   \n",
       "7       0.012861      0.004174         0.001818        0.000533   \n",
       "5       0.020707      0.006249         0.002035        0.000075   \n",
       "\n",
       "  param_classifier__alpha param_classifier__penalty  \\\n",
       "8                  0.0003                elasticnet   \n",
       "0                  0.0001                        l2   \n",
       "9                  0.0005                        l2   \n",
       "7                  0.0003                        l1   \n",
       "5                  0.0002                elasticnet   \n",
       "\n",
       "                                              params  split0_test_score  \\\n",
       "8  {'classifier__alpha': 0.0003, 'classifier__pen...           0.844000   \n",
       "0  {'classifier__alpha': 0.0001, 'classifier__pen...           0.838667   \n",
       "9  {'classifier__alpha': 0.0005, 'classifier__pen...           0.838667   \n",
       "7  {'classifier__alpha': 0.0003, 'classifier__pen...           0.846667   \n",
       "5  {'classifier__alpha': 0.0002, 'classifier__pen...           0.841333   \n",
       "\n",
       "   split1_test_score  split2_test_score  split3_test_score  split4_test_score  \\\n",
       "8           0.832000           0.832000           0.837116           0.842457   \n",
       "0           0.829333           0.833333           0.847797           0.833111   \n",
       "9           0.833333           0.837333           0.842457           0.823765   \n",
       "7           0.820000           0.828000           0.823765           0.846462   \n",
       "5           0.856000           0.786667           0.803738           0.823765   \n",
       "\n",
       "   mean_test_score  std_test_score  rank_test_score  \n",
       "8         0.837515        0.005049                1  \n",
       "0         0.836448        0.006406                2  \n",
       "9         0.835111        0.006379                3  \n",
       "7         0.832979        0.011378                4  \n",
       "5         0.822301        0.024957                5  "
      ]
     },
     "execution_count": 851,
     "metadata": {},
     "output_type": "execute_result"
    }
   ],
   "source": [
    "pd.DataFrame.from_dict(pe_GS.cv_results_).sort_values(by=['rank_test_score']).head(5)"
   ]
  },
  {
   "cell_type": "code",
   "execution_count": 852,
   "metadata": {},
   "outputs": [
    {
     "name": "stdout",
     "output_type": "stream",
     "text": [
      "Accuracy: 0.8383685800604229\n",
      "F1 score: 0.0\n",
      "Precision: 0.0\n",
      "Recall: 0.0\n",
      "ROC AUC score: 0.5\n"
     ]
    },
    {
     "name": "stderr",
     "output_type": "stream",
     "text": [
      "d:\\Python\\lib\\site-packages\\sklearn\\metrics\\_classification.py:1344: UndefinedMetricWarning: Precision is ill-defined and being set to 0.0 due to no predicted samples. Use `zero_division` parameter to control this behavior.\n",
      "  _warn_prf(average, modifier, msg_start, len(result))\n"
     ]
    },
    {
     "data": {
      "image/png": "[encoded data removed]",
      "text/plain": [
       "<Figure size 432x288 with 1 Axes>"
      ]
     },
     "metadata": {
      "needs_background": "light"
     },
     "output_type": "display_data"
    }
   ],
   "source": [
    "pe = Perceptron(penalty=pe_GS.best_params_['classifier__penalty'],alpha = pe_GS.best_params_['classifier__alpha'])\n",
    "\n",
    "pe.fit(x_train, y_train)\n",
    "y_pred_pe = pe.predict(x_test)\n",
    "\n",
    "score(y_test, y_pred_pe)"
   ]
  },
  {
   "cell_type": "code",
   "execution_count": 853,
   "metadata": {},
   "outputs": [
    {
     "data": {
      "image/png": "[encoded data removed]",
      "text/plain": [
       "<Figure size 432x288 with 2 Axes>"
      ]
     },
     "metadata": {
      "needs_background": "light"
     },
     "output_type": "display_data"
    }
   ],
   "source": [
    "cm_pe = confusion_matrix(y_test, y_pred_pe)\n",
    "cmd_pe = ConfusionMatrixDisplay(confusion_matrix=cm_pe,\n",
    "                       display_labels=[0,1])\n",
    "\n",
    "cmd_pe.plot()\n",
    "plt.show()"
   ]
  },
  {
   "cell_type": "markdown",
   "metadata": {},
   "source": [
    "### Logistic Regression"
   ]
  },
  {
   "cell_type": "code",
   "execution_count": 854,
   "metadata": {},
   "outputs": [],
   "source": [
    "pipeline_lr = Pipeline(steps=[\n",
    "    ('classifier', LogisticRegression())\n",
    "])"
   ]
  },
  {
   "cell_type": "code",
   "execution_count": 855,
   "metadata": {},
   "outputs": [],
   "source": [
    "penalty = ['l2']\n",
    "max_iter = [100,500,1000]\n",
    "\n",
    "\n",
    "parameters_lr = dict(classifier__penalty = penalty,\n",
    "                  classifier__max_iter = max_iter)"
   ]
  },
  {
   "cell_type": "code",
   "execution_count": 856,
   "metadata": {},
   "outputs": [
    {
     "data": {
      "text/html": [
       "<style>#sk-container-id-12 {color: black;background-color: white;}#sk-container-id-12 pre{padding: 0;}#sk-container-id-12 div.sk-toggleable {background-color: white;}#sk-container-id-12 label.sk-toggleable__label {cursor: pointer;display: block;width: 100%;margin-bottom: 0;padding: 0.3em;box-sizing: border-box;text-align: center;}#sk-container-id-12 label.sk-toggleable__label-arrow:before {content: \"▸\";float: left;margin-right: 0.25em;color: #696969;}#sk-container-id-12 label.sk-toggleable__label-arrow:hover:before {color: black;}#sk-container-id-12 div.sk-estimator:hover label.sk-toggleable__label-arrow:before {color: black;}#sk-container-id-12 div.sk-toggleable__content {max-height: 0;max-width: 0;overflow: hidden;text-align: left;background-color: #f0f8ff;}#sk-container-id-12 div.sk-toggleable__content pre {margin: 0.2em;color: black;border-radius: 0.25em;background-color: #f0f8ff;}#sk-container-id-12 input.sk-toggleable__control:checked~div.sk-toggleable__content {max-height: 200px;max-width: 100%;overflow: auto;}#sk-container-id-12 input.sk-toggleable__control:checked~label.sk-toggleable__label-arrow:before {content: \"▾\";}#sk-container-id-12 div.sk-estimator input.sk-toggleable__control:checked~label.sk-toggleable__label {background-color: #d4ebff;}#sk-container-id-12 div.sk-label input.sk-toggleable__control:checked~label.sk-toggleable__label {background-color: #d4ebff;}#sk-container-id-12 input.sk-hidden--visually {border: 0;clip: rect(1px 1px 1px 1px);clip: rect(1px, 1px, 1px, 1px);height: 1px;margin: -1px;overflow: hidden;padding: 0;position: absolute;width: 1px;}#sk-container-id-12 div.sk-estimator {font-family: monospace;background-color: #f0f8ff;border: 1px dotted black;border-radius: 0.25em;box-sizing: border-box;margin-bottom: 0.5em;}#sk-container-id-12 div.sk-estimator:hover {background-color: #d4ebff;}#sk-container-id-12 div.sk-parallel-item::after {content: \"\";width: 100%;border-bottom: 1px solid gray;flex-grow: 1;}#sk-container-id-12 div.sk-label:hover label.sk-toggleable__label {background-color: #d4ebff;}#sk-container-id-12 div.sk-serial::before {content: \"\";position: absolute;border-left: 1px solid gray;box-sizing: border-box;top: 0;bottom: 0;left: 50%;z-index: 0;}#sk-container-id-12 div.sk-serial {display: flex;flex-direction: column;align-items: center;background-color: white;padding-right: 0.2em;padding-left: 0.2em;position: relative;}#sk-container-id-12 div.sk-item {position: relative;z-index: 1;}#sk-container-id-12 div.sk-parallel {display: flex;align-items: stretch;justify-content: center;background-color: white;position: relative;}#sk-container-id-12 div.sk-item::before, #sk-container-id-12 div.sk-parallel-item::before {content: \"\";position: absolute;border-left: 1px solid gray;box-sizing: border-box;top: 0;bottom: 0;left: 50%;z-index: -1;}#sk-container-id-12 div.sk-parallel-item {display: flex;flex-direction: column;z-index: 1;position: relative;background-color: white;}#sk-container-id-12 div.sk-parallel-item:first-child::after {align-self: flex-end;width: 50%;}#sk-container-id-12 div.sk-parallel-item:last-child::after {align-self: flex-start;width: 50%;}#sk-container-id-12 div.sk-parallel-item:only-child::after {width: 0;}#sk-container-id-12 div.sk-dashed-wrapped {border: 1px dashed gray;margin: 0 0.4em 0.5em 0.4em;box-sizing: border-box;padding-bottom: 0.4em;background-color: white;}#sk-container-id-12 div.sk-label label {font-family: monospace;font-weight: bold;display: inline-block;line-height: 1.2em;}#sk-container-id-12 div.sk-label-container {text-align: center;}#sk-container-id-12 div.sk-container {/* jupyter's `normalize.less` sets `[hidden] { display: none; }` but bootstrap.min.css set `[hidden] { display: none !important; }` so we also need the `!important` here to be able to override the default hidden behavior on the sphinx rendered scikit-learn.org. See: https://github.com/scikit-learn/scikit-learn/issues/21755 */display: inline-block !important;position: relative;}#sk-container-id-12 div.sk-text-repr-fallback {display: none;}</style><div id=\"sk-container-id-12\" class=\"sk-top-container\"><div class=\"sk-text-repr-fallback\"><pre>GridSearchCV(estimator=Pipeline(steps=[(&#x27;classifier&#x27;, LogisticRegression())]),\n",
       "             param_grid={&#x27;classifier__max_iter&#x27;: [100, 500, 1000],\n",
       "                         &#x27;classifier__penalty&#x27;: [&#x27;l2&#x27;]})</pre><b>In a Jupyter environment, please rerun this cell to show the HTML representation or trust the notebook. <br />On GitHub, the HTML representation is unable to render, please try loading this page with nbviewer.org.</b></div><div class=\"sk-container\" hidden><div class=\"sk-item sk-dashed-wrapped\"><div class=\"sk-label-container\"><div class=\"sk-label sk-toggleable\"><input class=\"sk-toggleable__control sk-hidden--visually\" id=\"sk-estimator-id-34\" type=\"checkbox\" ><label for=\"sk-estimator-id-34\" class=\"sk-toggleable__label sk-toggleable__label-arrow\">GridSearchCV</label><div class=\"sk-toggleable__content\"><pre>GridSearchCV(estimator=Pipeline(steps=[(&#x27;classifier&#x27;, LogisticRegression())]),\n",
       "             param_grid={&#x27;classifier__max_iter&#x27;: [100, 500, 1000],\n",
       "                         &#x27;classifier__penalty&#x27;: [&#x27;l2&#x27;]})</pre></div></div></div><div class=\"sk-parallel\"><div class=\"sk-parallel-item\"><div class=\"sk-item\"><div class=\"sk-label-container\"><div class=\"sk-label sk-toggleable\"><input class=\"sk-toggleable__control sk-hidden--visually\" id=\"sk-estimator-id-35\" type=\"checkbox\" ><label for=\"sk-estimator-id-35\" class=\"sk-toggleable__label sk-toggleable__label-arrow\">estimator: Pipeline</label><div class=\"sk-toggleable__content\"><pre>Pipeline(steps=[(&#x27;classifier&#x27;, LogisticRegression())])</pre></div></div></div><div class=\"sk-serial\"><div class=\"sk-item\"><div class=\"sk-serial\"><div class=\"sk-item\"><div class=\"sk-estimator sk-toggleable\"><input class=\"sk-toggleable__control sk-hidden--visually\" id=\"sk-estimator-id-36\" type=\"checkbox\" ><label for=\"sk-estimator-id-36\" class=\"sk-toggleable__label sk-toggleable__label-arrow\">LogisticRegression</label><div class=\"sk-toggleable__content\"><pre>LogisticRegression()</pre></div></div></div></div></div></div></div></div></div></div></div></div>"
      ],
      "text/plain": [
       "GridSearchCV(estimator=Pipeline(steps=[('classifier', LogisticRegression())]),\n",
       "             param_grid={'classifier__max_iter': [100, 500, 1000],\n",
       "                         'classifier__penalty': ['l2']})"
      ]
     },
     "execution_count": 856,
     "metadata": {},
     "output_type": "execute_result"
    }
   ],
   "source": [
    "lr_GS = GridSearchCV(pipeline_lr, parameters_lr)\n",
    "lr_GS.fit(x_train, y_train)"
   ]
  },
  {
   "cell_type": "code",
   "execution_count": 857,
   "metadata": {},
   "outputs": [
    {
     "data": {
      "text/html": [
       "<div>\n",
       "<style scoped>\n",
       "    .dataframe tbody tr th:only-of-type {\n",
       "        vertical-align: middle;\n",
       "    }\n",
       "\n",
       "    .dataframe tbody tr th {\n",
       "        vertical-align: top;\n",
       "    }\n",
       "\n",
       "    .dataframe thead th {\n",
       "        text-align: right;\n",
       "    }\n",
       "</style>\n",
       "<table border=\"1\" class=\"dataframe\">\n",
       "  <thead>\n",
       "    <tr style=\"text-align: right;\">\n",
       "      <th></th>\n",
       "      <th>mean_fit_time</th>\n",
       "      <th>std_fit_time</th>\n",
       "      <th>mean_score_time</th>\n",
       "      <th>std_score_time</th>\n",
       "      <th>param_classifier__max_iter</th>\n",
       "      <th>param_classifier__penalty</th>\n",
       "      <th>params</th>\n",
       "      <th>split0_test_score</th>\n",
       "      <th>split1_test_score</th>\n",
       "      <th>split2_test_score</th>\n",
       "      <th>split3_test_score</th>\n",
       "      <th>split4_test_score</th>\n",
       "      <th>mean_test_score</th>\n",
       "      <th>std_test_score</th>\n",
       "      <th>rank_test_score</th>\n",
       "    </tr>\n",
       "  </thead>\n",
       "  <tbody>\n",
       "    <tr>\n",
       "      <th>0</th>\n",
       "      <td>0.048645</td>\n",
       "      <td>0.017014</td>\n",
       "      <td>0.002392</td>\n",
       "      <td>0.000794</td>\n",
       "      <td>100</td>\n",
       "      <td>l2</td>\n",
       "      <td>{'classifier__max_iter': 100, 'classifier__pen...</td>\n",
       "      <td>0.852</td>\n",
       "      <td>0.858667</td>\n",
       "      <td>0.849333</td>\n",
       "      <td>0.855808</td>\n",
       "      <td>0.873164</td>\n",
       "      <td>0.857794</td>\n",
       "      <td>0.00832</td>\n",
       "      <td>1</td>\n",
       "    </tr>\n",
       "    <tr>\n",
       "      <th>1</th>\n",
       "      <td>0.033700</td>\n",
       "      <td>0.004511</td>\n",
       "      <td>0.001602</td>\n",
       "      <td>0.000494</td>\n",
       "      <td>500</td>\n",
       "      <td>l2</td>\n",
       "      <td>{'classifier__max_iter': 500, 'classifier__pen...</td>\n",
       "      <td>0.852</td>\n",
       "      <td>0.858667</td>\n",
       "      <td>0.849333</td>\n",
       "      <td>0.855808</td>\n",
       "      <td>0.873164</td>\n",
       "      <td>0.857794</td>\n",
       "      <td>0.00832</td>\n",
       "      <td>1</td>\n",
       "    </tr>\n",
       "    <tr>\n",
       "      <th>2</th>\n",
       "      <td>0.031846</td>\n",
       "      <td>0.005120</td>\n",
       "      <td>0.001465</td>\n",
       "      <td>0.000400</td>\n",
       "      <td>1000</td>\n",
       "      <td>l2</td>\n",
       "      <td>{'classifier__max_iter': 1000, 'classifier__pe...</td>\n",
       "      <td>0.852</td>\n",
       "      <td>0.858667</td>\n",
       "      <td>0.849333</td>\n",
       "      <td>0.855808</td>\n",
       "      <td>0.873164</td>\n",
       "      <td>0.857794</td>\n",
       "      <td>0.00832</td>\n",
       "      <td>1</td>\n",
       "    </tr>\n",
       "  </tbody>\n",
       "</table>\n",
       "</div>"
      ],
      "text/plain": [
       "   mean_fit_time  std_fit_time  mean_score_time  std_score_time  \\\n",
       "0       0.048645      0.017014         0.002392        0.000794   \n",
       "1       0.033700      0.004511         0.001602        0.000494   \n",
       "2       0.031846      0.005120         0.001465        0.000400   \n",
       "\n",
       "  param_classifier__max_iter param_classifier__penalty  \\\n",
       "0                        100                        l2   \n",
       "1                        500                        l2   \n",
       "2                       1000                        l2   \n",
       "\n",
       "                                              params  split0_test_score  \\\n",
       "0  {'classifier__max_iter': 100, 'classifier__pen...              0.852   \n",
       "1  {'classifier__max_iter': 500, 'classifier__pen...              0.852   \n",
       "2  {'classifier__max_iter': 1000, 'classifier__pe...              0.852   \n",
       "\n",
       "   split1_test_score  split2_test_score  split3_test_score  split4_test_score  \\\n",
       "0           0.858667           0.849333           0.855808           0.873164   \n",
       "1           0.858667           0.849333           0.855808           0.873164   \n",
       "2           0.858667           0.849333           0.855808           0.873164   \n",
       "\n",
       "   mean_test_score  std_test_score  rank_test_score  \n",
       "0         0.857794         0.00832                1  \n",
       "1         0.857794         0.00832                1  \n",
       "2         0.857794         0.00832                1  "
      ]
     },
     "execution_count": 857,
     "metadata": {},
     "output_type": "execute_result"
    }
   ],
   "source": [
    "pd.DataFrame.from_dict(lr_GS.cv_results_).sort_values(by=['rank_test_score'])"
   ]
  },
  {
   "cell_type": "code",
   "execution_count": 858,
   "metadata": {},
   "outputs": [
    {
     "name": "stdout",
     "output_type": "stream",
     "text": [
      "Accuracy: 0.8580060422960725\n",
      "F1 score: 0.29850746268656714\n",
      "Precision: 0.7407407407407407\n",
      "Recall: 0.18691588785046728\n",
      "ROC AUC score: 0.5871516376189274\n"
     ]
    },
    {
     "data": {
      "image/png": "[encoded data removed]",
      "text/plain": [
       "<Figure size 432x288 with 1 Axes>"
      ]
     },
     "metadata": {
      "needs_background": "light"
     },
     "output_type": "display_data"
    }
   ],
   "source": [
    "lr = LogisticRegression(penalty=lr_GS.best_params_['classifier__penalty'], max_iter=lr_GS.best_params_['classifier__max_iter'] )\n",
    "\n",
    "lr.fit(x_train, y_train)\n",
    "y_pred_lr = lr.predict(x_test)\n",
    "\n",
    "score(y_test, y_pred_lr)"
   ]
  },
  {
   "cell_type": "code",
   "execution_count": 859,
   "metadata": {},
   "outputs": [
    {
     "data": {
      "image/png": "[encoded data removed]",
      "text/plain": [
       "<Figure size 432x288 with 2 Axes>"
      ]
     },
     "metadata": {
      "needs_background": "light"
     },
     "output_type": "display_data"
    }
   ],
   "source": [
    "cm_lr = confusion_matrix(y_test, y_pred_lr)\n",
    "cmd_lr = ConfusionMatrixDisplay(confusion_matrix=cm_lr,\n",
    "                       display_labels=[0,1])\n",
    "\n",
    "cmd_lr.plot()\n",
    "plt.show()"
   ]
  },
  {
   "cell_type": "markdown",
   "metadata": {},
   "source": [
    "# Analyse des résultats"
   ]
  },
  {
   "attachments": {},
   "cell_type": "markdown",
   "metadata": {},
   "source": [
    "### DecisionTreeClassifier"
   ]
  },
  {
   "cell_type": "code",
   "execution_count": 860,
   "metadata": {},
   "outputs": [
    {
     "data": {
      "text/html": [
       "<div>\n",
       "<style scoped>\n",
       "    .dataframe tbody tr th:only-of-type {\n",
       "        vertical-align: middle;\n",
       "    }\n",
       "\n",
       "    .dataframe tbody tr th {\n",
       "        vertical-align: top;\n",
       "    }\n",
       "\n",
       "    .dataframe thead th {\n",
       "        text-align: right;\n",
       "    }\n",
       "</style>\n",
       "<table border=\"1\" class=\"dataframe\">\n",
       "  <thead>\n",
       "    <tr style=\"text-align: right;\">\n",
       "      <th></th>\n",
       "      <th>Column</th>\n",
       "      <th>Coefs</th>\n",
       "    </tr>\n",
       "  </thead>\n",
       "  <tbody>\n",
       "    <tr>\n",
       "      <th>9</th>\n",
       "      <td>YearsAtCompany</td>\n",
       "      <td>0.081967</td>\n",
       "    </tr>\n",
       "    <tr>\n",
       "      <th>35</th>\n",
       "      <td>avg_out_time</td>\n",
       "      <td>0.078650</td>\n",
       "    </tr>\n",
       "    <tr>\n",
       "      <th>31</th>\n",
       "      <td>EnvironmentSatisfaction</td>\n",
       "      <td>0.060754</td>\n",
       "    </tr>\n",
       "    <tr>\n",
       "      <th>7</th>\n",
       "      <td>TotalWorkingYears</td>\n",
       "      <td>0.059783</td>\n",
       "    </tr>\n",
       "    <tr>\n",
       "      <th>0</th>\n",
       "      <td>BusinessTravel</td>\n",
       "      <td>0.047845</td>\n",
       "    </tr>\n",
       "    <tr>\n",
       "      <th>3</th>\n",
       "      <td>MonthlyIncome</td>\n",
       "      <td>0.043909</td>\n",
       "    </tr>\n",
       "    <tr>\n",
       "      <th>34</th>\n",
       "      <td>avg_hours_worked</td>\n",
       "      <td>0.043140</td>\n",
       "    </tr>\n",
       "    <tr>\n",
       "      <th>4</th>\n",
       "      <td>NumCompaniesWorked</td>\n",
       "      <td>0.042571</td>\n",
       "    </tr>\n",
       "    <tr>\n",
       "      <th>5</th>\n",
       "      <td>PercentSalaryHike</td>\n",
       "      <td>0.041994</td>\n",
       "    </tr>\n",
       "    <tr>\n",
       "      <th>32</th>\n",
       "      <td>JobSatisfaction</td>\n",
       "      <td>0.041271</td>\n",
       "    </tr>\n",
       "    <tr>\n",
       "      <th>1</th>\n",
       "      <td>DistanceFromHome</td>\n",
       "      <td>0.040201</td>\n",
       "    </tr>\n",
       "    <tr>\n",
       "      <th>11</th>\n",
       "      <td>YearsWithCurrManager</td>\n",
       "      <td>0.038183</td>\n",
       "    </tr>\n",
       "    <tr>\n",
       "      <th>2</th>\n",
       "      <td>JobLevel</td>\n",
       "      <td>0.032927</td>\n",
       "    </tr>\n",
       "    <tr>\n",
       "      <th>29</th>\n",
       "      <td>JobInvolvement</td>\n",
       "      <td>0.029064</td>\n",
       "    </tr>\n",
       "    <tr>\n",
       "      <th>27</th>\n",
       "      <td>Job_Research Scientist</td>\n",
       "      <td>0.027602</td>\n",
       "    </tr>\n",
       "    <tr>\n",
       "      <th>8</th>\n",
       "      <td>TrainingTimesLastYear</td>\n",
       "      <td>0.025693</td>\n",
       "    </tr>\n",
       "    <tr>\n",
       "      <th>28</th>\n",
       "      <td>Job_Sales Executive</td>\n",
       "      <td>0.023487</td>\n",
       "    </tr>\n",
       "    <tr>\n",
       "      <th>26</th>\n",
       "      <td>Job_Research Director</td>\n",
       "      <td>0.021560</td>\n",
       "    </tr>\n",
       "    <tr>\n",
       "      <th>18</th>\n",
       "      <td>Education_Medical</td>\n",
       "      <td>0.020718</td>\n",
       "    </tr>\n",
       "    <tr>\n",
       "      <th>23</th>\n",
       "      <td>Job_Laboratory Technician</td>\n",
       "      <td>0.020598</td>\n",
       "    </tr>\n",
       "    <tr>\n",
       "      <th>6</th>\n",
       "      <td>StockOptionLevel</td>\n",
       "      <td>0.019547</td>\n",
       "    </tr>\n",
       "    <tr>\n",
       "      <th>12</th>\n",
       "      <td>Department_HR</td>\n",
       "      <td>0.017844</td>\n",
       "    </tr>\n",
       "    <tr>\n",
       "      <th>30</th>\n",
       "      <td>PerformanceRating</td>\n",
       "      <td>0.016872</td>\n",
       "    </tr>\n",
       "    <tr>\n",
       "      <th>10</th>\n",
       "      <td>YearsSinceLastPromotion</td>\n",
       "      <td>0.015723</td>\n",
       "    </tr>\n",
       "    <tr>\n",
       "      <th>25</th>\n",
       "      <td>Job_Manufacturing Director</td>\n",
       "      <td>0.014088</td>\n",
       "    </tr>\n",
       "    <tr>\n",
       "      <th>33</th>\n",
       "      <td>WorkLifeBalance</td>\n",
       "      <td>0.013724</td>\n",
       "    </tr>\n",
       "    <tr>\n",
       "      <th>16</th>\n",
       "      <td>Education_Life Sciences</td>\n",
       "      <td>0.013479</td>\n",
       "    </tr>\n",
       "    <tr>\n",
       "      <th>20</th>\n",
       "      <td>Education_Technical Degreee</td>\n",
       "      <td>0.011747</td>\n",
       "    </tr>\n",
       "    <tr>\n",
       "      <th>19</th>\n",
       "      <td>Education_Other</td>\n",
       "      <td>0.011215</td>\n",
       "    </tr>\n",
       "    <tr>\n",
       "      <th>14</th>\n",
       "      <td>Department_Sales</td>\n",
       "      <td>0.010889</td>\n",
       "    </tr>\n",
       "    <tr>\n",
       "      <th>17</th>\n",
       "      <td>Education_Marketing</td>\n",
       "      <td>0.009414</td>\n",
       "    </tr>\n",
       "    <tr>\n",
       "      <th>36</th>\n",
       "      <td>AverageStartTime</td>\n",
       "      <td>0.006846</td>\n",
       "    </tr>\n",
       "    <tr>\n",
       "      <th>15</th>\n",
       "      <td>Education_Human Resources</td>\n",
       "      <td>0.004477</td>\n",
       "    </tr>\n",
       "    <tr>\n",
       "      <th>22</th>\n",
       "      <td>Job_Human Resources</td>\n",
       "      <td>0.003966</td>\n",
       "    </tr>\n",
       "    <tr>\n",
       "      <th>21</th>\n",
       "      <td>Job_Healthcare Representative</td>\n",
       "      <td>0.003116</td>\n",
       "    </tr>\n",
       "    <tr>\n",
       "      <th>24</th>\n",
       "      <td>Job_Manager</td>\n",
       "      <td>0.002987</td>\n",
       "    </tr>\n",
       "    <tr>\n",
       "      <th>13</th>\n",
       "      <td>Department_Research &amp; Development</td>\n",
       "      <td>0.002149</td>\n",
       "    </tr>\n",
       "  </tbody>\n",
       "</table>\n",
       "</div>"
      ],
      "text/plain": [
       "                               Column     Coefs\n",
       "9                      YearsAtCompany  0.081967\n",
       "35                       avg_out_time  0.078650\n",
       "31            EnvironmentSatisfaction  0.060754\n",
       "7                   TotalWorkingYears  0.059783\n",
       "0                      BusinessTravel  0.047845\n",
       "3                       MonthlyIncome  0.043909\n",
       "34                   avg_hours_worked  0.043140\n",
       "4                  NumCompaniesWorked  0.042571\n",
       "5                   PercentSalaryHike  0.041994\n",
       "32                    JobSatisfaction  0.041271\n",
       "1                    DistanceFromHome  0.040201\n",
       "11               YearsWithCurrManager  0.038183\n",
       "2                            JobLevel  0.032927\n",
       "29                     JobInvolvement  0.029064\n",
       "27             Job_Research Scientist  0.027602\n",
       "8               TrainingTimesLastYear  0.025693\n",
       "28                Job_Sales Executive  0.023487\n",
       "26              Job_Research Director  0.021560\n",
       "18                  Education_Medical  0.020718\n",
       "23          Job_Laboratory Technician  0.020598\n",
       "6                    StockOptionLevel  0.019547\n",
       "12                      Department_HR  0.017844\n",
       "30                  PerformanceRating  0.016872\n",
       "10            YearsSinceLastPromotion  0.015723\n",
       "25         Job_Manufacturing Director  0.014088\n",
       "33                    WorkLifeBalance  0.013724\n",
       "16            Education_Life Sciences  0.013479\n",
       "20        Education_Technical Degreee  0.011747\n",
       "19                    Education_Other  0.011215\n",
       "14                   Department_Sales  0.010889\n",
       "17                Education_Marketing  0.009414\n",
       "36                   AverageStartTime  0.006846\n",
       "15          Education_Human Resources  0.004477\n",
       "22                Job_Human Resources  0.003966\n",
       "21      Job_Healthcare Representative  0.003116\n",
       "24                        Job_Manager  0.002987\n",
       "13  Department_Research & Development  0.002149"
      ]
     },
     "execution_count": 860,
     "metadata": {},
     "output_type": "execute_result"
    }
   ],
   "source": [
    "cl_dtc = list(zip(x_train.columns, dtc.feature_importances_))\n",
    "coefs_dtc = pd.DataFrame(cl_dtc, columns = ['Column', 'Coefs'])\n",
    "coefs_dtc.sort_values(by=['Coefs'], ascending=False)"
   ]
  },
  {
   "attachments": {},
   "cell_type": "markdown",
   "metadata": {},
   "source": [
    "### HistGradientBoostingClassifier"
   ]
  },
  {
   "attachments": {},
   "cell_type": "markdown",
   "metadata": {},
   "source": [
    "L'analyse des résutats d'un HistGradientBoostingClassifier est complexe car ce modèle est capable de capturer des relations non-linéaires entre nos differentes données.\n",
    "Il est donc difficile de comprendre comment ces relations non-linéaires contribuent à la prédiction du modèle."
   ]
  },
  {
   "attachments": {},
   "cell_type": "markdown",
   "metadata": {},
   "source": [
    "### RandomForestClassifier"
   ]
  },
  {
   "cell_type": "code",
   "execution_count": 861,
   "metadata": {},
   "outputs": [
    {
     "data": {
      "text/html": [
       "<div>\n",
       "<style scoped>\n",
       "    .dataframe tbody tr th:only-of-type {\n",
       "        vertical-align: middle;\n",
       "    }\n",
       "\n",
       "    .dataframe tbody tr th {\n",
       "        vertical-align: top;\n",
       "    }\n",
       "\n",
       "    .dataframe thead th {\n",
       "        text-align: right;\n",
       "    }\n",
       "</style>\n",
       "<table border=\"1\" class=\"dataframe\">\n",
       "  <thead>\n",
       "    <tr style=\"text-align: right;\">\n",
       "      <th></th>\n",
       "      <th>Column</th>\n",
       "      <th>Coefs</th>\n",
       "    </tr>\n",
       "  </thead>\n",
       "  <tbody>\n",
       "    <tr>\n",
       "      <th>34</th>\n",
       "      <td>avg_hours_worked</td>\n",
       "      <td>0.089531</td>\n",
       "    </tr>\n",
       "    <tr>\n",
       "      <th>35</th>\n",
       "      <td>avg_out_time</td>\n",
       "      <td>0.086425</td>\n",
       "    </tr>\n",
       "    <tr>\n",
       "      <th>7</th>\n",
       "      <td>TotalWorkingYears</td>\n",
       "      <td>0.085624</td>\n",
       "    </tr>\n",
       "    <tr>\n",
       "      <th>3</th>\n",
       "      <td>MonthlyIncome</td>\n",
       "      <td>0.071515</td>\n",
       "    </tr>\n",
       "    <tr>\n",
       "      <th>9</th>\n",
       "      <td>YearsAtCompany</td>\n",
       "      <td>0.057217</td>\n",
       "    </tr>\n",
       "    <tr>\n",
       "      <th>1</th>\n",
       "      <td>DistanceFromHome</td>\n",
       "      <td>0.052730</td>\n",
       "    </tr>\n",
       "    <tr>\n",
       "      <th>5</th>\n",
       "      <td>PercentSalaryHike</td>\n",
       "      <td>0.046507</td>\n",
       "    </tr>\n",
       "    <tr>\n",
       "      <th>11</th>\n",
       "      <td>YearsWithCurrManager</td>\n",
       "      <td>0.045920</td>\n",
       "    </tr>\n",
       "    <tr>\n",
       "      <th>4</th>\n",
       "      <td>NumCompaniesWorked</td>\n",
       "      <td>0.041500</td>\n",
       "    </tr>\n",
       "    <tr>\n",
       "      <th>31</th>\n",
       "      <td>EnvironmentSatisfaction</td>\n",
       "      <td>0.038877</td>\n",
       "    </tr>\n",
       "    <tr>\n",
       "      <th>32</th>\n",
       "      <td>JobSatisfaction</td>\n",
       "      <td>0.036780</td>\n",
       "    </tr>\n",
       "    <tr>\n",
       "      <th>10</th>\n",
       "      <td>YearsSinceLastPromotion</td>\n",
       "      <td>0.032634</td>\n",
       "    </tr>\n",
       "    <tr>\n",
       "      <th>8</th>\n",
       "      <td>TrainingTimesLastYear</td>\n",
       "      <td>0.031287</td>\n",
       "    </tr>\n",
       "    <tr>\n",
       "      <th>33</th>\n",
       "      <td>WorkLifeBalance</td>\n",
       "      <td>0.029172</td>\n",
       "    </tr>\n",
       "    <tr>\n",
       "      <th>36</th>\n",
       "      <td>AverageStartTime</td>\n",
       "      <td>0.028888</td>\n",
       "    </tr>\n",
       "    <tr>\n",
       "      <th>2</th>\n",
       "      <td>JobLevel</td>\n",
       "      <td>0.026472</td>\n",
       "    </tr>\n",
       "    <tr>\n",
       "      <th>0</th>\n",
       "      <td>BusinessTravel</td>\n",
       "      <td>0.023725</td>\n",
       "    </tr>\n",
       "    <tr>\n",
       "      <th>29</th>\n",
       "      <td>JobInvolvement</td>\n",
       "      <td>0.023190</td>\n",
       "    </tr>\n",
       "    <tr>\n",
       "      <th>6</th>\n",
       "      <td>StockOptionLevel</td>\n",
       "      <td>0.021130</td>\n",
       "    </tr>\n",
       "    <tr>\n",
       "      <th>28</th>\n",
       "      <td>Job_Sales Executive</td>\n",
       "      <td>0.012309</td>\n",
       "    </tr>\n",
       "    <tr>\n",
       "      <th>16</th>\n",
       "      <td>Education_Life Sciences</td>\n",
       "      <td>0.011868</td>\n",
       "    </tr>\n",
       "    <tr>\n",
       "      <th>18</th>\n",
       "      <td>Education_Medical</td>\n",
       "      <td>0.010580</td>\n",
       "    </tr>\n",
       "    <tr>\n",
       "      <th>14</th>\n",
       "      <td>Department_Sales</td>\n",
       "      <td>0.009824</td>\n",
       "    </tr>\n",
       "    <tr>\n",
       "      <th>27</th>\n",
       "      <td>Job_Research Scientist</td>\n",
       "      <td>0.009182</td>\n",
       "    </tr>\n",
       "    <tr>\n",
       "      <th>13</th>\n",
       "      <td>Department_Research &amp; Development</td>\n",
       "      <td>0.009077</td>\n",
       "    </tr>\n",
       "    <tr>\n",
       "      <th>23</th>\n",
       "      <td>Job_Laboratory Technician</td>\n",
       "      <td>0.008161</td>\n",
       "    </tr>\n",
       "    <tr>\n",
       "      <th>30</th>\n",
       "      <td>PerformanceRating</td>\n",
       "      <td>0.006851</td>\n",
       "    </tr>\n",
       "    <tr>\n",
       "      <th>26</th>\n",
       "      <td>Job_Research Director</td>\n",
       "      <td>0.006607</td>\n",
       "    </tr>\n",
       "    <tr>\n",
       "      <th>25</th>\n",
       "      <td>Job_Manufacturing Director</td>\n",
       "      <td>0.006348</td>\n",
       "    </tr>\n",
       "    <tr>\n",
       "      <th>21</th>\n",
       "      <td>Job_Healthcare Representative</td>\n",
       "      <td>0.006326</td>\n",
       "    </tr>\n",
       "    <tr>\n",
       "      <th>12</th>\n",
       "      <td>Department_HR</td>\n",
       "      <td>0.005984</td>\n",
       "    </tr>\n",
       "    <tr>\n",
       "      <th>15</th>\n",
       "      <td>Education_Human Resources</td>\n",
       "      <td>0.005442</td>\n",
       "    </tr>\n",
       "    <tr>\n",
       "      <th>20</th>\n",
       "      <td>Education_Technical Degreee</td>\n",
       "      <td>0.005340</td>\n",
       "    </tr>\n",
       "    <tr>\n",
       "      <th>24</th>\n",
       "      <td>Job_Manager</td>\n",
       "      <td>0.005096</td>\n",
       "    </tr>\n",
       "    <tr>\n",
       "      <th>17</th>\n",
       "      <td>Education_Marketing</td>\n",
       "      <td>0.004634</td>\n",
       "    </tr>\n",
       "    <tr>\n",
       "      <th>19</th>\n",
       "      <td>Education_Other</td>\n",
       "      <td>0.004043</td>\n",
       "    </tr>\n",
       "    <tr>\n",
       "      <th>22</th>\n",
       "      <td>Job_Human Resources</td>\n",
       "      <td>0.003205</td>\n",
       "    </tr>\n",
       "  </tbody>\n",
       "</table>\n",
       "</div>"
      ],
      "text/plain": [
       "                               Column     Coefs\n",
       "34                   avg_hours_worked  0.089531\n",
       "35                       avg_out_time  0.086425\n",
       "7                   TotalWorkingYears  0.085624\n",
       "3                       MonthlyIncome  0.071515\n",
       "9                      YearsAtCompany  0.057217\n",
       "1                    DistanceFromHome  0.052730\n",
       "5                   PercentSalaryHike  0.046507\n",
       "11               YearsWithCurrManager  0.045920\n",
       "4                  NumCompaniesWorked  0.041500\n",
       "31            EnvironmentSatisfaction  0.038877\n",
       "32                    JobSatisfaction  0.036780\n",
       "10            YearsSinceLastPromotion  0.032634\n",
       "8               TrainingTimesLastYear  0.031287\n",
       "33                    WorkLifeBalance  0.029172\n",
       "36                   AverageStartTime  0.028888\n",
       "2                            JobLevel  0.026472\n",
       "0                      BusinessTravel  0.023725\n",
       "29                     JobInvolvement  0.023190\n",
       "6                    StockOptionLevel  0.021130\n",
       "28                Job_Sales Executive  0.012309\n",
       "16            Education_Life Sciences  0.011868\n",
       "18                  Education_Medical  0.010580\n",
       "14                   Department_Sales  0.009824\n",
       "27             Job_Research Scientist  0.009182\n",
       "13  Department_Research & Development  0.009077\n",
       "23          Job_Laboratory Technician  0.008161\n",
       "30                  PerformanceRating  0.006851\n",
       "26              Job_Research Director  0.006607\n",
       "25         Job_Manufacturing Director  0.006348\n",
       "21      Job_Healthcare Representative  0.006326\n",
       "12                      Department_HR  0.005984\n",
       "15          Education_Human Resources  0.005442\n",
       "20        Education_Technical Degreee  0.005340\n",
       "24                        Job_Manager  0.005096\n",
       "17                Education_Marketing  0.004634\n",
       "19                    Education_Other  0.004043\n",
       "22                Job_Human Resources  0.003205"
      ]
     },
     "execution_count": 861,
     "metadata": {},
     "output_type": "execute_result"
    }
   ],
   "source": [
    "cl_rfc = list(zip(x_train.columns, rfc.feature_importances_))\n",
    "coefs_rfc= pd.DataFrame(cl_rfc, columns = ['Column', 'Coefs'])\n",
    "coefs_rfc.sort_values(by=['Coefs'], ascending=False)\n"
   ]
  },
  {
   "attachments": {},
   "cell_type": "markdown",
   "metadata": {},
   "source": [
    "### Perceptron"
   ]
  },
  {
   "cell_type": "code",
   "execution_count": 862,
   "metadata": {},
   "outputs": [
    {
     "data": {
      "text/html": [
       "<div>\n",
       "<style scoped>\n",
       "    .dataframe tbody tr th:only-of-type {\n",
       "        vertical-align: middle;\n",
       "    }\n",
       "\n",
       "    .dataframe tbody tr th {\n",
       "        vertical-align: top;\n",
       "    }\n",
       "\n",
       "    .dataframe thead th {\n",
       "        text-align: right;\n",
       "    }\n",
       "</style>\n",
       "<table border=\"1\" class=\"dataframe\">\n",
       "  <thead>\n",
       "    <tr style=\"text-align: right;\">\n",
       "      <th></th>\n",
       "      <th>Column</th>\n",
       "      <th>Coefs</th>\n",
       "    </tr>\n",
       "  </thead>\n",
       "  <tbody>\n",
       "    <tr>\n",
       "      <th>10</th>\n",
       "      <td>YearsSinceLastPromotion</td>\n",
       "      <td>3.268002</td>\n",
       "    </tr>\n",
       "    <tr>\n",
       "      <th>4</th>\n",
       "      <td>NumCompaniesWorked</td>\n",
       "      <td>1.234357</td>\n",
       "    </tr>\n",
       "    <tr>\n",
       "      <th>16</th>\n",
       "      <td>Education_Life Sciences</td>\n",
       "      <td>1.029141</td>\n",
       "    </tr>\n",
       "    <tr>\n",
       "      <th>34</th>\n",
       "      <td>avg_hours_worked</td>\n",
       "      <td>1.028537</td>\n",
       "    </tr>\n",
       "    <tr>\n",
       "      <th>35</th>\n",
       "      <td>avg_out_time</td>\n",
       "      <td>0.992718</td>\n",
       "    </tr>\n",
       "    <tr>\n",
       "      <th>26</th>\n",
       "      <td>Job_Research Director</td>\n",
       "      <td>0.769916</td>\n",
       "    </tr>\n",
       "    <tr>\n",
       "      <th>15</th>\n",
       "      <td>Education_Human Resources</td>\n",
       "      <td>0.459671</td>\n",
       "    </tr>\n",
       "    <tr>\n",
       "      <th>0</th>\n",
       "      <td>BusinessTravel</td>\n",
       "      <td>0.404322</td>\n",
       "    </tr>\n",
       "    <tr>\n",
       "      <th>27</th>\n",
       "      <td>Job_Research Scientist</td>\n",
       "      <td>0.171244</td>\n",
       "    </tr>\n",
       "    <tr>\n",
       "      <th>28</th>\n",
       "      <td>Job_Sales Executive</td>\n",
       "      <td>0.000000</td>\n",
       "    </tr>\n",
       "    <tr>\n",
       "      <th>17</th>\n",
       "      <td>Education_Marketing</td>\n",
       "      <td>0.000000</td>\n",
       "    </tr>\n",
       "    <tr>\n",
       "      <th>24</th>\n",
       "      <td>Job_Manager</td>\n",
       "      <td>0.000000</td>\n",
       "    </tr>\n",
       "    <tr>\n",
       "      <th>30</th>\n",
       "      <td>PerformanceRating</td>\n",
       "      <td>0.000000</td>\n",
       "    </tr>\n",
       "    <tr>\n",
       "      <th>23</th>\n",
       "      <td>Job_Laboratory Technician</td>\n",
       "      <td>0.000000</td>\n",
       "    </tr>\n",
       "    <tr>\n",
       "      <th>22</th>\n",
       "      <td>Job_Human Resources</td>\n",
       "      <td>0.000000</td>\n",
       "    </tr>\n",
       "    <tr>\n",
       "      <th>21</th>\n",
       "      <td>Job_Healthcare Representative</td>\n",
       "      <td>0.000000</td>\n",
       "    </tr>\n",
       "    <tr>\n",
       "      <th>1</th>\n",
       "      <td>DistanceFromHome</td>\n",
       "      <td>0.000000</td>\n",
       "    </tr>\n",
       "    <tr>\n",
       "      <th>18</th>\n",
       "      <td>Education_Medical</td>\n",
       "      <td>0.000000</td>\n",
       "    </tr>\n",
       "    <tr>\n",
       "      <th>14</th>\n",
       "      <td>Department_Sales</td>\n",
       "      <td>0.000000</td>\n",
       "    </tr>\n",
       "    <tr>\n",
       "      <th>5</th>\n",
       "      <td>PercentSalaryHike</td>\n",
       "      <td>0.000000</td>\n",
       "    </tr>\n",
       "    <tr>\n",
       "      <th>13</th>\n",
       "      <td>Department_Research &amp; Development</td>\n",
       "      <td>0.000000</td>\n",
       "    </tr>\n",
       "    <tr>\n",
       "      <th>12</th>\n",
       "      <td>Department_HR</td>\n",
       "      <td>0.000000</td>\n",
       "    </tr>\n",
       "    <tr>\n",
       "      <th>9</th>\n",
       "      <td>YearsAtCompany</td>\n",
       "      <td>0.000000</td>\n",
       "    </tr>\n",
       "    <tr>\n",
       "      <th>20</th>\n",
       "      <td>Education_Technical Degreee</td>\n",
       "      <td>-0.178622</td>\n",
       "    </tr>\n",
       "    <tr>\n",
       "      <th>2</th>\n",
       "      <td>JobLevel</td>\n",
       "      <td>-0.420531</td>\n",
       "    </tr>\n",
       "    <tr>\n",
       "      <th>3</th>\n",
       "      <td>MonthlyIncome</td>\n",
       "      <td>-0.817889</td>\n",
       "    </tr>\n",
       "    <tr>\n",
       "      <th>8</th>\n",
       "      <td>TrainingTimesLastYear</td>\n",
       "      <td>-0.918072</td>\n",
       "    </tr>\n",
       "    <tr>\n",
       "      <th>36</th>\n",
       "      <td>AverageStartTime</td>\n",
       "      <td>-1.188863</td>\n",
       "    </tr>\n",
       "    <tr>\n",
       "      <th>25</th>\n",
       "      <td>Job_Manufacturing Director</td>\n",
       "      <td>-1.262810</td>\n",
       "    </tr>\n",
       "    <tr>\n",
       "      <th>29</th>\n",
       "      <td>JobInvolvement</td>\n",
       "      <td>-1.541487</td>\n",
       "    </tr>\n",
       "    <tr>\n",
       "      <th>6</th>\n",
       "      <td>StockOptionLevel</td>\n",
       "      <td>-1.609888</td>\n",
       "    </tr>\n",
       "    <tr>\n",
       "      <th>19</th>\n",
       "      <td>Education_Other</td>\n",
       "      <td>-1.824614</td>\n",
       "    </tr>\n",
       "    <tr>\n",
       "      <th>33</th>\n",
       "      <td>WorkLifeBalance</td>\n",
       "      <td>-2.007502</td>\n",
       "    </tr>\n",
       "    <tr>\n",
       "      <th>32</th>\n",
       "      <td>JobSatisfaction</td>\n",
       "      <td>-2.156519</td>\n",
       "    </tr>\n",
       "    <tr>\n",
       "      <th>11</th>\n",
       "      <td>YearsWithCurrManager</td>\n",
       "      <td>-2.281294</td>\n",
       "    </tr>\n",
       "    <tr>\n",
       "      <th>31</th>\n",
       "      <td>EnvironmentSatisfaction</td>\n",
       "      <td>-2.480522</td>\n",
       "    </tr>\n",
       "    <tr>\n",
       "      <th>7</th>\n",
       "      <td>TotalWorkingYears</td>\n",
       "      <td>-5.307554</td>\n",
       "    </tr>\n",
       "  </tbody>\n",
       "</table>\n",
       "</div>"
      ],
      "text/plain": [
       "                               Column     Coefs\n",
       "10            YearsSinceLastPromotion  3.268002\n",
       "4                  NumCompaniesWorked  1.234357\n",
       "16            Education_Life Sciences  1.029141\n",
       "34                   avg_hours_worked  1.028537\n",
       "35                       avg_out_time  0.992718\n",
       "26              Job_Research Director  0.769916\n",
       "15          Education_Human Resources  0.459671\n",
       "0                      BusinessTravel  0.404322\n",
       "27             Job_Research Scientist  0.171244\n",
       "28                Job_Sales Executive  0.000000\n",
       "17                Education_Marketing  0.000000\n",
       "24                        Job_Manager  0.000000\n",
       "30                  PerformanceRating  0.000000\n",
       "23          Job_Laboratory Technician  0.000000\n",
       "22                Job_Human Resources  0.000000\n",
       "21      Job_Healthcare Representative  0.000000\n",
       "1                    DistanceFromHome  0.000000\n",
       "18                  Education_Medical  0.000000\n",
       "14                   Department_Sales  0.000000\n",
       "5                   PercentSalaryHike  0.000000\n",
       "13  Department_Research & Development  0.000000\n",
       "12                      Department_HR  0.000000\n",
       "9                      YearsAtCompany  0.000000\n",
       "20        Education_Technical Degreee -0.178622\n",
       "2                            JobLevel -0.420531\n",
       "3                       MonthlyIncome -0.817889\n",
       "8               TrainingTimesLastYear -0.918072\n",
       "36                   AverageStartTime -1.188863\n",
       "25         Job_Manufacturing Director -1.262810\n",
       "29                     JobInvolvement -1.541487\n",
       "6                    StockOptionLevel -1.609888\n",
       "19                    Education_Other -1.824614\n",
       "33                    WorkLifeBalance -2.007502\n",
       "32                    JobSatisfaction -2.156519\n",
       "11               YearsWithCurrManager -2.281294\n",
       "31            EnvironmentSatisfaction -2.480522\n",
       "7                   TotalWorkingYears -5.307554"
      ]
     },
     "execution_count": 862,
     "metadata": {},
     "output_type": "execute_result"
    }
   ],
   "source": [
    "cl_pe = list(zip(x_train.columns, pe.coef_[0]))\n",
    "coefs_pe = pd.DataFrame(cl_pe, columns = ['Column', 'Coefs'])\n",
    "coefs_pe.sort_values(by=['Coefs'], ascending=False)"
   ]
  },
  {
   "attachments": {},
   "cell_type": "markdown",
   "metadata": {},
   "source": [
    "### LogisticRegression"
   ]
  },
  {
   "cell_type": "code",
   "execution_count": 863,
   "metadata": {},
   "outputs": [
    {
     "data": {
      "text/html": [
       "<div>\n",
       "<style scoped>\n",
       "    .dataframe tbody tr th:only-of-type {\n",
       "        vertical-align: middle;\n",
       "    }\n",
       "\n",
       "    .dataframe tbody tr th {\n",
       "        vertical-align: top;\n",
       "    }\n",
       "\n",
       "    .dataframe thead th {\n",
       "        text-align: right;\n",
       "    }\n",
       "</style>\n",
       "<table border=\"1\" class=\"dataframe\">\n",
       "  <thead>\n",
       "    <tr style=\"text-align: right;\">\n",
       "      <th></th>\n",
       "      <th>Column</th>\n",
       "      <th>Coefs</th>\n",
       "    </tr>\n",
       "  </thead>\n",
       "  <tbody>\n",
       "    <tr>\n",
       "      <th>10</th>\n",
       "      <td>YearsSinceLastPromotion</td>\n",
       "      <td>1.937502</td>\n",
       "    </tr>\n",
       "    <tr>\n",
       "      <th>0</th>\n",
       "      <td>BusinessTravel</td>\n",
       "      <td>1.452051</td>\n",
       "    </tr>\n",
       "    <tr>\n",
       "      <th>34</th>\n",
       "      <td>avg_hours_worked</td>\n",
       "      <td>1.092415</td>\n",
       "    </tr>\n",
       "    <tr>\n",
       "      <th>35</th>\n",
       "      <td>avg_out_time</td>\n",
       "      <td>1.081810</td>\n",
       "    </tr>\n",
       "    <tr>\n",
       "      <th>4</th>\n",
       "      <td>NumCompaniesWorked</td>\n",
       "      <td>0.897091</td>\n",
       "    </tr>\n",
       "    <tr>\n",
       "      <th>26</th>\n",
       "      <td>Job_Research Director</td>\n",
       "      <td>0.674109</td>\n",
       "    </tr>\n",
       "    <tr>\n",
       "      <th>15</th>\n",
       "      <td>Education_Human Resources</td>\n",
       "      <td>0.657634</td>\n",
       "    </tr>\n",
       "    <tr>\n",
       "      <th>28</th>\n",
       "      <td>Job_Sales Executive</td>\n",
       "      <td>0.437247</td>\n",
       "    </tr>\n",
       "    <tr>\n",
       "      <th>12</th>\n",
       "      <td>Department_HR</td>\n",
       "      <td>0.340091</td>\n",
       "    </tr>\n",
       "    <tr>\n",
       "      <th>5</th>\n",
       "      <td>PercentSalaryHike</td>\n",
       "      <td>0.294088</td>\n",
       "    </tr>\n",
       "    <tr>\n",
       "      <th>27</th>\n",
       "      <td>Job_Research Scientist</td>\n",
       "      <td>0.261859</td>\n",
       "    </tr>\n",
       "    <tr>\n",
       "      <th>23</th>\n",
       "      <td>Job_Laboratory Technician</td>\n",
       "      <td>0.181342</td>\n",
       "    </tr>\n",
       "    <tr>\n",
       "      <th>16</th>\n",
       "      <td>Education_Life Sciences</td>\n",
       "      <td>0.149176</td>\n",
       "    </tr>\n",
       "    <tr>\n",
       "      <th>21</th>\n",
       "      <td>Job_Healthcare Representative</td>\n",
       "      <td>0.093821</td>\n",
       "    </tr>\n",
       "    <tr>\n",
       "      <th>22</th>\n",
       "      <td>Job_Human Resources</td>\n",
       "      <td>-0.018620</td>\n",
       "    </tr>\n",
       "    <tr>\n",
       "      <th>24</th>\n",
       "      <td>Job_Manager</td>\n",
       "      <td>-0.030738</td>\n",
       "    </tr>\n",
       "    <tr>\n",
       "      <th>30</th>\n",
       "      <td>PerformanceRating</td>\n",
       "      <td>-0.035188</td>\n",
       "    </tr>\n",
       "    <tr>\n",
       "      <th>18</th>\n",
       "      <td>Education_Medical</td>\n",
       "      <td>-0.074094</td>\n",
       "    </tr>\n",
       "    <tr>\n",
       "      <th>3</th>\n",
       "      <td>MonthlyIncome</td>\n",
       "      <td>-0.103314</td>\n",
       "    </tr>\n",
       "    <tr>\n",
       "      <th>13</th>\n",
       "      <td>Department_Research &amp; Development</td>\n",
       "      <td>-0.126461</td>\n",
       "    </tr>\n",
       "    <tr>\n",
       "      <th>1</th>\n",
       "      <td>DistanceFromHome</td>\n",
       "      <td>-0.146158</td>\n",
       "    </tr>\n",
       "    <tr>\n",
       "      <th>6</th>\n",
       "      <td>StockOptionLevel</td>\n",
       "      <td>-0.148899</td>\n",
       "    </tr>\n",
       "    <tr>\n",
       "      <th>17</th>\n",
       "      <td>Education_Marketing</td>\n",
       "      <td>-0.167116</td>\n",
       "    </tr>\n",
       "    <tr>\n",
       "      <th>36</th>\n",
       "      <td>AverageStartTime</td>\n",
       "      <td>-0.174628</td>\n",
       "    </tr>\n",
       "    <tr>\n",
       "      <th>14</th>\n",
       "      <td>Department_Sales</td>\n",
       "      <td>-0.211813</td>\n",
       "    </tr>\n",
       "    <tr>\n",
       "      <th>20</th>\n",
       "      <td>Education_Technical Degreee</td>\n",
       "      <td>-0.256664</td>\n",
       "    </tr>\n",
       "    <tr>\n",
       "      <th>29</th>\n",
       "      <td>JobInvolvement</td>\n",
       "      <td>-0.268300</td>\n",
       "    </tr>\n",
       "    <tr>\n",
       "      <th>9</th>\n",
       "      <td>YearsAtCompany</td>\n",
       "      <td>-0.277162</td>\n",
       "    </tr>\n",
       "    <tr>\n",
       "      <th>19</th>\n",
       "      <td>Education_Other</td>\n",
       "      <td>-0.307119</td>\n",
       "    </tr>\n",
       "    <tr>\n",
       "      <th>2</th>\n",
       "      <td>JobLevel</td>\n",
       "      <td>-0.311474</td>\n",
       "    </tr>\n",
       "    <tr>\n",
       "      <th>25</th>\n",
       "      <td>Job_Manufacturing Director</td>\n",
       "      <td>-0.455167</td>\n",
       "    </tr>\n",
       "    <tr>\n",
       "      <th>8</th>\n",
       "      <td>TrainingTimesLastYear</td>\n",
       "      <td>-0.764717</td>\n",
       "    </tr>\n",
       "    <tr>\n",
       "      <th>33</th>\n",
       "      <td>WorkLifeBalance</td>\n",
       "      <td>-0.806908</td>\n",
       "    </tr>\n",
       "    <tr>\n",
       "      <th>31</th>\n",
       "      <td>EnvironmentSatisfaction</td>\n",
       "      <td>-1.011079</td>\n",
       "    </tr>\n",
       "    <tr>\n",
       "      <th>32</th>\n",
       "      <td>JobSatisfaction</td>\n",
       "      <td>-1.040352</td>\n",
       "    </tr>\n",
       "    <tr>\n",
       "      <th>11</th>\n",
       "      <td>YearsWithCurrManager</td>\n",
       "      <td>-2.123571</td>\n",
       "    </tr>\n",
       "    <tr>\n",
       "      <th>7</th>\n",
       "      <td>TotalWorkingYears</td>\n",
       "      <td>-3.598322</td>\n",
       "    </tr>\n",
       "  </tbody>\n",
       "</table>\n",
       "</div>"
      ],
      "text/plain": [
       "                               Column     Coefs\n",
       "10            YearsSinceLastPromotion  1.937502\n",
       "0                      BusinessTravel  1.452051\n",
       "34                   avg_hours_worked  1.092415\n",
       "35                       avg_out_time  1.081810\n",
       "4                  NumCompaniesWorked  0.897091\n",
       "26              Job_Research Director  0.674109\n",
       "15          Education_Human Resources  0.657634\n",
       "28                Job_Sales Executive  0.437247\n",
       "12                      Department_HR  0.340091\n",
       "5                   PercentSalaryHike  0.294088\n",
       "27             Job_Research Scientist  0.261859\n",
       "23          Job_Laboratory Technician  0.181342\n",
       "16            Education_Life Sciences  0.149176\n",
       "21      Job_Healthcare Representative  0.093821\n",
       "22                Job_Human Resources -0.018620\n",
       "24                        Job_Manager -0.030738\n",
       "30                  PerformanceRating -0.035188\n",
       "18                  Education_Medical -0.074094\n",
       "3                       MonthlyIncome -0.103314\n",
       "13  Department_Research & Development -0.126461\n",
       "1                    DistanceFromHome -0.146158\n",
       "6                    StockOptionLevel -0.148899\n",
       "17                Education_Marketing -0.167116\n",
       "36                   AverageStartTime -0.174628\n",
       "14                   Department_Sales -0.211813\n",
       "20        Education_Technical Degreee -0.256664\n",
       "29                     JobInvolvement -0.268300\n",
       "9                      YearsAtCompany -0.277162\n",
       "19                    Education_Other -0.307119\n",
       "2                            JobLevel -0.311474\n",
       "25         Job_Manufacturing Director -0.455167\n",
       "8               TrainingTimesLastYear -0.764717\n",
       "33                    WorkLifeBalance -0.806908\n",
       "31            EnvironmentSatisfaction -1.011079\n",
       "32                    JobSatisfaction -1.040352\n",
       "11               YearsWithCurrManager -2.123571\n",
       "7                   TotalWorkingYears -3.598322"
      ]
     },
     "execution_count": 863,
     "metadata": {},
     "output_type": "execute_result"
    }
   ],
   "source": [
    "cl_lr = list(zip(x_train.columns, lr.coef_[0]))\n",
    "coefs_lr = pd.DataFrame(cl_lr, columns = ['Column', 'Coefs'])\n",
    "coefs_lr.sort_values(by=['Coefs'], ascending=False)"
   ]
  },
  {
   "attachments": {},
   "cell_type": "markdown",
   "metadata": {},
   "source": [
    "# Conclusion\n",
    "<div id=\"cc\"></div>"
   ]
  },
  {
   "attachments": {},
   "cell_type": "markdown",
   "metadata": {},
   "source": [
    "Le choix du modèle de machine learning dépend de nombreux facteurs tels que la taille et la qualité des données, le type de problème à résoudre et les objectifs de performance. Dans le cas présent, nous avons éliminé HistGradientBoostingClassifier en raison de son manque d'interprétabilité, et le perceptron ainsi que la régression logistique en raison de résultats inexploitables.\n",
    "\n",
    "Finalement, le DecisionTreeClassifier a été choisi comme modèle car il est plus facile à comprendre que le RandomForestClassifier. Il est donc plus facile d'expliquer les relations possibles entre nos différentes données et donc de proposer des pistes d'amélioration pour réduire le turn over."
   ]
  },
  {
   "attachments": {},
   "cell_type": "markdown",
   "metadata": {},
   "source": [
    "## Etudes pour HumanForYou"
   ]
  },
  {
   "attachments": {},
   "cell_type": "markdown",
   "metadata": {},
   "source": [
    "Dans cette partie, nous proposons plusieurs pistes d'amélioration pour aider HumanForYou à réduire \n",
    "son taux de turn-over et à améliorer la satisfaction des employés. Nos recommandations sont basées \n",
    "sur l'analyse des données fournies et les modèles développés dans le respect des principes éthiques"
   ]
  },
  {
   "cell_type": "code",
   "execution_count": 866,
   "metadata": {},
   "outputs": [
    {
     "data": {
      "text/html": [
       "<div>\n",
       "<style scoped>\n",
       "    .dataframe tbody tr th:only-of-type {\n",
       "        vertical-align: middle;\n",
       "    }\n",
       "\n",
       "    .dataframe tbody tr th {\n",
       "        vertical-align: top;\n",
       "    }\n",
       "\n",
       "    .dataframe thead th {\n",
       "        text-align: right;\n",
       "    }\n",
       "</style>\n",
       "<table border=\"1\" class=\"dataframe\">\n",
       "  <thead>\n",
       "    <tr style=\"text-align: right;\">\n",
       "      <th></th>\n",
       "      <th>Column</th>\n",
       "      <th>Coefs</th>\n",
       "    </tr>\n",
       "  </thead>\n",
       "  <tbody>\n",
       "    <tr>\n",
       "      <th>9</th>\n",
       "      <td>YearsAtCompany</td>\n",
       "      <td>0.081967</td>\n",
       "    </tr>\n",
       "    <tr>\n",
       "      <th>35</th>\n",
       "      <td>avg_out_time</td>\n",
       "      <td>0.078650</td>\n",
       "    </tr>\n",
       "    <tr>\n",
       "      <th>31</th>\n",
       "      <td>EnvironmentSatisfaction</td>\n",
       "      <td>0.060754</td>\n",
       "    </tr>\n",
       "    <tr>\n",
       "      <th>7</th>\n",
       "      <td>TotalWorkingYears</td>\n",
       "      <td>0.059783</td>\n",
       "    </tr>\n",
       "  </tbody>\n",
       "</table>\n",
       "</div>"
      ],
      "text/plain": [
       "                     Column     Coefs\n",
       "9            YearsAtCompany  0.081967\n",
       "35             avg_out_time  0.078650\n",
       "31  EnvironmentSatisfaction  0.060754\n",
       "7         TotalWorkingYears  0.059783"
      ]
     },
     "execution_count": 866,
     "metadata": {},
     "output_type": "execute_result"
    }
   ],
   "source": [
    "coefs_dtc.sort_values(by=['Coefs'], ascending=False).head(4)"
   ]
  },
  {
   "attachments": {},
   "cell_type": "markdown",
   "metadata": {},
   "source": [
    "### Opportunités de formation et de développement professionnel\n",
    "Le nombre de jours de formation et les années depuis la dernière promotion (YearsSinceLastPromotion) sont des facteurs \n",
    "influençant le taux de turn-over. Il est essentiel d'offrir des opportunités de formation et de \n",
    "développement professionnel pour maintenir l'engagement des employés. HumanForYou pourrait \n",
    "mettre en place un programme de formation continue et un système de mentorat pour soutenir les \n",
    "employés dans leur évolution professionnelle.\n",
    "### Amélioration de l'équilibre travail-vie personnelle\n",
    "Les données montrent que le temps passé au travail (avg_hours_worked & avg_out_time) est un facteur important \n",
    "pour la satisfaction des employés. L'entreprise pourrait proposer des options de travail flexibles, \n",
    "comme le télétravail, des horaires ajustables ou la mise en place d'un système de crédit-temps pour \n",
    "encourager une meilleure conciliation entre la vie professionnelle et personnelle.\n",
    "### Satisfaction de l'environnement de travail \n",
    "Les employés qui se sentent satisfaits de leur environnement de travail (EnvironmentSatisfaction) sont plus susceptibles de \n",
    "rester dans l'entreprise. HumanForYou devrait examiner les conditions de travail, les installations et \n",
    "les équipements pour s'assurer qu'ils sont bien adaptés aux besoins des employés. Des enquêtes \n",
    "régulières sur la qualité de vie au travail peuvent aider à identifier les domaines à améliorer.\n",
    "\n",
    "En mettant en œuvre ces pistes d'amélioration, HumanForYou peut créer un environnement de \n",
    "travail plus attrayant et réduire le taux de turn-over. Il est important de suivre régulièrement \n",
    "l'efficacité de ces initiatives et d'ajuster les stratégies en conséquence, en tenant compte des retours \n",
    "des employés et des nouvelles informations issues de l'analyse des données"
   ]
  }
 ],
 "metadata": {
  "kernelspec": {
   "display_name": "Python 3 (ipykernel)",
   "language": "python",
   "name": "python3"
  },
  "language_info": {
   "codemirror_mode": {
    "name": "ipython",
    "version": 3
   },
   "file_extension": ".py",
   "mimetype": "text/x-python",
   "name": "python",
   "nbconvert_exporter": "python",
   "pygments_lexer": "ipython3",
   "version": "3.10.4"
  }
 },
 "nbformat": 4,
 "nbformat_minor": 4
}
