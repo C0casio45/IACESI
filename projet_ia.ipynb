{
 "cells": [
  {
   "cell_type": "code",
   "execution_count": 105,
   "metadata": {
    "tags": []
   },
   "outputs": [],
   "source": [
    "import sklearn\n",
    "import warnings\n",
    "import statistics\n",
    "import numpy as np\n",
    "import pandas as pd\n",
    "import seaborn as sns\n",
    "import matplotlib.pyplot as plt\n",
    "\n",
    "from sklearn.svm import SVC\n",
    "from statistics import median, mean\n",
    "from sklearn.pipeline import Pipeline\n",
    "from sklearn.tree import DecisionTreeClassifier\n",
    "from sklearn.neighbors import KNeighborsClassifier\n",
    "from sklearn.linear_model import LogisticRegression, Perceptron\n",
    "from sklearn.base import BaseEstimator, TransformerMixin\n",
    "from sklearn.preprocessing import OrdinalEncoder, OneHotEncoder\n",
    "from sklearn.linear_model import LinearRegression, SGDRegressor\n",
    "from sklearn.metrics import accuracy_score, confusion_matrix, classification_report, ConfusionMatrixDisplay\n",
    "from sklearn.model_selection import train_test_split,cross_val_score, cross_validate, GridSearchCV\n",
    "from sklearn.feature_selection import SelectKBest, chi2\n",
    "from sklearn.ensemble import RandomForestClassifier, GradientBoostingClassifier, HistGradientBoostingClassifier,RandomForestRegressor, GradientBoostingRegressor, HistGradientBoostingRegressor\n",
    "from sklearn.metrics import f1_score, make_scorer\n",
    "from sklearn.metrics import RocCurveDisplay\n",
    "from sklearn.impute import KNNImputer"
   ]
  },
  {
   "cell_type": "code",
   "execution_count": 59,
   "metadata": {
    "tags": []
   },
   "outputs": [],
   "source": [
    "dir = \"data/\"\n",
    "\n",
    "employee_survey = pd.read_csv(dir + \"employee_survey_data.csv\")\n",
    "general = pd.read_csv(dir + \"general_data.csv\")\n",
    "manager_survey = pd.read_csv(dir + \"manager_survey_data.csv\")\n",
    "in_time = pd.read_csv(dir + \"in_time.csv\")\n",
    "out_time = pd.read_csv(dir + \"out_time.csv\")"
   ]
  },
  {
   "cell_type": "code",
   "execution_count": 60,
   "metadata": {},
   "outputs": [],
   "source": [
    "np.random.seed(4444)"
   ]
  },
  {
   "cell_type": "markdown",
   "metadata": {},
   "source": [
    "# Sommaire\n",
    "\n",
    "<ul>\n",
    "    <li><a href=\"#es\">Employe survey</a></li>\n",
    "    <li><a href=\"#ge\">General</a></li>\n",
    "    <li><a href=\"#ms\">Manager survey</a></li>\n",
    "    <li><a href=\"#it\">In Time</a></li>\n",
    "    <li><a href=\"#ot\">Out Time</a></li>\n",
    "    <li><a href=\"#ld\">Lien entre les dataset</a></li>\n",
    "    <li><a href=\"#cc\">Conclusion</a></li>\n",
    "</ul>"
   ]
  },
  {
   "cell_type": "markdown",
   "metadata": {},
   "source": [
    "# Définition des variables globales"
   ]
  },
  {
   "cell_type": "code",
   "execution_count": 61,
   "metadata": {},
   "outputs": [
    {
     "name": "stdout",
     "output_type": "stream",
     "text": [
      "Il y a 4410 employés dans le dataset\n"
     ]
    }
   ],
   "source": [
    "nbEmploye = employee_survey[\"EmployeeID\"].max()\n",
    "print(\"Il y a\", nbEmploye, \"employés dans le dataset\")"
   ]
  },
  {
   "cell_type": "markdown",
   "metadata": {},
   "source": [
    "# Employee survey\n",
    "<div id=\"es\"></div>"
   ]
  },
  {
   "cell_type": "markdown",
   "metadata": {},
   "source": [
    "## Données contenues dans le set"
   ]
  },
  {
   "cell_type": "code",
   "execution_count": 62,
   "metadata": {},
   "outputs": [
    {
     "data": {
      "text/html": [
       "<div>\n",
       "<style scoped>\n",
       "    .dataframe tbody tr th:only-of-type {\n",
       "        vertical-align: middle;\n",
       "    }\n",
       "\n",
       "    .dataframe tbody tr th {\n",
       "        vertical-align: top;\n",
       "    }\n",
       "\n",
       "    .dataframe thead th {\n",
       "        text-align: right;\n",
       "    }\n",
       "</style>\n",
       "<table border=\"1\" class=\"dataframe\">\n",
       "  <thead>\n",
       "    <tr style=\"text-align: right;\">\n",
       "      <th></th>\n",
       "      <th>EmployeeID</th>\n",
       "      <th>EnvironmentSatisfaction</th>\n",
       "      <th>JobSatisfaction</th>\n",
       "      <th>WorkLifeBalance</th>\n",
       "    </tr>\n",
       "  </thead>\n",
       "  <tbody>\n",
       "    <tr>\n",
       "      <th>0</th>\n",
       "      <td>1</td>\n",
       "      <td>3.0</td>\n",
       "      <td>4.0</td>\n",
       "      <td>2.0</td>\n",
       "    </tr>\n",
       "    <tr>\n",
       "      <th>1</th>\n",
       "      <td>2</td>\n",
       "      <td>3.0</td>\n",
       "      <td>2.0</td>\n",
       "      <td>4.0</td>\n",
       "    </tr>\n",
       "    <tr>\n",
       "      <th>2</th>\n",
       "      <td>3</td>\n",
       "      <td>2.0</td>\n",
       "      <td>2.0</td>\n",
       "      <td>1.0</td>\n",
       "    </tr>\n",
       "    <tr>\n",
       "      <th>3</th>\n",
       "      <td>4</td>\n",
       "      <td>4.0</td>\n",
       "      <td>4.0</td>\n",
       "      <td>3.0</td>\n",
       "    </tr>\n",
       "    <tr>\n",
       "      <th>4</th>\n",
       "      <td>5</td>\n",
       "      <td>4.0</td>\n",
       "      <td>1.0</td>\n",
       "      <td>3.0</td>\n",
       "    </tr>\n",
       "  </tbody>\n",
       "</table>\n",
       "</div>"
      ],
      "text/plain": [
       "   EmployeeID  EnvironmentSatisfaction  JobSatisfaction  WorkLifeBalance\n",
       "0           1                      3.0              4.0              2.0\n",
       "1           2                      3.0              2.0              4.0\n",
       "2           3                      2.0              2.0              1.0\n",
       "3           4                      4.0              4.0              3.0\n",
       "4           5                      4.0              1.0              3.0"
      ]
     },
     "execution_count": 62,
     "metadata": {},
     "output_type": "execute_result"
    }
   ],
   "source": [
    "employee_survey.head()"
   ]
  },
  {
   "cell_type": "markdown",
   "metadata": {},
   "source": [
    "## Anaylse des données vides"
   ]
  },
  {
   "cell_type": "code",
   "execution_count": 63,
   "metadata": {},
   "outputs": [
    {
     "data": {
      "text/plain": [
       "EmployeeID                  0\n",
       "EnvironmentSatisfaction    25\n",
       "JobSatisfaction            20\n",
       "WorkLifeBalance            38\n",
       "dtype: int64"
      ]
     },
     "execution_count": 63,
     "metadata": {},
     "output_type": "execute_result"
    }
   ],
   "source": [
    "employee_survey.isnull().sum()"
   ]
  },
  {
   "cell_type": "markdown",
   "metadata": {},
   "source": [
    "## Répartition des notes"
   ]
  },
  {
   "cell_type": "code",
   "execution_count": 64,
   "metadata": {},
   "outputs": [
    {
     "data": {
      "text/plain": [
       "<AxesSubplot:>"
      ]
     },
     "execution_count": 64,
     "metadata": {},
     "output_type": "execute_result"
    },
    {
     "data": {
      "image/png": "[encoded data removed]",
      "text/plain": [
       "<Figure size 432x288 with 1 Axes>"
      ]
     },
     "metadata": {
      "needs_background": "light"
     },
     "output_type": "display_data"
    }
   ],
   "source": [
    "employee_survey_anonyme = employee_survey.drop([\"EmployeeID\"], axis=1, inplace=False)\n",
    "sns.boxplot(data=employee_survey_anonyme)\n"
   ]
  },
  {
   "cell_type": "code",
   "execution_count": 65,
   "metadata": {},
   "outputs": [
    {
     "data": {
      "text/plain": [
       "<AxesSubplot:ylabel='Count'>"
      ]
     },
     "execution_count": 65,
     "metadata": {},
     "output_type": "execute_result"
    },
    {
     "data": {
      "image/png": "[encoded data removed]",
      "text/plain": [
       "<Figure size 432x288 with 1 Axes>"
      ]
     },
     "metadata": {
      "needs_background": "light"
     },
     "output_type": "display_data"
    }
   ],
   "source": [
    "sns.histplot(data=employee_survey_anonyme, kde=True)"
   ]
  },
  {
   "cell_type": "markdown",
   "metadata": {},
   "source": [
    "## Tendance des mauvais résultats"
   ]
  },
  {
   "cell_type": "markdown",
   "metadata": {},
   "source": [
    "On regarde tout d'abord le nombre de gens qui sont insatisfait le l'environnement de travail et on remarque qu'ils représentent 38,5% des employés"
   ]
  },
  {
   "cell_type": "code",
   "execution_count": 66,
   "metadata": {},
   "outputs": [
    {
     "name": "stdout",
     "output_type": "stream",
     "text": [
      "38.57142857142858\n"
     ]
    },
    {
     "data": {
      "text/plain": [
       "EmployeeID                 1701\n",
       "EnvironmentSatisfaction    1701\n",
       "JobSatisfaction            1694\n",
       "WorkLifeBalance            1685\n",
       "dtype: int64"
      ]
     },
     "execution_count": 66,
     "metadata": {},
     "output_type": "execute_result"
    }
   ],
   "source": [
    "BadEnvironmentSatisfaction = employee_survey[employee_survey['EnvironmentSatisfaction']<2.1].count()\n",
    "print(BadEnvironmentSatisfaction['EnvironmentSatisfaction'] / nbEmploye * 100)\n",
    "BadEnvironmentSatisfaction\n"
   ]
  },
  {
   "cell_type": "markdown",
   "metadata": {},
   "source": [
    "On fait la même chose pour la satisfaction sur leurs travail et on obtient des résultats similaires, ce qui confirme les boîtes a moustache"
   ]
  },
  {
   "cell_type": "code",
   "execution_count": 67,
   "metadata": {},
   "outputs": [
    {
     "name": "stdout",
     "output_type": "stream",
     "text": [
      "38.54875283446712\n"
     ]
    },
    {
     "data": {
      "text/plain": [
       "EmployeeID                 1700\n",
       "EnvironmentSatisfaction    1694\n",
       "JobSatisfaction            1700\n",
       "WorkLifeBalance            1687\n",
       "dtype: int64"
      ]
     },
     "execution_count": 67,
     "metadata": {},
     "output_type": "execute_result"
    }
   ],
   "source": [
    "BadJobSatisfaction = employee_survey[employee_survey['JobSatisfaction']<2.1].count()\n",
    "print(BadJobSatisfaction['JobSatisfaction'] / nbEmploye * 100)\n",
    "BadJobSatisfaction"
   ]
  },
  {
   "cell_type": "markdown",
   "metadata": {},
   "source": [
    "Enfin on regarde l'équilibre entre la vie privée et professionelle, dans ce cas on obtient 28.5% des employés"
   ]
  },
  {
   "cell_type": "code",
   "execution_count": 68,
   "metadata": {},
   "outputs": [
    {
     "name": "stdout",
     "output_type": "stream",
     "text": [
      "28.52607709750567\n"
     ]
    },
    {
     "data": {
      "text/plain": [
       "EmployeeID                 1258\n",
       "EnvironmentSatisfaction    1250\n",
       "JobSatisfaction            1254\n",
       "WorkLifeBalance            1258\n",
       "dtype: int64"
      ]
     },
     "execution_count": 68,
     "metadata": {},
     "output_type": "execute_result"
    }
   ],
   "source": [
    "BadWorkLifeBalance = employee_survey[employee_survey['WorkLifeBalance']<2.1].count()\n",
    "print(BadWorkLifeBalance['WorkLifeBalance'] / nbEmploye * 100)\n",
    "BadWorkLifeBalance"
   ]
  },
  {
   "cell_type": "markdown",
   "metadata": {},
   "source": [
    "Si on essaie de regarder les employés qui ont a la foie une balance mauvaise, et une satisfaction de leur travail et de leur environnement de travail faible on obtient 178 personne avec une très mauvaise expérience"
   ]
  },
  {
   "cell_type": "code",
   "execution_count": 69,
   "metadata": {},
   "outputs": [
    {
     "data": {
      "text/plain": [
       "178"
      ]
     },
     "execution_count": 69,
     "metadata": {},
     "output_type": "execute_result"
    }
   ],
   "source": [
    "BadEnvironmentSatisfaction = employee_survey[employee_survey['EnvironmentSatisfaction']<2.1]\n",
    "BadSatisfaction = BadEnvironmentSatisfaction[BadEnvironmentSatisfaction['JobSatisfaction']<2.1]\n",
    "BadAll = BadSatisfaction[BadSatisfaction['WorkLifeBalance']<2.1]\n",
    "BadAll[\"EmployeeID\"].count()"
   ]
  },
  {
   "cell_type": "markdown",
   "metadata": {},
   "source": [
    "# General\n",
    "<div id=\"ge\"></div>"
   ]
  },
  {
   "cell_type": "markdown",
   "metadata": {},
   "source": [
    "## Données contenue dans le set"
   ]
  },
  {
   "cell_type": "code",
   "execution_count": 70,
   "metadata": {},
   "outputs": [
    {
     "data": {
      "text/html": [
       "<div>\n",
       "<style scoped>\n",
       "    .dataframe tbody tr th:only-of-type {\n",
       "        vertical-align: middle;\n",
       "    }\n",
       "\n",
       "    .dataframe tbody tr th {\n",
       "        vertical-align: top;\n",
       "    }\n",
       "\n",
       "    .dataframe thead th {\n",
       "        text-align: right;\n",
       "    }\n",
       "</style>\n",
       "<table border=\"1\" class=\"dataframe\">\n",
       "  <thead>\n",
       "    <tr style=\"text-align: right;\">\n",
       "      <th></th>\n",
       "      <th>Age</th>\n",
       "      <th>Attrition</th>\n",
       "      <th>BusinessTravel</th>\n",
       "      <th>Department</th>\n",
       "      <th>DistanceFromHome</th>\n",
       "      <th>Education</th>\n",
       "      <th>EducationField</th>\n",
       "      <th>EmployeeCount</th>\n",
       "      <th>EmployeeID</th>\n",
       "      <th>Gender</th>\n",
       "      <th>...</th>\n",
       "      <th>NumCompaniesWorked</th>\n",
       "      <th>Over18</th>\n",
       "      <th>PercentSalaryHike</th>\n",
       "      <th>StandardHours</th>\n",
       "      <th>StockOptionLevel</th>\n",
       "      <th>TotalWorkingYears</th>\n",
       "      <th>TrainingTimesLastYear</th>\n",
       "      <th>YearsAtCompany</th>\n",
       "      <th>YearsSinceLastPromotion</th>\n",
       "      <th>YearsWithCurrManager</th>\n",
       "    </tr>\n",
       "  </thead>\n",
       "  <tbody>\n",
       "    <tr>\n",
       "      <th>0</th>\n",
       "      <td>51</td>\n",
       "      <td>No</td>\n",
       "      <td>Travel_Rarely</td>\n",
       "      <td>Sales</td>\n",
       "      <td>6</td>\n",
       "      <td>2</td>\n",
       "      <td>Life Sciences</td>\n",
       "      <td>1</td>\n",
       "      <td>1</td>\n",
       "      <td>Female</td>\n",
       "      <td>...</td>\n",
       "      <td>1.0</td>\n",
       "      <td>Y</td>\n",
       "      <td>11</td>\n",
       "      <td>8</td>\n",
       "      <td>0</td>\n",
       "      <td>1.0</td>\n",
       "      <td>6</td>\n",
       "      <td>1</td>\n",
       "      <td>0</td>\n",
       "      <td>0</td>\n",
       "    </tr>\n",
       "    <tr>\n",
       "      <th>1</th>\n",
       "      <td>31</td>\n",
       "      <td>Yes</td>\n",
       "      <td>Travel_Frequently</td>\n",
       "      <td>Research &amp; Development</td>\n",
       "      <td>10</td>\n",
       "      <td>1</td>\n",
       "      <td>Life Sciences</td>\n",
       "      <td>1</td>\n",
       "      <td>2</td>\n",
       "      <td>Female</td>\n",
       "      <td>...</td>\n",
       "      <td>0.0</td>\n",
       "      <td>Y</td>\n",
       "      <td>23</td>\n",
       "      <td>8</td>\n",
       "      <td>1</td>\n",
       "      <td>6.0</td>\n",
       "      <td>3</td>\n",
       "      <td>5</td>\n",
       "      <td>1</td>\n",
       "      <td>4</td>\n",
       "    </tr>\n",
       "    <tr>\n",
       "      <th>2</th>\n",
       "      <td>32</td>\n",
       "      <td>No</td>\n",
       "      <td>Travel_Frequently</td>\n",
       "      <td>Research &amp; Development</td>\n",
       "      <td>17</td>\n",
       "      <td>4</td>\n",
       "      <td>Other</td>\n",
       "      <td>1</td>\n",
       "      <td>3</td>\n",
       "      <td>Male</td>\n",
       "      <td>...</td>\n",
       "      <td>1.0</td>\n",
       "      <td>Y</td>\n",
       "      <td>15</td>\n",
       "      <td>8</td>\n",
       "      <td>3</td>\n",
       "      <td>5.0</td>\n",
       "      <td>2</td>\n",
       "      <td>5</td>\n",
       "      <td>0</td>\n",
       "      <td>3</td>\n",
       "    </tr>\n",
       "    <tr>\n",
       "      <th>3</th>\n",
       "      <td>38</td>\n",
       "      <td>No</td>\n",
       "      <td>Non-Travel</td>\n",
       "      <td>Research &amp; Development</td>\n",
       "      <td>2</td>\n",
       "      <td>5</td>\n",
       "      <td>Life Sciences</td>\n",
       "      <td>1</td>\n",
       "      <td>4</td>\n",
       "      <td>Male</td>\n",
       "      <td>...</td>\n",
       "      <td>3.0</td>\n",
       "      <td>Y</td>\n",
       "      <td>11</td>\n",
       "      <td>8</td>\n",
       "      <td>3</td>\n",
       "      <td>13.0</td>\n",
       "      <td>5</td>\n",
       "      <td>8</td>\n",
       "      <td>7</td>\n",
       "      <td>5</td>\n",
       "    </tr>\n",
       "    <tr>\n",
       "      <th>4</th>\n",
       "      <td>32</td>\n",
       "      <td>No</td>\n",
       "      <td>Travel_Rarely</td>\n",
       "      <td>Research &amp; Development</td>\n",
       "      <td>10</td>\n",
       "      <td>1</td>\n",
       "      <td>Medical</td>\n",
       "      <td>1</td>\n",
       "      <td>5</td>\n",
       "      <td>Male</td>\n",
       "      <td>...</td>\n",
       "      <td>4.0</td>\n",
       "      <td>Y</td>\n",
       "      <td>12</td>\n",
       "      <td>8</td>\n",
       "      <td>2</td>\n",
       "      <td>9.0</td>\n",
       "      <td>2</td>\n",
       "      <td>6</td>\n",
       "      <td>0</td>\n",
       "      <td>4</td>\n",
       "    </tr>\n",
       "  </tbody>\n",
       "</table>\n",
       "<p>5 rows × 24 columns</p>\n",
       "</div>"
      ],
      "text/plain": [
       "   Age Attrition     BusinessTravel              Department  DistanceFromHome  \\\n",
       "0   51        No      Travel_Rarely                   Sales                 6   \n",
       "1   31       Yes  Travel_Frequently  Research & Development                10   \n",
       "2   32        No  Travel_Frequently  Research & Development                17   \n",
       "3   38        No         Non-Travel  Research & Development                 2   \n",
       "4   32        No      Travel_Rarely  Research & Development                10   \n",
       "\n",
       "   Education EducationField  EmployeeCount  EmployeeID  Gender  ...  \\\n",
       "0          2  Life Sciences              1           1  Female  ...   \n",
       "1          1  Life Sciences              1           2  Female  ...   \n",
       "2          4          Other              1           3    Male  ...   \n",
       "3          5  Life Sciences              1           4    Male  ...   \n",
       "4          1        Medical              1           5    Male  ...   \n",
       "\n",
       "   NumCompaniesWorked Over18 PercentSalaryHike  StandardHours  \\\n",
       "0                 1.0      Y                11              8   \n",
       "1                 0.0      Y                23              8   \n",
       "2                 1.0      Y                15              8   \n",
       "3                 3.0      Y                11              8   \n",
       "4                 4.0      Y                12              8   \n",
       "\n",
       "   StockOptionLevel TotalWorkingYears  TrainingTimesLastYear  YearsAtCompany  \\\n",
       "0                 0               1.0                      6               1   \n",
       "1                 1               6.0                      3               5   \n",
       "2                 3               5.0                      2               5   \n",
       "3                 3              13.0                      5               8   \n",
       "4                 2               9.0                      2               6   \n",
       "\n",
       "   YearsSinceLastPromotion  YearsWithCurrManager  \n",
       "0                        0                     0  \n",
       "1                        1                     4  \n",
       "2                        0                     3  \n",
       "3                        7                     5  \n",
       "4                        0                     4  \n",
       "\n",
       "[5 rows x 24 columns]"
      ]
     },
     "execution_count": 70,
     "metadata": {},
     "output_type": "execute_result"
    }
   ],
   "source": [
    "general.head()"
   ]
  },
  {
   "cell_type": "markdown",
   "metadata": {},
   "source": [
    "## Analyse des données vides"
   ]
  },
  {
   "cell_type": "code",
   "execution_count": 71,
   "metadata": {},
   "outputs": [
    {
     "data": {
      "text/plain": [
       "Age                         0\n",
       "Attrition                   0\n",
       "BusinessTravel              0\n",
       "Department                  0\n",
       "DistanceFromHome            0\n",
       "Education                   0\n",
       "EducationField              0\n",
       "EmployeeCount               0\n",
       "EmployeeID                  0\n",
       "Gender                      0\n",
       "JobLevel                    0\n",
       "JobRole                     0\n",
       "MaritalStatus               0\n",
       "MonthlyIncome               0\n",
       "NumCompaniesWorked         19\n",
       "Over18                      0\n",
       "PercentSalaryHike           0\n",
       "StandardHours               0\n",
       "StockOptionLevel            0\n",
       "TotalWorkingYears           9\n",
       "TrainingTimesLastYear       0\n",
       "YearsAtCompany              0\n",
       "YearsSinceLastPromotion     0\n",
       "YearsWithCurrManager        0\n",
       "dtype: int64"
      ]
     },
     "execution_count": 71,
     "metadata": {},
     "output_type": "execute_result"
    }
   ],
   "source": [
    "general.isnull().sum()"
   ]
  },
  {
   "cell_type": "markdown",
   "metadata": {},
   "source": [
    "## Modifications nécéssaires"
   ]
  },
  {
   "cell_type": "markdown",
   "metadata": {},
   "source": [
    "### Variables discrètes hierarchiques\n",
    "\n",
    "Ensuite, on remplace les valeurs dans \"BusinessTravel\" avec l'\"OrdinalEncoder\" car il y a un ordre hiérarchique entre les données"
   ]
  },
  {
   "cell_type": "code",
   "execution_count": 72,
   "metadata": {},
   "outputs": [],
   "source": [
    "ord_enc = OrdinalEncoder(categories=[['Non-Travel','Travel_Rarely','Travel_Frequently']])\n",
    "encoded = ord_enc.fit_transform(general[[\"BusinessTravel\"]])\n",
    "general.drop('BusinessTravel', axis=1)\n",
    "general = general.assign(BusinessTravel = encoded) "
   ]
  },
  {
   "cell_type": "code",
   "execution_count": 73,
   "metadata": {},
   "outputs": [],
   "source": [
    "ord_enc = OrdinalEncoder(categories=[['No','Yes']])\n",
    "encoded = ord_enc.fit_transform(general[[\"Attrition\"]])\n",
    "general.drop('Attrition', axis=1)\n",
    "general = general.assign(Attrition = encoded) "
   ]
  },
  {
   "cell_type": "code",
   "execution_count": 74,
   "metadata": {},
   "outputs": [],
   "source": [
    "ord_enc = OrdinalEncoder(categories=[['N','Y']])\n",
    "encoded = ord_enc.fit_transform(general[[\"Over18\"]])\n",
    "general.drop('Over18', axis=1)\n",
    "general = general.assign(Over18 = encoded) "
   ]
  },
  {
   "cell_type": "markdown",
   "metadata": {},
   "source": [
    "### Variables discrètes indépendantes\n",
    "Ensuite on remplace les valeurs dans \"Department\" avec le \"OneHotEncoder\" car il n'y a pas de hiérarchie entre les valeurs"
   ]
  },
  {
   "cell_type": "code",
   "execution_count": 75,
   "metadata": {},
   "outputs": [],
   "source": [
    "one_enc = OneHotEncoder()\n",
    "encoded = one_enc.fit_transform(general[['Department']])\n",
    "dpt_enc = pd.DataFrame(encoded.toarray())\n",
    "dpt_enc = dpt_enc.rename(columns={0:'Department_HR', 1:'Department_Research & Development', 2:'Department_Sales'})\n",
    "general.drop('Department', axis=1, inplace=True)\n",
    "general = pd.concat([general, dpt_enc], axis=1)"
   ]
  },
  {
   "cell_type": "code",
   "execution_count": 76,
   "metadata": {},
   "outputs": [],
   "source": [
    "one_enc = OneHotEncoder()\n",
    "encoded = one_enc.fit_transform(general[['EducationField']])\n",
    "edu_enc = pd.DataFrame(encoded.toarray())\n",
    "edu_enc = edu_enc.rename(columns={\n",
    "    0:'Education_Human Resources', \n",
    "    1:'Education_Life Sciences', \n",
    "    2:'Education_Marketing', \n",
    "    3:'Education_Medical', \n",
    "    4:'Education_Other', \n",
    "    5:'Education_Technical Degreee'})\n",
    "general.drop('EducationField', axis=1, inplace=True)\n",
    "general = pd.concat([general, edu_enc], axis=1)"
   ]
  },
  {
   "cell_type": "code",
   "execution_count": 77,
   "metadata": {},
   "outputs": [],
   "source": [
    "one_enc = OneHotEncoder()\n",
    "encoded = one_enc.fit_transform(general[['Gender']])\n",
    "gen_enc = pd.DataFrame(encoded.toarray())\n",
    "gen_enc = gen_enc.rename(columns={0:'Female', 1:'Male'})\n",
    "general.drop('Gender', axis=1, inplace=True)\n",
    "general = pd.concat([general, gen_enc], axis=1)\n"
   ]
  },
  {
   "cell_type": "code",
   "execution_count": 78,
   "metadata": {},
   "outputs": [],
   "source": [
    "one_enc = OneHotEncoder()\n",
    "encoded = one_enc.fit_transform(general[['JobRole']])\n",
    "job_enc = pd.DataFrame(encoded.toarray())\n",
    "job_enc = job_enc.rename(columns={\n",
    "    0:'Job_Healthcare Representative', \n",
    "    1:'Job_Human Resources', \n",
    "    2:'Job_Laboratory Technician', \n",
    "    3:'Job_Manager', \n",
    "    4:'Job_Manufacturing Director',\n",
    "    5:'Job_Research Director',\n",
    "    6:'Job_Research Scientist',\n",
    "    7:'Job_Sales Executive',\n",
    "    8:'Job_Sales Representative'})\n",
    "general.drop('JobRole', axis=1, inplace=True)\n",
    "general = pd.concat([general, job_enc], axis=1)"
   ]
  },
  {
   "cell_type": "code",
   "execution_count": 79,
   "metadata": {},
   "outputs": [],
   "source": [
    "one_enc = OneHotEncoder()\n",
    "encoded = one_enc.fit_transform(general[['MaritalStatus']])\n",
    "mar_enc = pd.DataFrame(encoded.toarray())\n",
    "mar_enc = mar_enc.rename(columns={0:'Divorced', 1:'Married', 2:'Single'})\n",
    "general.drop('MaritalStatus', axis=1, inplace=True)\n",
    "general = pd.concat([general, mar_enc], axis=1)"
   ]
  },
  {
   "cell_type": "markdown",
   "metadata": {},
   "source": [
    "La classe globale encoder fait strictement la même chose que les cellules précédentes a ceci près qu'elle peu être intégré au pipeline"
   ]
  },
  {
   "cell_type": "code",
   "execution_count": 80,
   "metadata": {},
   "outputs": [],
   "source": [
    "class global_encoder(BaseEstimator, TransformerMixin):\n",
    "    def __init__(self):\n",
    "        return None\n",
    "\n",
    "    def fit(self, X, y=None):\n",
    "        return self  # nothing else to do\n",
    "    \n",
    "    def transform(self, data):\n",
    "        bus_enc = self.ordinal_encode(data['BusinessTravel'])\n",
    "        data.drop([\"BusinessTravel\"], axis=1, inplace=True)\n",
    "        att_enc = self.ordinal_encode(data['Attrition'])\n",
    "        data.drop([\"Attrition\"], axis=1, inplace=True)\n",
    "        ove_enc = self.ordinal_encode(data['Over18'])\n",
    "        data.drop([\"Over18\"], axis=1, inplace=True)\n",
    "\n",
    "        mar_enc = self.one_hot_encode(data['MaritalStatus'])\n",
    "        data.drop([\"MaritalStatus\"], axis=1, inplace=True)\n",
    "        dep_enc = self.one_hot_encode(data['Department'])\n",
    "        data.drop([\"Department\"], axis=1, inplace=True)\n",
    "        edu_enc = self.one_hot_encode(data['EducationField'])\n",
    "        data.drop([\"EducationField\"], axis=1, inplace=True)\n",
    "        job_enc = self.one_hot_encode(data['JobRole'])\n",
    "        data.drop([\"JobRole\"], axis=1, inplace=True)\n",
    "        gen_enc = self.one_hot_encode(data['Gender'])\n",
    "        data.drop([\"Gender\"], axis=1, inplace=True)\n",
    "\n",
    "        return pd.concat([data, mar_enc, bus_enc, att_enc, ove_enc, dep_enc, edu_enc, job_enc, gen_enc], axis=1)\n",
    "\n",
    "\n",
    "    def one_hot_encode(self, column):\n",
    "        one_enc = OneHotEncoder()\n",
    "        encoded = one_enc.fit_transform(column)\n",
    "        df_enc = pd.DataFrame(encoded.toarray())\n",
    "        return df_enc.rename(columns=column.unique())\n",
    "    \n",
    "    def ordinal_encode(self, column):\n",
    "        ord_enc = OrdinalEncoder(categories=column.unique())\n",
    "        encoded = ord_enc.fit_transform(column)\n",
    "        return pd.DataFrame(encoded.toarray())\n",
    "        \n"
   ]
  },
  {
   "cell_type": "code",
   "execution_count": 81,
   "metadata": {},
   "outputs": [
    {
     "data": {
      "text/html": [
       "<div>\n",
       "<style scoped>\n",
       "    .dataframe tbody tr th:only-of-type {\n",
       "        vertical-align: middle;\n",
       "    }\n",
       "\n",
       "    .dataframe tbody tr th {\n",
       "        vertical-align: top;\n",
       "    }\n",
       "\n",
       "    .dataframe thead th {\n",
       "        text-align: right;\n",
       "    }\n",
       "</style>\n",
       "<table border=\"1\" class=\"dataframe\">\n",
       "  <thead>\n",
       "    <tr style=\"text-align: right;\">\n",
       "      <th></th>\n",
       "      <th>Age</th>\n",
       "      <th>Attrition</th>\n",
       "      <th>BusinessTravel</th>\n",
       "      <th>DistanceFromHome</th>\n",
       "      <th>Education</th>\n",
       "      <th>EmployeeCount</th>\n",
       "      <th>EmployeeID</th>\n",
       "      <th>JobLevel</th>\n",
       "      <th>MonthlyIncome</th>\n",
       "      <th>NumCompaniesWorked</th>\n",
       "      <th>...</th>\n",
       "      <th>Job_Laboratory Technician</th>\n",
       "      <th>Job_Manager</th>\n",
       "      <th>Job_Manufacturing Director</th>\n",
       "      <th>Job_Research Director</th>\n",
       "      <th>Job_Research Scientist</th>\n",
       "      <th>Job_Sales Executive</th>\n",
       "      <th>Job_Sales Representative</th>\n",
       "      <th>Divorced</th>\n",
       "      <th>Married</th>\n",
       "      <th>Single</th>\n",
       "    </tr>\n",
       "  </thead>\n",
       "  <tbody>\n",
       "    <tr>\n",
       "      <th>0</th>\n",
       "      <td>51</td>\n",
       "      <td>0.0</td>\n",
       "      <td>1.0</td>\n",
       "      <td>6</td>\n",
       "      <td>2</td>\n",
       "      <td>1</td>\n",
       "      <td>1</td>\n",
       "      <td>1</td>\n",
       "      <td>131160</td>\n",
       "      <td>1.0</td>\n",
       "      <td>...</td>\n",
       "      <td>0.0</td>\n",
       "      <td>0.0</td>\n",
       "      <td>0.0</td>\n",
       "      <td>0.0</td>\n",
       "      <td>0.0</td>\n",
       "      <td>0.0</td>\n",
       "      <td>0.0</td>\n",
       "      <td>0.0</td>\n",
       "      <td>1.0</td>\n",
       "      <td>0.0</td>\n",
       "    </tr>\n",
       "    <tr>\n",
       "      <th>1</th>\n",
       "      <td>31</td>\n",
       "      <td>1.0</td>\n",
       "      <td>2.0</td>\n",
       "      <td>10</td>\n",
       "      <td>1</td>\n",
       "      <td>1</td>\n",
       "      <td>2</td>\n",
       "      <td>1</td>\n",
       "      <td>41890</td>\n",
       "      <td>0.0</td>\n",
       "      <td>...</td>\n",
       "      <td>0.0</td>\n",
       "      <td>0.0</td>\n",
       "      <td>0.0</td>\n",
       "      <td>0.0</td>\n",
       "      <td>1.0</td>\n",
       "      <td>0.0</td>\n",
       "      <td>0.0</td>\n",
       "      <td>0.0</td>\n",
       "      <td>0.0</td>\n",
       "      <td>1.0</td>\n",
       "    </tr>\n",
       "    <tr>\n",
       "      <th>2</th>\n",
       "      <td>32</td>\n",
       "      <td>0.0</td>\n",
       "      <td>2.0</td>\n",
       "      <td>17</td>\n",
       "      <td>4</td>\n",
       "      <td>1</td>\n",
       "      <td>3</td>\n",
       "      <td>4</td>\n",
       "      <td>193280</td>\n",
       "      <td>1.0</td>\n",
       "      <td>...</td>\n",
       "      <td>0.0</td>\n",
       "      <td>0.0</td>\n",
       "      <td>0.0</td>\n",
       "      <td>0.0</td>\n",
       "      <td>0.0</td>\n",
       "      <td>1.0</td>\n",
       "      <td>0.0</td>\n",
       "      <td>0.0</td>\n",
       "      <td>1.0</td>\n",
       "      <td>0.0</td>\n",
       "    </tr>\n",
       "    <tr>\n",
       "      <th>3</th>\n",
       "      <td>38</td>\n",
       "      <td>0.0</td>\n",
       "      <td>0.0</td>\n",
       "      <td>2</td>\n",
       "      <td>5</td>\n",
       "      <td>1</td>\n",
       "      <td>4</td>\n",
       "      <td>3</td>\n",
       "      <td>83210</td>\n",
       "      <td>3.0</td>\n",
       "      <td>...</td>\n",
       "      <td>0.0</td>\n",
       "      <td>0.0</td>\n",
       "      <td>0.0</td>\n",
       "      <td>0.0</td>\n",
       "      <td>0.0</td>\n",
       "      <td>0.0</td>\n",
       "      <td>0.0</td>\n",
       "      <td>0.0</td>\n",
       "      <td>1.0</td>\n",
       "      <td>0.0</td>\n",
       "    </tr>\n",
       "    <tr>\n",
       "      <th>4</th>\n",
       "      <td>32</td>\n",
       "      <td>0.0</td>\n",
       "      <td>1.0</td>\n",
       "      <td>10</td>\n",
       "      <td>1</td>\n",
       "      <td>1</td>\n",
       "      <td>5</td>\n",
       "      <td>1</td>\n",
       "      <td>23420</td>\n",
       "      <td>4.0</td>\n",
       "      <td>...</td>\n",
       "      <td>0.0</td>\n",
       "      <td>0.0</td>\n",
       "      <td>0.0</td>\n",
       "      <td>0.0</td>\n",
       "      <td>0.0</td>\n",
       "      <td>1.0</td>\n",
       "      <td>0.0</td>\n",
       "      <td>0.0</td>\n",
       "      <td>0.0</td>\n",
       "      <td>1.0</td>\n",
       "    </tr>\n",
       "    <tr>\n",
       "      <th>...</th>\n",
       "      <td>...</td>\n",
       "      <td>...</td>\n",
       "      <td>...</td>\n",
       "      <td>...</td>\n",
       "      <td>...</td>\n",
       "      <td>...</td>\n",
       "      <td>...</td>\n",
       "      <td>...</td>\n",
       "      <td>...</td>\n",
       "      <td>...</td>\n",
       "      <td>...</td>\n",
       "      <td>...</td>\n",
       "      <td>...</td>\n",
       "      <td>...</td>\n",
       "      <td>...</td>\n",
       "      <td>...</td>\n",
       "      <td>...</td>\n",
       "      <td>...</td>\n",
       "      <td>...</td>\n",
       "      <td>...</td>\n",
       "      <td>...</td>\n",
       "    </tr>\n",
       "    <tr>\n",
       "      <th>4405</th>\n",
       "      <td>42</td>\n",
       "      <td>0.0</td>\n",
       "      <td>1.0</td>\n",
       "      <td>5</td>\n",
       "      <td>4</td>\n",
       "      <td>1</td>\n",
       "      <td>4406</td>\n",
       "      <td>1</td>\n",
       "      <td>60290</td>\n",
       "      <td>3.0</td>\n",
       "      <td>...</td>\n",
       "      <td>0.0</td>\n",
       "      <td>0.0</td>\n",
       "      <td>0.0</td>\n",
       "      <td>0.0</td>\n",
       "      <td>1.0</td>\n",
       "      <td>0.0</td>\n",
       "      <td>0.0</td>\n",
       "      <td>0.0</td>\n",
       "      <td>0.0</td>\n",
       "      <td>1.0</td>\n",
       "    </tr>\n",
       "    <tr>\n",
       "      <th>4406</th>\n",
       "      <td>29</td>\n",
       "      <td>0.0</td>\n",
       "      <td>1.0</td>\n",
       "      <td>2</td>\n",
       "      <td>4</td>\n",
       "      <td>1</td>\n",
       "      <td>4407</td>\n",
       "      <td>1</td>\n",
       "      <td>26790</td>\n",
       "      <td>2.0</td>\n",
       "      <td>...</td>\n",
       "      <td>1.0</td>\n",
       "      <td>0.0</td>\n",
       "      <td>0.0</td>\n",
       "      <td>0.0</td>\n",
       "      <td>0.0</td>\n",
       "      <td>0.0</td>\n",
       "      <td>0.0</td>\n",
       "      <td>1.0</td>\n",
       "      <td>0.0</td>\n",
       "      <td>0.0</td>\n",
       "    </tr>\n",
       "    <tr>\n",
       "      <th>4407</th>\n",
       "      <td>25</td>\n",
       "      <td>0.0</td>\n",
       "      <td>1.0</td>\n",
       "      <td>25</td>\n",
       "      <td>2</td>\n",
       "      <td>1</td>\n",
       "      <td>4408</td>\n",
       "      <td>2</td>\n",
       "      <td>37020</td>\n",
       "      <td>0.0</td>\n",
       "      <td>...</td>\n",
       "      <td>0.0</td>\n",
       "      <td>0.0</td>\n",
       "      <td>0.0</td>\n",
       "      <td>0.0</td>\n",
       "      <td>0.0</td>\n",
       "      <td>1.0</td>\n",
       "      <td>0.0</td>\n",
       "      <td>0.0</td>\n",
       "      <td>1.0</td>\n",
       "      <td>0.0</td>\n",
       "    </tr>\n",
       "    <tr>\n",
       "      <th>4408</th>\n",
       "      <td>42</td>\n",
       "      <td>0.0</td>\n",
       "      <td>1.0</td>\n",
       "      <td>18</td>\n",
       "      <td>2</td>\n",
       "      <td>1</td>\n",
       "      <td>4409</td>\n",
       "      <td>1</td>\n",
       "      <td>23980</td>\n",
       "      <td>0.0</td>\n",
       "      <td>...</td>\n",
       "      <td>1.0</td>\n",
       "      <td>0.0</td>\n",
       "      <td>0.0</td>\n",
       "      <td>0.0</td>\n",
       "      <td>0.0</td>\n",
       "      <td>0.0</td>\n",
       "      <td>0.0</td>\n",
       "      <td>1.0</td>\n",
       "      <td>0.0</td>\n",
       "      <td>0.0</td>\n",
       "    </tr>\n",
       "    <tr>\n",
       "      <th>4409</th>\n",
       "      <td>40</td>\n",
       "      <td>0.0</td>\n",
       "      <td>1.0</td>\n",
       "      <td>28</td>\n",
       "      <td>3</td>\n",
       "      <td>1</td>\n",
       "      <td>4410</td>\n",
       "      <td>2</td>\n",
       "      <td>54680</td>\n",
       "      <td>0.0</td>\n",
       "      <td>...</td>\n",
       "      <td>1.0</td>\n",
       "      <td>0.0</td>\n",
       "      <td>0.0</td>\n",
       "      <td>0.0</td>\n",
       "      <td>0.0</td>\n",
       "      <td>0.0</td>\n",
       "      <td>0.0</td>\n",
       "      <td>1.0</td>\n",
       "      <td>0.0</td>\n",
       "      <td>0.0</td>\n",
       "    </tr>\n",
       "  </tbody>\n",
       "</table>\n",
       "<p>4410 rows × 42 columns</p>\n",
       "</div>"
      ],
      "text/plain": [
       "      Age  Attrition  BusinessTravel  DistanceFromHome  Education  \\\n",
       "0      51        0.0             1.0                 6          2   \n",
       "1      31        1.0             2.0                10          1   \n",
       "2      32        0.0             2.0                17          4   \n",
       "3      38        0.0             0.0                 2          5   \n",
       "4      32        0.0             1.0                10          1   \n",
       "...   ...        ...             ...               ...        ...   \n",
       "4405   42        0.0             1.0                 5          4   \n",
       "4406   29        0.0             1.0                 2          4   \n",
       "4407   25        0.0             1.0                25          2   \n",
       "4408   42        0.0             1.0                18          2   \n",
       "4409   40        0.0             1.0                28          3   \n",
       "\n",
       "      EmployeeCount  EmployeeID  JobLevel  MonthlyIncome  NumCompaniesWorked  \\\n",
       "0                 1           1         1         131160                 1.0   \n",
       "1                 1           2         1          41890                 0.0   \n",
       "2                 1           3         4         193280                 1.0   \n",
       "3                 1           4         3          83210                 3.0   \n",
       "4                 1           5         1          23420                 4.0   \n",
       "...             ...         ...       ...            ...                 ...   \n",
       "4405              1        4406         1          60290                 3.0   \n",
       "4406              1        4407         1          26790                 2.0   \n",
       "4407              1        4408         2          37020                 0.0   \n",
       "4408              1        4409         1          23980                 0.0   \n",
       "4409              1        4410         2          54680                 0.0   \n",
       "\n",
       "      ...  Job_Laboratory Technician  Job_Manager  Job_Manufacturing Director  \\\n",
       "0     ...                        0.0          0.0                         0.0   \n",
       "1     ...                        0.0          0.0                         0.0   \n",
       "2     ...                        0.0          0.0                         0.0   \n",
       "3     ...                        0.0          0.0                         0.0   \n",
       "4     ...                        0.0          0.0                         0.0   \n",
       "...   ...                        ...          ...                         ...   \n",
       "4405  ...                        0.0          0.0                         0.0   \n",
       "4406  ...                        1.0          0.0                         0.0   \n",
       "4407  ...                        0.0          0.0                         0.0   \n",
       "4408  ...                        1.0          0.0                         0.0   \n",
       "4409  ...                        1.0          0.0                         0.0   \n",
       "\n",
       "      Job_Research Director  Job_Research Scientist  Job_Sales Executive  \\\n",
       "0                       0.0                     0.0                  0.0   \n",
       "1                       0.0                     1.0                  0.0   \n",
       "2                       0.0                     0.0                  1.0   \n",
       "3                       0.0                     0.0                  0.0   \n",
       "4                       0.0                     0.0                  1.0   \n",
       "...                     ...                     ...                  ...   \n",
       "4405                    0.0                     1.0                  0.0   \n",
       "4406                    0.0                     0.0                  0.0   \n",
       "4407                    0.0                     0.0                  1.0   \n",
       "4408                    0.0                     0.0                  0.0   \n",
       "4409                    0.0                     0.0                  0.0   \n",
       "\n",
       "      Job_Sales Representative  Divorced  Married  Single  \n",
       "0                          0.0       0.0      1.0     0.0  \n",
       "1                          0.0       0.0      0.0     1.0  \n",
       "2                          0.0       0.0      1.0     0.0  \n",
       "3                          0.0       0.0      1.0     0.0  \n",
       "4                          0.0       0.0      0.0     1.0  \n",
       "...                        ...       ...      ...     ...  \n",
       "4405                       0.0       0.0      0.0     1.0  \n",
       "4406                       0.0       1.0      0.0     0.0  \n",
       "4407                       0.0       0.0      1.0     0.0  \n",
       "4408                       0.0       1.0      0.0     0.0  \n",
       "4409                       0.0       1.0      0.0     0.0  \n",
       "\n",
       "[4410 rows x 42 columns]"
      ]
     },
     "execution_count": 81,
     "metadata": {},
     "output_type": "execute_result"
    }
   ],
   "source": [
    "general"
   ]
  },
  {
   "cell_type": "markdown",
   "metadata": {},
   "source": [
    "## Analyse générales"
   ]
  },
  {
   "cell_type": "markdown",
   "metadata": {},
   "source": [
    "### Nombres de personnes qui ont quitté l'entreprise en 2016"
   ]
  },
  {
   "cell_type": "code",
   "execution_count": 82,
   "metadata": {},
   "outputs": [
    {
     "name": "stdout",
     "output_type": "stream",
     "text": [
      "Number of people who left the company: 711 out of 4410 employees\n",
      "Approx 16.12 % of the employees left the company\n"
     ]
    }
   ],
   "source": [
    "peopleLeft = general[general[\"Attrition\"] == 1]\n",
    "print(\"Number of people who left the company:\", peopleLeft.shape[0], \"out of\", general.shape[0], \"employees\")\n",
    "print(\"Approx\", round(peopleLeft.shape[0] / general.shape[0] * 100, 2), \"% of the employees left the company\")"
   ]
  },
  {
   "cell_type": "markdown",
   "metadata": {},
   "source": [
    "### Heatmap"
   ]
  },
  {
   "cell_type": "markdown",
   "metadata": {},
   "source": [
    "Grâce a cette HeatMap on remarque qu'il n'y a pas de réel corrélation significative entre les gens qui s'en vont et leurs situations"
   ]
  },
  {
   "cell_type": "code",
   "execution_count": 83,
   "metadata": {},
   "outputs": [
    {
     "data": {
      "text/plain": [
       "<AxesSubplot:>"
      ]
     },
     "execution_count": 83,
     "metadata": {},
     "output_type": "execute_result"
    },
    {
     "data": {
      "image/png": "[encoded data removed]",
      "text/plain": [
       "<Figure size 216x720 with 2 Axes>"
      ]
     },
     "metadata": {
      "needs_background": "light"
     },
     "output_type": "display_data"
    }
   ],
   "source": [
    "plt.figure(figsize=(3, 10))\n",
    "general_corr = general.corr()\n",
    "sns.heatmap(general_corr[['Attrition']].sort_values(by=['Attrition'],ascending=False), vmin=-1, vmax=1, annot=True, cmap='coolwarm')"
   ]
  },
  {
   "cell_type": "markdown",
   "metadata": {},
   "source": [
    "### Histogrammes"
   ]
  },
  {
   "cell_type": "code",
   "execution_count": 84,
   "metadata": {},
   "outputs": [
    {
     "data": {
      "text/plain": [
       "array([[<AxesSubplot:title={'center':'Age'}>,\n",
       "        <AxesSubplot:title={'center':'DistanceFromHome'}>,\n",
       "        <AxesSubplot:title={'center':'Education'}>],\n",
       "       [<AxesSubplot:title={'center':'JobLevel'}>,\n",
       "        <AxesSubplot:title={'center':'MonthlyIncome'}>,\n",
       "        <AxesSubplot:title={'center':'NumCompaniesWorked'}>],\n",
       "       [<AxesSubplot:title={'center':'PercentSalaryHike'}>,\n",
       "        <AxesSubplot:title={'center':'TotalWorkingYears'}>,\n",
       "        <AxesSubplot:title={'center':'TrainingTimesLastYear'}>],\n",
       "       [<AxesSubplot:title={'center':'YearsAtCompany'}>,\n",
       "        <AxesSubplot:title={'center':'YearsSinceLastPromotion'}>,\n",
       "        <AxesSubplot:title={'center':'YearsWithCurrManager'}>]],\n",
       "      dtype=object)"
      ]
     },
     "execution_count": 84,
     "metadata": {},
     "output_type": "execute_result"
    },
    {
     "data": {
      "image/png": "[encoded data removed]",
      "text/plain": [
       "<Figure size 1440x1440 with 12 Axes>"
      ]
     },
     "metadata": {
      "needs_background": "light"
     },
     "output_type": "display_data"
    }
   ],
   "source": [
    "general.filter(items= [\"Age\",\"DistanceFromHome\",\"Education\",\"JobLevel\", \"MonthlyIncome\", \"NumCompaniesWorked\", \"PercentSalaryHike\", \"TotalWorkingYears\", \"TrainingTimesLastYear\", \"YearsAtCompany\", \"YearsSinceLastPromotion\", \"YearsWithCurrManager\"]).hist(figsize=(20,20))"
   ]
  },
  {
   "cell_type": "markdown",
   "metadata": {},
   "source": [
    "# Manager survey\n",
    "<div id=\"ms\"></div>"
   ]
  },
  {
   "cell_type": "markdown",
   "metadata": {},
   "source": [
    "## Données contenue dans le set"
   ]
  },
  {
   "cell_type": "code",
   "execution_count": 85,
   "metadata": {},
   "outputs": [
    {
     "data": {
      "text/html": [
       "<div>\n",
       "<style scoped>\n",
       "    .dataframe tbody tr th:only-of-type {\n",
       "        vertical-align: middle;\n",
       "    }\n",
       "\n",
       "    .dataframe tbody tr th {\n",
       "        vertical-align: top;\n",
       "    }\n",
       "\n",
       "    .dataframe thead th {\n",
       "        text-align: right;\n",
       "    }\n",
       "</style>\n",
       "<table border=\"1\" class=\"dataframe\">\n",
       "  <thead>\n",
       "    <tr style=\"text-align: right;\">\n",
       "      <th></th>\n",
       "      <th>EmployeeID</th>\n",
       "      <th>JobInvolvement</th>\n",
       "      <th>PerformanceRating</th>\n",
       "    </tr>\n",
       "  </thead>\n",
       "  <tbody>\n",
       "    <tr>\n",
       "      <th>0</th>\n",
       "      <td>1</td>\n",
       "      <td>3</td>\n",
       "      <td>3</td>\n",
       "    </tr>\n",
       "    <tr>\n",
       "      <th>1</th>\n",
       "      <td>2</td>\n",
       "      <td>2</td>\n",
       "      <td>4</td>\n",
       "    </tr>\n",
       "    <tr>\n",
       "      <th>2</th>\n",
       "      <td>3</td>\n",
       "      <td>3</td>\n",
       "      <td>3</td>\n",
       "    </tr>\n",
       "    <tr>\n",
       "      <th>3</th>\n",
       "      <td>4</td>\n",
       "      <td>2</td>\n",
       "      <td>3</td>\n",
       "    </tr>\n",
       "    <tr>\n",
       "      <th>4</th>\n",
       "      <td>5</td>\n",
       "      <td>3</td>\n",
       "      <td>3</td>\n",
       "    </tr>\n",
       "  </tbody>\n",
       "</table>\n",
       "</div>"
      ],
      "text/plain": [
       "   EmployeeID  JobInvolvement  PerformanceRating\n",
       "0           1               3                  3\n",
       "1           2               2                  4\n",
       "2           3               3                  3\n",
       "3           4               2                  3\n",
       "4           5               3                  3"
      ]
     },
     "execution_count": 85,
     "metadata": {},
     "output_type": "execute_result"
    }
   ],
   "source": [
    "manager_survey.head()"
   ]
  },
  {
   "cell_type": "markdown",
   "metadata": {},
   "source": [
    "## Analyse des données vides"
   ]
  },
  {
   "cell_type": "code",
   "execution_count": 86,
   "metadata": {},
   "outputs": [
    {
     "data": {
      "text/plain": [
       "EmployeeID           0\n",
       "JobInvolvement       0\n",
       "PerformanceRating    0\n",
       "dtype: int64"
      ]
     },
     "execution_count": 86,
     "metadata": {},
     "output_type": "execute_result"
    }
   ],
   "source": [
    "manager_survey.isnull().sum()"
   ]
  },
  {
   "cell_type": "markdown",
   "metadata": {},
   "source": [
    "## Analyse générale"
   ]
  },
  {
   "cell_type": "code",
   "execution_count": 87,
   "metadata": {},
   "outputs": [
    {
     "data": {
      "text/plain": [
       "<AxesSubplot:>"
      ]
     },
     "execution_count": 87,
     "metadata": {},
     "output_type": "execute_result"
    },
    {
     "data": {
      "image/png": "[encoded data removed]",
      "text/plain": [
       "<Figure size 432x288 with 1 Axes>"
      ]
     },
     "metadata": {
      "needs_background": "light"
     },
     "output_type": "display_data"
    }
   ],
   "source": [
    "manager_survey_anonyme = manager_survey.drop([\"EmployeeID\"], axis=1, inplace=False)\n",
    "sns.boxplot(data=manager_survey_anonyme)\n",
    "\n",
    "#corréler avec attrition"
   ]
  },
  {
   "cell_type": "markdown",
   "metadata": {},
   "source": [
    "# In Time\n",
    "<div id=\"it\"></div>"
   ]
  },
  {
   "cell_type": "markdown",
   "metadata": {},
   "source": [
    "## Données contenues dans le dataset"
   ]
  },
  {
   "cell_type": "code",
   "execution_count": 88,
   "metadata": {},
   "outputs": [
    {
     "data": {
      "text/html": [
       "<div>\n",
       "<style scoped>\n",
       "    .dataframe tbody tr th:only-of-type {\n",
       "        vertical-align: middle;\n",
       "    }\n",
       "\n",
       "    .dataframe tbody tr th {\n",
       "        vertical-align: top;\n",
       "    }\n",
       "\n",
       "    .dataframe thead th {\n",
       "        text-align: right;\n",
       "    }\n",
       "</style>\n",
       "<table border=\"1\" class=\"dataframe\">\n",
       "  <thead>\n",
       "    <tr style=\"text-align: right;\">\n",
       "      <th></th>\n",
       "      <th>Unnamed: 0</th>\n",
       "      <th>2015-01-01</th>\n",
       "      <th>2015-01-02</th>\n",
       "      <th>2015-01-05</th>\n",
       "      <th>2015-01-06</th>\n",
       "      <th>2015-01-07</th>\n",
       "      <th>2015-01-08</th>\n",
       "      <th>2015-01-09</th>\n",
       "      <th>2015-01-12</th>\n",
       "      <th>2015-01-13</th>\n",
       "      <th>...</th>\n",
       "      <th>2015-12-18</th>\n",
       "      <th>2015-12-21</th>\n",
       "      <th>2015-12-22</th>\n",
       "      <th>2015-12-23</th>\n",
       "      <th>2015-12-24</th>\n",
       "      <th>2015-12-25</th>\n",
       "      <th>2015-12-28</th>\n",
       "      <th>2015-12-29</th>\n",
       "      <th>2015-12-30</th>\n",
       "      <th>2015-12-31</th>\n",
       "    </tr>\n",
       "  </thead>\n",
       "  <tbody>\n",
       "    <tr>\n",
       "      <th>0</th>\n",
       "      <td>1</td>\n",
       "      <td>NaN</td>\n",
       "      <td>2015-01-02 09:43:45</td>\n",
       "      <td>2015-01-05 10:08:48</td>\n",
       "      <td>2015-01-06 09:54:26</td>\n",
       "      <td>2015-01-07 09:34:31</td>\n",
       "      <td>2015-01-08 09:51:09</td>\n",
       "      <td>2015-01-09 10:09:25</td>\n",
       "      <td>2015-01-12 09:42:53</td>\n",
       "      <td>2015-01-13 10:13:06</td>\n",
       "      <td>...</td>\n",
       "      <td>NaN</td>\n",
       "      <td>2015-12-21 09:55:29</td>\n",
       "      <td>2015-12-22 10:04:06</td>\n",
       "      <td>2015-12-23 10:14:27</td>\n",
       "      <td>2015-12-24 10:11:35</td>\n",
       "      <td>NaN</td>\n",
       "      <td>2015-12-28 10:13:41</td>\n",
       "      <td>2015-12-29 10:03:36</td>\n",
       "      <td>2015-12-30 09:54:12</td>\n",
       "      <td>2015-12-31 10:12:44</td>\n",
       "    </tr>\n",
       "    <tr>\n",
       "      <th>1</th>\n",
       "      <td>2</td>\n",
       "      <td>NaN</td>\n",
       "      <td>2015-01-02 10:15:44</td>\n",
       "      <td>2015-01-05 10:21:05</td>\n",
       "      <td>NaN</td>\n",
       "      <td>2015-01-07 09:45:17</td>\n",
       "      <td>2015-01-08 10:09:04</td>\n",
       "      <td>2015-01-09 09:43:26</td>\n",
       "      <td>2015-01-12 10:00:07</td>\n",
       "      <td>2015-01-13 10:43:29</td>\n",
       "      <td>...</td>\n",
       "      <td>2015-12-18 10:37:17</td>\n",
       "      <td>2015-12-21 09:49:02</td>\n",
       "      <td>2015-12-22 10:33:51</td>\n",
       "      <td>2015-12-23 10:12:10</td>\n",
       "      <td>NaN</td>\n",
       "      <td>NaN</td>\n",
       "      <td>2015-12-28 09:31:45</td>\n",
       "      <td>2015-12-29 09:55:49</td>\n",
       "      <td>2015-12-30 10:32:25</td>\n",
       "      <td>2015-12-31 09:27:20</td>\n",
       "    </tr>\n",
       "    <tr>\n",
       "      <th>2</th>\n",
       "      <td>3</td>\n",
       "      <td>NaN</td>\n",
       "      <td>2015-01-02 10:17:41</td>\n",
       "      <td>2015-01-05 09:50:50</td>\n",
       "      <td>2015-01-06 10:14:13</td>\n",
       "      <td>2015-01-07 09:47:27</td>\n",
       "      <td>2015-01-08 10:03:40</td>\n",
       "      <td>2015-01-09 10:05:49</td>\n",
       "      <td>2015-01-12 10:03:47</td>\n",
       "      <td>2015-01-13 10:21:26</td>\n",
       "      <td>...</td>\n",
       "      <td>2015-12-18 10:15:14</td>\n",
       "      <td>2015-12-21 10:10:28</td>\n",
       "      <td>2015-12-22 09:44:44</td>\n",
       "      <td>2015-12-23 10:15:54</td>\n",
       "      <td>2015-12-24 10:07:26</td>\n",
       "      <td>NaN</td>\n",
       "      <td>2015-12-28 09:42:05</td>\n",
       "      <td>2015-12-29 09:43:36</td>\n",
       "      <td>2015-12-30 09:34:05</td>\n",
       "      <td>2015-12-31 10:28:39</td>\n",
       "    </tr>\n",
       "    <tr>\n",
       "      <th>3</th>\n",
       "      <td>4</td>\n",
       "      <td>NaN</td>\n",
       "      <td>2015-01-02 10:05:06</td>\n",
       "      <td>2015-01-05 09:56:32</td>\n",
       "      <td>2015-01-06 10:11:07</td>\n",
       "      <td>2015-01-07 09:37:30</td>\n",
       "      <td>2015-01-08 10:02:08</td>\n",
       "      <td>2015-01-09 10:08:12</td>\n",
       "      <td>2015-01-12 10:13:42</td>\n",
       "      <td>2015-01-13 09:53:22</td>\n",
       "      <td>...</td>\n",
       "      <td>2015-12-18 10:17:38</td>\n",
       "      <td>2015-12-21 09:58:21</td>\n",
       "      <td>2015-12-22 10:04:25</td>\n",
       "      <td>2015-12-23 10:11:46</td>\n",
       "      <td>2015-12-24 09:43:15</td>\n",
       "      <td>NaN</td>\n",
       "      <td>2015-12-28 09:52:44</td>\n",
       "      <td>2015-12-29 09:33:16</td>\n",
       "      <td>2015-12-30 10:18:12</td>\n",
       "      <td>2015-12-31 10:01:15</td>\n",
       "    </tr>\n",
       "    <tr>\n",
       "      <th>4</th>\n",
       "      <td>5</td>\n",
       "      <td>NaN</td>\n",
       "      <td>2015-01-02 10:28:17</td>\n",
       "      <td>2015-01-05 09:49:58</td>\n",
       "      <td>2015-01-06 09:45:28</td>\n",
       "      <td>2015-01-07 09:49:37</td>\n",
       "      <td>2015-01-08 10:19:44</td>\n",
       "      <td>2015-01-09 10:00:50</td>\n",
       "      <td>2015-01-12 10:29:27</td>\n",
       "      <td>2015-01-13 09:59:32</td>\n",
       "      <td>...</td>\n",
       "      <td>2015-12-18 09:58:35</td>\n",
       "      <td>2015-12-21 10:03:41</td>\n",
       "      <td>2015-12-22 10:10:30</td>\n",
       "      <td>2015-12-23 10:13:36</td>\n",
       "      <td>2015-12-24 09:44:24</td>\n",
       "      <td>NaN</td>\n",
       "      <td>2015-12-28 10:05:15</td>\n",
       "      <td>2015-12-29 10:30:53</td>\n",
       "      <td>2015-12-30 09:18:21</td>\n",
       "      <td>2015-12-31 09:41:09</td>\n",
       "    </tr>\n",
       "  </tbody>\n",
       "</table>\n",
       "<p>5 rows × 262 columns</p>\n",
       "</div>"
      ],
      "text/plain": [
       "   Unnamed: 0  2015-01-01           2015-01-02           2015-01-05  \\\n",
       "0           1         NaN  2015-01-02 09:43:45  2015-01-05 10:08:48   \n",
       "1           2         NaN  2015-01-02 10:15:44  2015-01-05 10:21:05   \n",
       "2           3         NaN  2015-01-02 10:17:41  2015-01-05 09:50:50   \n",
       "3           4         NaN  2015-01-02 10:05:06  2015-01-05 09:56:32   \n",
       "4           5         NaN  2015-01-02 10:28:17  2015-01-05 09:49:58   \n",
       "\n",
       "            2015-01-06           2015-01-07           2015-01-08  \\\n",
       "0  2015-01-06 09:54:26  2015-01-07 09:34:31  2015-01-08 09:51:09   \n",
       "1                  NaN  2015-01-07 09:45:17  2015-01-08 10:09:04   \n",
       "2  2015-01-06 10:14:13  2015-01-07 09:47:27  2015-01-08 10:03:40   \n",
       "3  2015-01-06 10:11:07  2015-01-07 09:37:30  2015-01-08 10:02:08   \n",
       "4  2015-01-06 09:45:28  2015-01-07 09:49:37  2015-01-08 10:19:44   \n",
       "\n",
       "            2015-01-09           2015-01-12           2015-01-13  ...  \\\n",
       "0  2015-01-09 10:09:25  2015-01-12 09:42:53  2015-01-13 10:13:06  ...   \n",
       "1  2015-01-09 09:43:26  2015-01-12 10:00:07  2015-01-13 10:43:29  ...   \n",
       "2  2015-01-09 10:05:49  2015-01-12 10:03:47  2015-01-13 10:21:26  ...   \n",
       "3  2015-01-09 10:08:12  2015-01-12 10:13:42  2015-01-13 09:53:22  ...   \n",
       "4  2015-01-09 10:00:50  2015-01-12 10:29:27  2015-01-13 09:59:32  ...   \n",
       "\n",
       "            2015-12-18           2015-12-21           2015-12-22  \\\n",
       "0                  NaN  2015-12-21 09:55:29  2015-12-22 10:04:06   \n",
       "1  2015-12-18 10:37:17  2015-12-21 09:49:02  2015-12-22 10:33:51   \n",
       "2  2015-12-18 10:15:14  2015-12-21 10:10:28  2015-12-22 09:44:44   \n",
       "3  2015-12-18 10:17:38  2015-12-21 09:58:21  2015-12-22 10:04:25   \n",
       "4  2015-12-18 09:58:35  2015-12-21 10:03:41  2015-12-22 10:10:30   \n",
       "\n",
       "            2015-12-23           2015-12-24 2015-12-25           2015-12-28  \\\n",
       "0  2015-12-23 10:14:27  2015-12-24 10:11:35        NaN  2015-12-28 10:13:41   \n",
       "1  2015-12-23 10:12:10                  NaN        NaN  2015-12-28 09:31:45   \n",
       "2  2015-12-23 10:15:54  2015-12-24 10:07:26        NaN  2015-12-28 09:42:05   \n",
       "3  2015-12-23 10:11:46  2015-12-24 09:43:15        NaN  2015-12-28 09:52:44   \n",
       "4  2015-12-23 10:13:36  2015-12-24 09:44:24        NaN  2015-12-28 10:05:15   \n",
       "\n",
       "            2015-12-29           2015-12-30           2015-12-31  \n",
       "0  2015-12-29 10:03:36  2015-12-30 09:54:12  2015-12-31 10:12:44  \n",
       "1  2015-12-29 09:55:49  2015-12-30 10:32:25  2015-12-31 09:27:20  \n",
       "2  2015-12-29 09:43:36  2015-12-30 09:34:05  2015-12-31 10:28:39  \n",
       "3  2015-12-29 09:33:16  2015-12-30 10:18:12  2015-12-31 10:01:15  \n",
       "4  2015-12-29 10:30:53  2015-12-30 09:18:21  2015-12-31 09:41:09  \n",
       "\n",
       "[5 rows x 262 columns]"
      ]
     },
     "execution_count": 88,
     "metadata": {},
     "output_type": "execute_result"
    }
   ],
   "source": [
    "in_time.head()"
   ]
  },
  {
   "cell_type": "markdown",
   "metadata": {},
   "source": [
    "## Analyse des données vides"
   ]
  },
  {
   "cell_type": "code",
   "execution_count": 89,
   "metadata": {},
   "outputs": [
    {
     "name": "stdout",
     "output_type": "stream",
     "text": [
      "Par date\n",
      "Unnamed: 0       0\n",
      "2015-01-01    4410\n",
      "2015-01-02     209\n",
      "2015-01-05     206\n",
      "2015-01-06     228\n",
      "              ... \n",
      "2015-12-25    4410\n",
      "2015-12-28     234\n",
      "2015-12-29     230\n",
      "2015-12-30     265\n",
      "2015-12-31     213\n",
      "Length: 262, dtype: int64\n",
      "Par employé\n",
      "0       29\n",
      "1       25\n",
      "2       19\n",
      "3       26\n",
      "4       16\n",
      "        ..\n",
      "4405    18\n",
      "4406    20\n",
      "4407    30\n",
      "4408    20\n",
      "4409    29\n",
      "Length: 4410, dtype: int64\n"
     ]
    }
   ],
   "source": [
    "print(\"Par date\")\n",
    "print(in_time.isnull().sum())\n",
    "print(\"Par employé\")\n",
    "print(in_time.isnull().sum(axis=1))"
   ]
  },
  {
   "cell_type": "markdown",
   "metadata": {},
   "source": [
    "## Répartition des données"
   ]
  },
  {
   "cell_type": "code",
   "execution_count": 90,
   "metadata": {},
   "outputs": [
    {
     "data": {
      "text/plain": [
       "<AxesSubplot:>"
      ]
     },
     "execution_count": 90,
     "metadata": {},
     "output_type": "execute_result"
    },
    {
     "data": {
      "image/png": "[encoded data removed]",
      "text/plain": [
       "<Figure size 432x288 with 1 Axes>"
      ]
     },
     "metadata": {
      "needs_background": "light"
     },
     "output_type": "display_data"
    }
   ],
   "source": [
    "\n",
    "sns.boxplot(in_time.isnull().sum(axis=1))"
   ]
  },
  {
   "cell_type": "markdown",
   "metadata": {},
   "source": [
    "# Out Time\n",
    "<div id=\"ot\"></div>"
   ]
  },
  {
   "cell_type": "markdown",
   "metadata": {},
   "source": [
    "## Données contenues dans le set"
   ]
  },
  {
   "cell_type": "code",
   "execution_count": 91,
   "metadata": {},
   "outputs": [
    {
     "data": {
      "text/html": [
       "<div>\n",
       "<style scoped>\n",
       "    .dataframe tbody tr th:only-of-type {\n",
       "        vertical-align: middle;\n",
       "    }\n",
       "\n",
       "    .dataframe tbody tr th {\n",
       "        vertical-align: top;\n",
       "    }\n",
       "\n",
       "    .dataframe thead th {\n",
       "        text-align: right;\n",
       "    }\n",
       "</style>\n",
       "<table border=\"1\" class=\"dataframe\">\n",
       "  <thead>\n",
       "    <tr style=\"text-align: right;\">\n",
       "      <th></th>\n",
       "      <th>Unnamed: 0</th>\n",
       "      <th>2015-01-01</th>\n",
       "      <th>2015-01-02</th>\n",
       "      <th>2015-01-05</th>\n",
       "      <th>2015-01-06</th>\n",
       "      <th>2015-01-07</th>\n",
       "      <th>2015-01-08</th>\n",
       "      <th>2015-01-09</th>\n",
       "      <th>2015-01-12</th>\n",
       "      <th>2015-01-13</th>\n",
       "      <th>...</th>\n",
       "      <th>2015-12-18</th>\n",
       "      <th>2015-12-21</th>\n",
       "      <th>2015-12-22</th>\n",
       "      <th>2015-12-23</th>\n",
       "      <th>2015-12-24</th>\n",
       "      <th>2015-12-25</th>\n",
       "      <th>2015-12-28</th>\n",
       "      <th>2015-12-29</th>\n",
       "      <th>2015-12-30</th>\n",
       "      <th>2015-12-31</th>\n",
       "    </tr>\n",
       "  </thead>\n",
       "  <tbody>\n",
       "    <tr>\n",
       "      <th>0</th>\n",
       "      <td>1</td>\n",
       "      <td>NaN</td>\n",
       "      <td>2015-01-02 16:56:15</td>\n",
       "      <td>2015-01-05 17:20:11</td>\n",
       "      <td>2015-01-06 17:19:05</td>\n",
       "      <td>2015-01-07 16:34:55</td>\n",
       "      <td>2015-01-08 17:08:32</td>\n",
       "      <td>2015-01-09 17:38:29</td>\n",
       "      <td>2015-01-12 16:58:39</td>\n",
       "      <td>2015-01-13 18:02:58</td>\n",
       "      <td>...</td>\n",
       "      <td>NaN</td>\n",
       "      <td>2015-12-21 17:15:50</td>\n",
       "      <td>2015-12-22 17:27:51</td>\n",
       "      <td>2015-12-23 16:44:44</td>\n",
       "      <td>2015-12-24 17:47:22</td>\n",
       "      <td>NaN</td>\n",
       "      <td>2015-12-28 18:00:07</td>\n",
       "      <td>2015-12-29 17:22:30</td>\n",
       "      <td>2015-12-30 17:40:56</td>\n",
       "      <td>2015-12-31 17:17:33</td>\n",
       "    </tr>\n",
       "    <tr>\n",
       "      <th>1</th>\n",
       "      <td>2</td>\n",
       "      <td>NaN</td>\n",
       "      <td>2015-01-02 18:22:17</td>\n",
       "      <td>2015-01-05 17:48:22</td>\n",
       "      <td>NaN</td>\n",
       "      <td>2015-01-07 17:09:06</td>\n",
       "      <td>2015-01-08 17:34:04</td>\n",
       "      <td>2015-01-09 16:52:29</td>\n",
       "      <td>2015-01-12 17:36:48</td>\n",
       "      <td>2015-01-13 18:00:13</td>\n",
       "      <td>...</td>\n",
       "      <td>2015-12-18 18:31:28</td>\n",
       "      <td>2015-12-21 17:34:16</td>\n",
       "      <td>2015-12-22 18:16:35</td>\n",
       "      <td>2015-12-23 17:38:18</td>\n",
       "      <td>NaN</td>\n",
       "      <td>NaN</td>\n",
       "      <td>2015-12-28 17:08:38</td>\n",
       "      <td>2015-12-29 17:54:46</td>\n",
       "      <td>2015-12-30 18:31:35</td>\n",
       "      <td>2015-12-31 17:40:58</td>\n",
       "    </tr>\n",
       "    <tr>\n",
       "      <th>2</th>\n",
       "      <td>3</td>\n",
       "      <td>NaN</td>\n",
       "      <td>2015-01-02 16:59:14</td>\n",
       "      <td>2015-01-05 17:06:46</td>\n",
       "      <td>2015-01-06 16:38:32</td>\n",
       "      <td>2015-01-07 16:33:21</td>\n",
       "      <td>2015-01-08 17:24:22</td>\n",
       "      <td>2015-01-09 16:57:30</td>\n",
       "      <td>2015-01-12 17:28:54</td>\n",
       "      <td>2015-01-13 17:21:25</td>\n",
       "      <td>...</td>\n",
       "      <td>2015-12-18 17:02:23</td>\n",
       "      <td>2015-12-21 17:20:17</td>\n",
       "      <td>2015-12-22 16:32:50</td>\n",
       "      <td>2015-12-23 16:59:43</td>\n",
       "      <td>2015-12-24 16:58:25</td>\n",
       "      <td>NaN</td>\n",
       "      <td>2015-12-28 16:43:31</td>\n",
       "      <td>2015-12-29 17:09:56</td>\n",
       "      <td>2015-12-30 17:06:25</td>\n",
       "      <td>2015-12-31 17:15:50</td>\n",
       "    </tr>\n",
       "    <tr>\n",
       "      <th>3</th>\n",
       "      <td>4</td>\n",
       "      <td>NaN</td>\n",
       "      <td>2015-01-02 17:25:24</td>\n",
       "      <td>2015-01-05 17:14:03</td>\n",
       "      <td>2015-01-06 17:07:42</td>\n",
       "      <td>2015-01-07 16:32:40</td>\n",
       "      <td>2015-01-08 16:53:11</td>\n",
       "      <td>2015-01-09 17:19:47</td>\n",
       "      <td>2015-01-12 17:13:37</td>\n",
       "      <td>2015-01-13 17:11:45</td>\n",
       "      <td>...</td>\n",
       "      <td>2015-12-18 17:55:23</td>\n",
       "      <td>2015-12-21 16:49:09</td>\n",
       "      <td>2015-12-22 17:24:00</td>\n",
       "      <td>2015-12-23 17:36:35</td>\n",
       "      <td>2015-12-24 16:48:21</td>\n",
       "      <td>NaN</td>\n",
       "      <td>2015-12-28 17:19:34</td>\n",
       "      <td>2015-12-29 16:58:16</td>\n",
       "      <td>2015-12-30 17:40:11</td>\n",
       "      <td>2015-12-31 17:09:14</td>\n",
       "    </tr>\n",
       "    <tr>\n",
       "      <th>4</th>\n",
       "      <td>5</td>\n",
       "      <td>NaN</td>\n",
       "      <td>2015-01-02 18:31:37</td>\n",
       "      <td>2015-01-05 17:49:15</td>\n",
       "      <td>2015-01-06 17:26:25</td>\n",
       "      <td>2015-01-07 17:37:59</td>\n",
       "      <td>2015-01-08 17:59:28</td>\n",
       "      <td>2015-01-09 17:44:08</td>\n",
       "      <td>2015-01-12 18:51:21</td>\n",
       "      <td>2015-01-13 18:14:58</td>\n",
       "      <td>...</td>\n",
       "      <td>2015-12-18 17:52:48</td>\n",
       "      <td>2015-12-21 17:43:35</td>\n",
       "      <td>2015-12-22 18:07:57</td>\n",
       "      <td>2015-12-23 18:00:49</td>\n",
       "      <td>2015-12-24 17:59:22</td>\n",
       "      <td>NaN</td>\n",
       "      <td>2015-12-28 17:44:59</td>\n",
       "      <td>2015-12-29 18:47:00</td>\n",
       "      <td>2015-12-30 17:15:33</td>\n",
       "      <td>2015-12-31 17:42:14</td>\n",
       "    </tr>\n",
       "  </tbody>\n",
       "</table>\n",
       "<p>5 rows × 262 columns</p>\n",
       "</div>"
      ],
      "text/plain": [
       "   Unnamed: 0  2015-01-01           2015-01-02           2015-01-05  \\\n",
       "0           1         NaN  2015-01-02 16:56:15  2015-01-05 17:20:11   \n",
       "1           2         NaN  2015-01-02 18:22:17  2015-01-05 17:48:22   \n",
       "2           3         NaN  2015-01-02 16:59:14  2015-01-05 17:06:46   \n",
       "3           4         NaN  2015-01-02 17:25:24  2015-01-05 17:14:03   \n",
       "4           5         NaN  2015-01-02 18:31:37  2015-01-05 17:49:15   \n",
       "\n",
       "            2015-01-06           2015-01-07           2015-01-08  \\\n",
       "0  2015-01-06 17:19:05  2015-01-07 16:34:55  2015-01-08 17:08:32   \n",
       "1                  NaN  2015-01-07 17:09:06  2015-01-08 17:34:04   \n",
       "2  2015-01-06 16:38:32  2015-01-07 16:33:21  2015-01-08 17:24:22   \n",
       "3  2015-01-06 17:07:42  2015-01-07 16:32:40  2015-01-08 16:53:11   \n",
       "4  2015-01-06 17:26:25  2015-01-07 17:37:59  2015-01-08 17:59:28   \n",
       "\n",
       "            2015-01-09           2015-01-12           2015-01-13  ...  \\\n",
       "0  2015-01-09 17:38:29  2015-01-12 16:58:39  2015-01-13 18:02:58  ...   \n",
       "1  2015-01-09 16:52:29  2015-01-12 17:36:48  2015-01-13 18:00:13  ...   \n",
       "2  2015-01-09 16:57:30  2015-01-12 17:28:54  2015-01-13 17:21:25  ...   \n",
       "3  2015-01-09 17:19:47  2015-01-12 17:13:37  2015-01-13 17:11:45  ...   \n",
       "4  2015-01-09 17:44:08  2015-01-12 18:51:21  2015-01-13 18:14:58  ...   \n",
       "\n",
       "            2015-12-18           2015-12-21           2015-12-22  \\\n",
       "0                  NaN  2015-12-21 17:15:50  2015-12-22 17:27:51   \n",
       "1  2015-12-18 18:31:28  2015-12-21 17:34:16  2015-12-22 18:16:35   \n",
       "2  2015-12-18 17:02:23  2015-12-21 17:20:17  2015-12-22 16:32:50   \n",
       "3  2015-12-18 17:55:23  2015-12-21 16:49:09  2015-12-22 17:24:00   \n",
       "4  2015-12-18 17:52:48  2015-12-21 17:43:35  2015-12-22 18:07:57   \n",
       "\n",
       "            2015-12-23           2015-12-24 2015-12-25           2015-12-28  \\\n",
       "0  2015-12-23 16:44:44  2015-12-24 17:47:22        NaN  2015-12-28 18:00:07   \n",
       "1  2015-12-23 17:38:18                  NaN        NaN  2015-12-28 17:08:38   \n",
       "2  2015-12-23 16:59:43  2015-12-24 16:58:25        NaN  2015-12-28 16:43:31   \n",
       "3  2015-12-23 17:36:35  2015-12-24 16:48:21        NaN  2015-12-28 17:19:34   \n",
       "4  2015-12-23 18:00:49  2015-12-24 17:59:22        NaN  2015-12-28 17:44:59   \n",
       "\n",
       "            2015-12-29           2015-12-30           2015-12-31  \n",
       "0  2015-12-29 17:22:30  2015-12-30 17:40:56  2015-12-31 17:17:33  \n",
       "1  2015-12-29 17:54:46  2015-12-30 18:31:35  2015-12-31 17:40:58  \n",
       "2  2015-12-29 17:09:56  2015-12-30 17:06:25  2015-12-31 17:15:50  \n",
       "3  2015-12-29 16:58:16  2015-12-30 17:40:11  2015-12-31 17:09:14  \n",
       "4  2015-12-29 18:47:00  2015-12-30 17:15:33  2015-12-31 17:42:14  \n",
       "\n",
       "[5 rows x 262 columns]"
      ]
     },
     "execution_count": 91,
     "metadata": {},
     "output_type": "execute_result"
    }
   ],
   "source": [
    "out_time.head()"
   ]
  },
  {
   "cell_type": "markdown",
   "metadata": {},
   "source": [
    "## Analyse des données vides"
   ]
  },
  {
   "cell_type": "code",
   "execution_count": 92,
   "metadata": {},
   "outputs": [
    {
     "name": "stdout",
     "output_type": "stream",
     "text": [
      "Par date\n",
      "Unnamed: 0       0\n",
      "2015-01-01    4410\n",
      "2015-01-02     209\n",
      "2015-01-05     206\n",
      "2015-01-06     228\n",
      "              ... \n",
      "2015-12-25    4410\n",
      "2015-12-28     234\n",
      "2015-12-29     230\n",
      "2015-12-30     265\n",
      "2015-12-31     213\n",
      "Length: 262, dtype: int64\n",
      "Par employé\n",
      "0       29\n",
      "1       25\n",
      "2       19\n",
      "3       26\n",
      "4       16\n",
      "        ..\n",
      "4405    18\n",
      "4406    20\n",
      "4407    30\n",
      "4408    20\n",
      "4409    29\n",
      "Length: 4410, dtype: int64\n"
     ]
    }
   ],
   "source": [
    "print(\"Par date\")\n",
    "print(out_time.isnull().sum())\n",
    "print(\"Par employé\")\n",
    "print(out_time.isnull().sum(axis=1))\n"
   ]
  },
  {
   "cell_type": "markdown",
   "metadata": {},
   "source": [
    "## Répartition des données"
   ]
  },
  {
   "cell_type": "code",
   "execution_count": 93,
   "metadata": {},
   "outputs": [
    {
     "data": {
      "text/plain": [
       "<AxesSubplot:>"
      ]
     },
     "execution_count": 93,
     "metadata": {},
     "output_type": "execute_result"
    },
    {
     "data": {
      "image/png": "[encoded data removed]",
      "text/plain": [
       "<Figure size 432x288 with 1 Axes>"
      ]
     },
     "metadata": {
      "needs_background": "light"
     },
     "output_type": "display_data"
    }
   ],
   "source": [
    "\n",
    "sns.boxplot(in_time.isnull().sum(axis=1))"
   ]
  },
  {
   "cell_type": "markdown",
   "metadata": {},
   "source": [
    "# Lien entre des datasets\n",
    "<div id=\"ld\"></div>"
   ]
  },
  {
   "cell_type": "markdown",
   "metadata": {},
   "source": [
    "## Données générales"
   ]
  },
  {
   "cell_type": "markdown",
   "metadata": {},
   "source": [
    "### Base du temps"
   ]
  },
  {
   "cell_type": "code",
   "execution_count": 94,
   "metadata": {},
   "outputs": [
    {
     "name": "stdout",
     "output_type": "stream",
     "text": [
      "Il y a 12 jours de congés\n"
     ]
    }
   ],
   "source": [
    "dayOff = in_time.isnull().sum() == 4410\n",
    "print(\"Il y a\", dayOff.sum() ,\"jours de congés\" )"
   ]
  },
  {
   "cell_type": "code",
   "execution_count": 95,
   "metadata": {},
   "outputs": [
    {
     "data": {
      "text/plain": [
       "<AxesSubplot:>"
      ]
     },
     "execution_count": 95,
     "metadata": {},
     "output_type": "execute_result"
    },
    {
     "data": {
      "image/png": "[encoded data removed]",
      "text/plain": [
       "<Figure size 432x288 with 1 Axes>"
      ]
     },
     "metadata": {
      "needs_background": "light"
     },
     "output_type": "display_data"
    }
   ],
   "source": [
    "# average of the number of hours worked per day\n",
    "in_time = in_time.dropna(axis=1, how='all')\n",
    "out_time = out_time.dropna(axis=1, how='all')\n",
    "in_time = in_time.dropna(axis=0, how='all')\n",
    "out_time = out_time.dropna(axis=0, how='all')\n",
    "in_time = in_time.apply(pd.to_datetime)\n",
    "out_time = out_time.apply(pd.to_datetime)\n",
    "hours_worked = out_time - in_time\n",
    "hours_worked = hours_worked.applymap(lambda x: x.total_seconds() / 3600)\n",
    "hours_worked = hours_worked.mean(axis=1)\n",
    "hours_worked = hours_worked.dropna()\n",
    "hours_worked = hours_worked.reset_index(drop=True)\n",
    "sns.boxplot(hours_worked)\n",
    "\n"
   ]
  },
  {
   "cell_type": "code",
   "execution_count": 96,
   "metadata": {},
   "outputs": [
    {
     "data": {
      "text/html": [
       "<div>\n",
       "<style scoped>\n",
       "    .dataframe tbody tr th:only-of-type {\n",
       "        vertical-align: middle;\n",
       "    }\n",
       "\n",
       "    .dataframe tbody tr th {\n",
       "        vertical-align: top;\n",
       "    }\n",
       "\n",
       "    .dataframe thead th {\n",
       "        text-align: right;\n",
       "    }\n",
       "</style>\n",
       "<table border=\"1\" class=\"dataframe\">\n",
       "  <thead>\n",
       "    <tr style=\"text-align: right;\">\n",
       "      <th></th>\n",
       "      <th>EmployeeID</th>\n",
       "      <th>avg_hours_worked</th>\n",
       "    </tr>\n",
       "  </thead>\n",
       "  <tbody>\n",
       "    <tr>\n",
       "      <th>0</th>\n",
       "      <td>1</td>\n",
       "      <td>7.342004</td>\n",
       "    </tr>\n",
       "    <tr>\n",
       "      <th>1</th>\n",
       "      <td>2</td>\n",
       "      <td>7.686399</td>\n",
       "    </tr>\n",
       "    <tr>\n",
       "      <th>2</th>\n",
       "      <td>3</td>\n",
       "      <td>6.984379</td>\n",
       "    </tr>\n",
       "    <tr>\n",
       "      <th>3</th>\n",
       "      <td>4</td>\n",
       "      <td>7.163197</td>\n",
       "    </tr>\n",
       "    <tr>\n",
       "      <th>4</th>\n",
       "      <td>5</td>\n",
       "      <td>7.973629</td>\n",
       "    </tr>\n",
       "    <tr>\n",
       "      <th>...</th>\n",
       "      <td>...</td>\n",
       "      <td>...</td>\n",
       "    </tr>\n",
       "    <tr>\n",
       "      <th>4405</th>\n",
       "      <td>4406</td>\n",
       "      <td>8.487350</td>\n",
       "    </tr>\n",
       "    <tr>\n",
       "      <th>4406</th>\n",
       "      <td>4407</td>\n",
       "      <td>6.067777</td>\n",
       "    </tr>\n",
       "    <tr>\n",
       "      <th>4407</th>\n",
       "      <td>4408</td>\n",
       "      <td>7.673414</td>\n",
       "    </tr>\n",
       "    <tr>\n",
       "      <th>4408</th>\n",
       "      <td>4409</td>\n",
       "      <td>9.453369</td>\n",
       "    </tr>\n",
       "    <tr>\n",
       "      <th>4409</th>\n",
       "      <td>4410</td>\n",
       "      <td>6.958952</td>\n",
       "    </tr>\n",
       "  </tbody>\n",
       "</table>\n",
       "<p>4410 rows × 2 columns</p>\n",
       "</div>"
      ],
      "text/plain": [
       "      EmployeeID  avg_hours_worked\n",
       "0              1          7.342004\n",
       "1              2          7.686399\n",
       "2              3          6.984379\n",
       "3              4          7.163197\n",
       "4              5          7.973629\n",
       "...          ...               ...\n",
       "4405        4406          8.487350\n",
       "4406        4407          6.067777\n",
       "4407        4408          7.673414\n",
       "4408        4409          9.453369\n",
       "4409        4410          6.958952\n",
       "\n",
       "[4410 rows x 2 columns]"
      ]
     },
     "execution_count": 96,
     "metadata": {},
     "output_type": "execute_result"
    }
   ],
   "source": [
    "hours_worked_df = pd.DataFrame({\n",
    "    \"EmployeeID\": general[\"EmployeeID\"],\n",
    "    \"avg_hours_worked\": hours_worked })\n",
    "hours_worked_df"
   ]
  },
  {
   "cell_type": "markdown",
   "metadata": {},
   "source": [
    "On remarque un taux plus élevé de démissions chez les gens qui travaillent le plus"
   ]
  },
  {
   "cell_type": "code",
   "execution_count": 97,
   "metadata": {},
   "outputs": [
    {
     "data": {
      "text/plain": [
       "<AxesSubplot:xlabel='avg_hours_worked', ylabel='Count'>"
      ]
     },
     "execution_count": 97,
     "metadata": {},
     "output_type": "execute_result"
    },
    {
     "data": {
      "image/png": "[encoded data removed]",
      "text/plain": [
       "<Figure size 432x288 with 1 Axes>"
      ]
     },
     "metadata": {
      "needs_background": "light"
     },
     "output_type": "display_data"
    }
   ],
   "source": [
    "general_time = general.merge(hours_worked_df, on=\"EmployeeID\")\n",
    "\n",
    "sns.histplot(data=general_time, x=\"avg_hours_worked\", hue=\"Attrition\", multiple=\"stack\", bins=20, kde=True)"
   ]
  },
  {
   "cell_type": "code",
   "execution_count": 98,
   "metadata": {},
   "outputs": [
    {
     "data": {
      "text/plain": [
       "133"
      ]
     },
     "execution_count": 98,
     "metadata": {},
     "output_type": "execute_result"
    }
   ],
   "source": [
    "general_badAll = general_time.merge(BadAll, on=\"EmployeeID\", copy=True)\n",
    "\n",
    "(general_badAll[\"Attrition\"] == 0).sum()"
   ]
  },
  {
   "cell_type": "code",
   "execution_count": 99,
   "metadata": {},
   "outputs": [],
   "source": [
    "out_timeAverage = out_time[out_time.columns[1:]].apply(pd.to_datetime)\n",
    "out_timeAverage = out_timeAverage.apply(lambda x: (x - x.dt.normalize()).dt.total_seconds() / 3600)\n",
    "out_timeAverage  = out_timeAverage.mean(axis=1)\n",
    "out_timeAverage = out_timeAverage.to_frame()\n",
    "out_timeAverage = out_timeAverage.assign(EmployeeID=range(1, len(out_timeAverage)+1))\n",
    "out_timeAverage = out_timeAverage.rename(columns={0: 'avg_out_time'})"
   ]
  },
  {
   "cell_type": "code",
   "execution_count": 100,
   "metadata": {},
   "outputs": [],
   "source": [
    "in_timeAverage = in_time[in_time.columns[1:]].apply(pd.to_datetime)\n",
    "in_timeAverage = in_timeAverage.apply(lambda x: (x - x.dt.normalize()).dt.total_seconds() / 3600)\n",
    "in_timeAverage = in_timeAverage.mean(axis=1)\n",
    "in_timeAverage = in_timeAverage.to_frame()\n",
    "in_timeAverage = in_timeAverage.assign(EmployeeID=range(1, len(in_timeAverage)+1))\n",
    "in_timeAverage = in_timeAverage.rename(columns={0:'AverageStartTime'})"
   ]
  },
  {
   "cell_type": "code",
   "execution_count": 101,
   "metadata": {},
   "outputs": [],
   "source": [
    "all_data = general.merge(manager_survey, on=\"EmployeeID\", copy=True)\n",
    "all_data = all_data.merge(employee_survey, on=\"EmployeeID\", copy=True)\n",
    "all_data = all_data.merge(hours_worked_df, on=\"EmployeeID\", copy=True)\n",
    "all_data = all_data.merge(out_timeAverage, on=\"EmployeeID\", copy=True)\n",
    "all_data = all_data.merge(in_timeAverage, on=\"EmployeeID\", copy=True)"
   ]
  },
  {
   "cell_type": "code",
   "execution_count": 102,
   "metadata": {},
   "outputs": [
    {
     "name": "stdout",
     "output_type": "stream",
     "text": [
      "[   1    2    3 ... 4408 4409 4410]\n",
      "[1.]\n",
      "[8]\n"
     ]
    }
   ],
   "source": [
    "print(all_data[\"EmployeeID\"].unique())\n",
    "print(all_data[\"Over18\"].unique())\n",
    "print(all_data[\"StandardHours\"].unique())"
   ]
  },
  {
   "cell_type": "code",
   "execution_count": 103,
   "metadata": {},
   "outputs": [],
   "source": [
    "def dataCleaning(all_data, type):\n",
    "    if type == 1:\n",
    "        # drop useless columns\n",
    "        all_data.drop(\"EmployeeID\", axis=1, inplace=True)\n",
    "        all_data.drop(\"Over18\", axis=1, inplace=True)\n",
    "        all_data.drop(\"EmployeeCount\", axis=1, inplace=True)\n",
    "        all_data.drop(\"StandardHours\", axis=1, inplace=True)\n",
    "\n",
    "    if type == 2:\n",
    "        # drop unethical columns\n",
    "        all_data.drop(\"Male\", axis=1, inplace=True)\n",
    "        all_data.drop(\"Female\", axis=1, inplace=True)\n",
    "        all_data.drop(\"Single\", axis=1, inplace=True)\n",
    "        all_data.drop(\"Married\", axis=1, inplace=True)\n",
    "        all_data.drop(\"Divorced\", axis=1, inplace=True)\n",
    "        all_data.drop(\"Age\", axis=1, inplace=True)\n",
    "\n",
    "    return all_data\n",
    "\n",
    "all_data = dataCleaning(all_data,1)"
   ]
  },
  {
   "cell_type": "code",
   "execution_count": 104,
   "metadata": {},
   "outputs": [
    {
     "ename": "TypeError",
     "evalue": "DataFrame.corr() got an unexpected keyword argument 'numeric_only'",
     "output_type": "error",
     "traceback": [
      "\u001b[1;31m---------------------------------------------------------------------------\u001b[0m",
      "\u001b[1;31mTypeError\u001b[0m                                 Traceback (most recent call last)",
      "\u001b[1;32mc:\\Users\\julie\\Documents\\A4\\Bloc 1 AI\\Projet\\IACESI\\projet_ia.ipynb Cell 86\u001b[0m in \u001b[0;36m<cell line: 2>\u001b[1;34m()\u001b[0m\n\u001b[0;32m      <a href='vscode-notebook-cell:/c%3A/Users/julie/Documents/A4/Bloc%201%20AI/Projet/IACESI/projet_ia.ipynb#Y151sZmlsZQ%3D%3D?line=0'>1</a>\u001b[0m plt\u001b[39m.\u001b[39mfigure(figsize\u001b[39m=\u001b[39m(\u001b[39m15\u001b[39m, \u001b[39m10\u001b[39m))\n\u001b[1;32m----> <a href='vscode-notebook-cell:/c%3A/Users/julie/Documents/A4/Bloc%201%20AI/Projet/IACESI/projet_ia.ipynb#Y151sZmlsZQ%3D%3D?line=1'>2</a>\u001b[0m sns\u001b[39m.\u001b[39mheatmap(all_data\u001b[39m.\u001b[39;49mcorr(numeric_only\u001b[39m=\u001b[39;49m\u001b[39mTrue\u001b[39;49;00m))\n",
      "\u001b[1;31mTypeError\u001b[0m: DataFrame.corr() got an unexpected keyword argument 'numeric_only'"
     ]
    },
    {
     "data": {
      "text/plain": [
       "<Figure size 1080x720 with 0 Axes>"
      ]
     },
     "metadata": {},
     "output_type": "display_data"
    }
   ],
   "source": [
    "plt.figure(figsize=(15, 10))\n",
    "sns.heatmap(all_data.corr(numeric_only=True))"
   ]
  },
  {
   "cell_type": "code",
   "execution_count": null,
   "metadata": {},
   "outputs": [
    {
     "data": {
      "text/plain": [
       "<AxesSubplot:>"
      ]
     },
     "execution_count": 53,
     "metadata": {},
     "output_type": "execute_result"
    },
    {
     "data": {
      "image/png": "[encoded data removed]",
      "text/plain": [
       "<Figure size 216x720 with 2 Axes>"
      ]
     },
     "metadata": {
      "needs_background": "light"
     },
     "output_type": "display_data"
    }
   ],
   "source": [
    "plt.figure(figsize=(3, 10))\n",
    "all_data_corr = all_data.corr()\n",
    "sns.heatmap(all_data_corr[['Attrition']].sort_values(by=['Attrition'],ascending=False), vmin=-1, vmax=1, annot=True)"
   ]
  },
  {
   "cell_type": "markdown",
   "metadata": {},
   "source": [
    "Lien entre age et temps travaillé"
   ]
  },
  {
   "cell_type": "code",
   "execution_count": null,
   "metadata": {},
   "outputs": [
    {
     "data": {
      "text/plain": [
       "[<matplotlib.lines.Line2D at 0x1acd4543b50>]"
      ]
     },
     "execution_count": 54,
     "metadata": {},
     "output_type": "execute_result"
    },
    {
     "data": {
      "image/png": "[encoded data removed]",
      "text/plain": [
       "<Figure size 432x288 with 1 Axes>"
      ]
     },
     "metadata": {
      "needs_background": "light"
     },
     "output_type": "display_data"
    }
   ],
   "source": [
    "age_hours_worked = all_data.groupby(['Age'])[\"avg_hours_worked\"].mean()\n",
    "plt.plot(age_hours_worked.index, age_hours_worked.values, color=\"red\")"
   ]
  },
  {
   "cell_type": "code",
   "execution_count": null,
   "metadata": {},
   "outputs": [],
   "source": [
    "all_data = dataCleaning(all_data,2)"
   ]
  },
  {
   "cell_type": "markdown",
   "metadata": {},
   "source": [
    "# Gestion des valeurs manquantes"
   ]
  },
  {
   "cell_type": "code",
   "execution_count": 106,
   "metadata": {},
   "outputs": [],
   "source": [
    "def nullToMedian(all_data):\n",
    "    all_data[\"NumCompaniesWorked\"] = all_data[\"NumCompaniesWorked\"].replace(np.nan,median(all_data[\"NumCompaniesWorked\"]))\n",
    "    all_data[\"TotalWorkingYears\"] = all_data[\"TotalWorkingYears\"].replace(np.nan,median(all_data[\"TotalWorkingYears\"]))\n",
    "\n",
    "    all_data[\"EnvironmentSatisfaction\"] = all_data[\"EnvironmentSatisfaction\"].replace(np.nan,median(all_data[\"EnvironmentSatisfaction\"]))\n",
    "    all_data[\"JobSatisfaction\"] = all_data[\"JobSatisfaction\"].replace(np.nan,median(all_data[\"JobSatisfaction\"]))\n",
    "    all_data[\"WorkLifeBalance\"] = all_data[\"WorkLifeBalance\"].replace(np.nan,median(all_data[\"WorkLifeBalance\"]))\n",
    "    return all_data\n",
    "\n",
    "def nullToKnnImputer(all_data):\n",
    "    imputer = KNNImputer(n_neighbors=5)\n",
    "    all_data_imputed = pd.DataFrame(imputer.fit_transform(all_data), columns=all_data.columns)\n",
    "    return all_data_imputed\n",
    "\n",
    "all_data = nullToKnnImputer(all_data)"
   ]
  },
  {
   "attachments": {},
   "cell_type": "markdown",
   "metadata": {},
   "source": [
    "# Normalisation"
   ]
  },
  {
   "cell_type": "code",
   "execution_count": 107,
   "metadata": {},
   "outputs": [
    {
     "data": {
      "text/html": [
       "<div>\n",
       "<style scoped>\n",
       "    .dataframe tbody tr th:only-of-type {\n",
       "        vertical-align: middle;\n",
       "    }\n",
       "\n",
       "    .dataframe tbody tr th {\n",
       "        vertical-align: top;\n",
       "    }\n",
       "\n",
       "    .dataframe thead th {\n",
       "        text-align: right;\n",
       "    }\n",
       "</style>\n",
       "<table border=\"1\" class=\"dataframe\">\n",
       "  <thead>\n",
       "    <tr style=\"text-align: right;\">\n",
       "      <th></th>\n",
       "      <th>Age</th>\n",
       "      <th>Attrition</th>\n",
       "      <th>BusinessTravel</th>\n",
       "      <th>DistanceFromHome</th>\n",
       "      <th>Education</th>\n",
       "      <th>JobLevel</th>\n",
       "      <th>MonthlyIncome</th>\n",
       "      <th>NumCompaniesWorked</th>\n",
       "      <th>PercentSalaryHike</th>\n",
       "      <th>StockOptionLevel</th>\n",
       "      <th>...</th>\n",
       "      <th>Married</th>\n",
       "      <th>Single</th>\n",
       "      <th>JobInvolvement</th>\n",
       "      <th>PerformanceRating</th>\n",
       "      <th>EnvironmentSatisfaction</th>\n",
       "      <th>JobSatisfaction</th>\n",
       "      <th>WorkLifeBalance</th>\n",
       "      <th>avg_hours_worked</th>\n",
       "      <th>avg_out_time</th>\n",
       "      <th>AverageStartTime</th>\n",
       "    </tr>\n",
       "  </thead>\n",
       "  <tbody>\n",
       "    <tr>\n",
       "      <th>0</th>\n",
       "      <td>0.785714</td>\n",
       "      <td>0.0</td>\n",
       "      <td>0.5</td>\n",
       "      <td>0.178571</td>\n",
       "      <td>0.25</td>\n",
       "      <td>0.00</td>\n",
       "      <td>0.637546</td>\n",
       "      <td>0.111111</td>\n",
       "      <td>0.000000</td>\n",
       "      <td>0.000000</td>\n",
       "      <td>...</td>\n",
       "      <td>1.0</td>\n",
       "      <td>0.0</td>\n",
       "      <td>0.666667</td>\n",
       "      <td>0.0</td>\n",
       "      <td>0.666667</td>\n",
       "      <td>1.000000</td>\n",
       "      <td>0.333333</td>\n",
       "      <td>0.280179</td>\n",
       "      <td>0.278397</td>\n",
       "      <td>0.455440</td>\n",
       "    </tr>\n",
       "    <tr>\n",
       "      <th>1</th>\n",
       "      <td>0.309524</td>\n",
       "      <td>1.0</td>\n",
       "      <td>1.0</td>\n",
       "      <td>0.321429</td>\n",
       "      <td>0.00</td>\n",
       "      <td>0.00</td>\n",
       "      <td>0.167457</td>\n",
       "      <td>0.000000</td>\n",
       "      <td>0.857143</td>\n",
       "      <td>0.333333</td>\n",
       "      <td>...</td>\n",
       "      <td>0.0</td>\n",
       "      <td>1.0</td>\n",
       "      <td>0.333333</td>\n",
       "      <td>1.0</td>\n",
       "      <td>0.666667</td>\n",
       "      <td>0.333333</td>\n",
       "      <td>1.000000</td>\n",
       "      <td>0.348247</td>\n",
       "      <td>0.343277</td>\n",
       "      <td>0.360231</td>\n",
       "    </tr>\n",
       "    <tr>\n",
       "      <th>2</th>\n",
       "      <td>0.333333</td>\n",
       "      <td>0.0</td>\n",
       "      <td>1.0</td>\n",
       "      <td>0.571429</td>\n",
       "      <td>0.75</td>\n",
       "      <td>0.75</td>\n",
       "      <td>0.964666</td>\n",
       "      <td>0.111111</td>\n",
       "      <td>0.285714</td>\n",
       "      <td>1.000000</td>\n",
       "      <td>...</td>\n",
       "      <td>1.0</td>\n",
       "      <td>0.0</td>\n",
       "      <td>0.666667</td>\n",
       "      <td>0.0</td>\n",
       "      <td>0.333333</td>\n",
       "      <td>0.333333</td>\n",
       "      <td>0.000000</td>\n",
       "      <td>0.209497</td>\n",
       "      <td>0.212578</td>\n",
       "      <td>0.624032</td>\n",
       "    </tr>\n",
       "    <tr>\n",
       "      <th>3</th>\n",
       "      <td>0.476190</td>\n",
       "      <td>0.0</td>\n",
       "      <td>0.0</td>\n",
       "      <td>0.035714</td>\n",
       "      <td>1.00</td>\n",
       "      <td>0.50</td>\n",
       "      <td>0.385045</td>\n",
       "      <td>0.333333</td>\n",
       "      <td>0.000000</td>\n",
       "      <td>1.000000</td>\n",
       "      <td>...</td>\n",
       "      <td>1.0</td>\n",
       "      <td>0.0</td>\n",
       "      <td>0.333333</td>\n",
       "      <td>0.0</td>\n",
       "      <td>1.000000</td>\n",
       "      <td>1.000000</td>\n",
       "      <td>0.666667</td>\n",
       "      <td>0.244839</td>\n",
       "      <td>0.239394</td>\n",
       "      <td>0.315702</td>\n",
       "    </tr>\n",
       "    <tr>\n",
       "      <th>4</th>\n",
       "      <td>0.333333</td>\n",
       "      <td>0.0</td>\n",
       "      <td>0.5</td>\n",
       "      <td>0.321429</td>\n",
       "      <td>0.00</td>\n",
       "      <td>0.00</td>\n",
       "      <td>0.070195</td>\n",
       "      <td>0.444444</td>\n",
       "      <td>0.071429</td>\n",
       "      <td>0.666667</td>\n",
       "      <td>...</td>\n",
       "      <td>0.0</td>\n",
       "      <td>1.0</td>\n",
       "      <td>0.666667</td>\n",
       "      <td>0.0</td>\n",
       "      <td>1.000000</td>\n",
       "      <td>0.000000</td>\n",
       "      <td>0.666667</td>\n",
       "      <td>0.405016</td>\n",
       "      <td>0.401445</td>\n",
       "      <td>0.434548</td>\n",
       "    </tr>\n",
       "    <tr>\n",
       "      <th>...</th>\n",
       "      <td>...</td>\n",
       "      <td>...</td>\n",
       "      <td>...</td>\n",
       "      <td>...</td>\n",
       "      <td>...</td>\n",
       "      <td>...</td>\n",
       "      <td>...</td>\n",
       "      <td>...</td>\n",
       "      <td>...</td>\n",
       "      <td>...</td>\n",
       "      <td>...</td>\n",
       "      <td>...</td>\n",
       "      <td>...</td>\n",
       "      <td>...</td>\n",
       "      <td>...</td>\n",
       "      <td>...</td>\n",
       "      <td>...</td>\n",
       "      <td>...</td>\n",
       "      <td>...</td>\n",
       "      <td>...</td>\n",
       "      <td>...</td>\n",
       "    </tr>\n",
       "    <tr>\n",
       "      <th>4405</th>\n",
       "      <td>0.571429</td>\n",
       "      <td>0.0</td>\n",
       "      <td>0.5</td>\n",
       "      <td>0.142857</td>\n",
       "      <td>0.75</td>\n",
       "      <td>0.00</td>\n",
       "      <td>0.264350</td>\n",
       "      <td>0.333333</td>\n",
       "      <td>0.428571</td>\n",
       "      <td>0.333333</td>\n",
       "      <td>...</td>\n",
       "      <td>0.0</td>\n",
       "      <td>1.0</td>\n",
       "      <td>0.666667</td>\n",
       "      <td>0.0</td>\n",
       "      <td>1.000000</td>\n",
       "      <td>0.000000</td>\n",
       "      <td>0.666667</td>\n",
       "      <td>0.506549</td>\n",
       "      <td>0.506475</td>\n",
       "      <td>0.586438</td>\n",
       "    </tr>\n",
       "    <tr>\n",
       "      <th>4406</th>\n",
       "      <td>0.261905</td>\n",
       "      <td>0.0</td>\n",
       "      <td>0.5</td>\n",
       "      <td>0.035714</td>\n",
       "      <td>0.75</td>\n",
       "      <td>0.00</td>\n",
       "      <td>0.087941</td>\n",
       "      <td>0.222222</td>\n",
       "      <td>0.285714</td>\n",
       "      <td>0.000000</td>\n",
       "      <td>...</td>\n",
       "      <td>0.0</td>\n",
       "      <td>0.0</td>\n",
       "      <td>0.333333</td>\n",
       "      <td>0.0</td>\n",
       "      <td>1.000000</td>\n",
       "      <td>1.000000</td>\n",
       "      <td>0.666667</td>\n",
       "      <td>0.028336</td>\n",
       "      <td>0.028650</td>\n",
       "      <td>0.475596</td>\n",
       "    </tr>\n",
       "    <tr>\n",
       "      <th>4407</th>\n",
       "      <td>0.166667</td>\n",
       "      <td>0.0</td>\n",
       "      <td>0.5</td>\n",
       "      <td>0.857143</td>\n",
       "      <td>0.25</td>\n",
       "      <td>0.25</td>\n",
       "      <td>0.141811</td>\n",
       "      <td>0.000000</td>\n",
       "      <td>0.642857</td>\n",
       "      <td>0.000000</td>\n",
       "      <td>...</td>\n",
       "      <td>1.0</td>\n",
       "      <td>0.0</td>\n",
       "      <td>0.666667</td>\n",
       "      <td>1.0</td>\n",
       "      <td>0.000000</td>\n",
       "      <td>0.666667</td>\n",
       "      <td>0.666667</td>\n",
       "      <td>0.345680</td>\n",
       "      <td>0.339283</td>\n",
       "      <td>0.302463</td>\n",
       "    </tr>\n",
       "    <tr>\n",
       "      <th>4408</th>\n",
       "      <td>0.571429</td>\n",
       "      <td>0.0</td>\n",
       "      <td>0.5</td>\n",
       "      <td>0.607143</td>\n",
       "      <td>0.25</td>\n",
       "      <td>0.00</td>\n",
       "      <td>0.073144</td>\n",
       "      <td>0.000000</td>\n",
       "      <td>0.214286</td>\n",
       "      <td>0.333333</td>\n",
       "      <td>...</td>\n",
       "      <td>0.0</td>\n",
       "      <td>0.0</td>\n",
       "      <td>0.333333</td>\n",
       "      <td>0.0</td>\n",
       "      <td>1.000000</td>\n",
       "      <td>0.000000</td>\n",
       "      <td>0.666667</td>\n",
       "      <td>0.697477</td>\n",
       "      <td>0.695871</td>\n",
       "      <td>0.577572</td>\n",
       "    </tr>\n",
       "    <tr>\n",
       "      <th>4409</th>\n",
       "      <td>0.523810</td>\n",
       "      <td>0.0</td>\n",
       "      <td>0.5</td>\n",
       "      <td>0.964286</td>\n",
       "      <td>0.50</td>\n",
       "      <td>0.25</td>\n",
       "      <td>0.234808</td>\n",
       "      <td>0.000000</td>\n",
       "      <td>0.071429</td>\n",
       "      <td>0.000000</td>\n",
       "      <td>...</td>\n",
       "      <td>0.0</td>\n",
       "      <td>0.0</td>\n",
       "      <td>1.000000</td>\n",
       "      <td>0.0</td>\n",
       "      <td>0.000000</td>\n",
       "      <td>0.666667</td>\n",
       "      <td>0.666667</td>\n",
       "      <td>0.204471</td>\n",
       "      <td>0.206401</td>\n",
       "      <td>0.571875</td>\n",
       "    </tr>\n",
       "  </tbody>\n",
       "</table>\n",
       "<p>4410 rows × 46 columns</p>\n",
       "</div>"
      ],
      "text/plain": [
       "           Age  Attrition  BusinessTravel  DistanceFromHome  Education  \\\n",
       "0     0.785714        0.0             0.5          0.178571       0.25   \n",
       "1     0.309524        1.0             1.0          0.321429       0.00   \n",
       "2     0.333333        0.0             1.0          0.571429       0.75   \n",
       "3     0.476190        0.0             0.0          0.035714       1.00   \n",
       "4     0.333333        0.0             0.5          0.321429       0.00   \n",
       "...        ...        ...             ...               ...        ...   \n",
       "4405  0.571429        0.0             0.5          0.142857       0.75   \n",
       "4406  0.261905        0.0             0.5          0.035714       0.75   \n",
       "4407  0.166667        0.0             0.5          0.857143       0.25   \n",
       "4408  0.571429        0.0             0.5          0.607143       0.25   \n",
       "4409  0.523810        0.0             0.5          0.964286       0.50   \n",
       "\n",
       "      JobLevel  MonthlyIncome  NumCompaniesWorked  PercentSalaryHike  \\\n",
       "0         0.00       0.637546            0.111111           0.000000   \n",
       "1         0.00       0.167457            0.000000           0.857143   \n",
       "2         0.75       0.964666            0.111111           0.285714   \n",
       "3         0.50       0.385045            0.333333           0.000000   \n",
       "4         0.00       0.070195            0.444444           0.071429   \n",
       "...        ...            ...                 ...                ...   \n",
       "4405      0.00       0.264350            0.333333           0.428571   \n",
       "4406      0.00       0.087941            0.222222           0.285714   \n",
       "4407      0.25       0.141811            0.000000           0.642857   \n",
       "4408      0.00       0.073144            0.000000           0.214286   \n",
       "4409      0.25       0.234808            0.000000           0.071429   \n",
       "\n",
       "      StockOptionLevel  ...  Married  Single  JobInvolvement  \\\n",
       "0             0.000000  ...      1.0     0.0        0.666667   \n",
       "1             0.333333  ...      0.0     1.0        0.333333   \n",
       "2             1.000000  ...      1.0     0.0        0.666667   \n",
       "3             1.000000  ...      1.0     0.0        0.333333   \n",
       "4             0.666667  ...      0.0     1.0        0.666667   \n",
       "...                ...  ...      ...     ...             ...   \n",
       "4405          0.333333  ...      0.0     1.0        0.666667   \n",
       "4406          0.000000  ...      0.0     0.0        0.333333   \n",
       "4407          0.000000  ...      1.0     0.0        0.666667   \n",
       "4408          0.333333  ...      0.0     0.0        0.333333   \n",
       "4409          0.000000  ...      0.0     0.0        1.000000   \n",
       "\n",
       "      PerformanceRating  EnvironmentSatisfaction  JobSatisfaction  \\\n",
       "0                   0.0                 0.666667         1.000000   \n",
       "1                   1.0                 0.666667         0.333333   \n",
       "2                   0.0                 0.333333         0.333333   \n",
       "3                   0.0                 1.000000         1.000000   \n",
       "4                   0.0                 1.000000         0.000000   \n",
       "...                 ...                      ...              ...   \n",
       "4405                0.0                 1.000000         0.000000   \n",
       "4406                0.0                 1.000000         1.000000   \n",
       "4407                1.0                 0.000000         0.666667   \n",
       "4408                0.0                 1.000000         0.000000   \n",
       "4409                0.0                 0.000000         0.666667   \n",
       "\n",
       "      WorkLifeBalance  avg_hours_worked  avg_out_time  AverageStartTime  \n",
       "0            0.333333          0.280179      0.278397          0.455440  \n",
       "1            1.000000          0.348247      0.343277          0.360231  \n",
       "2            0.000000          0.209497      0.212578          0.624032  \n",
       "3            0.666667          0.244839      0.239394          0.315702  \n",
       "4            0.666667          0.405016      0.401445          0.434548  \n",
       "...               ...               ...           ...               ...  \n",
       "4405         0.666667          0.506549      0.506475          0.586438  \n",
       "4406         0.666667          0.028336      0.028650          0.475596  \n",
       "4407         0.666667          0.345680      0.339283          0.302463  \n",
       "4408         0.666667          0.697477      0.695871          0.577572  \n",
       "4409         0.666667          0.204471      0.206401          0.571875  \n",
       "\n",
       "[4410 rows x 46 columns]"
      ]
     },
     "execution_count": 107,
     "metadata": {},
     "output_type": "execute_result"
    }
   ],
   "source": [
    "min_max_scaler = lambda x: (x-x.min()) / (x.max()-x.min())\n",
    "all_data = all_data.apply(min_max_scaler)\n",
    "all_data"
   ]
  },
  {
   "attachments": {},
   "cell_type": "markdown",
   "metadata": {},
   "source": [
    "# Selection des caractéristiques"
   ]
  },
  {
   "attachments": {},
   "cell_type": "markdown",
   "metadata": {},
   "source": [
    "Le test du khi2 permet d'identifier les caractéristiques les plus pertinentes pour un modèle en évaluant leur indépendance par rapport à la variable cible."
   ]
  },
  {
   "cell_type": "code",
   "execution_count": 108,
   "metadata": {},
   "outputs": [],
   "source": [
    "# Préparer les données\n",
    "y = all_data[\"Attrition\"]\n",
    "X = all_data.drop(columns=[\"Attrition\"])\n",
    "\n",
    "# Diviser les données en ensembles d'entraînement et de test\n",
    "x_train, x_test, y_train, y_test = train_test_split(X, y, test_size=0.15, random_state=42, stratify=y)"
   ]
  },
  {
   "cell_type": "code",
   "execution_count": 109,
   "metadata": {},
   "outputs": [],
   "source": [
    "# Sélection des caractéristiques avec le test du khi2\n",
    "k_best = SelectKBest(chi2, k=\"all\")  # Utilisez un nombre approprié pour 'k' en fonction de vos données\n",
    "X_train_kbest = k_best.fit_transform(x_train, y_train)\n",
    "X_test_kbest = k_best.transform(x_test)"
   ]
  },
  {
   "cell_type": "code",
   "execution_count": 110,
   "metadata": {},
   "outputs": [],
   "source": [
    "# Choisir un modèle (ici, nous utilisons la régression logistique)\n",
    "model = LogisticRegression()\n",
    "\n",
    "# Liste pour stocker les scores de validation croisée\n",
    "cv_scores = []"
   ]
  },
  {
   "cell_type": "code",
   "execution_count": 111,
   "metadata": {},
   "outputs": [
    {
     "name": "stdout",
     "output_type": "stream",
     "text": [
      "La meilleure valeur de k est 21\n"
     ]
    }
   ],
   "source": [
    "max_features = x_train.shape[1]\n",
    "\n",
    "# Boucle sur différentes valeurs de k\n",
    "for k in range(1, max_features + 1):\n",
    "    # Sélection des k meilleures caractéristiques\n",
    "    k_best = SelectKBest(chi2, k=k)\n",
    "    X_train_kbest = k_best.fit_transform(x_train, y_train)\n",
    "    \n",
    "    # Évaluation du modèle avec validation croisée k-fold (k = 5)\n",
    "    scores = cross_val_score(model, X_train_kbest, y_train, cv=5)\n",
    "    mean_score = np.mean(scores)\n",
    "    cv_scores.append(mean_score)\n",
    "\n",
    "# Trouver la valeur de k avec la meilleure performance\n",
    "best_k = np.argmax(cv_scores) + 1\n",
    "print(f\"La meilleure valeur de k est {best_k}\")"
   ]
  },
  {
   "attachments": {},
   "cell_type": "markdown",
   "metadata": {},
   "source": [
    "Nous avons donc déterminé que la valeur optimale de k est 21, nous garderons donc les 21 caractéristiques les plus importantes. Déterminons maintenant nos données finales à utiliser dans nos modèles."
   ]
  },
  {
   "cell_type": "code",
   "execution_count": 112,
   "metadata": {},
   "outputs": [],
   "source": [
    "# Sélection des caractéristiques avec le test du khi2\n",
    "k_best = SelectKBest(chi2, k=best_k)\n",
    "X_train_kbest = k_best.fit_transform(x_train, y_train)\n",
    "X_test_kbest = k_best.transform(x_test)\n",
    "\n",
    "# Récupérer les noms de colonnes sélectionnés\n",
    "selected_features = x_train.columns[k_best.get_support()]"
   ]
  },
  {
   "cell_type": "code",
   "execution_count": 113,
   "metadata": {},
   "outputs": [],
   "source": [
    "# Convertir les tableaux NumPy en DataFrames pandas avec les noms de colonnes appropriés\n",
    "x_train = pd.DataFrame(X_train_kbest, columns=selected_features)\n",
    "x_test = pd.DataFrame(X_test_kbest, columns=selected_features)"
   ]
  },
  {
   "cell_type": "markdown",
   "metadata": {},
   "source": [
    "# Mise en place des modèles"
   ]
  },
  {
   "cell_type": "code",
   "execution_count": 114,
   "metadata": {},
   "outputs": [],
   "source": [
    "def score(model, x_train, y_train):\n",
    "    print(\"Accuracy:\", cross_val_score(model, x_train, y_train, cv=7, scoring='accuracy').mean())\n",
    "    print(\"F1 score:\", cross_val_score(model, x_train, y_train, cv=7, scoring='f1').mean())\n",
    "    print(\"Precision:\", cross_val_score(model, x_train, y_train, cv=7, scoring='precision').mean())\n",
    "    print(\"Recall:\", cross_val_score(model, x_train, y_train, cv=7, scoring='recall').mean())\n",
    "    print(\"ROC AUC score:\", cross_val_score(model, x_train, y_train, cv=7, scoring='roc_auc').mean())\n",
    "\n",
    "    fig, ax = plt.subplots(figsize=(8, 6))\n",
    "    RocCurveDisplay.from_estimator(model, x_test, y_test, ax=ax)\n",
    "    plt.show()"
   ]
  },
  {
   "cell_type": "markdown",
   "metadata": {},
   "source": [
    "## Choix des hyperparamètres"
   ]
  },
  {
   "cell_type": "markdown",
   "metadata": {
    "tags": []
   },
   "source": [
    "### DecisionTreeClassifier"
   ]
  },
  {
   "cell_type": "markdown",
   "metadata": {},
   "source": [
    "Pour le DecisionTreeClassifier nous allons utiliser GridSearch afin de trouver les meilleurs hyperparamètres"
   ]
  },
  {
   "cell_type": "code",
   "execution_count": 115,
   "metadata": {},
   "outputs": [],
   "source": [
    "pipeline_dtc = Pipeline(steps=[\n",
    "    ('classifier', DecisionTreeClassifier())\n",
    "])"
   ]
  },
  {
   "cell_type": "code",
   "execution_count": 116,
   "metadata": {},
   "outputs": [],
   "source": [
    "criterion = ['gini', 'entropy']\n",
    "max_depth = [16,18,20,21,22,23,24,30]\n",
    "splitter = ['best','random']\n",
    "\n",
    "\n",
    "parameters_dtc = dict(classifier__criterion=criterion,\n",
    "                  classifier__max_depth=max_depth,\n",
    "                  classifier__splitter=splitter)\n"
   ]
  },
  {
   "cell_type": "code",
   "execution_count": 173,
   "metadata": {},
   "outputs": [
    {
     "data": {
      "text/plain": [
       "{'classifier__criterion': 'entropy',\n",
       " 'classifier__max_depth': 18,\n",
       " 'classifier__splitter': 'random'}"
      ]
     },
     "execution_count": 173,
     "metadata": {},
     "output_type": "execute_result"
    }
   ],
   "source": [
    "dtc_GS = GridSearchCV(pipeline_dtc, parameters_dtc, cv=7)\n",
    "dtc_GS.fit(x_train, y_train)\n",
    "\n",
    "dtc_GS.best_params_"
   ]
  },
  {
   "cell_type": "code",
   "execution_count": 174,
   "metadata": {},
   "outputs": [
    {
     "data": {
      "text/html": [
       "<div>\n",
       "<style scoped>\n",
       "    .dataframe tbody tr th:only-of-type {\n",
       "        vertical-align: middle;\n",
       "    }\n",
       "\n",
       "    .dataframe tbody tr th {\n",
       "        vertical-align: top;\n",
       "    }\n",
       "\n",
       "    .dataframe thead th {\n",
       "        text-align: right;\n",
       "    }\n",
       "</style>\n",
       "<table border=\"1\" class=\"dataframe\">\n",
       "  <thead>\n",
       "    <tr style=\"text-align: right;\">\n",
       "      <th></th>\n",
       "      <th>mean_fit_time</th>\n",
       "      <th>std_fit_time</th>\n",
       "      <th>mean_score_time</th>\n",
       "      <th>std_score_time</th>\n",
       "      <th>param_classifier__criterion</th>\n",
       "      <th>param_classifier__max_depth</th>\n",
       "      <th>param_classifier__splitter</th>\n",
       "      <th>params</th>\n",
       "      <th>split0_test_score</th>\n",
       "      <th>split1_test_score</th>\n",
       "      <th>split2_test_score</th>\n",
       "      <th>split3_test_score</th>\n",
       "      <th>split4_test_score</th>\n",
       "      <th>split5_test_score</th>\n",
       "      <th>split6_test_score</th>\n",
       "      <th>mean_test_score</th>\n",
       "      <th>std_test_score</th>\n",
       "      <th>rank_test_score</th>\n",
       "    </tr>\n",
       "  </thead>\n",
       "  <tbody>\n",
       "    <tr>\n",
       "      <th>19</th>\n",
       "      <td>0.006049</td>\n",
       "      <td>0.000278</td>\n",
       "      <td>0.001142</td>\n",
       "      <td>0.000353</td>\n",
       "      <td>entropy</td>\n",
       "      <td>18</td>\n",
       "      <td>random</td>\n",
       "      <td>{'classifier__criterion': 'entropy', 'classifi...</td>\n",
       "      <td>0.968284</td>\n",
       "      <td>0.979478</td>\n",
       "      <td>0.990672</td>\n",
       "      <td>0.977570</td>\n",
       "      <td>0.988785</td>\n",
       "      <td>0.985047</td>\n",
       "      <td>0.990654</td>\n",
       "      <td>0.982927</td>\n",
       "      <td>0.007686</td>\n",
       "      <td>1</td>\n",
       "    </tr>\n",
       "    <tr>\n",
       "      <th>31</th>\n",
       "      <td>0.006115</td>\n",
       "      <td>0.000294</td>\n",
       "      <td>0.001714</td>\n",
       "      <td>0.000695</td>\n",
       "      <td>entropy</td>\n",
       "      <td>30</td>\n",
       "      <td>random</td>\n",
       "      <td>{'classifier__criterion': 'entropy', 'classifi...</td>\n",
       "      <td>0.988806</td>\n",
       "      <td>0.981343</td>\n",
       "      <td>0.975746</td>\n",
       "      <td>0.973832</td>\n",
       "      <td>0.985047</td>\n",
       "      <td>0.985047</td>\n",
       "      <td>0.983178</td>\n",
       "      <td>0.981857</td>\n",
       "      <td>0.004963</td>\n",
       "      <td>2</td>\n",
       "    </tr>\n",
       "    <tr>\n",
       "      <th>11</th>\n",
       "      <td>0.007753</td>\n",
       "      <td>0.001319</td>\n",
       "      <td>0.001990</td>\n",
       "      <td>0.000533</td>\n",
       "      <td>gini</td>\n",
       "      <td>23</td>\n",
       "      <td>random</td>\n",
       "      <td>{'classifier__criterion': 'gini', 'classifier_...</td>\n",
       "      <td>0.973881</td>\n",
       "      <td>0.981343</td>\n",
       "      <td>0.994403</td>\n",
       "      <td>0.973832</td>\n",
       "      <td>0.985047</td>\n",
       "      <td>0.985047</td>\n",
       "      <td>0.979439</td>\n",
       "      <td>0.981856</td>\n",
       "      <td>0.006675</td>\n",
       "      <td>3</td>\n",
       "    </tr>\n",
       "    <tr>\n",
       "      <th>27</th>\n",
       "      <td>0.005846</td>\n",
       "      <td>0.000638</td>\n",
       "      <td>0.001857</td>\n",
       "      <td>0.000351</td>\n",
       "      <td>entropy</td>\n",
       "      <td>23</td>\n",
       "      <td>random</td>\n",
       "      <td>{'classifier__criterion': 'entropy', 'classifi...</td>\n",
       "      <td>0.979478</td>\n",
       "      <td>0.977612</td>\n",
       "      <td>0.977612</td>\n",
       "      <td>0.986916</td>\n",
       "      <td>0.979439</td>\n",
       "      <td>0.985047</td>\n",
       "      <td>0.985047</td>\n",
       "      <td>0.981593</td>\n",
       "      <td>0.003645</td>\n",
       "      <td>4</td>\n",
       "    </tr>\n",
       "    <tr>\n",
       "      <th>1</th>\n",
       "      <td>0.005832</td>\n",
       "      <td>0.000346</td>\n",
       "      <td>0.001572</td>\n",
       "      <td>0.000498</td>\n",
       "      <td>gini</td>\n",
       "      <td>16</td>\n",
       "      <td>random</td>\n",
       "      <td>{'classifier__criterion': 'gini', 'classifier_...</td>\n",
       "      <td>0.985075</td>\n",
       "      <td>0.981343</td>\n",
       "      <td>0.977612</td>\n",
       "      <td>0.981308</td>\n",
       "      <td>0.971963</td>\n",
       "      <td>0.990654</td>\n",
       "      <td>0.981308</td>\n",
       "      <td>0.981323</td>\n",
       "      <td>0.005379</td>\n",
       "      <td>5</td>\n",
       "    </tr>\n",
       "  </tbody>\n",
       "</table>\n",
       "</div>"
      ],
      "text/plain": [
       "    mean_fit_time  std_fit_time  mean_score_time  std_score_time  \\\n",
       "19       0.006049      0.000278         0.001142        0.000353   \n",
       "31       0.006115      0.000294         0.001714        0.000695   \n",
       "11       0.007753      0.001319         0.001990        0.000533   \n",
       "27       0.005846      0.000638         0.001857        0.000351   \n",
       "1        0.005832      0.000346         0.001572        0.000498   \n",
       "\n",
       "   param_classifier__criterion param_classifier__max_depth  \\\n",
       "19                     entropy                          18   \n",
       "31                     entropy                          30   \n",
       "11                        gini                          23   \n",
       "27                     entropy                          23   \n",
       "1                         gini                          16   \n",
       "\n",
       "   param_classifier__splitter  \\\n",
       "19                     random   \n",
       "31                     random   \n",
       "11                     random   \n",
       "27                     random   \n",
       "1                      random   \n",
       "\n",
       "                                               params  split0_test_score  \\\n",
       "19  {'classifier__criterion': 'entropy', 'classifi...           0.968284   \n",
       "31  {'classifier__criterion': 'entropy', 'classifi...           0.988806   \n",
       "11  {'classifier__criterion': 'gini', 'classifier_...           0.973881   \n",
       "27  {'classifier__criterion': 'entropy', 'classifi...           0.979478   \n",
       "1   {'classifier__criterion': 'gini', 'classifier_...           0.985075   \n",
       "\n",
       "    split1_test_score  split2_test_score  split3_test_score  \\\n",
       "19           0.979478           0.990672           0.977570   \n",
       "31           0.981343           0.975746           0.973832   \n",
       "11           0.981343           0.994403           0.973832   \n",
       "27           0.977612           0.977612           0.986916   \n",
       "1            0.981343           0.977612           0.981308   \n",
       "\n",
       "    split4_test_score  split5_test_score  split6_test_score  mean_test_score  \\\n",
       "19           0.988785           0.985047           0.990654         0.982927   \n",
       "31           0.985047           0.985047           0.983178         0.981857   \n",
       "11           0.985047           0.985047           0.979439         0.981856   \n",
       "27           0.979439           0.985047           0.985047         0.981593   \n",
       "1            0.971963           0.990654           0.981308         0.981323   \n",
       "\n",
       "    std_test_score  rank_test_score  \n",
       "19        0.007686                1  \n",
       "31        0.004963                2  \n",
       "11        0.006675                3  \n",
       "27        0.003645                4  \n",
       "1         0.005379                5  "
      ]
     },
     "execution_count": 174,
     "metadata": {},
     "output_type": "execute_result"
    }
   ],
   "source": [
    "pd.DataFrame.from_dict(dtc_GS.cv_results_).sort_values(by=['rank_test_score']).head(5)"
   ]
  },
  {
   "cell_type": "code",
   "execution_count": 175,
   "metadata": {},
   "outputs": [
    {
     "name": "stdout",
     "output_type": "stream",
     "text": [
      "Accuracy: 0.9786571149592492\n",
      "F1 score: 0.9229807583020015\n",
      "Precision: 0.9220449722486831\n",
      "Recall: 0.9339366861419788\n",
      "ROC AUC score: 0.9701047174015885\n"
     ]
    },
    {
     "data": {
      "image/png": "[encoded data removed]",
      "text/plain": [
       "<Figure size 576x432 with 1 Axes>"
      ]
     },
     "metadata": {
      "needs_background": "light"
     },
     "output_type": "display_data"
    }
   ],
   "source": [
    "dtc = DecisionTreeClassifier(criterion = dtc_GS.best_params_['classifier__criterion'], max_depth = dtc_GS.best_params_['classifier__max_depth'], splitter = dtc_GS.best_params_['classifier__splitter'])\n",
    "\n",
    "dtc.fit(x_train, y_train)\n",
    "\n",
    "score(dtc, x_train, y_train)"
   ]
  },
  {
   "cell_type": "markdown",
   "metadata": {},
   "source": [
    "Après plusieurs tests, on ressort qu'une max_depth de 22 et un criterion en entropy est le meilleur model que l'on peu avoir"
   ]
  },
  {
   "cell_type": "code",
   "execution_count": 176,
   "metadata": {},
   "outputs": [],
   "source": [
    "y_pred_dtc = dtc.predict(x_test)"
   ]
  },
  {
   "cell_type": "code",
   "execution_count": 177,
   "metadata": {},
   "outputs": [
    {
     "data": {
      "image/png": "[encoded data removed]",
      "text/plain": [
       "<Figure size 432x288 with 2 Axes>"
      ]
     },
     "metadata": {
      "needs_background": "light"
     },
     "output_type": "display_data"
    }
   ],
   "source": [
    "dtc_cm = confusion_matrix(y_test, y_pred_dtc)\n",
    "dtc_cmd = ConfusionMatrixDisplay(confusion_matrix=dtc_cm,\n",
    "                       display_labels=[0,1])\n",
    "\n",
    "dtc_cmd.plot()\n",
    "plt.show()\n"
   ]
  },
  {
   "cell_type": "markdown",
   "metadata": {},
   "source": [
    "### HistGradientBoostingClassifier"
   ]
  },
  {
   "cell_type": "code",
   "execution_count": 178,
   "metadata": {},
   "outputs": [],
   "source": [
    "pipeline_hgbc = Pipeline(steps=[\n",
    "    ('classifier', HistGradientBoostingClassifier())\n",
    "])"
   ]
  },
  {
   "cell_type": "code",
   "execution_count": 179,
   "metadata": {},
   "outputs": [],
   "source": [
    "learning_rate = [0.1,0.2,0.3]\n",
    "max_depth = [10,15,20,30]\n",
    "loss = ['log_loss']\n",
    "max_iter = [10,20,50,100,200]\n",
    "\n",
    "parameters_hgbc = dict(classifier__learning_rate=learning_rate,\n",
    "                  classifier__max_depth=max_depth,\n",
    "                  classifier__loss=loss,\n",
    "                  classifier__max_iter=max_iter\n",
    "                  )"
   ]
  },
  {
   "cell_type": "code",
   "execution_count": 180,
   "metadata": {},
   "outputs": [
    {
     "data": {
      "text/html": [
       "<style>#sk-container-id-6 {color: black;background-color: white;}#sk-container-id-6 pre{padding: 0;}#sk-container-id-6 div.sk-toggleable {background-color: white;}#sk-container-id-6 label.sk-toggleable__label {cursor: pointer;display: block;width: 100%;margin-bottom: 0;padding: 0.3em;box-sizing: border-box;text-align: center;}#sk-container-id-6 label.sk-toggleable__label-arrow:before {content: \"▸\";float: left;margin-right: 0.25em;color: #696969;}#sk-container-id-6 label.sk-toggleable__label-arrow:hover:before {color: black;}#sk-container-id-6 div.sk-estimator:hover label.sk-toggleable__label-arrow:before {color: black;}#sk-container-id-6 div.sk-toggleable__content {max-height: 0;max-width: 0;overflow: hidden;text-align: left;background-color: #f0f8ff;}#sk-container-id-6 div.sk-toggleable__content pre {margin: 0.2em;color: black;border-radius: 0.25em;background-color: #f0f8ff;}#sk-container-id-6 input.sk-toggleable__control:checked~div.sk-toggleable__content {max-height: 200px;max-width: 100%;overflow: auto;}#sk-container-id-6 input.sk-toggleable__control:checked~label.sk-toggleable__label-arrow:before {content: \"▾\";}#sk-container-id-6 div.sk-estimator input.sk-toggleable__control:checked~label.sk-toggleable__label {background-color: #d4ebff;}#sk-container-id-6 div.sk-label input.sk-toggleable__control:checked~label.sk-toggleable__label {background-color: #d4ebff;}#sk-container-id-6 input.sk-hidden--visually {border: 0;clip: rect(1px 1px 1px 1px);clip: rect(1px, 1px, 1px, 1px);height: 1px;margin: -1px;overflow: hidden;padding: 0;position: absolute;width: 1px;}#sk-container-id-6 div.sk-estimator {font-family: monospace;background-color: #f0f8ff;border: 1px dotted black;border-radius: 0.25em;box-sizing: border-box;margin-bottom: 0.5em;}#sk-container-id-6 div.sk-estimator:hover {background-color: #d4ebff;}#sk-container-id-6 div.sk-parallel-item::after {content: \"\";width: 100%;border-bottom: 1px solid gray;flex-grow: 1;}#sk-container-id-6 div.sk-label:hover label.sk-toggleable__label {background-color: #d4ebff;}#sk-container-id-6 div.sk-serial::before {content: \"\";position: absolute;border-left: 1px solid gray;box-sizing: border-box;top: 0;bottom: 0;left: 50%;z-index: 0;}#sk-container-id-6 div.sk-serial {display: flex;flex-direction: column;align-items: center;background-color: white;padding-right: 0.2em;padding-left: 0.2em;position: relative;}#sk-container-id-6 div.sk-item {position: relative;z-index: 1;}#sk-container-id-6 div.sk-parallel {display: flex;align-items: stretch;justify-content: center;background-color: white;position: relative;}#sk-container-id-6 div.sk-item::before, #sk-container-id-6 div.sk-parallel-item::before {content: \"\";position: absolute;border-left: 1px solid gray;box-sizing: border-box;top: 0;bottom: 0;left: 50%;z-index: -1;}#sk-container-id-6 div.sk-parallel-item {display: flex;flex-direction: column;z-index: 1;position: relative;background-color: white;}#sk-container-id-6 div.sk-parallel-item:first-child::after {align-self: flex-end;width: 50%;}#sk-container-id-6 div.sk-parallel-item:last-child::after {align-self: flex-start;width: 50%;}#sk-container-id-6 div.sk-parallel-item:only-child::after {width: 0;}#sk-container-id-6 div.sk-dashed-wrapped {border: 1px dashed gray;margin: 0 0.4em 0.5em 0.4em;box-sizing: border-box;padding-bottom: 0.4em;background-color: white;}#sk-container-id-6 div.sk-label label {font-family: monospace;font-weight: bold;display: inline-block;line-height: 1.2em;}#sk-container-id-6 div.sk-label-container {text-align: center;}#sk-container-id-6 div.sk-container {/* jupyter's `normalize.less` sets `[hidden] { display: none; }` but bootstrap.min.css set `[hidden] { display: none !important; }` so we also need the `!important` here to be able to override the default hidden behavior on the sphinx rendered scikit-learn.org. See: https://github.com/scikit-learn/scikit-learn/issues/21755 */display: inline-block !important;position: relative;}#sk-container-id-6 div.sk-text-repr-fallback {display: none;}</style><div id=\"sk-container-id-6\" class=\"sk-top-container\"><div class=\"sk-text-repr-fallback\"><pre>GridSearchCV(estimator=Pipeline(steps=[(&#x27;classifier&#x27;,\n",
       "                                        HistGradientBoostingClassifier())]),\n",
       "             param_grid={&#x27;classifier__learning_rate&#x27;: [0.1, 0.2, 0.3],\n",
       "                         &#x27;classifier__loss&#x27;: [&#x27;log_loss&#x27;],\n",
       "                         &#x27;classifier__max_depth&#x27;: [10, 15, 20, 30],\n",
       "                         &#x27;classifier__max_iter&#x27;: [10, 20, 50, 100, 200]})</pre><b>In a Jupyter environment, please rerun this cell to show the HTML representation or trust the notebook. <br />On GitHub, the HTML representation is unable to render, please try loading this page with nbviewer.org.</b></div><div class=\"sk-container\" hidden><div class=\"sk-item sk-dashed-wrapped\"><div class=\"sk-label-container\"><div class=\"sk-label sk-toggleable\"><input class=\"sk-toggleable__control sk-hidden--visually\" id=\"sk-estimator-id-16\" type=\"checkbox\" ><label for=\"sk-estimator-id-16\" class=\"sk-toggleable__label sk-toggleable__label-arrow\">GridSearchCV</label><div class=\"sk-toggleable__content\"><pre>GridSearchCV(estimator=Pipeline(steps=[(&#x27;classifier&#x27;,\n",
       "                                        HistGradientBoostingClassifier())]),\n",
       "             param_grid={&#x27;classifier__learning_rate&#x27;: [0.1, 0.2, 0.3],\n",
       "                         &#x27;classifier__loss&#x27;: [&#x27;log_loss&#x27;],\n",
       "                         &#x27;classifier__max_depth&#x27;: [10, 15, 20, 30],\n",
       "                         &#x27;classifier__max_iter&#x27;: [10, 20, 50, 100, 200]})</pre></div></div></div><div class=\"sk-parallel\"><div class=\"sk-parallel-item\"><div class=\"sk-item\"><div class=\"sk-label-container\"><div class=\"sk-label sk-toggleable\"><input class=\"sk-toggleable__control sk-hidden--visually\" id=\"sk-estimator-id-17\" type=\"checkbox\" ><label for=\"sk-estimator-id-17\" class=\"sk-toggleable__label sk-toggleable__label-arrow\">estimator: Pipeline</label><div class=\"sk-toggleable__content\"><pre>Pipeline(steps=[(&#x27;classifier&#x27;, HistGradientBoostingClassifier())])</pre></div></div></div><div class=\"sk-serial\"><div class=\"sk-item\"><div class=\"sk-serial\"><div class=\"sk-item\"><div class=\"sk-estimator sk-toggleable\"><input class=\"sk-toggleable__control sk-hidden--visually\" id=\"sk-estimator-id-18\" type=\"checkbox\" ><label for=\"sk-estimator-id-18\" class=\"sk-toggleable__label sk-toggleable__label-arrow\">HistGradientBoostingClassifier</label><div class=\"sk-toggleable__content\"><pre>HistGradientBoostingClassifier()</pre></div></div></div></div></div></div></div></div></div></div></div></div>"
      ],
      "text/plain": [
       "GridSearchCV(estimator=Pipeline(steps=[('classifier',\n",
       "                                        HistGradientBoostingClassifier())]),\n",
       "             param_grid={'classifier__learning_rate': [0.1, 0.2, 0.3],\n",
       "                         'classifier__loss': ['log_loss'],\n",
       "                         'classifier__max_depth': [10, 15, 20, 30],\n",
       "                         'classifier__max_iter': [10, 20, 50, 100, 200]})"
      ]
     },
     "execution_count": 180,
     "metadata": {},
     "output_type": "execute_result"
    }
   ],
   "source": [
    "hgbc_GS = GridSearchCV(pipeline_hgbc, parameters_hgbc)\n",
    "hgbc_GS.fit(x_train, y_train)"
   ]
  },
  {
   "cell_type": "code",
   "execution_count": 185,
   "metadata": {},
   "outputs": [
    {
     "data": {
      "text/html": [
       "<div>\n",
       "<style scoped>\n",
       "    .dataframe tbody tr th:only-of-type {\n",
       "        vertical-align: middle;\n",
       "    }\n",
       "\n",
       "    .dataframe tbody tr th {\n",
       "        vertical-align: top;\n",
       "    }\n",
       "\n",
       "    .dataframe thead th {\n",
       "        text-align: right;\n",
       "    }\n",
       "</style>\n",
       "<table border=\"1\" class=\"dataframe\">\n",
       "  <thead>\n",
       "    <tr style=\"text-align: right;\">\n",
       "      <th></th>\n",
       "      <th>mean_fit_time</th>\n",
       "      <th>std_fit_time</th>\n",
       "      <th>mean_score_time</th>\n",
       "      <th>std_score_time</th>\n",
       "      <th>param_classifier__learning_rate</th>\n",
       "      <th>param_classifier__loss</th>\n",
       "      <th>param_classifier__max_depth</th>\n",
       "      <th>param_classifier__max_iter</th>\n",
       "      <th>params</th>\n",
       "      <th>split0_test_score</th>\n",
       "      <th>split1_test_score</th>\n",
       "      <th>split2_test_score</th>\n",
       "      <th>split3_test_score</th>\n",
       "      <th>split4_test_score</th>\n",
       "      <th>mean_test_score</th>\n",
       "      <th>std_test_score</th>\n",
       "      <th>rank_test_score</th>\n",
       "    </tr>\n",
       "  </thead>\n",
       "  <tbody>\n",
       "    <tr>\n",
       "      <th>59</th>\n",
       "      <td>2.432929</td>\n",
       "      <td>0.021910</td>\n",
       "      <td>0.016300</td>\n",
       "      <td>0.002149</td>\n",
       "      <td>0.3</td>\n",
       "      <td>log_loss</td>\n",
       "      <td>30</td>\n",
       "      <td>200</td>\n",
       "      <td>{'classifier__learning_rate': 0.3, 'classifier...</td>\n",
       "      <td>0.986667</td>\n",
       "      <td>0.986667</td>\n",
       "      <td>0.990667</td>\n",
       "      <td>0.989319</td>\n",
       "      <td>0.985314</td>\n",
       "      <td>0.987727</td>\n",
       "      <td>0.001962</td>\n",
       "      <td>1</td>\n",
       "    </tr>\n",
       "    <tr>\n",
       "      <th>54</th>\n",
       "      <td>2.360448</td>\n",
       "      <td>0.005117</td>\n",
       "      <td>0.015758</td>\n",
       "      <td>0.000746</td>\n",
       "      <td>0.3</td>\n",
       "      <td>log_loss</td>\n",
       "      <td>20</td>\n",
       "      <td>200</td>\n",
       "      <td>{'classifier__learning_rate': 0.3, 'classifier...</td>\n",
       "      <td>0.986667</td>\n",
       "      <td>0.986667</td>\n",
       "      <td>0.990667</td>\n",
       "      <td>0.989319</td>\n",
       "      <td>0.985314</td>\n",
       "      <td>0.987727</td>\n",
       "      <td>0.001962</td>\n",
       "      <td>1</td>\n",
       "    </tr>\n",
       "    <tr>\n",
       "      <th>49</th>\n",
       "      <td>2.466211</td>\n",
       "      <td>0.065492</td>\n",
       "      <td>0.016650</td>\n",
       "      <td>0.001673</td>\n",
       "      <td>0.3</td>\n",
       "      <td>log_loss</td>\n",
       "      <td>15</td>\n",
       "      <td>200</td>\n",
       "      <td>{'classifier__learning_rate': 0.3, 'classifier...</td>\n",
       "      <td>0.981333</td>\n",
       "      <td>0.988000</td>\n",
       "      <td>0.989333</td>\n",
       "      <td>0.987984</td>\n",
       "      <td>0.985314</td>\n",
       "      <td>0.986393</td>\n",
       "      <td>0.002847</td>\n",
       "      <td>3</td>\n",
       "    </tr>\n",
       "    <tr>\n",
       "      <th>44</th>\n",
       "      <td>2.315370</td>\n",
       "      <td>0.037051</td>\n",
       "      <td>0.015269</td>\n",
       "      <td>0.000430</td>\n",
       "      <td>0.3</td>\n",
       "      <td>log_loss</td>\n",
       "      <td>10</td>\n",
       "      <td>200</td>\n",
       "      <td>{'classifier__learning_rate': 0.3, 'classifier...</td>\n",
       "      <td>0.984000</td>\n",
       "      <td>0.984000</td>\n",
       "      <td>0.989333</td>\n",
       "      <td>0.989319</td>\n",
       "      <td>0.982644</td>\n",
       "      <td>0.985859</td>\n",
       "      <td>0.002874</td>\n",
       "      <td>4</td>\n",
       "    </tr>\n",
       "    <tr>\n",
       "      <th>24</th>\n",
       "      <td>2.167445</td>\n",
       "      <td>0.053865</td>\n",
       "      <td>0.015581</td>\n",
       "      <td>0.001619</td>\n",
       "      <td>0.2</td>\n",
       "      <td>log_loss</td>\n",
       "      <td>10</td>\n",
       "      <td>200</td>\n",
       "      <td>{'classifier__learning_rate': 0.2, 'classifier...</td>\n",
       "      <td>0.986667</td>\n",
       "      <td>0.989333</td>\n",
       "      <td>0.986667</td>\n",
       "      <td>0.987984</td>\n",
       "      <td>0.975968</td>\n",
       "      <td>0.985324</td>\n",
       "      <td>0.004781</td>\n",
       "      <td>5</td>\n",
       "    </tr>\n",
       "  </tbody>\n",
       "</table>\n",
       "</div>"
      ],
      "text/plain": [
       "    mean_fit_time  std_fit_time  mean_score_time  std_score_time  \\\n",
       "59       2.432929      0.021910         0.016300        0.002149   \n",
       "54       2.360448      0.005117         0.015758        0.000746   \n",
       "49       2.466211      0.065492         0.016650        0.001673   \n",
       "44       2.315370      0.037051         0.015269        0.000430   \n",
       "24       2.167445      0.053865         0.015581        0.001619   \n",
       "\n",
       "   param_classifier__learning_rate param_classifier__loss  \\\n",
       "59                             0.3               log_loss   \n",
       "54                             0.3               log_loss   \n",
       "49                             0.3               log_loss   \n",
       "44                             0.3               log_loss   \n",
       "24                             0.2               log_loss   \n",
       "\n",
       "   param_classifier__max_depth param_classifier__max_iter  \\\n",
       "59                          30                        200   \n",
       "54                          20                        200   \n",
       "49                          15                        200   \n",
       "44                          10                        200   \n",
       "24                          10                        200   \n",
       "\n",
       "                                               params  split0_test_score  \\\n",
       "59  {'classifier__learning_rate': 0.3, 'classifier...           0.986667   \n",
       "54  {'classifier__learning_rate': 0.3, 'classifier...           0.986667   \n",
       "49  {'classifier__learning_rate': 0.3, 'classifier...           0.981333   \n",
       "44  {'classifier__learning_rate': 0.3, 'classifier...           0.984000   \n",
       "24  {'classifier__learning_rate': 0.2, 'classifier...           0.986667   \n",
       "\n",
       "    split1_test_score  split2_test_score  split3_test_score  \\\n",
       "59           0.986667           0.990667           0.989319   \n",
       "54           0.986667           0.990667           0.989319   \n",
       "49           0.988000           0.989333           0.987984   \n",
       "44           0.984000           0.989333           0.989319   \n",
       "24           0.989333           0.986667           0.987984   \n",
       "\n",
       "    split4_test_score  mean_test_score  std_test_score  rank_test_score  \n",
       "59           0.985314         0.987727        0.001962                1  \n",
       "54           0.985314         0.987727        0.001962                1  \n",
       "49           0.985314         0.986393        0.002847                3  \n",
       "44           0.982644         0.985859        0.002874                4  \n",
       "24           0.975968         0.985324        0.004781                5  "
      ]
     },
     "execution_count": 185,
     "metadata": {},
     "output_type": "execute_result"
    }
   ],
   "source": [
    "pd.DataFrame.from_dict(hgbc_GS.cv_results_).sort_values(by=['rank_test_score']).head(5)"
   ]
  },
  {
   "cell_type": "code",
   "execution_count": 186,
   "metadata": {},
   "outputs": [
    {
     "name": "stdout",
     "output_type": "stream",
     "text": [
      "Accuracy: 0.9922648107924994\n",
      "F1 score: 0.9755840483902335\n",
      "Precision: 0.9882315701519495\n",
      "Recall: 0.9636460839347768\n",
      "ROC AUC score: 0.9904934743656987\n"
     ]
    },
    {
     "data": {
      "image/png": "[encoded data removed]",
      "text/plain": [
       "<Figure size 576x432 with 1 Axes>"
      ]
     },
     "metadata": {
      "needs_background": "light"
     },
     "output_type": "display_data"
    }
   ],
   "source": [
    "hgbc = HistGradientBoostingClassifier(learning_rate = hgbc_GS.best_params_['classifier__learning_rate'],max_depth= hgbc_GS.best_params_['classifier__max_depth'], max_iter=hgbc_GS.best_params_['classifier__max_iter'], loss=hgbc_GS.best_params_['classifier__loss'])\n",
    "\n",
    "hgbc.fit(x_train, y_train)\n",
    "\n",
    "score(hgbc, x_train, y_train)"
   ]
  },
  {
   "cell_type": "code",
   "execution_count": 187,
   "metadata": {},
   "outputs": [],
   "source": [
    "y_pred_hgbc = hgbc.predict(x_test)"
   ]
  },
  {
   "cell_type": "code",
   "execution_count": 188,
   "metadata": {},
   "outputs": [
    {
     "data": {
      "image/png": "[encoded data removed]",
      "text/plain": [
       "<Figure size 432x288 with 2 Axes>"
      ]
     },
     "metadata": {
      "needs_background": "light"
     },
     "output_type": "display_data"
    }
   ],
   "source": [
    "cm_hgbc = confusion_matrix(y_test, y_pred_hgbc)\n",
    "cmd_hgbc = ConfusionMatrixDisplay(confusion_matrix=cm_hgbc,\n",
    "                       display_labels=[0,1])\n",
    "\n",
    "cmd_hgbc.plot()\n",
    "plt.show()"
   ]
  },
  {
   "cell_type": "markdown",
   "metadata": {},
   "source": [
    "### RandomForestClassifier"
   ]
  },
  {
   "cell_type": "code",
   "execution_count": 189,
   "metadata": {},
   "outputs": [],
   "source": [
    "pipeline_rfc = Pipeline(steps=[\n",
    "    ('classifier', RandomForestClassifier())\n",
    "])"
   ]
  },
  {
   "cell_type": "code",
   "execution_count": 190,
   "metadata": {},
   "outputs": [],
   "source": [
    "n_estimators = [1,2,3,5,10,50,100,200,300]\n",
    "criterion = ['gini', 'entropy']\n",
    "max_depth = [5,10,14,18,22,24,30,50,100]\n",
    "\n",
    "\n",
    "parameters_rfc = dict(classifier__n_estimators=n_estimators,\n",
    "                  classifier__criterion=criterion,\n",
    "                  classifier__max_depth=max_depth\n",
    "                  )"
   ]
  },
  {
   "cell_type": "code",
   "execution_count": 191,
   "metadata": {},
   "outputs": [
    {
     "data": {
      "text/html": [
       "<style>#sk-container-id-7 {color: black;background-color: white;}#sk-container-id-7 pre{padding: 0;}#sk-container-id-7 div.sk-toggleable {background-color: white;}#sk-container-id-7 label.sk-toggleable__label {cursor: pointer;display: block;width: 100%;margin-bottom: 0;padding: 0.3em;box-sizing: border-box;text-align: center;}#sk-container-id-7 label.sk-toggleable__label-arrow:before {content: \"▸\";float: left;margin-right: 0.25em;color: #696969;}#sk-container-id-7 label.sk-toggleable__label-arrow:hover:before {color: black;}#sk-container-id-7 div.sk-estimator:hover label.sk-toggleable__label-arrow:before {color: black;}#sk-container-id-7 div.sk-toggleable__content {max-height: 0;max-width: 0;overflow: hidden;text-align: left;background-color: #f0f8ff;}#sk-container-id-7 div.sk-toggleable__content pre {margin: 0.2em;color: black;border-radius: 0.25em;background-color: #f0f8ff;}#sk-container-id-7 input.sk-toggleable__control:checked~div.sk-toggleable__content {max-height: 200px;max-width: 100%;overflow: auto;}#sk-container-id-7 input.sk-toggleable__control:checked~label.sk-toggleable__label-arrow:before {content: \"▾\";}#sk-container-id-7 div.sk-estimator input.sk-toggleable__control:checked~label.sk-toggleable__label {background-color: #d4ebff;}#sk-container-id-7 div.sk-label input.sk-toggleable__control:checked~label.sk-toggleable__label {background-color: #d4ebff;}#sk-container-id-7 input.sk-hidden--visually {border: 0;clip: rect(1px 1px 1px 1px);clip: rect(1px, 1px, 1px, 1px);height: 1px;margin: -1px;overflow: hidden;padding: 0;position: absolute;width: 1px;}#sk-container-id-7 div.sk-estimator {font-family: monospace;background-color: #f0f8ff;border: 1px dotted black;border-radius: 0.25em;box-sizing: border-box;margin-bottom: 0.5em;}#sk-container-id-7 div.sk-estimator:hover {background-color: #d4ebff;}#sk-container-id-7 div.sk-parallel-item::after {content: \"\";width: 100%;border-bottom: 1px solid gray;flex-grow: 1;}#sk-container-id-7 div.sk-label:hover label.sk-toggleable__label {background-color: #d4ebff;}#sk-container-id-7 div.sk-serial::before {content: \"\";position: absolute;border-left: 1px solid gray;box-sizing: border-box;top: 0;bottom: 0;left: 50%;z-index: 0;}#sk-container-id-7 div.sk-serial {display: flex;flex-direction: column;align-items: center;background-color: white;padding-right: 0.2em;padding-left: 0.2em;position: relative;}#sk-container-id-7 div.sk-item {position: relative;z-index: 1;}#sk-container-id-7 div.sk-parallel {display: flex;align-items: stretch;justify-content: center;background-color: white;position: relative;}#sk-container-id-7 div.sk-item::before, #sk-container-id-7 div.sk-parallel-item::before {content: \"\";position: absolute;border-left: 1px solid gray;box-sizing: border-box;top: 0;bottom: 0;left: 50%;z-index: -1;}#sk-container-id-7 div.sk-parallel-item {display: flex;flex-direction: column;z-index: 1;position: relative;background-color: white;}#sk-container-id-7 div.sk-parallel-item:first-child::after {align-self: flex-end;width: 50%;}#sk-container-id-7 div.sk-parallel-item:last-child::after {align-self: flex-start;width: 50%;}#sk-container-id-7 div.sk-parallel-item:only-child::after {width: 0;}#sk-container-id-7 div.sk-dashed-wrapped {border: 1px dashed gray;margin: 0 0.4em 0.5em 0.4em;box-sizing: border-box;padding-bottom: 0.4em;background-color: white;}#sk-container-id-7 div.sk-label label {font-family: monospace;font-weight: bold;display: inline-block;line-height: 1.2em;}#sk-container-id-7 div.sk-label-container {text-align: center;}#sk-container-id-7 div.sk-container {/* jupyter's `normalize.less` sets `[hidden] { display: none; }` but bootstrap.min.css set `[hidden] { display: none !important; }` so we also need the `!important` here to be able to override the default hidden behavior on the sphinx rendered scikit-learn.org. See: https://github.com/scikit-learn/scikit-learn/issues/21755 */display: inline-block !important;position: relative;}#sk-container-id-7 div.sk-text-repr-fallback {display: none;}</style><div id=\"sk-container-id-7\" class=\"sk-top-container\"><div class=\"sk-text-repr-fallback\"><pre>GridSearchCV(estimator=Pipeline(steps=[(&#x27;classifier&#x27;,\n",
       "                                        RandomForestClassifier())]),\n",
       "             param_grid={&#x27;classifier__criterion&#x27;: [&#x27;gini&#x27;, &#x27;entropy&#x27;],\n",
       "                         &#x27;classifier__max_depth&#x27;: [5, 10, 14, 18, 22, 24, 30,\n",
       "                                                   50, 100],\n",
       "                         &#x27;classifier__n_estimators&#x27;: [1, 2, 3, 5, 10, 50, 100,\n",
       "                                                      200, 300]})</pre><b>In a Jupyter environment, please rerun this cell to show the HTML representation or trust the notebook. <br />On GitHub, the HTML representation is unable to render, please try loading this page with nbviewer.org.</b></div><div class=\"sk-container\" hidden><div class=\"sk-item sk-dashed-wrapped\"><div class=\"sk-label-container\"><div class=\"sk-label sk-toggleable\"><input class=\"sk-toggleable__control sk-hidden--visually\" id=\"sk-estimator-id-19\" type=\"checkbox\" ><label for=\"sk-estimator-id-19\" class=\"sk-toggleable__label sk-toggleable__label-arrow\">GridSearchCV</label><div class=\"sk-toggleable__content\"><pre>GridSearchCV(estimator=Pipeline(steps=[(&#x27;classifier&#x27;,\n",
       "                                        RandomForestClassifier())]),\n",
       "             param_grid={&#x27;classifier__criterion&#x27;: [&#x27;gini&#x27;, &#x27;entropy&#x27;],\n",
       "                         &#x27;classifier__max_depth&#x27;: [5, 10, 14, 18, 22, 24, 30,\n",
       "                                                   50, 100],\n",
       "                         &#x27;classifier__n_estimators&#x27;: [1, 2, 3, 5, 10, 50, 100,\n",
       "                                                      200, 300]})</pre></div></div></div><div class=\"sk-parallel\"><div class=\"sk-parallel-item\"><div class=\"sk-item\"><div class=\"sk-label-container\"><div class=\"sk-label sk-toggleable\"><input class=\"sk-toggleable__control sk-hidden--visually\" id=\"sk-estimator-id-20\" type=\"checkbox\" ><label for=\"sk-estimator-id-20\" class=\"sk-toggleable__label sk-toggleable__label-arrow\">estimator: Pipeline</label><div class=\"sk-toggleable__content\"><pre>Pipeline(steps=[(&#x27;classifier&#x27;, RandomForestClassifier())])</pre></div></div></div><div class=\"sk-serial\"><div class=\"sk-item\"><div class=\"sk-serial\"><div class=\"sk-item\"><div class=\"sk-estimator sk-toggleable\"><input class=\"sk-toggleable__control sk-hidden--visually\" id=\"sk-estimator-id-21\" type=\"checkbox\" ><label for=\"sk-estimator-id-21\" class=\"sk-toggleable__label sk-toggleable__label-arrow\">RandomForestClassifier</label><div class=\"sk-toggleable__content\"><pre>RandomForestClassifier()</pre></div></div></div></div></div></div></div></div></div></div></div></div>"
      ],
      "text/plain": [
       "GridSearchCV(estimator=Pipeline(steps=[('classifier',\n",
       "                                        RandomForestClassifier())]),\n",
       "             param_grid={'classifier__criterion': ['gini', 'entropy'],\n",
       "                         'classifier__max_depth': [5, 10, 14, 18, 22, 24, 30,\n",
       "                                                   50, 100],\n",
       "                         'classifier__n_estimators': [1, 2, 3, 5, 10, 50, 100,\n",
       "                                                      200, 300]})"
      ]
     },
     "execution_count": 191,
     "metadata": {},
     "output_type": "execute_result"
    }
   ],
   "source": [
    "rfc_GS = GridSearchCV(pipeline_rfc, parameters_rfc)\n",
    "rfc_GS.fit(x_train, y_train)"
   ]
  },
  {
   "cell_type": "code",
   "execution_count": 192,
   "metadata": {},
   "outputs": [
    {
     "data": {
      "text/html": [
       "<div>\n",
       "<style scoped>\n",
       "    .dataframe tbody tr th:only-of-type {\n",
       "        vertical-align: middle;\n",
       "    }\n",
       "\n",
       "    .dataframe tbody tr th {\n",
       "        vertical-align: top;\n",
       "    }\n",
       "\n",
       "    .dataframe thead th {\n",
       "        text-align: right;\n",
       "    }\n",
       "</style>\n",
       "<table border=\"1\" class=\"dataframe\">\n",
       "  <thead>\n",
       "    <tr style=\"text-align: right;\">\n",
       "      <th></th>\n",
       "      <th>mean_fit_time</th>\n",
       "      <th>std_fit_time</th>\n",
       "      <th>mean_score_time</th>\n",
       "      <th>std_score_time</th>\n",
       "      <th>param_classifier__criterion</th>\n",
       "      <th>param_classifier__max_depth</th>\n",
       "      <th>param_classifier__n_estimators</th>\n",
       "      <th>params</th>\n",
       "      <th>split0_test_score</th>\n",
       "      <th>split1_test_score</th>\n",
       "      <th>split2_test_score</th>\n",
       "      <th>split3_test_score</th>\n",
       "      <th>split4_test_score</th>\n",
       "      <th>mean_test_score</th>\n",
       "      <th>std_test_score</th>\n",
       "      <th>rank_test_score</th>\n",
       "    </tr>\n",
       "  </thead>\n",
       "  <tbody>\n",
       "    <tr>\n",
       "      <th>53</th>\n",
       "      <td>1.132044</td>\n",
       "      <td>0.014771</td>\n",
       "      <td>0.047471</td>\n",
       "      <td>0.000488</td>\n",
       "      <td>gini</td>\n",
       "      <td>24</td>\n",
       "      <td>300</td>\n",
       "      <td>{'classifier__criterion': 'gini', 'classifier_...</td>\n",
       "      <td>0.982667</td>\n",
       "      <td>0.980000</td>\n",
       "      <td>0.984000</td>\n",
       "      <td>0.989319</td>\n",
       "      <td>0.983979</td>\n",
       "      <td>0.983993</td>\n",
       "      <td>0.003035</td>\n",
       "      <td>1</td>\n",
       "    </tr>\n",
       "    <tr>\n",
       "      <th>61</th>\n",
       "      <td>0.758508</td>\n",
       "      <td>0.010501</td>\n",
       "      <td>0.032295</td>\n",
       "      <td>0.000218</td>\n",
       "      <td>gini</td>\n",
       "      <td>30</td>\n",
       "      <td>200</td>\n",
       "      <td>{'classifier__criterion': 'gini', 'classifier_...</td>\n",
       "      <td>0.981333</td>\n",
       "      <td>0.978667</td>\n",
       "      <td>0.986667</td>\n",
       "      <td>0.987984</td>\n",
       "      <td>0.985314</td>\n",
       "      <td>0.983993</td>\n",
       "      <td>0.003472</td>\n",
       "      <td>1</td>\n",
       "    </tr>\n",
       "    <tr>\n",
       "      <th>151</th>\n",
       "      <td>0.861663</td>\n",
       "      <td>0.007573</td>\n",
       "      <td>0.033311</td>\n",
       "      <td>0.000489</td>\n",
       "      <td>entropy</td>\n",
       "      <td>50</td>\n",
       "      <td>200</td>\n",
       "      <td>{'classifier__criterion': 'entropy', 'classifi...</td>\n",
       "      <td>0.981333</td>\n",
       "      <td>0.980000</td>\n",
       "      <td>0.984000</td>\n",
       "      <td>0.987984</td>\n",
       "      <td>0.985314</td>\n",
       "      <td>0.983726</td>\n",
       "      <td>0.002840</td>\n",
       "      <td>3</td>\n",
       "    </tr>\n",
       "    <tr>\n",
       "      <th>124</th>\n",
       "      <td>1.043348</td>\n",
       "      <td>0.025420</td>\n",
       "      <td>0.039224</td>\n",
       "      <td>0.003146</td>\n",
       "      <td>entropy</td>\n",
       "      <td>22</td>\n",
       "      <td>200</td>\n",
       "      <td>{'classifier__criterion': 'entropy', 'classifi...</td>\n",
       "      <td>0.982667</td>\n",
       "      <td>0.977333</td>\n",
       "      <td>0.984000</td>\n",
       "      <td>0.989319</td>\n",
       "      <td>0.983979</td>\n",
       "      <td>0.983460</td>\n",
       "      <td>0.003822</td>\n",
       "      <td>4</td>\n",
       "    </tr>\n",
       "    <tr>\n",
       "      <th>35</th>\n",
       "      <td>1.392656</td>\n",
       "      <td>0.059195</td>\n",
       "      <td>0.059153</td>\n",
       "      <td>0.006305</td>\n",
       "      <td>gini</td>\n",
       "      <td>18</td>\n",
       "      <td>300</td>\n",
       "      <td>{'classifier__criterion': 'gini', 'classifier_...</td>\n",
       "      <td>0.981333</td>\n",
       "      <td>0.980000</td>\n",
       "      <td>0.982667</td>\n",
       "      <td>0.989319</td>\n",
       "      <td>0.983979</td>\n",
       "      <td>0.983460</td>\n",
       "      <td>0.003216</td>\n",
       "      <td>4</td>\n",
       "    </tr>\n",
       "  </tbody>\n",
       "</table>\n",
       "</div>"
      ],
      "text/plain": [
       "     mean_fit_time  std_fit_time  mean_score_time  std_score_time  \\\n",
       "53        1.132044      0.014771         0.047471        0.000488   \n",
       "61        0.758508      0.010501         0.032295        0.000218   \n",
       "151       0.861663      0.007573         0.033311        0.000489   \n",
       "124       1.043348      0.025420         0.039224        0.003146   \n",
       "35        1.392656      0.059195         0.059153        0.006305   \n",
       "\n",
       "    param_classifier__criterion param_classifier__max_depth  \\\n",
       "53                         gini                          24   \n",
       "61                         gini                          30   \n",
       "151                     entropy                          50   \n",
       "124                     entropy                          22   \n",
       "35                         gini                          18   \n",
       "\n",
       "    param_classifier__n_estimators  \\\n",
       "53                             300   \n",
       "61                             200   \n",
       "151                            200   \n",
       "124                            200   \n",
       "35                             300   \n",
       "\n",
       "                                                params  split0_test_score  \\\n",
       "53   {'classifier__criterion': 'gini', 'classifier_...           0.982667   \n",
       "61   {'classifier__criterion': 'gini', 'classifier_...           0.981333   \n",
       "151  {'classifier__criterion': 'entropy', 'classifi...           0.981333   \n",
       "124  {'classifier__criterion': 'entropy', 'classifi...           0.982667   \n",
       "35   {'classifier__criterion': 'gini', 'classifier_...           0.981333   \n",
       "\n",
       "     split1_test_score  split2_test_score  split3_test_score  \\\n",
       "53            0.980000           0.984000           0.989319   \n",
       "61            0.978667           0.986667           0.987984   \n",
       "151           0.980000           0.984000           0.987984   \n",
       "124           0.977333           0.984000           0.989319   \n",
       "35            0.980000           0.982667           0.989319   \n",
       "\n",
       "     split4_test_score  mean_test_score  std_test_score  rank_test_score  \n",
       "53            0.983979         0.983993        0.003035                1  \n",
       "61            0.985314         0.983993        0.003472                1  \n",
       "151           0.985314         0.983726        0.002840                3  \n",
       "124           0.983979         0.983460        0.003822                4  \n",
       "35            0.983979         0.983460        0.003216                4  "
      ]
     },
     "execution_count": 192,
     "metadata": {},
     "output_type": "execute_result"
    }
   ],
   "source": [
    "pd.DataFrame.from_dict(rfc_GS.cv_results_).sort_values(by=['rank_test_score']).head(5)"
   ]
  },
  {
   "cell_type": "code",
   "execution_count": 193,
   "metadata": {},
   "outputs": [
    {
     "name": "stdout",
     "output_type": "stream",
     "text": [
      "Accuracy: 0.9893310483629916\n",
      "F1 score: 0.9673864523118808\n",
      "Precision: 0.9945732838589981\n",
      "Recall: 0.9404857371978462\n",
      "ROC AUC score: 0.9967909646991292\n"
     ]
    },
    {
     "data": {
      "image/png": "[encoded data removed]",
      "text/plain": [
       "<Figure size 576x432 with 1 Axes>"
      ]
     },
     "metadata": {
      "needs_background": "light"
     },
     "output_type": "display_data"
    }
   ],
   "source": [
    "rfc = RandomForestClassifier(n_estimators=rfc_GS.best_params_['classifier__n_estimators'],criterion=rfc_GS.best_params_['classifier__criterion'],max_depth=rfc_GS.best_params_['classifier__max_depth'])\n",
    "\n",
    "rfc.fit(x_train, y_train)\n",
    "\n",
    "score(rfc, x_train, y_train)"
   ]
  },
  {
   "cell_type": "code",
   "execution_count": 194,
   "metadata": {},
   "outputs": [],
   "source": [
    "y_pred_rfc = rfc.predict(x_test)"
   ]
  },
  {
   "cell_type": "code",
   "execution_count": 195,
   "metadata": {},
   "outputs": [
    {
     "data": {
      "image/png": "[encoded data removed]",
      "text/plain": [
       "<Figure size 432x288 with 2 Axes>"
      ]
     },
     "metadata": {
      "needs_background": "light"
     },
     "output_type": "display_data"
    }
   ],
   "source": [
    "cm_rfc = confusion_matrix(y_test, y_pred_rfc)\n",
    "cmd_rfc = ConfusionMatrixDisplay(confusion_matrix=cm_rfc,\n",
    "                       display_labels=[0,1])\n",
    "\n",
    "cmd_rfc.plot()\n",
    "plt.show()"
   ]
  },
  {
   "cell_type": "markdown",
   "metadata": {},
   "source": [
    "### Perceptron"
   ]
  },
  {
   "cell_type": "code",
   "execution_count": 196,
   "metadata": {},
   "outputs": [],
   "source": [
    "pipeline_pe = Pipeline(steps=[\n",
    "    ('classifier', Perceptron())\n",
    "])"
   ]
  },
  {
   "cell_type": "code",
   "execution_count": 197,
   "metadata": {},
   "outputs": [],
   "source": [
    "penalty = ['l2','l1','elasticnet']\n",
    "alpha = [0.0001,0.0002,0.0003,0.0005]\n",
    "\n",
    "\n",
    "parameters_pe = dict(classifier__penalty=penalty,\n",
    "                  classifier__alpha=alpha)\n"
   ]
  },
  {
   "cell_type": "code",
   "execution_count": 198,
   "metadata": {},
   "outputs": [
    {
     "data": {
      "text/html": [
       "<style>#sk-container-id-8 {color: black;background-color: white;}#sk-container-id-8 pre{padding: 0;}#sk-container-id-8 div.sk-toggleable {background-color: white;}#sk-container-id-8 label.sk-toggleable__label {cursor: pointer;display: block;width: 100%;margin-bottom: 0;padding: 0.3em;box-sizing: border-box;text-align: center;}#sk-container-id-8 label.sk-toggleable__label-arrow:before {content: \"▸\";float: left;margin-right: 0.25em;color: #696969;}#sk-container-id-8 label.sk-toggleable__label-arrow:hover:before {color: black;}#sk-container-id-8 div.sk-estimator:hover label.sk-toggleable__label-arrow:before {color: black;}#sk-container-id-8 div.sk-toggleable__content {max-height: 0;max-width: 0;overflow: hidden;text-align: left;background-color: #f0f8ff;}#sk-container-id-8 div.sk-toggleable__content pre {margin: 0.2em;color: black;border-radius: 0.25em;background-color: #f0f8ff;}#sk-container-id-8 input.sk-toggleable__control:checked~div.sk-toggleable__content {max-height: 200px;max-width: 100%;overflow: auto;}#sk-container-id-8 input.sk-toggleable__control:checked~label.sk-toggleable__label-arrow:before {content: \"▾\";}#sk-container-id-8 div.sk-estimator input.sk-toggleable__control:checked~label.sk-toggleable__label {background-color: #d4ebff;}#sk-container-id-8 div.sk-label input.sk-toggleable__control:checked~label.sk-toggleable__label {background-color: #d4ebff;}#sk-container-id-8 input.sk-hidden--visually {border: 0;clip: rect(1px 1px 1px 1px);clip: rect(1px, 1px, 1px, 1px);height: 1px;margin: -1px;overflow: hidden;padding: 0;position: absolute;width: 1px;}#sk-container-id-8 div.sk-estimator {font-family: monospace;background-color: #f0f8ff;border: 1px dotted black;border-radius: 0.25em;box-sizing: border-box;margin-bottom: 0.5em;}#sk-container-id-8 div.sk-estimator:hover {background-color: #d4ebff;}#sk-container-id-8 div.sk-parallel-item::after {content: \"\";width: 100%;border-bottom: 1px solid gray;flex-grow: 1;}#sk-container-id-8 div.sk-label:hover label.sk-toggleable__label {background-color: #d4ebff;}#sk-container-id-8 div.sk-serial::before {content: \"\";position: absolute;border-left: 1px solid gray;box-sizing: border-box;top: 0;bottom: 0;left: 50%;z-index: 0;}#sk-container-id-8 div.sk-serial {display: flex;flex-direction: column;align-items: center;background-color: white;padding-right: 0.2em;padding-left: 0.2em;position: relative;}#sk-container-id-8 div.sk-item {position: relative;z-index: 1;}#sk-container-id-8 div.sk-parallel {display: flex;align-items: stretch;justify-content: center;background-color: white;position: relative;}#sk-container-id-8 div.sk-item::before, #sk-container-id-8 div.sk-parallel-item::before {content: \"\";position: absolute;border-left: 1px solid gray;box-sizing: border-box;top: 0;bottom: 0;left: 50%;z-index: -1;}#sk-container-id-8 div.sk-parallel-item {display: flex;flex-direction: column;z-index: 1;position: relative;background-color: white;}#sk-container-id-8 div.sk-parallel-item:first-child::after {align-self: flex-end;width: 50%;}#sk-container-id-8 div.sk-parallel-item:last-child::after {align-self: flex-start;width: 50%;}#sk-container-id-8 div.sk-parallel-item:only-child::after {width: 0;}#sk-container-id-8 div.sk-dashed-wrapped {border: 1px dashed gray;margin: 0 0.4em 0.5em 0.4em;box-sizing: border-box;padding-bottom: 0.4em;background-color: white;}#sk-container-id-8 div.sk-label label {font-family: monospace;font-weight: bold;display: inline-block;line-height: 1.2em;}#sk-container-id-8 div.sk-label-container {text-align: center;}#sk-container-id-8 div.sk-container {/* jupyter's `normalize.less` sets `[hidden] { display: none; }` but bootstrap.min.css set `[hidden] { display: none !important; }` so we also need the `!important` here to be able to override the default hidden behavior on the sphinx rendered scikit-learn.org. See: https://github.com/scikit-learn/scikit-learn/issues/21755 */display: inline-block !important;position: relative;}#sk-container-id-8 div.sk-text-repr-fallback {display: none;}</style><div id=\"sk-container-id-8\" class=\"sk-top-container\"><div class=\"sk-text-repr-fallback\"><pre>GridSearchCV(estimator=Pipeline(steps=[(&#x27;classifier&#x27;, Perceptron())]),\n",
       "             param_grid={&#x27;classifier__alpha&#x27;: [0.0001, 0.0002, 0.0003, 0.0005],\n",
       "                         &#x27;classifier__penalty&#x27;: [&#x27;l2&#x27;, &#x27;l1&#x27;, &#x27;elasticnet&#x27;]})</pre><b>In a Jupyter environment, please rerun this cell to show the HTML representation or trust the notebook. <br />On GitHub, the HTML representation is unable to render, please try loading this page with nbviewer.org.</b></div><div class=\"sk-container\" hidden><div class=\"sk-item sk-dashed-wrapped\"><div class=\"sk-label-container\"><div class=\"sk-label sk-toggleable\"><input class=\"sk-toggleable__control sk-hidden--visually\" id=\"sk-estimator-id-22\" type=\"checkbox\" ><label for=\"sk-estimator-id-22\" class=\"sk-toggleable__label sk-toggleable__label-arrow\">GridSearchCV</label><div class=\"sk-toggleable__content\"><pre>GridSearchCV(estimator=Pipeline(steps=[(&#x27;classifier&#x27;, Perceptron())]),\n",
       "             param_grid={&#x27;classifier__alpha&#x27;: [0.0001, 0.0002, 0.0003, 0.0005],\n",
       "                         &#x27;classifier__penalty&#x27;: [&#x27;l2&#x27;, &#x27;l1&#x27;, &#x27;elasticnet&#x27;]})</pre></div></div></div><div class=\"sk-parallel\"><div class=\"sk-parallel-item\"><div class=\"sk-item\"><div class=\"sk-label-container\"><div class=\"sk-label sk-toggleable\"><input class=\"sk-toggleable__control sk-hidden--visually\" id=\"sk-estimator-id-23\" type=\"checkbox\" ><label for=\"sk-estimator-id-23\" class=\"sk-toggleable__label sk-toggleable__label-arrow\">estimator: Pipeline</label><div class=\"sk-toggleable__content\"><pre>Pipeline(steps=[(&#x27;classifier&#x27;, Perceptron())])</pre></div></div></div><div class=\"sk-serial\"><div class=\"sk-item\"><div class=\"sk-serial\"><div class=\"sk-item\"><div class=\"sk-estimator sk-toggleable\"><input class=\"sk-toggleable__control sk-hidden--visually\" id=\"sk-estimator-id-24\" type=\"checkbox\" ><label for=\"sk-estimator-id-24\" class=\"sk-toggleable__label sk-toggleable__label-arrow\">Perceptron</label><div class=\"sk-toggleable__content\"><pre>Perceptron()</pre></div></div></div></div></div></div></div></div></div></div></div></div>"
      ],
      "text/plain": [
       "GridSearchCV(estimator=Pipeline(steps=[('classifier', Perceptron())]),\n",
       "             param_grid={'classifier__alpha': [0.0001, 0.0002, 0.0003, 0.0005],\n",
       "                         'classifier__penalty': ['l2', 'l1', 'elasticnet']})"
      ]
     },
     "execution_count": 198,
     "metadata": {},
     "output_type": "execute_result"
    }
   ],
   "source": [
    "pe_GS = GridSearchCV(pipeline_pe, parameters_pe)\n",
    "pe_GS.fit(x_train, y_train)"
   ]
  },
  {
   "cell_type": "code",
   "execution_count": 199,
   "metadata": {},
   "outputs": [
    {
     "data": {
      "text/html": [
       "<div>\n",
       "<style scoped>\n",
       "    .dataframe tbody tr th:only-of-type {\n",
       "        vertical-align: middle;\n",
       "    }\n",
       "\n",
       "    .dataframe tbody tr th {\n",
       "        vertical-align: top;\n",
       "    }\n",
       "\n",
       "    .dataframe thead th {\n",
       "        text-align: right;\n",
       "    }\n",
       "</style>\n",
       "<table border=\"1\" class=\"dataframe\">\n",
       "  <thead>\n",
       "    <tr style=\"text-align: right;\">\n",
       "      <th></th>\n",
       "      <th>mean_fit_time</th>\n",
       "      <th>std_fit_time</th>\n",
       "      <th>mean_score_time</th>\n",
       "      <th>std_score_time</th>\n",
       "      <th>param_classifier__alpha</th>\n",
       "      <th>param_classifier__penalty</th>\n",
       "      <th>params</th>\n",
       "      <th>split0_test_score</th>\n",
       "      <th>split1_test_score</th>\n",
       "      <th>split2_test_score</th>\n",
       "      <th>split3_test_score</th>\n",
       "      <th>split4_test_score</th>\n",
       "      <th>mean_test_score</th>\n",
       "      <th>std_test_score</th>\n",
       "      <th>rank_test_score</th>\n",
       "    </tr>\n",
       "  </thead>\n",
       "  <tbody>\n",
       "    <tr>\n",
       "      <th>11</th>\n",
       "      <td>0.011362</td>\n",
       "      <td>0.003476</td>\n",
       "      <td>0.001796</td>\n",
       "      <td>0.000399</td>\n",
       "      <td>0.0005</td>\n",
       "      <td>elasticnet</td>\n",
       "      <td>{'classifier__alpha': 0.0005, 'classifier__pen...</td>\n",
       "      <td>0.850667</td>\n",
       "      <td>0.850667</td>\n",
       "      <td>0.852000</td>\n",
       "      <td>0.838451</td>\n",
       "      <td>0.842457</td>\n",
       "      <td>0.846848</td>\n",
       "      <td>0.005394</td>\n",
       "      <td>1</td>\n",
       "    </tr>\n",
       "    <tr>\n",
       "      <th>10</th>\n",
       "      <td>0.006783</td>\n",
       "      <td>0.001184</td>\n",
       "      <td>0.001761</td>\n",
       "      <td>0.000389</td>\n",
       "      <td>0.0005</td>\n",
       "      <td>l1</td>\n",
       "      <td>{'classifier__alpha': 0.0005, 'classifier__pen...</td>\n",
       "      <td>0.854667</td>\n",
       "      <td>0.820000</td>\n",
       "      <td>0.845333</td>\n",
       "      <td>0.838451</td>\n",
       "      <td>0.850467</td>\n",
       "      <td>0.841784</td>\n",
       "      <td>0.012162</td>\n",
       "      <td>2</td>\n",
       "    </tr>\n",
       "    <tr>\n",
       "      <th>9</th>\n",
       "      <td>0.004005</td>\n",
       "      <td>0.000909</td>\n",
       "      <td>0.001307</td>\n",
       "      <td>0.000258</td>\n",
       "      <td>0.0005</td>\n",
       "      <td>l2</td>\n",
       "      <td>{'classifier__alpha': 0.0005, 'classifier__pen...</td>\n",
       "      <td>0.818667</td>\n",
       "      <td>0.830667</td>\n",
       "      <td>0.838667</td>\n",
       "      <td>0.843792</td>\n",
       "      <td>0.846462</td>\n",
       "      <td>0.835651</td>\n",
       "      <td>0.010055</td>\n",
       "      <td>3</td>\n",
       "    </tr>\n",
       "    <tr>\n",
       "      <th>0</th>\n",
       "      <td>0.004790</td>\n",
       "      <td>0.000763</td>\n",
       "      <td>0.007769</td>\n",
       "      <td>0.011591</td>\n",
       "      <td>0.0001</td>\n",
       "      <td>l2</td>\n",
       "      <td>{'classifier__alpha': 0.0001, 'classifier__pen...</td>\n",
       "      <td>0.816000</td>\n",
       "      <td>0.829333</td>\n",
       "      <td>0.841333</td>\n",
       "      <td>0.802403</td>\n",
       "      <td>0.841121</td>\n",
       "      <td>0.826038</td>\n",
       "      <td>0.015044</td>\n",
       "      <td>4</td>\n",
       "    </tr>\n",
       "    <tr>\n",
       "      <th>5</th>\n",
       "      <td>0.012574</td>\n",
       "      <td>0.002253</td>\n",
       "      <td>0.002047</td>\n",
       "      <td>0.000097</td>\n",
       "      <td>0.0002</td>\n",
       "      <td>elasticnet</td>\n",
       "      <td>{'classifier__alpha': 0.0002, 'classifier__pen...</td>\n",
       "      <td>0.848000</td>\n",
       "      <td>0.838667</td>\n",
       "      <td>0.712000</td>\n",
       "      <td>0.839786</td>\n",
       "      <td>0.849132</td>\n",
       "      <td>0.817517</td>\n",
       "      <td>0.052926</td>\n",
       "      <td>5</td>\n",
       "    </tr>\n",
       "  </tbody>\n",
       "</table>\n",
       "</div>"
      ],
      "text/plain": [
       "    mean_fit_time  std_fit_time  mean_score_time  std_score_time  \\\n",
       "11       0.011362      0.003476         0.001796        0.000399   \n",
       "10       0.006783      0.001184         0.001761        0.000389   \n",
       "9        0.004005      0.000909         0.001307        0.000258   \n",
       "0        0.004790      0.000763         0.007769        0.011591   \n",
       "5        0.012574      0.002253         0.002047        0.000097   \n",
       "\n",
       "   param_classifier__alpha param_classifier__penalty  \\\n",
       "11                  0.0005                elasticnet   \n",
       "10                  0.0005                        l1   \n",
       "9                   0.0005                        l2   \n",
       "0                   0.0001                        l2   \n",
       "5                   0.0002                elasticnet   \n",
       "\n",
       "                                               params  split0_test_score  \\\n",
       "11  {'classifier__alpha': 0.0005, 'classifier__pen...           0.850667   \n",
       "10  {'classifier__alpha': 0.0005, 'classifier__pen...           0.854667   \n",
       "9   {'classifier__alpha': 0.0005, 'classifier__pen...           0.818667   \n",
       "0   {'classifier__alpha': 0.0001, 'classifier__pen...           0.816000   \n",
       "5   {'classifier__alpha': 0.0002, 'classifier__pen...           0.848000   \n",
       "\n",
       "    split1_test_score  split2_test_score  split3_test_score  \\\n",
       "11           0.850667           0.852000           0.838451   \n",
       "10           0.820000           0.845333           0.838451   \n",
       "9            0.830667           0.838667           0.843792   \n",
       "0            0.829333           0.841333           0.802403   \n",
       "5            0.838667           0.712000           0.839786   \n",
       "\n",
       "    split4_test_score  mean_test_score  std_test_score  rank_test_score  \n",
       "11           0.842457         0.846848        0.005394                1  \n",
       "10           0.850467         0.841784        0.012162                2  \n",
       "9            0.846462         0.835651        0.010055                3  \n",
       "0            0.841121         0.826038        0.015044                4  \n",
       "5            0.849132         0.817517        0.052926                5  "
      ]
     },
     "execution_count": 199,
     "metadata": {},
     "output_type": "execute_result"
    }
   ],
   "source": [
    "pd.DataFrame.from_dict(pe_GS.cv_results_).sort_values(by=['rank_test_score']).head(5)"
   ]
  },
  {
   "cell_type": "code",
   "execution_count": 200,
   "metadata": {},
   "outputs": [
    {
     "name": "stdout",
     "output_type": "stream",
     "text": [
      "Accuracy: 0.804445230456529\n",
      "F1 score: 0.3006320213489882\n",
      "Precision: 0.5039757981895303\n",
      "Recall: 0.33318058578684084\n",
      "ROC AUC score: 0.7652075465792841\n"
     ]
    },
    {
     "data": {
      "image/png": "[encoded data removed]",
      "text/plain": [
       "<Figure size 576x432 with 1 Axes>"
      ]
     },
     "metadata": {
      "needs_background": "light"
     },
     "output_type": "display_data"
    }
   ],
   "source": [
    "pe = Perceptron(penalty=pe_GS.best_params_['classifier__penalty'],alpha = pe_GS.best_params_['classifier__alpha'])\n",
    "\n",
    "pe.fit(x_train, y_train)\n",
    "\n",
    "score(pe, x_train, y_train)"
   ]
  },
  {
   "cell_type": "code",
   "execution_count": 201,
   "metadata": {},
   "outputs": [],
   "source": [
    "y_pred_pe = pe.predict(x_test)"
   ]
  },
  {
   "cell_type": "code",
   "execution_count": 202,
   "metadata": {},
   "outputs": [
    {
     "data": {
      "image/png": "[encoded data removed]",
      "text/plain": [
       "<Figure size 432x288 with 2 Axes>"
      ]
     },
     "metadata": {
      "needs_background": "light"
     },
     "output_type": "display_data"
    }
   ],
   "source": [
    "cm_pe = confusion_matrix(y_test, y_pred_pe)\n",
    "cmd_pe = ConfusionMatrixDisplay(confusion_matrix=cm_pe,\n",
    "                       display_labels=[0,1])\n",
    "\n",
    "cmd_pe.plot()\n",
    "plt.show()"
   ]
  },
  {
   "cell_type": "markdown",
   "metadata": {},
   "source": [
    "### Logistic Regression"
   ]
  },
  {
   "cell_type": "code",
   "execution_count": 203,
   "metadata": {},
   "outputs": [],
   "source": [
    "pipeline_lr = Pipeline(steps=[\n",
    "    ('classifier', LogisticRegression())\n",
    "])"
   ]
  },
  {
   "cell_type": "code",
   "execution_count": 204,
   "metadata": {},
   "outputs": [],
   "source": [
    "penalty = ['l2']\n",
    "max_iter = [100,500,1000]\n",
    "\n",
    "\n",
    "parameters_lr = dict(classifier__penalty = penalty,\n",
    "                  classifier__max_iter = max_iter)"
   ]
  },
  {
   "cell_type": "code",
   "execution_count": 205,
   "metadata": {},
   "outputs": [
    {
     "data": {
      "text/html": [
       "<style>#sk-container-id-9 {color: black;background-color: white;}#sk-container-id-9 pre{padding: 0;}#sk-container-id-9 div.sk-toggleable {background-color: white;}#sk-container-id-9 label.sk-toggleable__label {cursor: pointer;display: block;width: 100%;margin-bottom: 0;padding: 0.3em;box-sizing: border-box;text-align: center;}#sk-container-id-9 label.sk-toggleable__label-arrow:before {content: \"▸\";float: left;margin-right: 0.25em;color: #696969;}#sk-container-id-9 label.sk-toggleable__label-arrow:hover:before {color: black;}#sk-container-id-9 div.sk-estimator:hover label.sk-toggleable__label-arrow:before {color: black;}#sk-container-id-9 div.sk-toggleable__content {max-height: 0;max-width: 0;overflow: hidden;text-align: left;background-color: #f0f8ff;}#sk-container-id-9 div.sk-toggleable__content pre {margin: 0.2em;color: black;border-radius: 0.25em;background-color: #f0f8ff;}#sk-container-id-9 input.sk-toggleable__control:checked~div.sk-toggleable__content {max-height: 200px;max-width: 100%;overflow: auto;}#sk-container-id-9 input.sk-toggleable__control:checked~label.sk-toggleable__label-arrow:before {content: \"▾\";}#sk-container-id-9 div.sk-estimator input.sk-toggleable__control:checked~label.sk-toggleable__label {background-color: #d4ebff;}#sk-container-id-9 div.sk-label input.sk-toggleable__control:checked~label.sk-toggleable__label {background-color: #d4ebff;}#sk-container-id-9 input.sk-hidden--visually {border: 0;clip: rect(1px 1px 1px 1px);clip: rect(1px, 1px, 1px, 1px);height: 1px;margin: -1px;overflow: hidden;padding: 0;position: absolute;width: 1px;}#sk-container-id-9 div.sk-estimator {font-family: monospace;background-color: #f0f8ff;border: 1px dotted black;border-radius: 0.25em;box-sizing: border-box;margin-bottom: 0.5em;}#sk-container-id-9 div.sk-estimator:hover {background-color: #d4ebff;}#sk-container-id-9 div.sk-parallel-item::after {content: \"\";width: 100%;border-bottom: 1px solid gray;flex-grow: 1;}#sk-container-id-9 div.sk-label:hover label.sk-toggleable__label {background-color: #d4ebff;}#sk-container-id-9 div.sk-serial::before {content: \"\";position: absolute;border-left: 1px solid gray;box-sizing: border-box;top: 0;bottom: 0;left: 50%;z-index: 0;}#sk-container-id-9 div.sk-serial {display: flex;flex-direction: column;align-items: center;background-color: white;padding-right: 0.2em;padding-left: 0.2em;position: relative;}#sk-container-id-9 div.sk-item {position: relative;z-index: 1;}#sk-container-id-9 div.sk-parallel {display: flex;align-items: stretch;justify-content: center;background-color: white;position: relative;}#sk-container-id-9 div.sk-item::before, #sk-container-id-9 div.sk-parallel-item::before {content: \"\";position: absolute;border-left: 1px solid gray;box-sizing: border-box;top: 0;bottom: 0;left: 50%;z-index: -1;}#sk-container-id-9 div.sk-parallel-item {display: flex;flex-direction: column;z-index: 1;position: relative;background-color: white;}#sk-container-id-9 div.sk-parallel-item:first-child::after {align-self: flex-end;width: 50%;}#sk-container-id-9 div.sk-parallel-item:last-child::after {align-self: flex-start;width: 50%;}#sk-container-id-9 div.sk-parallel-item:only-child::after {width: 0;}#sk-container-id-9 div.sk-dashed-wrapped {border: 1px dashed gray;margin: 0 0.4em 0.5em 0.4em;box-sizing: border-box;padding-bottom: 0.4em;background-color: white;}#sk-container-id-9 div.sk-label label {font-family: monospace;font-weight: bold;display: inline-block;line-height: 1.2em;}#sk-container-id-9 div.sk-label-container {text-align: center;}#sk-container-id-9 div.sk-container {/* jupyter's `normalize.less` sets `[hidden] { display: none; }` but bootstrap.min.css set `[hidden] { display: none !important; }` so we also need the `!important` here to be able to override the default hidden behavior on the sphinx rendered scikit-learn.org. See: https://github.com/scikit-learn/scikit-learn/issues/21755 */display: inline-block !important;position: relative;}#sk-container-id-9 div.sk-text-repr-fallback {display: none;}</style><div id=\"sk-container-id-9\" class=\"sk-top-container\"><div class=\"sk-text-repr-fallback\"><pre>GridSearchCV(estimator=Pipeline(steps=[(&#x27;classifier&#x27;, LogisticRegression())]),\n",
       "             param_grid={&#x27;classifier__max_iter&#x27;: [100, 500, 1000],\n",
       "                         &#x27;classifier__penalty&#x27;: [&#x27;l2&#x27;]})</pre><b>In a Jupyter environment, please rerun this cell to show the HTML representation or trust the notebook. <br />On GitHub, the HTML representation is unable to render, please try loading this page with nbviewer.org.</b></div><div class=\"sk-container\" hidden><div class=\"sk-item sk-dashed-wrapped\"><div class=\"sk-label-container\"><div class=\"sk-label sk-toggleable\"><input class=\"sk-toggleable__control sk-hidden--visually\" id=\"sk-estimator-id-25\" type=\"checkbox\" ><label for=\"sk-estimator-id-25\" class=\"sk-toggleable__label sk-toggleable__label-arrow\">GridSearchCV</label><div class=\"sk-toggleable__content\"><pre>GridSearchCV(estimator=Pipeline(steps=[(&#x27;classifier&#x27;, LogisticRegression())]),\n",
       "             param_grid={&#x27;classifier__max_iter&#x27;: [100, 500, 1000],\n",
       "                         &#x27;classifier__penalty&#x27;: [&#x27;l2&#x27;]})</pre></div></div></div><div class=\"sk-parallel\"><div class=\"sk-parallel-item\"><div class=\"sk-item\"><div class=\"sk-label-container\"><div class=\"sk-label sk-toggleable\"><input class=\"sk-toggleable__control sk-hidden--visually\" id=\"sk-estimator-id-26\" type=\"checkbox\" ><label for=\"sk-estimator-id-26\" class=\"sk-toggleable__label sk-toggleable__label-arrow\">estimator: Pipeline</label><div class=\"sk-toggleable__content\"><pre>Pipeline(steps=[(&#x27;classifier&#x27;, LogisticRegression())])</pre></div></div></div><div class=\"sk-serial\"><div class=\"sk-item\"><div class=\"sk-serial\"><div class=\"sk-item\"><div class=\"sk-estimator sk-toggleable\"><input class=\"sk-toggleable__control sk-hidden--visually\" id=\"sk-estimator-id-27\" type=\"checkbox\" ><label for=\"sk-estimator-id-27\" class=\"sk-toggleable__label sk-toggleable__label-arrow\">LogisticRegression</label><div class=\"sk-toggleable__content\"><pre>LogisticRegression()</pre></div></div></div></div></div></div></div></div></div></div></div></div>"
      ],
      "text/plain": [
       "GridSearchCV(estimator=Pipeline(steps=[('classifier', LogisticRegression())]),\n",
       "             param_grid={'classifier__max_iter': [100, 500, 1000],\n",
       "                         'classifier__penalty': ['l2']})"
      ]
     },
     "execution_count": 205,
     "metadata": {},
     "output_type": "execute_result"
    }
   ],
   "source": [
    "lr_GS = GridSearchCV(pipeline_lr, parameters_lr)\n",
    "lr_GS.fit(x_train, y_train)"
   ]
  },
  {
   "cell_type": "code",
   "execution_count": 206,
   "metadata": {},
   "outputs": [
    {
     "data": {
      "text/html": [
       "<div>\n",
       "<style scoped>\n",
       "    .dataframe tbody tr th:only-of-type {\n",
       "        vertical-align: middle;\n",
       "    }\n",
       "\n",
       "    .dataframe tbody tr th {\n",
       "        vertical-align: top;\n",
       "    }\n",
       "\n",
       "    .dataframe thead th {\n",
       "        text-align: right;\n",
       "    }\n",
       "</style>\n",
       "<table border=\"1\" class=\"dataframe\">\n",
       "  <thead>\n",
       "    <tr style=\"text-align: right;\">\n",
       "      <th></th>\n",
       "      <th>mean_fit_time</th>\n",
       "      <th>std_fit_time</th>\n",
       "      <th>mean_score_time</th>\n",
       "      <th>std_score_time</th>\n",
       "      <th>param_classifier__max_iter</th>\n",
       "      <th>param_classifier__penalty</th>\n",
       "      <th>params</th>\n",
       "      <th>split0_test_score</th>\n",
       "      <th>split1_test_score</th>\n",
       "      <th>split2_test_score</th>\n",
       "      <th>split3_test_score</th>\n",
       "      <th>split4_test_score</th>\n",
       "      <th>mean_test_score</th>\n",
       "      <th>std_test_score</th>\n",
       "      <th>rank_test_score</th>\n",
       "    </tr>\n",
       "  </thead>\n",
       "  <tbody>\n",
       "    <tr>\n",
       "      <th>0</th>\n",
       "      <td>0.024779</td>\n",
       "      <td>0.003311</td>\n",
       "      <td>0.001596</td>\n",
       "      <td>0.000489</td>\n",
       "      <td>100</td>\n",
       "      <td>l2</td>\n",
       "      <td>{'classifier__max_iter': 100, 'classifier__pen...</td>\n",
       "      <td>0.858667</td>\n",
       "      <td>0.854667</td>\n",
       "      <td>0.86</td>\n",
       "      <td>0.861148</td>\n",
       "      <td>0.87984</td>\n",
       "      <td>0.862864</td>\n",
       "      <td>0.008765</td>\n",
       "      <td>1</td>\n",
       "    </tr>\n",
       "    <tr>\n",
       "      <th>1</th>\n",
       "      <td>0.022587</td>\n",
       "      <td>0.001386</td>\n",
       "      <td>0.001396</td>\n",
       "      <td>0.000488</td>\n",
       "      <td>500</td>\n",
       "      <td>l2</td>\n",
       "      <td>{'classifier__max_iter': 500, 'classifier__pen...</td>\n",
       "      <td>0.858667</td>\n",
       "      <td>0.854667</td>\n",
       "      <td>0.86</td>\n",
       "      <td>0.861148</td>\n",
       "      <td>0.87984</td>\n",
       "      <td>0.862864</td>\n",
       "      <td>0.008765</td>\n",
       "      <td>1</td>\n",
       "    </tr>\n",
       "    <tr>\n",
       "      <th>2</th>\n",
       "      <td>0.022866</td>\n",
       "      <td>0.001393</td>\n",
       "      <td>0.001601</td>\n",
       "      <td>0.000483</td>\n",
       "      <td>1000</td>\n",
       "      <td>l2</td>\n",
       "      <td>{'classifier__max_iter': 1000, 'classifier__pe...</td>\n",
       "      <td>0.858667</td>\n",
       "      <td>0.854667</td>\n",
       "      <td>0.86</td>\n",
       "      <td>0.861148</td>\n",
       "      <td>0.87984</td>\n",
       "      <td>0.862864</td>\n",
       "      <td>0.008765</td>\n",
       "      <td>1</td>\n",
       "    </tr>\n",
       "  </tbody>\n",
       "</table>\n",
       "</div>"
      ],
      "text/plain": [
       "   mean_fit_time  std_fit_time  mean_score_time  std_score_time  \\\n",
       "0       0.024779      0.003311         0.001596        0.000489   \n",
       "1       0.022587      0.001386         0.001396        0.000488   \n",
       "2       0.022866      0.001393         0.001601        0.000483   \n",
       "\n",
       "  param_classifier__max_iter param_classifier__penalty  \\\n",
       "0                        100                        l2   \n",
       "1                        500                        l2   \n",
       "2                       1000                        l2   \n",
       "\n",
       "                                              params  split0_test_score  \\\n",
       "0  {'classifier__max_iter': 100, 'classifier__pen...           0.858667   \n",
       "1  {'classifier__max_iter': 500, 'classifier__pen...           0.858667   \n",
       "2  {'classifier__max_iter': 1000, 'classifier__pe...           0.858667   \n",
       "\n",
       "   split1_test_score  split2_test_score  split3_test_score  split4_test_score  \\\n",
       "0           0.854667               0.86           0.861148            0.87984   \n",
       "1           0.854667               0.86           0.861148            0.87984   \n",
       "2           0.854667               0.86           0.861148            0.87984   \n",
       "\n",
       "   mean_test_score  std_test_score  rank_test_score  \n",
       "0         0.862864        0.008765                1  \n",
       "1         0.862864        0.008765                1  \n",
       "2         0.862864        0.008765                1  "
      ]
     },
     "execution_count": 206,
     "metadata": {},
     "output_type": "execute_result"
    }
   ],
   "source": [
    "pd.DataFrame.from_dict(lr_GS.cv_results_).sort_values(by=['rank_test_score'])"
   ]
  },
  {
   "cell_type": "code",
   "execution_count": 207,
   "metadata": {},
   "outputs": [
    {
     "name": "stdout",
     "output_type": "stream",
     "text": [
      "Accuracy: 0.8620653408524799\n",
      "F1 score: 0.3702022834619682\n",
      "Precision: 0.70571626109609\n",
      "Recall: 0.2533127124145569\n",
      "ROC AUC score: 0.810996537410434\n"
     ]
    },
    {
     "data": {
      "image/png": "[encoded data removed]",
      "text/plain": [
       "<Figure size 576x432 with 1 Axes>"
      ]
     },
     "metadata": {
      "needs_background": "light"
     },
     "output_type": "display_data"
    }
   ],
   "source": [
    "lr = LogisticRegression(penalty=lr_GS.best_params_['classifier__penalty'], max_iter=lr_GS.best_params_['classifier__max_iter'] )\n",
    "\n",
    "lr.fit(x_train, y_train)\n",
    "\n",
    "score(lr, x_train, y_train)"
   ]
  },
  {
   "cell_type": "code",
   "execution_count": 208,
   "metadata": {},
   "outputs": [],
   "source": [
    "y_pred_lr = lr.predict(x_test)"
   ]
  },
  {
   "cell_type": "code",
   "execution_count": 209,
   "metadata": {},
   "outputs": [
    {
     "data": {
      "image/png": "[encoded data removed]",
      "text/plain": [
       "<Figure size 432x288 with 2 Axes>"
      ]
     },
     "metadata": {
      "needs_background": "light"
     },
     "output_type": "display_data"
    }
   ],
   "source": [
    "cm_lr = confusion_matrix(y_test, y_pred_lr)\n",
    "cmd_lr = ConfusionMatrixDisplay(confusion_matrix=cm_lr,\n",
    "                       display_labels=[0,1])\n",
    "\n",
    "cmd_lr.plot()\n",
    "plt.show()"
   ]
  },
  {
   "cell_type": "markdown",
   "metadata": {},
   "source": [
    "# Analyse des résultats"
   ]
  },
  {
   "attachments": {},
   "cell_type": "markdown",
   "metadata": {},
   "source": [
    "### DecisionTreeClassifier"
   ]
  },
  {
   "cell_type": "code",
   "execution_count": 210,
   "metadata": {},
   "outputs": [
    {
     "data": {
      "text/html": [
       "<div>\n",
       "<style scoped>\n",
       "    .dataframe tbody tr th:only-of-type {\n",
       "        vertical-align: middle;\n",
       "    }\n",
       "\n",
       "    .dataframe tbody tr th {\n",
       "        vertical-align: top;\n",
       "    }\n",
       "\n",
       "    .dataframe thead th {\n",
       "        text-align: right;\n",
       "    }\n",
       "</style>\n",
       "<table border=\"1\" class=\"dataframe\">\n",
       "  <thead>\n",
       "    <tr style=\"text-align: right;\">\n",
       "      <th></th>\n",
       "      <th>Column</th>\n",
       "      <th>Coefs</th>\n",
       "    </tr>\n",
       "  </thead>\n",
       "  <tbody>\n",
       "    <tr>\n",
       "      <th>19</th>\n",
       "      <td>avg_hours_worked</td>\n",
       "      <td>0.132423</td>\n",
       "    </tr>\n",
       "    <tr>\n",
       "      <th>3</th>\n",
       "      <td>TotalWorkingYears</td>\n",
       "      <td>0.094110</td>\n",
       "    </tr>\n",
       "    <tr>\n",
       "      <th>4</th>\n",
       "      <td>YearsAtCompany</td>\n",
       "      <td>0.085288</td>\n",
       "    </tr>\n",
       "    <tr>\n",
       "      <th>6</th>\n",
       "      <td>YearsWithCurrManager</td>\n",
       "      <td>0.083370</td>\n",
       "    </tr>\n",
       "    <tr>\n",
       "      <th>18</th>\n",
       "      <td>JobSatisfaction</td>\n",
       "      <td>0.079409</td>\n",
       "    </tr>\n",
       "    <tr>\n",
       "      <th>5</th>\n",
       "      <td>YearsSinceLastPromotion</td>\n",
       "      <td>0.063907</td>\n",
       "    </tr>\n",
       "    <tr>\n",
       "      <th>2</th>\n",
       "      <td>NumCompaniesWorked</td>\n",
       "      <td>0.058177</td>\n",
       "    </tr>\n",
       "    <tr>\n",
       "      <th>17</th>\n",
       "      <td>EnvironmentSatisfaction</td>\n",
       "      <td>0.049075</td>\n",
       "    </tr>\n",
       "    <tr>\n",
       "      <th>20</th>\n",
       "      <td>avg_out_time</td>\n",
       "      <td>0.040544</td>\n",
       "    </tr>\n",
       "    <tr>\n",
       "      <th>0</th>\n",
       "      <td>Age</td>\n",
       "      <td>0.040257</td>\n",
       "    </tr>\n",
       "    <tr>\n",
       "      <th>16</th>\n",
       "      <td>Single</td>\n",
       "      <td>0.038585</td>\n",
       "    </tr>\n",
       "    <tr>\n",
       "      <th>8</th>\n",
       "      <td>Department_Sales</td>\n",
       "      <td>0.038107</td>\n",
       "    </tr>\n",
       "    <tr>\n",
       "      <th>1</th>\n",
       "      <td>BusinessTravel</td>\n",
       "      <td>0.037766</td>\n",
       "    </tr>\n",
       "    <tr>\n",
       "      <th>14</th>\n",
       "      <td>Divorced</td>\n",
       "      <td>0.036342</td>\n",
       "    </tr>\n",
       "    <tr>\n",
       "      <th>11</th>\n",
       "      <td>Female</td>\n",
       "      <td>0.030805</td>\n",
       "    </tr>\n",
       "    <tr>\n",
       "      <th>12</th>\n",
       "      <td>Job_Manufacturing Director</td>\n",
       "      <td>0.030544</td>\n",
       "    </tr>\n",
       "    <tr>\n",
       "      <th>7</th>\n",
       "      <td>Department_HR</td>\n",
       "      <td>0.018058</td>\n",
       "    </tr>\n",
       "    <tr>\n",
       "      <th>13</th>\n",
       "      <td>Job_Research Director</td>\n",
       "      <td>0.017695</td>\n",
       "    </tr>\n",
       "    <tr>\n",
       "      <th>15</th>\n",
       "      <td>Married</td>\n",
       "      <td>0.010073</td>\n",
       "    </tr>\n",
       "    <tr>\n",
       "      <th>10</th>\n",
       "      <td>Education_Technical Degreee</td>\n",
       "      <td>0.008918</td>\n",
       "    </tr>\n",
       "    <tr>\n",
       "      <th>9</th>\n",
       "      <td>Education_Human Resources</td>\n",
       "      <td>0.006548</td>\n",
       "    </tr>\n",
       "  </tbody>\n",
       "</table>\n",
       "</div>"
      ],
      "text/plain": [
       "                         Column     Coefs\n",
       "19             avg_hours_worked  0.132423\n",
       "3             TotalWorkingYears  0.094110\n",
       "4                YearsAtCompany  0.085288\n",
       "6          YearsWithCurrManager  0.083370\n",
       "18              JobSatisfaction  0.079409\n",
       "5       YearsSinceLastPromotion  0.063907\n",
       "2            NumCompaniesWorked  0.058177\n",
       "17      EnvironmentSatisfaction  0.049075\n",
       "20                 avg_out_time  0.040544\n",
       "0                           Age  0.040257\n",
       "16                       Single  0.038585\n",
       "8              Department_Sales  0.038107\n",
       "1                BusinessTravel  0.037766\n",
       "14                     Divorced  0.036342\n",
       "11                       Female  0.030805\n",
       "12   Job_Manufacturing Director  0.030544\n",
       "7                 Department_HR  0.018058\n",
       "13        Job_Research Director  0.017695\n",
       "15                      Married  0.010073\n",
       "10  Education_Technical Degreee  0.008918\n",
       "9     Education_Human Resources  0.006548"
      ]
     },
     "execution_count": 210,
     "metadata": {},
     "output_type": "execute_result"
    }
   ],
   "source": [
    "cl_dtc = list(zip(x_train.columns, dtc.feature_importances_))\n",
    "coefs_dtc = pd.DataFrame(cl_dtc, columns = ['Column', 'Coefs'])\n",
    "coefs_dtc.sort_values(by=['Coefs'], ascending=False)"
   ]
  },
  {
   "attachments": {},
   "cell_type": "markdown",
   "metadata": {},
   "source": [
    "### HistGradientBoostingClassifier"
   ]
  },
  {
   "attachments": {},
   "cell_type": "markdown",
   "metadata": {},
   "source": [
    "L'analyse des résutats d'un HistGradientBoostingClassifier est complexe car ce modèle est capable de capturer des relations non-linéaires entre nos differentes données.\n",
    "Il est donc difficile de comprendre comment ces relations non-linéaires contribuent à la prédiction du modèle."
   ]
  },
  {
   "attachments": {},
   "cell_type": "markdown",
   "metadata": {},
   "source": [
    "### RandomForestClassifier"
   ]
  },
  {
   "cell_type": "code",
   "execution_count": 212,
   "metadata": {},
   "outputs": [
    {
     "data": {
      "text/html": [
       "<div>\n",
       "<style scoped>\n",
       "    .dataframe tbody tr th:only-of-type {\n",
       "        vertical-align: middle;\n",
       "    }\n",
       "\n",
       "    .dataframe tbody tr th {\n",
       "        vertical-align: top;\n",
       "    }\n",
       "\n",
       "    .dataframe thead th {\n",
       "        text-align: right;\n",
       "    }\n",
       "</style>\n",
       "<table border=\"1\" class=\"dataframe\">\n",
       "  <thead>\n",
       "    <tr style=\"text-align: right;\">\n",
       "      <th></th>\n",
       "      <th>Column</th>\n",
       "      <th>Coefs</th>\n",
       "    </tr>\n",
       "  </thead>\n",
       "  <tbody>\n",
       "    <tr>\n",
       "      <th>19</th>\n",
       "      <td>avg_hours_worked</td>\n",
       "      <td>0.130028</td>\n",
       "    </tr>\n",
       "    <tr>\n",
       "      <th>20</th>\n",
       "      <td>avg_out_time</td>\n",
       "      <td>0.126444</td>\n",
       "    </tr>\n",
       "    <tr>\n",
       "      <th>0</th>\n",
       "      <td>Age</td>\n",
       "      <td>0.114903</td>\n",
       "    </tr>\n",
       "    <tr>\n",
       "      <th>3</th>\n",
       "      <td>TotalWorkingYears</td>\n",
       "      <td>0.099415</td>\n",
       "    </tr>\n",
       "    <tr>\n",
       "      <th>4</th>\n",
       "      <td>YearsAtCompany</td>\n",
       "      <td>0.073564</td>\n",
       "    </tr>\n",
       "    <tr>\n",
       "      <th>2</th>\n",
       "      <td>NumCompaniesWorked</td>\n",
       "      <td>0.060211</td>\n",
       "    </tr>\n",
       "    <tr>\n",
       "      <th>6</th>\n",
       "      <td>YearsWithCurrManager</td>\n",
       "      <td>0.058546</td>\n",
       "    </tr>\n",
       "    <tr>\n",
       "      <th>17</th>\n",
       "      <td>EnvironmentSatisfaction</td>\n",
       "      <td>0.057486</td>\n",
       "    </tr>\n",
       "    <tr>\n",
       "      <th>18</th>\n",
       "      <td>JobSatisfaction</td>\n",
       "      <td>0.050843</td>\n",
       "    </tr>\n",
       "    <tr>\n",
       "      <th>5</th>\n",
       "      <td>YearsSinceLastPromotion</td>\n",
       "      <td>0.048864</td>\n",
       "    </tr>\n",
       "    <tr>\n",
       "      <th>1</th>\n",
       "      <td>BusinessTravel</td>\n",
       "      <td>0.035353</td>\n",
       "    </tr>\n",
       "    <tr>\n",
       "      <th>16</th>\n",
       "      <td>Single</td>\n",
       "      <td>0.030675</td>\n",
       "    </tr>\n",
       "    <tr>\n",
       "      <th>11</th>\n",
       "      <td>Female</td>\n",
       "      <td>0.022969</td>\n",
       "    </tr>\n",
       "    <tr>\n",
       "      <th>8</th>\n",
       "      <td>Department_Sales</td>\n",
       "      <td>0.018722</td>\n",
       "    </tr>\n",
       "    <tr>\n",
       "      <th>15</th>\n",
       "      <td>Married</td>\n",
       "      <td>0.015326</td>\n",
       "    </tr>\n",
       "    <tr>\n",
       "      <th>14</th>\n",
       "      <td>Divorced</td>\n",
       "      <td>0.012625</td>\n",
       "    </tr>\n",
       "    <tr>\n",
       "      <th>13</th>\n",
       "      <td>Job_Research Director</td>\n",
       "      <td>0.010675</td>\n",
       "    </tr>\n",
       "    <tr>\n",
       "      <th>7</th>\n",
       "      <td>Department_HR</td>\n",
       "      <td>0.010560</td>\n",
       "    </tr>\n",
       "    <tr>\n",
       "      <th>12</th>\n",
       "      <td>Job_Manufacturing Director</td>\n",
       "      <td>0.008626</td>\n",
       "    </tr>\n",
       "    <tr>\n",
       "      <th>9</th>\n",
       "      <td>Education_Human Resources</td>\n",
       "      <td>0.007750</td>\n",
       "    </tr>\n",
       "    <tr>\n",
       "      <th>10</th>\n",
       "      <td>Education_Technical Degreee</td>\n",
       "      <td>0.006415</td>\n",
       "    </tr>\n",
       "  </tbody>\n",
       "</table>\n",
       "</div>"
      ],
      "text/plain": [
       "                         Column     Coefs\n",
       "19             avg_hours_worked  0.130028\n",
       "20                 avg_out_time  0.126444\n",
       "0                           Age  0.114903\n",
       "3             TotalWorkingYears  0.099415\n",
       "4                YearsAtCompany  0.073564\n",
       "2            NumCompaniesWorked  0.060211\n",
       "6          YearsWithCurrManager  0.058546\n",
       "17      EnvironmentSatisfaction  0.057486\n",
       "18              JobSatisfaction  0.050843\n",
       "5       YearsSinceLastPromotion  0.048864\n",
       "1                BusinessTravel  0.035353\n",
       "16                       Single  0.030675\n",
       "11                       Female  0.022969\n",
       "8              Department_Sales  0.018722\n",
       "15                      Married  0.015326\n",
       "14                     Divorced  0.012625\n",
       "13        Job_Research Director  0.010675\n",
       "7                 Department_HR  0.010560\n",
       "12   Job_Manufacturing Director  0.008626\n",
       "9     Education_Human Resources  0.007750\n",
       "10  Education_Technical Degreee  0.006415"
      ]
     },
     "execution_count": 212,
     "metadata": {},
     "output_type": "execute_result"
    }
   ],
   "source": [
    "cl_rfc = list(zip(x_train.columns, rfc.feature_importances_))\n",
    "coefs_rfc= pd.DataFrame(cl_rfc, columns = ['Column', 'Coefs'])\n",
    "coefs_rfc.sort_values(by=['Coefs'], ascending=False)\n"
   ]
  },
  {
   "attachments": {},
   "cell_type": "markdown",
   "metadata": {},
   "source": [
    "### Perceptron"
   ]
  },
  {
   "cell_type": "code",
   "execution_count": 213,
   "metadata": {},
   "outputs": [
    {
     "data": {
      "text/html": [
       "<div>\n",
       "<style scoped>\n",
       "    .dataframe tbody tr th:only-of-type {\n",
       "        vertical-align: middle;\n",
       "    }\n",
       "\n",
       "    .dataframe tbody tr th {\n",
       "        vertical-align: top;\n",
       "    }\n",
       "\n",
       "    .dataframe thead th {\n",
       "        text-align: right;\n",
       "    }\n",
       "</style>\n",
       "<table border=\"1\" class=\"dataframe\">\n",
       "  <thead>\n",
       "    <tr style=\"text-align: right;\">\n",
       "      <th></th>\n",
       "      <th>Column</th>\n",
       "      <th>Coefs</th>\n",
       "    </tr>\n",
       "  </thead>\n",
       "  <tbody>\n",
       "    <tr>\n",
       "      <th>5</th>\n",
       "      <td>YearsSinceLastPromotion</td>\n",
       "      <td>2.891495</td>\n",
       "    </tr>\n",
       "    <tr>\n",
       "      <th>2</th>\n",
       "      <td>NumCompaniesWorked</td>\n",
       "      <td>1.882087</td>\n",
       "    </tr>\n",
       "    <tr>\n",
       "      <th>19</th>\n",
       "      <td>avg_hours_worked</td>\n",
       "      <td>0.836868</td>\n",
       "    </tr>\n",
       "    <tr>\n",
       "      <th>20</th>\n",
       "      <td>avg_out_time</td>\n",
       "      <td>0.807927</td>\n",
       "    </tr>\n",
       "    <tr>\n",
       "      <th>1</th>\n",
       "      <td>BusinessTravel</td>\n",
       "      <td>0.290444</td>\n",
       "    </tr>\n",
       "    <tr>\n",
       "      <th>9</th>\n",
       "      <td>Education_Human Resources</td>\n",
       "      <td>0.021572</td>\n",
       "    </tr>\n",
       "    <tr>\n",
       "      <th>16</th>\n",
       "      <td>Single</td>\n",
       "      <td>0.000000</td>\n",
       "    </tr>\n",
       "    <tr>\n",
       "      <th>15</th>\n",
       "      <td>Married</td>\n",
       "      <td>0.000000</td>\n",
       "    </tr>\n",
       "    <tr>\n",
       "      <th>13</th>\n",
       "      <td>Job_Research Director</td>\n",
       "      <td>0.000000</td>\n",
       "    </tr>\n",
       "    <tr>\n",
       "      <th>11</th>\n",
       "      <td>Female</td>\n",
       "      <td>0.000000</td>\n",
       "    </tr>\n",
       "    <tr>\n",
       "      <th>10</th>\n",
       "      <td>Education_Technical Degreee</td>\n",
       "      <td>0.000000</td>\n",
       "    </tr>\n",
       "    <tr>\n",
       "      <th>8</th>\n",
       "      <td>Department_Sales</td>\n",
       "      <td>0.000000</td>\n",
       "    </tr>\n",
       "    <tr>\n",
       "      <th>7</th>\n",
       "      <td>Department_HR</td>\n",
       "      <td>0.000000</td>\n",
       "    </tr>\n",
       "    <tr>\n",
       "      <th>4</th>\n",
       "      <td>YearsAtCompany</td>\n",
       "      <td>0.000000</td>\n",
       "    </tr>\n",
       "    <tr>\n",
       "      <th>14</th>\n",
       "      <td>Divorced</td>\n",
       "      <td>-0.511322</td>\n",
       "    </tr>\n",
       "    <tr>\n",
       "      <th>18</th>\n",
       "      <td>JobSatisfaction</td>\n",
       "      <td>-0.587676</td>\n",
       "    </tr>\n",
       "    <tr>\n",
       "      <th>12</th>\n",
       "      <td>Job_Manufacturing Director</td>\n",
       "      <td>-0.832663</td>\n",
       "    </tr>\n",
       "    <tr>\n",
       "      <th>0</th>\n",
       "      <td>Age</td>\n",
       "      <td>-0.911211</td>\n",
       "    </tr>\n",
       "    <tr>\n",
       "      <th>6</th>\n",
       "      <td>YearsWithCurrManager</td>\n",
       "      <td>-2.182114</td>\n",
       "    </tr>\n",
       "    <tr>\n",
       "      <th>3</th>\n",
       "      <td>TotalWorkingYears</td>\n",
       "      <td>-2.194834</td>\n",
       "    </tr>\n",
       "    <tr>\n",
       "      <th>17</th>\n",
       "      <td>EnvironmentSatisfaction</td>\n",
       "      <td>-2.433988</td>\n",
       "    </tr>\n",
       "  </tbody>\n",
       "</table>\n",
       "</div>"
      ],
      "text/plain": [
       "                         Column     Coefs\n",
       "5       YearsSinceLastPromotion  2.891495\n",
       "2            NumCompaniesWorked  1.882087\n",
       "19             avg_hours_worked  0.836868\n",
       "20                 avg_out_time  0.807927\n",
       "1                BusinessTravel  0.290444\n",
       "9     Education_Human Resources  0.021572\n",
       "16                       Single  0.000000\n",
       "15                      Married  0.000000\n",
       "13        Job_Research Director  0.000000\n",
       "11                       Female  0.000000\n",
       "10  Education_Technical Degreee  0.000000\n",
       "8              Department_Sales  0.000000\n",
       "7                 Department_HR  0.000000\n",
       "4                YearsAtCompany  0.000000\n",
       "14                     Divorced -0.511322\n",
       "18              JobSatisfaction -0.587676\n",
       "12   Job_Manufacturing Director -0.832663\n",
       "0                           Age -0.911211\n",
       "6          YearsWithCurrManager -2.182114\n",
       "3             TotalWorkingYears -2.194834\n",
       "17      EnvironmentSatisfaction -2.433988"
      ]
     },
     "execution_count": 213,
     "metadata": {},
     "output_type": "execute_result"
    }
   ],
   "source": [
    "cl_pe = list(zip(x_train.columns, pe.coef_[0]))\n",
    "coefs_pe = pd.DataFrame(cl_pe, columns = ['Column', 'Coefs'])\n",
    "coefs_pe.sort_values(by=['Coefs'], ascending=False)"
   ]
  },
  {
   "attachments": {},
   "cell_type": "markdown",
   "metadata": {},
   "source": [
    "### LogisticRegression"
   ]
  },
  {
   "cell_type": "code",
   "execution_count": 214,
   "metadata": {},
   "outputs": [
    {
     "data": {
      "text/html": [
       "<div>\n",
       "<style scoped>\n",
       "    .dataframe tbody tr th:only-of-type {\n",
       "        vertical-align: middle;\n",
       "    }\n",
       "\n",
       "    .dataframe tbody tr th {\n",
       "        vertical-align: top;\n",
       "    }\n",
       "\n",
       "    .dataframe thead th {\n",
       "        text-align: right;\n",
       "    }\n",
       "</style>\n",
       "<table border=\"1\" class=\"dataframe\">\n",
       "  <thead>\n",
       "    <tr style=\"text-align: right;\">\n",
       "      <th></th>\n",
       "      <th>Column</th>\n",
       "      <th>Coefs</th>\n",
       "    </tr>\n",
       "  </thead>\n",
       "  <tbody>\n",
       "    <tr>\n",
       "      <th>5</th>\n",
       "      <td>YearsSinceLastPromotion</td>\n",
       "      <td>2.108534</td>\n",
       "    </tr>\n",
       "    <tr>\n",
       "      <th>1</th>\n",
       "      <td>BusinessTravel</td>\n",
       "      <td>1.430210</td>\n",
       "    </tr>\n",
       "    <tr>\n",
       "      <th>19</th>\n",
       "      <td>avg_hours_worked</td>\n",
       "      <td>1.175462</td>\n",
       "    </tr>\n",
       "    <tr>\n",
       "      <th>20</th>\n",
       "      <td>avg_out_time</td>\n",
       "      <td>1.139318</td>\n",
       "    </tr>\n",
       "    <tr>\n",
       "      <th>2</th>\n",
       "      <td>NumCompaniesWorked</td>\n",
       "      <td>1.123929</td>\n",
       "    </tr>\n",
       "    <tr>\n",
       "      <th>16</th>\n",
       "      <td>Single</td>\n",
       "      <td>0.660314</td>\n",
       "    </tr>\n",
       "    <tr>\n",
       "      <th>9</th>\n",
       "      <td>Education_Human Resources</td>\n",
       "      <td>0.528734</td>\n",
       "    </tr>\n",
       "    <tr>\n",
       "      <th>7</th>\n",
       "      <td>Department_HR</td>\n",
       "      <td>0.497271</td>\n",
       "    </tr>\n",
       "    <tr>\n",
       "      <th>13</th>\n",
       "      <td>Job_Research Director</td>\n",
       "      <td>0.230455</td>\n",
       "    </tr>\n",
       "    <tr>\n",
       "      <th>11</th>\n",
       "      <td>Female</td>\n",
       "      <td>-0.149982</td>\n",
       "    </tr>\n",
       "    <tr>\n",
       "      <th>8</th>\n",
       "      <td>Department_Sales</td>\n",
       "      <td>-0.152956</td>\n",
       "    </tr>\n",
       "    <tr>\n",
       "      <th>10</th>\n",
       "      <td>Education_Technical Degreee</td>\n",
       "      <td>-0.198199</td>\n",
       "    </tr>\n",
       "    <tr>\n",
       "      <th>15</th>\n",
       "      <td>Married</td>\n",
       "      <td>-0.283665</td>\n",
       "    </tr>\n",
       "    <tr>\n",
       "      <th>4</th>\n",
       "      <td>YearsAtCompany</td>\n",
       "      <td>-0.346821</td>\n",
       "    </tr>\n",
       "    <tr>\n",
       "      <th>14</th>\n",
       "      <td>Divorced</td>\n",
       "      <td>-0.370582</td>\n",
       "    </tr>\n",
       "    <tr>\n",
       "      <th>12</th>\n",
       "      <td>Job_Manufacturing Director</td>\n",
       "      <td>-0.651664</td>\n",
       "    </tr>\n",
       "    <tr>\n",
       "      <th>18</th>\n",
       "      <td>JobSatisfaction</td>\n",
       "      <td>-1.024985</td>\n",
       "    </tr>\n",
       "    <tr>\n",
       "      <th>17</th>\n",
       "      <td>EnvironmentSatisfaction</td>\n",
       "      <td>-1.080265</td>\n",
       "    </tr>\n",
       "    <tr>\n",
       "      <th>0</th>\n",
       "      <td>Age</td>\n",
       "      <td>-1.442821</td>\n",
       "    </tr>\n",
       "    <tr>\n",
       "      <th>6</th>\n",
       "      <td>YearsWithCurrManager</td>\n",
       "      <td>-2.171018</td>\n",
       "    </tr>\n",
       "    <tr>\n",
       "      <th>3</th>\n",
       "      <td>TotalWorkingYears</td>\n",
       "      <td>-2.294282</td>\n",
       "    </tr>\n",
       "  </tbody>\n",
       "</table>\n",
       "</div>"
      ],
      "text/plain": [
       "                         Column     Coefs\n",
       "5       YearsSinceLastPromotion  2.108534\n",
       "1                BusinessTravel  1.430210\n",
       "19             avg_hours_worked  1.175462\n",
       "20                 avg_out_time  1.139318\n",
       "2            NumCompaniesWorked  1.123929\n",
       "16                       Single  0.660314\n",
       "9     Education_Human Resources  0.528734\n",
       "7                 Department_HR  0.497271\n",
       "13        Job_Research Director  0.230455\n",
       "11                       Female -0.149982\n",
       "8              Department_Sales -0.152956\n",
       "10  Education_Technical Degreee -0.198199\n",
       "15                      Married -0.283665\n",
       "4                YearsAtCompany -0.346821\n",
       "14                     Divorced -0.370582\n",
       "12   Job_Manufacturing Director -0.651664\n",
       "18              JobSatisfaction -1.024985\n",
       "17      EnvironmentSatisfaction -1.080265\n",
       "0                           Age -1.442821\n",
       "6          YearsWithCurrManager -2.171018\n",
       "3             TotalWorkingYears -2.294282"
      ]
     },
     "execution_count": 214,
     "metadata": {},
     "output_type": "execute_result"
    }
   ],
   "source": [
    "cl_lr = list(zip(x_train.columns, lr.coef_[0]))\n",
    "coefs_lr = pd.DataFrame(cl_lr, columns = ['Column', 'Coefs'])\n",
    "coefs_lr.sort_values(by=['Coefs'], ascending=False)"
   ]
  },
  {
   "attachments": {},
   "cell_type": "markdown",
   "metadata": {},
   "source": [
    "# Conclusion\n",
    "<div id=\"cc\"></div>"
   ]
  },
  {
   "attachments": {},
   "cell_type": "markdown",
   "metadata": {},
   "source": [
    "Le choix du modèle de machine learning dépend de nombreux facteurs tels que la taille et la qualité des données, le type de problème à résoudre et les objectifs de performance. Dans le cas présent, nous avons éliminé HistGradientBoostingClassifier en raison de son manque d'interprétabilité, et le perceptron ainsi que la régression logistique en raison de résultats inexploitables.\n",
    "\n",
    "Finalement, le DecisionTreeClassifier a été choisi comme modèle car il est plus facile à comprendre que le RandomForestClassifier. Il est donc plus facile d'expliquer les relations possibles entre nos différentes données et donc de proposer des pistes d'amélioration pour réduire le turn over."
   ]
  },
  {
   "attachments": {},
   "cell_type": "markdown",
   "metadata": {},
   "source": [
    "## Etudes pour HumanForYou"
   ]
  },
  {
   "attachments": {},
   "cell_type": "markdown",
   "metadata": {},
   "source": [
    "Dans cette partie, nous proposons plusieurs pistes d'amélioration pour aider HumanForYou à réduire \n",
    "son taux de turn-over et à améliorer la satisfaction des employés. Nos recommandations sont basées \n",
    "sur l'analyse des données fournies et les modèles développés dans le respect des principes éthiques"
   ]
  },
  {
   "cell_type": "code",
   "execution_count": 220,
   "metadata": {},
   "outputs": [
    {
     "data": {
      "text/html": [
       "<div>\n",
       "<style scoped>\n",
       "    .dataframe tbody tr th:only-of-type {\n",
       "        vertical-align: middle;\n",
       "    }\n",
       "\n",
       "    .dataframe tbody tr th {\n",
       "        vertical-align: top;\n",
       "    }\n",
       "\n",
       "    .dataframe thead th {\n",
       "        text-align: right;\n",
       "    }\n",
       "</style>\n",
       "<table border=\"1\" class=\"dataframe\">\n",
       "  <thead>\n",
       "    <tr style=\"text-align: right;\">\n",
       "      <th></th>\n",
       "      <th>Column</th>\n",
       "      <th>Coefs</th>\n",
       "    </tr>\n",
       "  </thead>\n",
       "  <tbody>\n",
       "    <tr>\n",
       "      <th>19</th>\n",
       "      <td>avg_hours_worked</td>\n",
       "      <td>0.132423</td>\n",
       "    </tr>\n",
       "    <tr>\n",
       "      <th>3</th>\n",
       "      <td>TotalWorkingYears</td>\n",
       "      <td>0.094110</td>\n",
       "    </tr>\n",
       "    <tr>\n",
       "      <th>4</th>\n",
       "      <td>YearsAtCompany</td>\n",
       "      <td>0.085288</td>\n",
       "    </tr>\n",
       "    <tr>\n",
       "      <th>6</th>\n",
       "      <td>YearsWithCurrManager</td>\n",
       "      <td>0.083370</td>\n",
       "    </tr>\n",
       "    <tr>\n",
       "      <th>18</th>\n",
       "      <td>JobSatisfaction</td>\n",
       "      <td>0.079409</td>\n",
       "    </tr>\n",
       "    <tr>\n",
       "      <th>5</th>\n",
       "      <td>YearsSinceLastPromotion</td>\n",
       "      <td>0.063907</td>\n",
       "    </tr>\n",
       "  </tbody>\n",
       "</table>\n",
       "</div>"
      ],
      "text/plain": [
       "                     Column     Coefs\n",
       "19         avg_hours_worked  0.132423\n",
       "3         TotalWorkingYears  0.094110\n",
       "4            YearsAtCompany  0.085288\n",
       "6      YearsWithCurrManager  0.083370\n",
       "18          JobSatisfaction  0.079409\n",
       "5   YearsSinceLastPromotion  0.063907"
      ]
     },
     "execution_count": 220,
     "metadata": {},
     "output_type": "execute_result"
    }
   ],
   "source": [
    "coefs_dtc.sort_values(by=['Coefs'], ascending=False).head(6)"
   ]
  },
  {
   "attachments": {},
   "cell_type": "markdown",
   "metadata": {},
   "source": [
    "### Opportunités de formation et de développement professionnel\n",
    "Le nombre de jours de formation et les années depuis la dernière promotion (YearsSinceLastPromotion) sont des facteurs \n",
    "influençant le taux de turn-over. Il est essentiel d'offrir des opportunités de formation et de \n",
    "développement professionnel pour maintenir l'engagement des employés. HumanForYou pourrait \n",
    "mettre en place un programme de formation continue et un système de mentorat pour soutenir les \n",
    "employés dans leur évolution professionnelle.\n",
    "### Amélioration de l'équilibre travail-vie personnelle\n",
    "Les données montrent que le temps passé au travail (avg_hours_worked & avg_out_time) est un facteur important \n",
    "pour la satisfaction des employés. L'entreprise pourrait proposer des options de travail flexibles, \n",
    "comme le télétravail, des horaires ajustables ou la mise en place d'un système de crédit-temps pour \n",
    "encourager une meilleure conciliation entre la vie professionnelle et personnelle.\n",
    "### Satisfaction de l'environnement de travail \n",
    "Les employés qui se sentent satisfaits de leur environnement de travail (EnvironmentSatisfaction) sont plus susceptibles de \n",
    "rester dans l'entreprise. HumanForYou devrait examiner les conditions de travail, les installations et \n",
    "les équipements pour s'assurer qu'ils sont bien adaptés aux besoins des employés. Des enquêtes \n",
    "régulières sur la qualité de vie au travail peuvent aider à identifier les domaines à améliorer.\n",
    "\n",
    "En mettant en œuvre ces pistes d'amélioration, HumanForYou peut créer un environnement de \n",
    "travail plus attrayant et réduire le taux de turn-over. Il est important de suivre régulièrement \n",
    "l'efficacité de ces initiatives et d'ajuster les stratégies en conséquence, en tenant compte des retours \n",
    "des employés et des nouvelles informations issues de l'analyse des données"
   ]
  }
 ],
 "metadata": {
  "kernelspec": {
   "display_name": "Python 3 (ipykernel)",
   "language": "python",
   "name": "python3"
  },
  "language_info": {
   "codemirror_mode": {
    "name": "ipython",
    "version": 3
   },
   "file_extension": ".py",
   "mimetype": "text/x-python",
   "name": "python",
   "nbconvert_exporter": "python",
   "pygments_lexer": "ipython3",
   "version": "3.10.4"
  }
 },
 "nbformat": 4,
 "nbformat_minor": 4
}
